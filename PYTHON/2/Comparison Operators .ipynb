{
 "cells": [
  {
   "cell_type": "markdown",
   "id": "24799d3c",
   "metadata": {},
   "source": [
    "# Comparison Operators "
   ]
  },
  {
   "cell_type": "markdown",
   "id": "89c6353f",
   "metadata": {},
   "source": [
    "These operators will allow us to compare variables and output a Boolean value (True or False). \n",
    "\n",
    "If you know some basic Math, these operators should be very straight forward.\n",
    "\n",
    "First we'll present a table of the comparison operators and then work through some examples:\n",
    "\n",
    "<h2> Table of Comparison Operators </h2><p>  In the table below, a=3 and b=4.</p>\n",
    "\n",
    "<table class=\"table table-bordered\">\n",
    "<tr>\n",
    "<th style=\"width:10%\">Operator</th><th style=\"width:45%\">Description</th><th>Example</th>\n",
    "</tr>\n",
    "<tr>\n",
    "<td>==</td>\n",
    "<td>If the values of two operands are equal, then the condition becomes true.</td>\n",
    "<td> (a == b) is not true.</td>\n",
    "</tr>\n",
    "<tr>\n",
    "<td>!=</td>\n",
    "<td>If values of two operands are not equal, then condition becomes true.</td>\n",
    "<td>(a != b) is true</td>\n",
    "</tr>\n",
    "<tr>\n",
    "<td>&gt;</td>\n",
    "<td>If the value of left operand is greater than the value of right operand, then condition becomes true.</td>\n",
    "<td> (a &gt; b) is not true.</td>\n",
    "</tr>\n",
    "<tr>\n",
    "<td>&lt;</td>\n",
    "<td>If the value of left operand is less than the value of right operand, then condition becomes true.</td>\n",
    "<td> (a &lt; b) is true.</td>\n",
    "</tr>\n",
    "<tr>\n",
    "<td>&gt;=</td>\n",
    "<td>If the value of left operand is greater than or equal to the value of right operand, then condition becomes true.</td>\n",
    "<td> (a &gt;= b) is not true. </td>\n",
    "</tr>\n",
    "<tr>\n",
    "<td>&lt;=</td>\n",
    "<td>If the value of left operand is less than or equal to the value of right operand, then condition becomes true.</td>\n",
    "<td> (a &lt;= b) is true. </td>\n",
    "</tr>\n",
    "</table>"
   ]
  },
  {
   "cell_type": "markdown",
   "id": "65ce39c4",
   "metadata": {},
   "source": [
    "## Equal \n",
    "symbol `==`"
   ]
  },
  {
   "cell_type": "code",
   "execution_count": 2,
   "id": "88fbb142",
   "metadata": {},
   "outputs": [
    {
     "data": {
      "text/plain": [
       "True"
      ]
     },
     "execution_count": 2,
     "metadata": {},
     "output_type": "execute_result"
    }
   ],
   "source": [
    "2 == 2 "
   ]
  },
  {
   "cell_type": "code",
   "execution_count": null,
   "id": "ce68c55e",
   "metadata": {},
   "outputs": [],
   "source": [
    "#why we use double equal signs {==} but not one equal (=) sign ?\n",
    " \"\"\"\"because python will understand one equal sign as item assigned operators\n",
    " mean you are assigning a variable to a value \n",
    " so we use == sign as comparison operators \"\"\""
   ]
  },
  {
   "cell_type": "code",
   "execution_count": 3,
   "id": "38bd6e8d",
   "metadata": {},
   "outputs": [
    {
     "data": {
      "text/plain": [
       "False"
      ]
     },
     "execution_count": 3,
     "metadata": {},
     "output_type": "execute_result"
    }
   ],
   "source": [
    "2 == 3"
   ]
  },
  {
   "cell_type": "code",
   "execution_count": null,
   "id": "ce1902a9",
   "metadata": {},
   "outputs": [],
   "source": [
    "# using a string "
   ]
  },
  {
   "cell_type": "code",
   "execution_count": 4,
   "id": "709fdcb2",
   "metadata": {},
   "outputs": [
    {
     "data": {
      "text/plain": [
       "False"
      ]
     },
     "execution_count": 4,
     "metadata": {},
     "output_type": "execute_result"
    }
   ],
   "source": [
    "\"hello\" == \"hi\""
   ]
  },
  {
   "cell_type": "code",
   "execution_count": 6,
   "id": "51631dda",
   "metadata": {},
   "outputs": [
    {
     "data": {
      "text/plain": [
       "True"
      ]
     },
     "execution_count": 6,
     "metadata": {},
     "output_type": "execute_result"
    }
   ],
   "source": [
    "\"hello\" == \"hello\""
   ]
  },
  {
   "cell_type": "code",
   "execution_count": null,
   "id": "3b85f409",
   "metadata": {},
   "outputs": [],
   "source": [
    "# using integer as string"
   ]
  },
  {
   "cell_type": "code",
   "execution_count": 7,
   "id": "de82d775",
   "metadata": {},
   "outputs": [
    {
     "data": {
      "text/plain": [
       "False"
      ]
     },
     "execution_count": 7,
     "metadata": {},
     "output_type": "execute_result"
    }
   ],
   "source": [
    "\"1\" == 1"
   ]
  },
  {
   "cell_type": "code",
   "execution_count": 8,
   "id": "a9853484",
   "metadata": {},
   "outputs": [],
   "source": [
    "# comprasion operators are case sensitive "
   ]
  },
  {
   "cell_type": "code",
   "execution_count": 10,
   "id": "9d688f6e",
   "metadata": {},
   "outputs": [
    {
     "data": {
      "text/plain": [
       "False"
      ]
     },
     "execution_count": 10,
     "metadata": {},
     "output_type": "execute_result"
    }
   ],
   "source": [
    "\"hye\" == \"HYE\""
   ]
  },
  {
   "cell_type": "code",
   "execution_count": 11,
   "id": "0c30d177",
   "metadata": {},
   "outputs": [
    {
     "data": {
      "text/plain": [
       "True"
      ]
     },
     "execution_count": 11,
     "metadata": {},
     "output_type": "execute_result"
    }
   ],
   "source": [
    "\"HYE\" == \"HYE\""
   ]
  },
  {
   "cell_type": "markdown",
   "id": "690558de",
   "metadata": {},
   "source": [
    "## Not Equal\n",
    "symbol `!=`"
   ]
  },
  {
   "cell_type": "code",
   "execution_count": 12,
   "id": "1c04cda1",
   "metadata": {},
   "outputs": [
    {
     "data": {
      "text/plain": [
       "True"
      ]
     },
     "execution_count": 12,
     "metadata": {},
     "output_type": "execute_result"
    }
   ],
   "source": [
    "3 != 1"
   ]
  },
  {
   "cell_type": "code",
   "execution_count": 13,
   "id": "40b12024",
   "metadata": {},
   "outputs": [
    {
     "data": {
      "text/plain": [
       "False"
      ]
     },
     "execution_count": 13,
     "metadata": {},
     "output_type": "execute_result"
    }
   ],
   "source": [
    "3 != 3"
   ]
  },
  {
   "cell_type": "code",
   "execution_count": 14,
   "id": "10df1efa",
   "metadata": {},
   "outputs": [
    {
     "data": {
      "text/plain": [
       "False"
      ]
     },
     "execution_count": 14,
     "metadata": {},
     "output_type": "execute_result"
    }
   ],
   "source": [
    "3.0 != 3"
   ]
  },
  {
   "cell_type": "code",
   "execution_count": 15,
   "id": "3be78759",
   "metadata": {},
   "outputs": [],
   "source": [
    "# using a string \n"
   ]
  },
  {
   "cell_type": "code",
   "execution_count": 16,
   "id": "f409cadb",
   "metadata": {},
   "outputs": [
    {
     "data": {
      "text/plain": [
       "True"
      ]
     },
     "execution_count": 16,
     "metadata": {},
     "output_type": "execute_result"
    }
   ],
   "source": [
    "\"he\" != \"she\""
   ]
  },
  {
   "cell_type": "markdown",
   "id": "ecdb620e",
   "metadata": {},
   "source": [
    "## Greater Than\n",
    "symbol  `>`"
   ]
  },
  {
   "cell_type": "code",
   "execution_count": 17,
   "id": "3e494a8d",
   "metadata": {},
   "outputs": [
    {
     "data": {
      "text/plain": [
       "True"
      ]
     },
     "execution_count": 17,
     "metadata": {},
     "output_type": "execute_result"
    }
   ],
   "source": [
    "2 > 1"
   ]
  },
  {
   "cell_type": "code",
   "execution_count": 18,
   "id": "4b9974f3",
   "metadata": {},
   "outputs": [
    {
     "data": {
      "text/plain": [
       "False"
      ]
     },
     "execution_count": 18,
     "metadata": {},
     "output_type": "execute_result"
    }
   ],
   "source": [
    "2 > 4"
   ]
  },
  {
   "cell_type": "code",
   "execution_count": 19,
   "id": "f36dbcfb",
   "metadata": {},
   "outputs": [
    {
     "data": {
      "text/plain": [
       "False"
      ]
     },
     "execution_count": 19,
     "metadata": {},
     "output_type": "execute_result"
    }
   ],
   "source": [
    "2.0 > 2"
   ]
  },
  {
   "cell_type": "markdown",
   "id": "9109ee29",
   "metadata": {},
   "source": [
    "## Less Than\n",
    "symbol `<`"
   ]
  },
  {
   "cell_type": "code",
   "execution_count": 20,
   "id": "969ca1cc",
   "metadata": {},
   "outputs": [
    {
     "data": {
      "text/plain": [
       "True"
      ]
     },
     "execution_count": 20,
     "metadata": {},
     "output_type": "execute_result"
    }
   ],
   "source": [
    "1 < 2"
   ]
  },
  {
   "cell_type": "code",
   "execution_count": 22,
   "id": "71061fbf",
   "metadata": {},
   "outputs": [
    {
     "data": {
      "text/plain": [
       "False"
      ]
     },
     "execution_count": 22,
     "metadata": {},
     "output_type": "execute_result"
    }
   ],
   "source": [
    "2 < 1"
   ]
  },
  {
   "cell_type": "code",
   "execution_count": 23,
   "id": "31217209",
   "metadata": {},
   "outputs": [
    {
     "data": {
      "text/plain": [
       "False"
      ]
     },
     "execution_count": 23,
     "metadata": {},
     "output_type": "execute_result"
    }
   ],
   "source": [
    "2.0 < 2"
   ]
  },
  {
   "cell_type": "markdown",
   "id": "43f79371",
   "metadata": {},
   "source": [
    "## Greater Than or Equal to\n",
    "symbol `>=`"
   ]
  },
  {
   "cell_type": "code",
   "execution_count": 24,
   "id": "fb30ab3b",
   "metadata": {},
   "outputs": [
    {
     "data": {
      "text/plain": [
       "True"
      ]
     },
     "execution_count": 24,
     "metadata": {},
     "output_type": "execute_result"
    }
   ],
   "source": [
    "2 >= 2"
   ]
  },
  {
   "cell_type": "code",
   "execution_count": 27,
   "id": "62c80d2d",
   "metadata": {},
   "outputs": [
    {
     "data": {
      "text/plain": [
       "True"
      ]
     },
     "execution_count": 27,
     "metadata": {},
     "output_type": "execute_result"
    }
   ],
   "source": [
    "2 >= 1"
   ]
  },
  {
   "cell_type": "code",
   "execution_count": 26,
   "id": "1095c594",
   "metadata": {},
   "outputs": [
    {
     "data": {
      "text/plain": [
       "False"
      ]
     },
     "execution_count": 26,
     "metadata": {},
     "output_type": "execute_result"
    }
   ],
   "source": [
    "2 >= 5"
   ]
  },
  {
   "cell_type": "markdown",
   "id": "d1c2bc04",
   "metadata": {},
   "source": [
    "## Less than or Equal to\n",
    "symbol `<=`"
   ]
  },
  {
   "cell_type": "code",
   "execution_count": 28,
   "id": "52a137ba",
   "metadata": {},
   "outputs": [
    {
     "data": {
      "text/plain": [
       "True"
      ]
     },
     "execution_count": 28,
     "metadata": {},
     "output_type": "execute_result"
    }
   ],
   "source": [
    "1 <= 1"
   ]
  },
  {
   "cell_type": "code",
   "execution_count": 29,
   "id": "e799ed74",
   "metadata": {},
   "outputs": [
    {
     "data": {
      "text/plain": [
       "False"
      ]
     },
     "execution_count": 29,
     "metadata": {},
     "output_type": "execute_result"
    }
   ],
   "source": [
    "2 <= 1"
   ]
  },
  {
   "cell_type": "code",
   "execution_count": null,
   "id": "83ab87a2",
   "metadata": {},
   "outputs": [],
   "source": []
  }
 ],
 "metadata": {
  "kernelspec": {
   "display_name": "Python 3",
   "language": "python",
   "name": "python3"
  },
  "language_info": {
   "codemirror_mode": {
    "name": "ipython",
    "version": 3
   },
   "file_extension": ".py",
   "mimetype": "text/x-python",
   "name": "python",
   "nbconvert_exporter": "python",
   "pygments_lexer": "ipython3",
   "version": "3.8.8"
  }
 },
 "nbformat": 4,
 "nbformat_minor": 5
}
