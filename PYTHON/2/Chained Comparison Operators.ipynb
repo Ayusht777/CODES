{
 "cells": [
  {
   "cell_type": "markdown",
   "id": "df077bb0",
   "metadata": {},
   "source": [
    "# Chained Comparison Operators"
   ]
  },
  {
   "cell_type": "markdown",
   "id": "4bc949be",
   "metadata": {},
   "source": [
    "An interesting feature of Python is the ability to *chain* multiple comparisons operators to perform a more complex test. You can use these chained comparisons as shorthand for larger Boolean Expressions."
   ]
  },
  {
   "cell_type": "markdown",
   "id": "5b2b088e",
   "metadata": {},
   "source": [
    "Their are there Logical comparison operators \n",
    "1. and\n",
    "2. or\n",
    "3. not"
   ]
  },
  {
   "cell_type": "code",
   "execution_count": 1,
   "id": "02093621",
   "metadata": {},
   "outputs": [
    {
     "data": {
      "text/plain": [
       "True"
      ]
     },
     "execution_count": 1,
     "metadata": {},
     "output_type": "execute_result"
    }
   ],
   "source": [
    "1 < 2 < 3"
   ]
  },
  {
   "cell_type": "markdown",
   "id": "302ac3ad",
   "metadata": {},
   "source": [
    "The above statement checks if 1 was less than 2 **and** if 2 was less than 3. We could have written this using an **and** statement in Python:"
   ]
  },
  {
   "cell_type": "markdown",
   "id": "26f3c064",
   "metadata": {},
   "source": [
    "Q1. why we need to use chained comparison operators ?\n",
    "\n",
    "ans. we need to use chained comparsion operators because when we want to compair two or more integers like \n",
    "1>2<3 .So it is more confusing & unreadable so we use chained comparsion operators \n",
    "so the code get more readable & easy "
   ]
  },
  {
   "cell_type": "markdown",
   "id": "21f44636",
   "metadata": {},
   "source": [
    "##  and operator\n",
    "The **and** is used to check the left & right both statement should be true "
   ]
  },
  {
   "cell_type": "code",
   "execution_count": 2,
   "id": "4724c561",
   "metadata": {},
   "outputs": [
    {
     "data": {
      "text/plain": [
       "True"
      ]
     },
     "execution_count": 2,
     "metadata": {},
     "output_type": "execute_result"
    }
   ],
   "source": [
    "2 < 4 and 4 < 6"
   ]
  },
  {
   "cell_type": "code",
   "execution_count": 8,
   "id": "b28efa76",
   "metadata": {},
   "outputs": [
    {
     "data": {
      "text/plain": [
       "True"
      ]
     },
     "execution_count": 8,
     "metadata": {},
     "output_type": "execute_result"
    }
   ],
   "source": [
    "2 > 1 and 2 < 4"
   ]
  },
  {
   "cell_type": "code",
   "execution_count": 7,
   "id": "859ca7b4",
   "metadata": {},
   "outputs": [
    {
     "data": {
      "text/plain": [
       "False"
      ]
     },
     "execution_count": 7,
     "metadata": {},
     "output_type": "execute_result"
    }
   ],
   "source": [
    "2 < 4 and 4 > 5\n",
    "#here 2 is less than 4 & 4 is greater than 5 is false \n",
    "#2 < 4 --- true \n",
    "#4 > 5 --- false \n",
    "#so total statement becomes false "
   ]
  },
  {
   "cell_type": "code",
   "execution_count": 9,
   "id": "94bbe643",
   "metadata": {},
   "outputs": [
    {
     "data": {
      "text/plain": [
       "True"
      ]
     },
     "execution_count": 9,
     "metadata": {},
     "output_type": "execute_result"
    }
   ],
   "source": [
    " 1 == 1 and  1 < 2"
   ]
  },
  {
   "cell_type": "code",
   "execution_count": 12,
   "id": "e667eeab",
   "metadata": {},
   "outputs": [
    {
     "data": {
      "text/plain": [
       "True"
      ]
     },
     "execution_count": 12,
     "metadata": {},
     "output_type": "execute_result"
    }
   ],
   "source": [
    "1 == 1 and 1<= 1"
   ]
  },
  {
   "cell_type": "code",
   "execution_count": 13,
   "id": "d38e7727",
   "metadata": {},
   "outputs": [
    {
     "data": {
      "text/plain": [
       "True"
      ]
     },
     "execution_count": 13,
     "metadata": {},
     "output_type": "execute_result"
    }
   ],
   "source": [
    "(\"h\" == \"h\") and (1 == 1)"
   ]
  },
  {
   "cell_type": "code",
   "execution_count": 14,
   "id": "42abbac9",
   "metadata": {},
   "outputs": [
    {
     "data": {
      "text/plain": [
       "True"
      ]
     },
     "execution_count": 14,
     "metadata": {},
     "output_type": "execute_result"
    }
   ],
   "source": [
    "#or \n",
    "\"h\" == \"h\" and 1 == 1"
   ]
  },
  {
   "cell_type": "markdown",
   "id": "0cb970cc",
   "metadata": {},
   "source": [
    "Q2 why we need to  put comparsion statements in () ? \n",
    "\n",
    "ans. we put comparsion statements in () because it is good to paractice for readbility of code and look's more sorted "
   ]
  },
  {
   "cell_type": "code",
   "execution_count": 16,
   "id": "9ff46ef2",
   "metadata": {},
   "outputs": [
    {
     "data": {
      "text/plain": [
       "True"
      ]
     },
     "execution_count": 16,
     "metadata": {},
     "output_type": "execute_result"
    }
   ],
   "source": [
    "(\"a\" == \"a\") and ([0,1] == [0,1]) and (2 == 2)"
   ]
  },
  {
   "cell_type": "markdown",
   "id": "d61c84ed",
   "metadata": {},
   "source": [
    "----------------------------------------------------------------------------------------------------------------------"
   ]
  },
  {
   "cell_type": "markdown",
   "id": "faa266f9",
   "metadata": {},
   "source": [
    "# or operator"
   ]
  },
  {
   "cell_type": "markdown",
   "id": "713acfb4",
   "metadata": {},
   "source": [
    "With the **or** operator, we only need one *or* the other to be true."
   ]
  },
  {
   "cell_type": "code",
   "execution_count": 18,
   "id": "3c890074",
   "metadata": {},
   "outputs": [
    {
     "data": {
      "text/plain": [
       "True"
      ]
     },
     "execution_count": 18,
     "metadata": {},
     "output_type": "execute_result"
    }
   ],
   "source": [
    "( 1 == 0 ) or ( 1 == 1 )"
   ]
  },
  {
   "cell_type": "markdown",
   "id": "dc58a233",
   "metadata": {},
   "source": [
    "above statement true because \n",
    "\n",
    "1 == 0 ---- false\n",
    "\n",
    "1 == 1 ---- true\n",
    "\n",
    "so the final outcomes becomes true"
   ]
  },
  {
   "cell_type": "code",
   "execution_count": 21,
   "id": "2262fb8f",
   "metadata": {},
   "outputs": [
    {
     "data": {
      "text/plain": [
       "False"
      ]
     },
     "execution_count": 21,
     "metadata": {},
     "output_type": "execute_result"
    }
   ],
   "source": [
    "( 1 > 2 ) or (2 > 3)"
   ]
  },
  {
   "cell_type": "code",
   "execution_count": 22,
   "id": "cbc86213",
   "metadata": {},
   "outputs": [
    {
     "data": {
      "text/plain": [
       "False"
      ]
     },
     "execution_count": 22,
     "metadata": {},
     "output_type": "execute_result"
    }
   ],
   "source": [
    "(\"hello\" == \"hi\" ) or (\"1\" == 1)"
   ]
  },
  {
   "cell_type": "markdown",
   "id": "5df42510",
   "metadata": {},
   "source": [
    "## not operator  \n",
    "It basically returns the opposite booleans "
   ]
  },
  {
   "cell_type": "code",
   "execution_count": 23,
   "id": "18c8b094",
   "metadata": {},
   "outputs": [
    {
     "data": {
      "text/plain": [
       "False"
      ]
     },
     "execution_count": 23,
     "metadata": {},
     "output_type": "execute_result"
    }
   ],
   "source": [
    "not (1 == 1)"
   ]
  },
  {
   "cell_type": "code",
   "execution_count": 24,
   "id": "910e29e2",
   "metadata": {},
   "outputs": [],
   "source": [
    "#or "
   ]
  },
  {
   "cell_type": "code",
   "execution_count": 25,
   "id": "db7b8b1a",
   "metadata": {},
   "outputs": [
    {
     "data": {
      "text/plain": [
       "False"
      ]
     },
     "execution_count": 25,
     "metadata": {},
     "output_type": "execute_result"
    }
   ],
   "source": [
    "not 1 == 1"
   ]
  },
  {
   "cell_type": "code",
   "execution_count": 5,
   "id": "afe8110c",
   "metadata": {},
   "outputs": [
    {
     "data": {
      "text/plain": [
       "False"
      ]
     },
     "execution_count": 5,
     "metadata": {},
     "output_type": "execute_result"
    }
   ],
   "source": [
    "1!= 1 # here 1 is not equal to 1 so its is false but when we use not operator than it becomes true"
   ]
  },
  {
   "cell_type": "code",
   "execution_count": 4,
   "id": "d9f18238",
   "metadata": {},
   "outputs": [
    {
     "data": {
      "text/plain": [
       "True"
      ]
     },
     "execution_count": 4,
     "metadata": {},
     "output_type": "execute_result"
    }
   ],
   "source": [
    "not ( 1!= 1)"
   ]
  },
  {
   "cell_type": "code",
   "execution_count": 7,
   "id": "8e0ea136",
   "metadata": {},
   "outputs": [
    {
     "data": {
      "text/plain": [
       "True"
      ]
     },
     "execution_count": 7,
     "metadata": {},
     "output_type": "execute_result"
    }
   ],
   "source": [
    "not ( 4 > 500)"
   ]
  },
  {
   "cell_type": "code",
   "execution_count": null,
   "id": "84c30df7",
   "metadata": {},
   "outputs": [],
   "source": []
  }
 ],
 "metadata": {
  "kernelspec": {
   "display_name": "Python 3",
   "language": "python",
   "name": "python3"
  },
  "language_info": {
   "codemirror_mode": {
    "name": "ipython",
    "version": 3
   },
   "file_extension": ".py",
   "mimetype": "text/x-python",
   "name": "python",
   "nbconvert_exporter": "python",
   "pygments_lexer": "ipython3",
   "version": "3.8.8"
  }
 },
 "nbformat": 4,
 "nbformat_minor": 5
}
