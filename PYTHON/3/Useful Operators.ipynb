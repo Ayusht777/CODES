{
 "cells": [
  {
   "cell_type": "markdown",
   "id": "b2cabc57",
   "metadata": {},
   "source": [
    "# Useful Operators\n",
    "\n",
    "There are a few built-in functions and “operators” in Python that don't fit well into any category, so we will go over them in this lecture, & we have been also learned some of this function in previous chapters"
   ]
  },
  {
   "cell_type": "markdown",
   "id": "6aa4c01b",
   "metadata": {},
   "source": [
    "## range\n",
    "\n",
    "The range function allows you to quickly *generate* a list of integers, this comes in handy a lot, so take note of how to use it! There are 3 parameters you can pass, a start, a stop, and a step size. \n",
    "\n",
    "range(start,stop,step_size) "
   ]
  },
  {
   "cell_type": "markdown",
   "id": "1f638f4d",
   "metadata": {},
   "source": [
    "    start - integer starting from which the sequence of integers is to be returned\n",
    "    \n",
    "    stop - integer before which the sequence of integers is to be returned.\n",
    "           The range of integers ends at stop - 1.\n",
    "    \n",
    "    step (Optional) - integer value which determines the increment between each integer in the sequence\n"
   ]
  },
  {
   "cell_type": "markdown",
   "id": "035c8c89",
   "metadata": {},
   "source": [
    "What is a generator? \n",
    "\n",
    "*It's a special type of function that will generate information and not need to save it to memory. We haven't talked about functions or generators yet, so just keep this in your mind for now, we will discuss this in much more detail in later on.*\n",
    "\n",
    "\n",
    "# or \n",
    "\n",
    "*Generator* \n",
    "basically, it is an efficient way to store some kind of data in computer memory easily \n",
    "\n",
    "for example\n",
    "`I want to create a list of number from 1 to 10000000 but this take time by typing it and also store much data \n",
    "so we use range function --> list(range(1,10000001)) so the python will understand and say make a list from 1 to 10000001 easily `"
   ]
  },
  {
   "cell_type": "code",
   "execution_count": 1,
   "id": "1bb26ea8",
   "metadata": {},
   "outputs": [
    {
     "data": {
      "text/plain": [
       "range(0, 10)"
      ]
     },
     "execution_count": 1,
     "metadata": {},
     "output_type": "execute_result"
    }
   ],
   "source": [
    "range (10)"
   ]
  },
  {
   "cell_type": "code",
   "execution_count": 2,
   "id": "60f1d75a",
   "metadata": {},
   "outputs": [
    {
     "data": {
      "text/plain": [
       "range(0, 10)"
      ]
     },
     "execution_count": 2,
     "metadata": {},
     "output_type": "execute_result"
    }
   ],
   "source": [
    "range (0,10)"
   ]
  },
  {
   "cell_type": "markdown",
   "id": "c8863c04",
   "metadata": {},
   "source": [
    "Note that this is a **generator** function, so to actually get a list out of it, we need to cast it to a list with **list()**."
   ]
  },
  {
   "cell_type": "code",
   "execution_count": 8,
   "id": "9d6146db",
   "metadata": {},
   "outputs": [
    {
     "data": {
      "text/plain": [
       "[0, 1, 2, 3, 4, 5, 6, 7, 8, 9]"
      ]
     },
     "execution_count": 8,
     "metadata": {},
     "output_type": "execute_result"
    }
   ],
   "source": [
    "# when we say make a list of 10.so the range function starts from 0 and make a list one number less to it \n",
    "list(range(10))\n"
   ]
  },
  {
   "cell_type": "code",
   "execution_count": 4,
   "id": "7c91892b",
   "metadata": {},
   "outputs": [
    {
     "data": {
      "text/plain": [
       "[1, 2, 3, 4, 5, 6, 7, 8, 9, 10]"
      ]
     },
     "execution_count": 4,
     "metadata": {},
     "output_type": "execute_result"
    }
   ],
   "source": [
    "list (range(1,11))"
   ]
  },
  {
   "cell_type": "code",
   "execution_count": 7,
   "id": "ce2195fe",
   "metadata": {},
   "outputs": [
    {
     "data": {
      "text/plain": [
       "[0, 3, 6, 9]"
      ]
     },
     "execution_count": 7,
     "metadata": {},
     "output_type": "execute_result"
    }
   ],
   "source": [
    "# list of odd number\n",
    "list (range(0,10,3))\n"
   ]
  },
  {
   "cell_type": "code",
   "execution_count": 10,
   "id": "2d0c6bf5",
   "metadata": {},
   "outputs": [
    {
     "data": {
      "text/plain": [
       "[0, 2, 4, 6, 8]"
      ]
     },
     "execution_count": 10,
     "metadata": {},
     "output_type": "execute_result"
    }
   ],
   "source": [
    "# list of even number\n",
    "list(range(0,10,2))"
   ]
  },
  {
   "cell_type": "code",
   "execution_count": 11,
   "id": "ce3b74f4",
   "metadata": {},
   "outputs": [
    {
     "data": {
      "text/plain": [
       "[]"
      ]
     },
     "execution_count": 11,
     "metadata": {},
     "output_type": "execute_result"
    }
   ],
   "source": [
    "# let's create an empty list\n",
    "list (range(0))"
   ]
  },
  {
   "cell_type": "code",
   "execution_count": 13,
   "id": "3f58e2b2",
   "metadata": {},
   "outputs": [
    {
     "data": {
      "text/plain": [
       "[]"
      ]
     },
     "execution_count": 13,
     "metadata": {},
     "output_type": "execute_result"
    }
   ],
   "source": [
    "list (range(10,5))\n"
   ]
  },
  {
   "cell_type": "markdown",
   "id": "95a5ac42",
   "metadata": {},
   "source": [
    "Here I am saying make **a list of number 10 with a step size of 5** which is not possible here\n",
    "***because we do not start it from 0 or any other number*** "
   ]
  },
  {
   "cell_type": "code",
   "execution_count": 29,
   "id": "95175060",
   "metadata": {},
   "outputs": [
    {
     "data": {
      "text/plain": [
       "[10, 9, 8, 7, 6, 5, 4, 3, 2, 1]"
      ]
     },
     "execution_count": 29,
     "metadata": {},
     "output_type": "execute_result"
    }
   ],
   "source": [
    "#let's make a reverse list \n",
    "list(range(10, 0, -1))"
   ]
  },
  {
   "cell_type": "code",
   "execution_count": 21,
   "id": "f197a58c",
   "metadata": {},
   "outputs": [
    {
     "data": {
      "text/plain": [
       "[-5, -4, -3, -2, -1, 0]"
      ]
     },
     "execution_count": 21,
     "metadata": {},
     "output_type": "execute_result"
    }
   ],
   "source": [
    "# make a list of negative numbers\n",
    "list(range(-5,1))\n"
   ]
  },
  {
   "cell_type": "code",
   "execution_count": 20,
   "id": "14d6e9f5",
   "metadata": {},
   "outputs": [
    {
     "data": {
      "text/plain": [
       "[-10, -6, -2]"
      ]
     },
     "execution_count": 20,
     "metadata": {},
     "output_type": "execute_result"
    }
   ],
   "source": [
    "# let's make a list of negative number with step size\n",
    "list(range(-10,-1,4))"
   ]
  },
  {
   "cell_type": "code",
   "execution_count": 38,
   "id": "c97826ef",
   "metadata": {},
   "outputs": [],
   "source": [
    "# make a negative descending list"
   ]
  },
  {
   "cell_type": "code",
   "execution_count": 41,
   "id": "93f3aae9",
   "metadata": {},
   "outputs": [
    {
     "data": {
      "text/plain": [
       "[0, -1, -2, -3, -4, -5]"
      ]
     },
     "execution_count": 41,
     "metadata": {},
     "output_type": "execute_result"
    }
   ],
   "source": [
    "list(range(0,-6,-1))"
   ]
  },
  {
   "cell_type": "markdown",
   "id": "fdb086e6",
   "metadata": {},
   "source": [
    "-----------------------------------------------------------------------------------------------------------------------"
   ]
  },
  {
   "cell_type": "code",
   "execution_count": 42,
   "id": "c47c2a80",
   "metadata": {},
   "outputs": [],
   "source": [
    "# let's make a list of - to + number\n"
   ]
  },
  {
   "cell_type": "code",
   "execution_count": 45,
   "id": "d283f6c5",
   "metadata": {},
   "outputs": [
    {
     "data": {
      "text/plain": [
       "[-2, -1, 0, 1, 2]"
      ]
     },
     "execution_count": 45,
     "metadata": {},
     "output_type": "execute_result"
    }
   ],
   "source": [
    "list(range(-2,3))"
   ]
  },
  {
   "cell_type": "code",
   "execution_count": 48,
   "id": "f908bcf7",
   "metadata": {},
   "outputs": [
    {
     "data": {
      "text/plain": [
       "[2, 1, 0, -1, -2]"
      ]
     },
     "execution_count": 48,
     "metadata": {},
     "output_type": "execute_result"
    }
   ],
   "source": [
    "# let's make a list of + to - number\n",
    "list(range(2,-3,-1))\n",
    "\n"
   ]
  },
  {
   "cell_type": "markdown",
   "id": "8431238e",
   "metadata": {},
   "source": [
    "# let's use range in for loop"
   ]
  },
  {
   "cell_type": "code",
   "execution_count": 49,
   "id": "b62e8027",
   "metadata": {},
   "outputs": [
    {
     "name": "stdout",
     "output_type": "stream",
     "text": [
      "0\n",
      "1\n",
      "2\n",
      "3\n",
      "4\n"
     ]
    }
   ],
   "source": [
    "for i in range(0,5):\n",
    "    print(i)"
   ]
  },
  {
   "cell_type": "markdown",
   "id": "fe3b2080",
   "metadata": {},
   "source": [
    "## enumerate\n",
    "\n",
    "enumerate is a very useful function to use with for loops. Let's imagine the following situation:"
   ]
  },
  {
   "cell_type": "code",
   "execution_count": 64,
   "id": "f0376bcc",
   "metadata": {},
   "outputs": [
    {
     "name": "stdout",
     "output_type": "stream",
     "text": [
      "At index 1 the letter in a\n",
      "At index 2 the letter in y\n",
      "At index 3 the letter in u\n",
      "At index 4 the letter in s\n",
      "At index 5 the letter in h\n"
     ]
    }
   ],
   "source": [
    "index_count = 0\n",
    "\n",
    "for name in 'ayush':\n",
    "    index_count += 1\n",
    "    print(f\"At index {index_count} the letter in {name}\")\n",
    " "
   ]
  },
  {
   "cell_type": "code",
   "execution_count": 68,
   "id": "1abba78d",
   "metadata": {},
   "outputs": [
    {
     "name": "stdout",
     "output_type": "stream",
     "text": [
      "num 1 at letter t\n",
      "num 2 at letter a\n",
      "num 3 at letter l\n",
      "num 4 at letter e\n",
      "num 5 at letter s\n",
      "num 6 at letter a\n",
      "num 7 at letter r\n",
      "num 8 at letter a\n"
     ]
    }
   ],
   "source": [
    "index = 1\n",
    "for surname in \"talesara\":\n",
    "    print(\"num {} at letter {}\".format(index,surname))\n",
    "    index+=1"
   ]
  },
  {
   "cell_type": "code",
   "execution_count": 69,
   "id": "80d12b0c",
   "metadata": {},
   "outputs": [],
   "source": [
    "# so doing this without a typical way python make a function called enumerate"
   ]
  },
  {
   "cell_type": "code",
   "execution_count": 70,
   "id": "78b59de3",
   "metadata": {},
   "outputs": [
    {
     "name": "stdout",
     "output_type": "stream",
     "text": [
      "(0, 'a')\n",
      "(1, 'y')\n",
      "(2, 'u')\n",
      "(3, 's')\n",
      "(4, 'h')\n"
     ]
    }
   ],
   "source": [
    "for name in enumerate(\"ayush\"):\n",
    "    print(name)"
   ]
  },
  {
   "cell_type": "markdown",
   "id": "dbdb83ac",
   "metadata": {},
   "source": [
    "*Here is the above output in tuples. If you want to output some kind of list or table .than you have to use tuple unpacking.*"
   ]
  },
  {
   "cell_type": "code",
   "execution_count": 71,
   "id": "788aac1d",
   "metadata": {},
   "outputs": [
    {
     "name": "stdout",
     "output_type": "stream",
     "text": [
      "0 a\n",
      "1 y\n",
      "2 u\n",
      "3 s\n",
      "4 h\n"
     ]
    }
   ],
   "source": [
    "for index,name in enumerate(\"ayush\"):\n",
    "    print(index,name)"
   ]
  },
  {
   "cell_type": "code",
   "execution_count": 72,
   "id": "ec8c661d",
   "metadata": {},
   "outputs": [
    {
     "name": "stdout",
     "output_type": "stream",
     "text": [
      "0\n",
      "a\n",
      "1\n",
      "y\n",
      "2\n",
      "u\n",
      "3\n",
      "s\n",
      "4\n",
      "h\n"
     ]
    }
   ],
   "source": [
    "for index,name in enumerate(\"ayush\"):\n",
    "    print(index)\n",
    "    print(name)"
   ]
  },
  {
   "cell_type": "code",
   "execution_count": 75,
   "id": "e935fe45",
   "metadata": {},
   "outputs": [
    {
     "name": "stdout",
     "output_type": "stream",
     "text": [
      "At index 0 the letter is a\n",
      "At index 1 the letter is b\n"
     ]
    }
   ],
   "source": [
    "\n",
    "\n",
    "for i,letter in enumerate('ab'):\n",
    "    print(f\"At index {i} the letter is {letter}\")"
   ]
  },
  {
   "cell_type": "markdown",
   "id": "c7e5e2f7",
   "metadata": {},
   "source": [
    "## zip\n",
    "\n",
    "Notice the format enumerate actually returns, let's take a look by transforming it to a list()"
   ]
  },
  {
   "cell_type": "code",
   "execution_count": 77,
   "id": "86f1e0a8",
   "metadata": {},
   "outputs": [
    {
     "data": {
      "text/plain": [
       "[(0, 'a'), (1, 'b')]"
      ]
     },
     "execution_count": 77,
     "metadata": {},
     "output_type": "execute_result"
    }
   ],
   "source": [
    "list(enumerate('ab'))"
   ]
  },
  {
   "cell_type": "markdown",
   "id": "8a837a6e",
   "metadata": {},
   "source": [
    "It was a list of tuples, meaning we could use tuple unpacking during our for loop. This data structure is actually very common in Python , especially when working with outside libraries. You can use the **zip()** function to quickly create a list of tuples by \"zipping\" up together two lists."
   ]
  },
  {
   "cell_type": "code",
   "execution_count": 83,
   "id": "b45a535e",
   "metadata": {},
   "outputs": [],
   "source": [
    "mylist1 = [1,2]\n",
    "mylist2 = ['a','b']"
   ]
  },
  {
   "cell_type": "code",
   "execution_count": 79,
   "id": "da4811c5",
   "metadata": {},
   "outputs": [
    {
     "data": {
      "text/plain": [
       "<zip at 0x26beae70100>"
      ]
     },
     "execution_count": 79,
     "metadata": {},
     "output_type": "execute_result"
    }
   ],
   "source": [
    "# This one is also a generator! We will explain this later, but for now let's transform it to a list\n",
    "zip(mylist1,mylist2)"
   ]
  },
  {
   "cell_type": "code",
   "execution_count": 80,
   "id": "b2f48956",
   "metadata": {},
   "outputs": [
    {
     "data": {
      "text/plain": [
       "[(1, 'a'), (2, 'b')]"
      ]
     },
     "execution_count": 80,
     "metadata": {},
     "output_type": "execute_result"
    }
   ],
   "source": [
    "list(zip(mylist1,mylist2))"
   ]
  },
  {
   "cell_type": "markdown",
   "id": "acfc2e20",
   "metadata": {},
   "source": [
    "**To use the generator, we could just use a for loop**"
   ]
  },
  {
   "cell_type": "code",
   "execution_count": 86,
   "id": "251b84d6",
   "metadata": {},
   "outputs": [
    {
     "name": "stdout",
     "output_type": "stream",
     "text": [
      "first list-items 1 & second list-items a\n",
      "first list-items 2 & second list-items b\n"
     ]
    }
   ],
   "source": [
    "for i1, i2 in zip(mylist1,mylist2):\n",
    "    print(f'first list-items {i1} & second list-items {i2}')"
   ]
  },
  {
   "cell_type": "markdown",
   "id": "21737cf6",
   "metadata": {},
   "source": [
    "**Q.) A common question is that what will happen if we zip to different size of elements in list ? **\n",
    "\n",
    "Ans. *Because Zip is only going to be able to go and zip together as far as the list, which is the shortest.*"
   ]
  },
  {
   "attachments": {
    "Screenshot%202021-11-07%20at%2012-32-36%20Python%20Operators%20Arithmetic,%20Comparison,%20Logical%20and%20more%20.png": {
     "image/png": "[encoded data removed]"
    }
   },
   "cell_type": "markdown",
   "id": "32576f8f",
   "metadata": {},
   "source": [
    "# Identity operator or the membership operator\n",
    "\n",
    "![Screenshot%202021-11-07%20at%2012-32-36%20Python%20Operators%20Arithmetic,%20Comparison,%20Logical%20and%20more%20.png](attachment:Screenshot%202021-11-07%20at%2012-32-36%20Python%20Operators%20Arithmetic,%20Comparison,%20Logical%20and%20more%20.png)\n",
    "## in operator\n",
    "\n",
    "We've already seen the **in** keyword during the for loop, but we can also use it to quickly check if an object is in a iterable objects like  **(string, list, tuple, set and dictionary)**"
   ]
  },
  {
   "cell_type": "code",
   "execution_count": 87,
   "id": "8ede0699",
   "metadata": {},
   "outputs": [],
   "source": [
    "# let's check a letter in a word "
   ]
  },
  {
   "cell_type": "code",
   "execution_count": 88,
   "id": "99a40c5f",
   "metadata": {},
   "outputs": [
    {
     "data": {
      "text/plain": [
       "True"
      ]
     },
     "execution_count": 88,
     "metadata": {},
     "output_type": "execute_result"
    }
   ],
   "source": [
    "\"a\" in \"ayush\""
   ]
  },
  {
   "cell_type": "code",
   "execution_count": 89,
   "id": "d48dfef7",
   "metadata": {},
   "outputs": [
    {
     "data": {
      "text/plain": [
       "False"
      ]
     },
     "execution_count": 89,
     "metadata": {},
     "output_type": "execute_result"
    }
   ],
   "source": [
    "\"i\" in \"talesara\""
   ]
  },
  {
   "cell_type": "code",
   "execution_count": 90,
   "id": "ab900d67",
   "metadata": {},
   "outputs": [],
   "source": [
    "# let's check num. in list"
   ]
  },
  {
   "cell_type": "code",
   "execution_count": 91,
   "id": "46f4203f",
   "metadata": {},
   "outputs": [
    {
     "data": {
      "text/plain": [
       "True"
      ]
     },
     "execution_count": 91,
     "metadata": {},
     "output_type": "execute_result"
    }
   ],
   "source": [
    "5 in [1,2,5]"
   ]
  },
  {
   "cell_type": "code",
   "execution_count": 92,
   "id": "1c2d7e96",
   "metadata": {},
   "outputs": [
    {
     "data": {
      "text/plain": [
       "False"
      ]
     },
     "execution_count": 92,
     "metadata": {},
     "output_type": "execute_result"
    }
   ],
   "source": [
    "2 in [5,4]"
   ]
  },
  {
   "cell_type": "code",
   "execution_count": 93,
   "id": "2cba3355",
   "metadata": {},
   "outputs": [],
   "source": [
    "# let's check key's in dict"
   ]
  },
  {
   "cell_type": "code",
   "execution_count": 96,
   "id": "a9ab0241",
   "metadata": {},
   "outputs": [],
   "source": [
    "dic = {\"k1\":11,\"k2\":222}"
   ]
  },
  {
   "cell_type": "code",
   "execution_count": 97,
   "id": "06b59d65",
   "metadata": {},
   "outputs": [
    {
     "data": {
      "text/plain": [
       "True"
      ]
     },
     "execution_count": 97,
     "metadata": {},
     "output_type": "execute_result"
    }
   ],
   "source": [
    "\"k1\"in dic"
   ]
  },
  {
   "cell_type": "code",
   "execution_count": 98,
   "id": "5e436c25",
   "metadata": {},
   "outputs": [
    {
     "data": {
      "text/plain": [
       "True"
      ]
     },
     "execution_count": 98,
     "metadata": {},
     "output_type": "execute_result"
    }
   ],
   "source": [
    "11 in dic.values()"
   ]
  },
  {
   "cell_type": "code",
   "execution_count": 102,
   "id": "ffab25de",
   "metadata": {},
   "outputs": [
    {
     "data": {
      "text/plain": [
       "True"
      ]
     },
     "execution_count": 102,
     "metadata": {},
     "output_type": "execute_result"
    }
   ],
   "source": [
    "\"k2\" in dic.keys()"
   ]
  },
  {
   "cell_type": "code",
   "execution_count": 103,
   "id": "6d27b2af",
   "metadata": {},
   "outputs": [],
   "source": [
    "# let's check tuples"
   ]
  },
  {
   "cell_type": "code",
   "execution_count": 105,
   "id": "431ac63d",
   "metadata": {},
   "outputs": [
    {
     "data": {
      "text/plain": [
       "tuple"
      ]
     },
     "execution_count": 105,
     "metadata": {},
     "output_type": "execute_result"
    }
   ],
   "source": [
    "type((1,2))"
   ]
  },
  {
   "cell_type": "code",
   "execution_count": 104,
   "id": "9d466296",
   "metadata": {},
   "outputs": [
    {
     "data": {
      "text/plain": [
       "True"
      ]
     },
     "execution_count": 104,
     "metadata": {},
     "output_type": "execute_result"
    }
   ],
   "source": [
    "2 in (1,2)"
   ]
  },
  {
   "cell_type": "code",
   "execution_count": 106,
   "id": "7b5c6917",
   "metadata": {},
   "outputs": [],
   "source": [
    "# let's check in sets"
   ]
  },
  {
   "cell_type": "code",
   "execution_count": 110,
   "id": "2b963dc5",
   "metadata": {},
   "outputs": [
    {
     "data": {
      "text/plain": [
       "True"
      ]
     },
     "execution_count": 110,
     "metadata": {},
     "output_type": "execute_result"
    }
   ],
   "source": [
    "\"a\" in {\"a\",\"b\"}"
   ]
  },
  {
   "cell_type": "markdown",
   "id": "fde9d4ee",
   "metadata": {},
   "source": [
    "## not in\n",
    "\n",
    "We can combine **in** with a **not** operator, to check if some object or variable is not present in a list.\n"
   ]
  },
  {
   "cell_type": "code",
   "execution_count": 111,
   "id": "041397b8",
   "metadata": {},
   "outputs": [
    {
     "data": {
      "text/plain": [
       "False"
      ]
     },
     "execution_count": 111,
     "metadata": {},
     "output_type": "execute_result"
    }
   ],
   "source": [
    "\"x\" not in [\"x\",\"y\"]"
   ]
  },
  {
   "cell_type": "code",
   "execution_count": 112,
   "id": "ef66d715",
   "metadata": {},
   "outputs": [
    {
     "data": {
      "text/plain": [
       "True"
      ]
     },
     "execution_count": 112,
     "metadata": {},
     "output_type": "execute_result"
    }
   ],
   "source": [
    "\"a\" not in [\"x\",\"y\"]"
   ]
  },
  {
   "cell_type": "markdown",
   "id": "3485f07c",
   "metadata": {},
   "source": [
    "## min and max\n",
    "\n",
    "Quickly check the minimum or maximum of a list with these functions."
   ]
  },
  {
   "cell_type": "code",
   "execution_count": 113,
   "id": "e95610f2",
   "metadata": {},
   "outputs": [],
   "source": [
    "ls = [1,2,3,45]"
   ]
  },
  {
   "cell_type": "code",
   "execution_count": 114,
   "id": "b894f0c6",
   "metadata": {},
   "outputs": [
    {
     "data": {
      "text/plain": [
       "1"
      ]
     },
     "execution_count": 114,
     "metadata": {},
     "output_type": "execute_result"
    }
   ],
   "source": [
    "min(ls)"
   ]
  },
  {
   "cell_type": "code",
   "execution_count": 115,
   "id": "f45b8427",
   "metadata": {},
   "outputs": [
    {
     "data": {
      "text/plain": [
       "45"
      ]
     },
     "execution_count": 115,
     "metadata": {},
     "output_type": "execute_result"
    }
   ],
   "source": [
    "max(ls)"
   ]
  },
  {
   "cell_type": "markdown",
   "id": "de5d0b0a",
   "metadata": {},
   "source": [
    "## input"
   ]
  },
  {
   "cell_type": "markdown",
   "id": "7ef97c6a",
   "metadata": {},
   "source": [
    "In Python, we use the input() function to take input from the user. Whatever you enter as input, the input function converts it into a string. If you enter an integer value, still input() function convert it into a string."
   ]
  },
  {
   "cell_type": "markdown",
   "id": "211292b7",
   "metadata": {},
   "source": [
    "syntax:\n",
    "\n",
    "`input (\"enter string: \")`"
   ]
  },
  {
   "cell_type": "code",
   "execution_count": 3,
   "id": "104238ef",
   "metadata": {},
   "outputs": [
    {
     "name": "stdout",
     "output_type": "stream",
     "text": [
      "what is your name ? : ayush\n"
     ]
    }
   ],
   "source": [
    "name = input(\"what is your name ? : \")"
   ]
  },
  {
   "cell_type": "code",
   "execution_count": 4,
   "id": "c1113188",
   "metadata": {},
   "outputs": [
    {
     "data": {
      "text/plain": [
       "'ayush'"
      ]
     },
     "execution_count": 4,
     "metadata": {},
     "output_type": "execute_result"
    }
   ],
   "source": [
    "name"
   ]
  },
  {
   "cell_type": "code",
   "execution_count": 5,
   "id": "fcc0a673",
   "metadata": {},
   "outputs": [
    {
     "data": {
      "text/plain": [
       "str"
      ]
     },
     "execution_count": 5,
     "metadata": {},
     "output_type": "execute_result"
    }
   ],
   "source": [
    "type(name)"
   ]
  },
  {
   "cell_type": "code",
   "execution_count": 6,
   "id": "5810451d",
   "metadata": {},
   "outputs": [
    {
     "name": "stdout",
     "output_type": "stream",
     "text": [
      "num:12\n"
     ]
    }
   ],
   "source": [
    "num = input(\"num:\")"
   ]
  },
  {
   "cell_type": "code",
   "execution_count": 7,
   "id": "f185635e",
   "metadata": {},
   "outputs": [
    {
     "data": {
      "text/plain": [
       "'12'"
      ]
     },
     "execution_count": 7,
     "metadata": {},
     "output_type": "execute_result"
    }
   ],
   "source": [
    "num"
   ]
  },
  {
   "cell_type": "code",
   "execution_count": 8,
   "id": "e729d6f0",
   "metadata": {},
   "outputs": [
    {
     "data": {
      "text/plain": [
       "str"
      ]
     },
     "execution_count": 8,
     "metadata": {},
     "output_type": "execute_result"
    }
   ],
   "source": [
    "type(num)"
   ]
  },
  {
   "cell_type": "code",
   "execution_count": 9,
   "id": "9d701ad5",
   "metadata": {},
   "outputs": [],
   "source": [
    "# let's convert this into a integer"
   ]
  },
  {
   "cell_type": "code",
   "execution_count": 10,
   "id": "62bf6669",
   "metadata": {},
   "outputs": [
    {
     "name": "stdout",
     "output_type": "stream",
     "text": [
      "num:1244\n"
     ]
    }
   ],
   "source": [
    "num = int(input(\"num:\"))"
   ]
  },
  {
   "cell_type": "code",
   "execution_count": 11,
   "id": "fbcfc29f",
   "metadata": {},
   "outputs": [
    {
     "data": {
      "text/plain": [
       "int"
      ]
     },
     "execution_count": 11,
     "metadata": {},
     "output_type": "execute_result"
    }
   ],
   "source": [
    "type(num)"
   ]
  },
  {
   "cell_type": "code",
   "execution_count": 12,
   "id": "3ace60db",
   "metadata": {},
   "outputs": [
    {
     "data": {
      "text/plain": [
       "1266"
      ]
     },
     "execution_count": 12,
     "metadata": {},
     "output_type": "execute_result"
    }
   ],
   "source": [
    "num + 22"
   ]
  },
  {
   "cell_type": "markdown",
   "id": "e8f4f233",
   "metadata": {},
   "source": [
    "## random\n",
    "\n",
    "Python comes with a built in random library. There are a lot of functions included in this random library, so we will only show you two useful functions for now."
   ]
  },
  {
   "cell_type": "markdown",
   "id": "c2ee8949",
   "metadata": {},
   "source": [
    "### shuffle"
   ]
  },
  {
   "cell_type": "code",
   "execution_count": 13,
   "id": "00f5cfad",
   "metadata": {},
   "outputs": [],
   "source": [
    "from random import shuffle"
   ]
  },
  {
   "cell_type": "code",
   "execution_count": 15,
   "id": "20b6bbc4",
   "metadata": {},
   "outputs": [],
   "source": [
    "newlist = [1,2,3,45,6,78]"
   ]
  },
  {
   "cell_type": "code",
   "execution_count": 16,
   "id": "1564461a",
   "metadata": {},
   "outputs": [],
   "source": [
    "# This shuffles the list \"in-place\" meaning it won't return\n",
    "# anything, instead it will effect the list passed\n",
    "shuffle(newlist)"
   ]
  },
  {
   "cell_type": "code",
   "execution_count": 19,
   "id": "e63c3a63",
   "metadata": {},
   "outputs": [
    {
     "data": {
      "text/plain": [
       "[3, 1, 78, 2, 6, 45]"
      ]
     },
     "execution_count": 19,
     "metadata": {},
     "output_type": "execute_result"
    }
   ],
   "source": [
    "newlist"
   ]
  },
  {
   "cell_type": "markdown",
   "id": "bffbe4a9",
   "metadata": {},
   "source": [
    "### randint\n",
    "rand-int --> random integer"
   ]
  },
  {
   "cell_type": "code",
   "execution_count": 20,
   "id": "df0b7be2",
   "metadata": {},
   "outputs": [],
   "source": [
    "from random import randint"
   ]
  },
  {
   "cell_type": "code",
   "execution_count": 25,
   "id": "6dd35b94",
   "metadata": {},
   "outputs": [
    {
     "data": {
      "text/plain": [
       "18"
      ]
     },
     "execution_count": 25,
     "metadata": {},
     "output_type": "execute_result"
    }
   ],
   "source": [
    "# Return random integer in range [a, b], including both end points.\n",
    "randint(1,48)"
   ]
  },
  {
   "cell_type": "code",
   "execution_count": 26,
   "id": "392cbf81",
   "metadata": {},
   "outputs": [
    {
     "data": {
      "text/plain": [
       "28"
      ]
     },
     "execution_count": 26,
     "metadata": {},
     "output_type": "execute_result"
    }
   ],
   "source": [
    "randint(1,48)"
   ]
  },
  {
   "cell_type": "markdown",
   "id": "eefb59a9",
   "metadata": {},
   "source": [
    "# we gone learn more random inbuilt function soon \n",
    "https://www.programiz.com/python-programming/modules/random"
   ]
  },
  {
   "cell_type": "code",
   "execution_count": null,
   "id": "3f86b624",
   "metadata": {},
   "outputs": [],
   "source": []
  }
 ],
 "metadata": {
  "kernelspec": {
   "display_name": "Python 3",
   "language": "python",
   "name": "python3"
  },
  "language_info": {
   "codemirror_mode": {
    "name": "ipython",
    "version": 3
   },
   "file_extension": ".py",
   "mimetype": "text/x-python",
   "name": "python",
   "nbconvert_exporter": "python",
   "pygments_lexer": "ipython3",
   "version": "3.8.8"
  }
 },
 "nbformat": 4,
 "nbformat_minor": 5
}
