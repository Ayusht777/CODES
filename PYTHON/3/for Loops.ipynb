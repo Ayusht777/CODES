{
 "cells": [
  {
   "cell_type": "markdown",
   "id": "07564867",
   "metadata": {},
   "source": [
    "## iterator \n",
    "An iterator is an object that contains a countable number of values.\n",
    "\n",
    "An iterator is an object that can be iterated upon, meaning that you can go over  through all the values."
   ]
  },
  {
   "attachments": {
    "iterable-vs-iterator.png": {
     "image/png": "[encoded data removed]"
    }
   },
   "cell_type": "markdown",
   "id": "a3f127c3",
   "metadata": {},
   "source": [
    "![iterable-vs-iterator.png](attachment:iterable-vs-iterator.png)"
   ]
  },
  {
   "cell_type": "markdown",
   "id": "34fd2254",
   "metadata": {},
   "source": [
    "# for Loops\n",
    "KEY POINT : IT IS DEFINTIE ITERATION\n",
    "\n",
    "MEANS LOOP WILL RUN THE CODE NUMBER OF TIMES AS YOU WANTS\n",
    "\n",
    "A <code>for</code> loop acts as an iterator in Python; it goes through items that are in a *sequence* or any other iterable item. Objects that we've learned about that we can iterate over include strings, lists, tuples,sets and even built-in iterables for dictionaries, such as keys or values.\n",
    "\n",
    "We've already seen the <code>for</code> statement a little bit in past lectures but now let's formalize our understanding.\n",
    "\n",
    "Here's the general format for a <code>for</code> loop in Python:\n",
    "\n",
    "syntax :\n",
    "\n",
    "    for item in object:\n",
    "        statements to do stuff"
   ]
  },
  {
   "cell_type": "markdown",
   "id": "d5ad97cf",
   "metadata": {},
   "source": [
    "The variable name used for the item is completely up to the coder, so use your best judgment for choosing a name that makes sense and you will be able to understand when revisiting your code. This item name can then be referenced inside your loop, for example if you wanted to use <code>if</code> statements to perform checks.\n",
    "\n",
    "Let's go ahead and work through several example of <code>for</code> loops using a variety of data object types. We'll start simple and build more complexity later on."
   ]
  },
  {
   "cell_type": "markdown",
   "id": "1dc04e57",
   "metadata": {},
   "source": [
    "-----------------------------------------------------------------------------------------------------------------------"
   ]
  },
  {
   "attachments": {
    "Regular-Python-for-loop-flowchart.webp": {
     "image/webp": "[encoded data removed]"
    }
   },
   "cell_type": "markdown",
   "id": "e5d07df1",
   "metadata": {},
   "source": [
    "## FLOW CHART\n",
    "\n",
    "\n",
    "![Regular-Python-for-loop-flowchart.webp](attachment:Regular-Python-for-loop-flowchart.webp)"
   ]
  },
  {
   "cell_type": "markdown",
   "id": "79ab25cc",
   "metadata": {},
   "source": [
    "-----------------------------------------------------------------------------------------------------------------------"
   ]
  },
  {
   "cell_type": "markdown",
   "id": "4af409dd",
   "metadata": {},
   "source": [
    "## Example 1\n",
    "Iterating through a string"
   ]
  },
  {
   "cell_type": "code",
   "execution_count": 1,
   "id": "8c41506d",
   "metadata": {},
   "outputs": [],
   "source": [
    "name = \"ayush\""
   ]
  },
  {
   "cell_type": "code",
   "execution_count": 2,
   "id": "6aa0539e",
   "metadata": {},
   "outputs": [
    {
     "name": "stdout",
     "output_type": "stream",
     "text": [
      "a\n",
      "y\n",
      "u\n",
      "s\n",
      "h\n"
     ]
    }
   ],
   "source": [
    "for letter in name:\n",
    "    print(letter)"
   ]
  },
  {
   "cell_type": "code",
   "execution_count": 8,
   "id": "1fd0c5c0",
   "metadata": {},
   "outputs": [],
   "source": [
    "#or "
   ]
  },
  {
   "cell_type": "code",
   "execution_count": 10,
   "id": "e0ccde19",
   "metadata": {},
   "outputs": [
    {
     "name": "stdout",
     "output_type": "stream",
     "text": [
      "a\n",
      "y\n",
      "u\n",
      "s\n",
      "h\n"
     ]
    }
   ],
   "source": [
    "for letter in \"ayush\":\n",
    "    print(letter)"
   ]
  },
  {
   "cell_type": "code",
   "execution_count": 11,
   "id": "fb4f9738",
   "metadata": {},
   "outputs": [],
   "source": [
    "surname = \"talesara\""
   ]
  },
  {
   "cell_type": "code",
   "execution_count": 12,
   "id": "a7ac9335",
   "metadata": {},
   "outputs": [
    {
     "name": "stdout",
     "output_type": "stream",
     "text": [
      "T\n",
      "A\n",
      "L\n",
      "E\n",
      "S\n",
      "A\n",
      "R\n",
      "A\n"
     ]
    }
   ],
   "source": [
    "for i in surname:\n",
    "    print(i.upper())"
   ]
  },
  {
   "cell_type": "raw",
   "id": "64c05380",
   "metadata": {},
   "source": [
    "Working \n",
    "\n",
    "letter ---> a\n",
    "letter ---> y\n",
    "letter ---> u\n",
    "letter ---> s\n",
    "letter ---> h \n",
    "here, letter word is iterating all the elements in the string \n",
    "it means the word letter is going over each element one by one \n",
    "so it is printing each element "
   ]
  },
  {
   "cell_type": "code",
   "execution_count": 4,
   "id": "ae98cf64",
   "metadata": {},
   "outputs": [
    {
     "name": "stdout",
     "output_type": "stream",
     "text": [
      "a\n",
      "y\n",
      "u\n",
      "s\n",
      "h\n"
     ]
    },
    {
     "data": {
      "text/plain": [
       "\"so there is various problem in above method that you have to remember all the indexing position & make's code long \\nand time-consuming \""
      ]
     },
     "execution_count": 4,
     "metadata": {},
     "output_type": "execute_result"
    }
   ],
   "source": [
    "# so basically we have printed all letter in string one by one \n",
    "# without using print statement no. of times as no. of letter \n",
    "#here what I mean \n",
    "\n",
    "name = \"ayush\"\n",
    "print(name[0])\n",
    "print(name[1])\n",
    "print(name[2])\n",
    "print(name[3])\n",
    "print(name[4])\n",
    "\n",
    "\n",
    "\"\"\"so there is various problem in above method that you have to remember all the indexing position & make's code long \n",
    "and time-consuming \"\"\""
   ]
  },
  {
   "cell_type": "markdown",
   "id": "861268d6",
   "metadata": {},
   "source": [
    "## Example 2\n",
    "Iterating through a list"
   ]
  },
  {
   "cell_type": "code",
   "execution_count": 14,
   "id": "529bb7c3",
   "metadata": {},
   "outputs": [],
   "source": [
    "ls  = [1,2,0.1,\"ayush\"]"
   ]
  },
  {
   "cell_type": "code",
   "execution_count": 12,
   "id": "67620f35",
   "metadata": {},
   "outputs": [
    {
     "name": "stdout",
     "output_type": "stream",
     "text": [
      "1\n",
      "2\n",
      "0.1\n",
      "ayush\n"
     ]
    }
   ],
   "source": [
    "for list_elements in ls :\n",
    "    print(list_elements)"
   ]
  },
  {
   "cell_type": "code",
   "execution_count": null,
   "id": "79cdfc67",
   "metadata": {},
   "outputs": [],
   "source": [
    "# here python will be going to print each element of list one by one \n",
    "# and elements can be any data type in list like str, int, floating point, list etc. "
   ]
  },
  {
   "cell_type": "markdown",
   "id": "00d241ef",
   "metadata": {},
   "source": [
    "## Example 3\n",
    "Iterating through a list"
   ]
  },
  {
   "cell_type": "code",
   "execution_count": 37,
   "id": "41eb4e12",
   "metadata": {},
   "outputs": [],
   "source": [
    "# We'll learn how to automate this sort of list in the next lecture\n",
    "list1 = [1,2,3,4,5]"
   ]
  },
  {
   "cell_type": "markdown",
   "id": "bed69fd6",
   "metadata": {},
   "source": [
    "Great! Hopefully this makes sense. Now let's add a <code>if</code> statement to check for even numbers. We'll first re-introduce a previous concept here--the modulo.\n",
    "### Modulo\n",
    "The modulo allows us to get the remainder in a division and uses the `%` symbol. For example:"
   ]
  },
  {
   "cell_type": "code",
   "execution_count": 43,
   "id": "0c96f277",
   "metadata": {},
   "outputs": [
    {
     "data": {
      "text/plain": [
       "0"
      ]
     },
     "execution_count": 43,
     "metadata": {},
     "output_type": "execute_result"
    }
   ],
   "source": [
    "10 % 2\n",
    "\n"
   ]
  },
  {
   "attachments": {
    "Screenshot%20%287%29.png": {
     "image/png": "[encoded data removed]"
    }
   },
   "cell_type": "markdown",
   "id": "629c7d62",
   "metadata": {},
   "source": [
    "![Screenshot%20%287%29.png](attachment:Screenshot%20%287%29.png)"
   ]
  },
  {
   "cell_type": "markdown",
   "id": "8cb32cfd",
   "metadata": {},
   "source": [
    "Notice that if a number is fully divisible with no remainder, the result of the modulo call is 0. We can use this to test for even numbers, since if a number modulo 2 is equal to 0, that means it is an even number!\n"
   ]
  },
  {
   "cell_type": "markdown",
   "id": "880d2a32",
   "metadata": {},
   "source": [
    "## Example 4\n",
    "Let's print only the even numbers from that list!"
   ]
  },
  {
   "cell_type": "code",
   "execution_count": 2,
   "id": "40559f3b",
   "metadata": {},
   "outputs": [],
   "source": [
    "ls = [1,2,3,4,5,6]"
   ]
  },
  {
   "cell_type": "code",
   "execution_count": 20,
   "id": "ee6fc528",
   "metadata": {},
   "outputs": [
    {
     "name": "stdout",
     "output_type": "stream",
     "text": [
      "2\n",
      "4\n",
      "6\n"
     ]
    }
   ],
   "source": [
    "for i in ls:\n",
    "    if i % 2==0:\n",
    "        print(i)\n",
    "# here we are saying that print all the number which we divide from 2 whose remainder will be 0"
   ]
  },
  {
   "cell_type": "markdown",
   "id": "b6f4fc7c",
   "metadata": {},
   "source": [
    "here print only the odd numbers from that list!"
   ]
  },
  {
   "cell_type": "code",
   "execution_count": 25,
   "id": "af8e7f69",
   "metadata": {},
   "outputs": [
    {
     "name": "stdout",
     "output_type": "stream",
     "text": [
      "1\n",
      "3\n",
      "5\n"
     ]
    }
   ],
   "source": [
    "for i in ls:\n",
    "    if i % 2==1:\n",
    "        print(i)\n",
    "        \n",
    "# here we are saying that print all the number whose not completly divible by 2 \n",
    "# which are odd number and have a reminder of 1"
   ]
  },
  {
   "cell_type": "markdown",
   "id": "e13caaa1",
   "metadata": {},
   "source": [
    " We could have also put an <code>else</code> statement in there:"
   ]
  },
  {
   "cell_type": "code",
   "execution_count": 3,
   "id": "cba08893",
   "metadata": {},
   "outputs": [
    {
     "name": "stdout",
     "output_type": "stream",
     "text": [
      "1\n",
      "even number\n",
      "3\n",
      "even number\n",
      "5\n",
      "even number\n"
     ]
    }
   ],
   "source": [
    "for i in ls:\n",
    "    if i % 2==1:\n",
    "        print(i)\n",
    "    else :\n",
    "        print(\"even number\")"
   ]
  },
  {
   "cell_type": "code",
   "execution_count": null,
   "id": "17c7ea7f",
   "metadata": {},
   "outputs": [],
   "source": [
    "# using any type string formatting in it "
   ]
  },
  {
   "cell_type": "code",
   "execution_count": 6,
   "id": "0ebcc628",
   "metadata": {},
   "outputs": [
    {
     "name": "stdout",
     "output_type": "stream",
     "text": [
      "1\n",
      "even number 2\n",
      "3\n",
      "even number 4\n",
      "5\n",
      "even number 6\n"
     ]
    }
   ],
   "source": [
    "for i in ls:\n",
    "    if i % 2==1:\n",
    "        print(i)\n",
    "    else :\n",
    "        print(f\"even number {i}\")"
   ]
  },
  {
   "cell_type": "code",
   "execution_count": 12,
   "id": "d50c3a8e",
   "metadata": {},
   "outputs": [
    {
     "name": "stdout",
     "output_type": "stream",
     "text": [
      "odd number 1\n",
      "2\n",
      "odd number 3\n",
      "4\n",
      "odd number 5\n",
      "6\n"
     ]
    }
   ],
   "source": [
    "for i in ls:\n",
    "    if i % 2==0:\n",
    "        print(i)\n",
    "    else :\n",
    "        print(\"odd number {}\".format(i))"
   ]
  },
  {
   "cell_type": "markdown",
   "id": "d8fe0017",
   "metadata": {},
   "source": [
    "## Example 5\n",
    "Another common idea during a <code>for</code> loop is keeping some sort of running tally during multiple loops. For example, let's create a <code>for</code> loop that sums up the list:"
   ]
  },
  {
   "cell_type": "code",
   "execution_count": 27,
   "id": "eacca53c",
   "metadata": {},
   "outputs": [
    {
     "name": "stdout",
     "output_type": "stream",
     "text": [
      "10\n",
      "here ls = [1,2,3,4] which sum = 10 so here  \n",
      "0 = 0 +1+2+3+4 \n",
      "0 = 10\n",
      "print(at_zero) so now at zero = 10 \n"
     ]
    }
   ],
   "source": [
    "ls = [1,2,3,4]\n",
    "# Start sum at zero\n",
    "at_zero = 0 \n",
    "\n",
    "for num in ls:\n",
    "    at_zero = at_zero + num\n",
    "\n",
    "print(at_zero)\n",
    "print(\"here ls = [1,2,3,4] which sum = 10 so here  \\n0 = 0 +1+2+3+4 \\n0 = 10\\nprint(at_zero) so now at zero = 10 \")"
   ]
  },
  {
   "cell_type": "code",
   "execution_count": 45,
   "id": "2a769021",
   "metadata": {},
   "outputs": [
    {
     "data": {
      "text/plain": [
       "10"
      ]
     },
     "execution_count": 45,
     "metadata": {},
     "output_type": "execute_result"
    }
   ],
   "source": [
    "#or \n",
    "sum(ls)\n",
    "# very easy pisey"
   ]
  },
  {
   "cell_type": "code",
   "execution_count": 30,
   "id": "6256afed",
   "metadata": {},
   "outputs": [
    {
     "name": "stdout",
     "output_type": "stream",
     "text": [
      "11\n",
      "here \n",
      "at_one= 1 + 1 + 2 + 3+4\n",
      "at_one = at_one + 1 + 2 + 3 +4 \n"
     ]
    }
   ],
   "source": [
    "ls = [1,2,3,4]\n",
    "# let's Start sum at one\n",
    "at_one = 1 \n",
    "\n",
    "for num in ls:\n",
    "    at_one = at_one+ num\n",
    "\n",
    "print(at_one)\n",
    "\n",
    "print(\"here \\nat_one= 1 + 1 + 2 + 3+4\\nat_one = at_one + 1 + 2 + 3 +4 \")"
   ]
  },
  {
   "cell_type": "markdown",
   "id": "52c2b343",
   "metadata": {},
   "source": [
    "### also we could have implemented a <code>+=</code> to perform the addition towards the sum. For example:"
   ]
  },
  {
   "cell_type": "code",
   "execution_count": 33,
   "id": "e86396e7",
   "metadata": {},
   "outputs": [
    {
     "name": "stdout",
     "output_type": "stream",
     "text": [
      "10\n"
     ]
    }
   ],
   "source": [
    "ls = [1,2,3,4]\n",
    "# Start sum at zero\n",
    "at_zero = 0 \n",
    "\n",
    "for num in ls:\n",
    "    at_zero +=num\n",
    "\n",
    "print(at_zero) \n",
    "# this is a easy one "
   ]
  },
  {
   "cell_type": "code",
   "execution_count": 34,
   "id": "ae77d3f7",
   "metadata": {},
   "outputs": [],
   "source": [
    "#let's say we want the total sum of the list in negative integer"
   ]
  },
  {
   "cell_type": "code",
   "execution_count": 35,
   "id": "db559ae1",
   "metadata": {},
   "outputs": [
    {
     "name": "stdout",
     "output_type": "stream",
     "text": [
      "-10\n"
     ]
    }
   ],
   "source": [
    "# here just chnage += to -=\n",
    "ls = [1,2,3,4]\n",
    "# Start sum at zero\n",
    "at_zero = 0 \n",
    "\n",
    "for num in ls:\n",
    "    at_zero -=num\n",
    "\n",
    "print(at_zero) \n",
    " "
   ]
  },
  {
   "cell_type": "markdown",
   "id": "83172993",
   "metadata": {},
   "source": [
    "#### what happens when put print statement in `forloop` indentation "
   ]
  },
  {
   "cell_type": "code",
   "execution_count": 36,
   "id": "871ae52b",
   "metadata": {},
   "outputs": [
    {
     "name": "stdout",
     "output_type": "stream",
     "text": [
      "1\n",
      "3\n",
      "6\n",
      "10\n"
     ]
    }
   ],
   "source": [
    "ls = [1,2,3,4]\n",
    "# Start sum at zero\n",
    "at_zero = 0 \n",
    "\n",
    "for num in ls:\n",
    "    at_zero +=num\n",
    "\n",
    "    print(at_zero) \n",
    " # here we got a table of the sum process one by one "
   ]
  },
  {
   "cell_type": "markdown",
   "id": "c5d8c612",
   "metadata": {},
   "source": [
    "-----------------------------------------------------------------------------------------------------------------------"
   ]
  },
  {
   "cell_type": "code",
   "execution_count": null,
   "id": "35049d09",
   "metadata": {},
   "outputs": [],
   "source": [
    "#let's learn this concept with another example "
   ]
  },
  {
   "cell_type": "code",
   "execution_count": 52,
   "id": "cd2a7891",
   "metadata": {},
   "outputs": [
    {
     "name": "stdout",
     "output_type": "stream",
     "text": [
      "4.0\n"
     ]
    }
   ],
   "source": [
    "lx = [1,0.1,2,0.9] # = 4.0\n",
    "z = 0 \n",
    "for i in lx:\n",
    "    z = z + i \n",
    "print(z)"
   ]
  },
  {
   "cell_type": "markdown",
   "id": "b6b85402",
   "metadata": {},
   "source": [
    "## Example 6\n",
    "Let's now look at how a <code>for</code> loop can be used with a tuple:"
   ]
  },
  {
   "cell_type": "code",
   "execution_count": 53,
   "id": "a18d507e",
   "metadata": {},
   "outputs": [],
   "source": [
    "tup = (1,2,3)"
   ]
  },
  {
   "cell_type": "code",
   "execution_count": 55,
   "id": "da43941d",
   "metadata": {},
   "outputs": [
    {
     "name": "stdout",
     "output_type": "stream",
     "text": [
      "1\n",
      "2\n",
      "3\n"
     ]
    }
   ],
   "source": [
    "for i  in tup:\n",
    "    print(i)"
   ]
  },
  {
   "cell_type": "markdown",
   "id": "2682e9bd",
   "metadata": {},
   "source": [
    "#### Tuple unpacking in for loops"
   ]
  },
  {
   "cell_type": "code",
   "execution_count": 56,
   "id": "e61ac38a",
   "metadata": {},
   "outputs": [],
   "source": [
    "le = [(1,2),(3,4)]"
   ]
  },
  {
   "cell_type": "code",
   "execution_count": 66,
   "id": "782d4717",
   "metadata": {},
   "outputs": [
    {
     "name": "stdout",
     "output_type": "stream",
     "text": [
      "(1, 2)\n",
      "(3, 4)\n"
     ]
    }
   ],
   "source": [
    "for i in le:\n",
    "    print(i)"
   ]
  },
  {
   "cell_type": "code",
   "execution_count": 68,
   "id": "c35896d9",
   "metadata": {},
   "outputs": [
    {
     "name": "stdout",
     "output_type": "stream",
     "text": [
      "1\n",
      "2\n",
      "3\n",
      "4\n"
     ]
    }
   ],
   "source": [
    "for (x,y) in  le:\n",
    "    print(x)\n",
    "    print(y)\n",
    "    \n",
    "# here it is called tuple unpacking which mean seeing each elements of tuples one by one in kind of list "
   ]
  },
  {
   "cell_type": "code",
   "execution_count": 70,
   "id": "515b34c6",
   "metadata": {},
   "outputs": [
    {
     "name": "stdout",
     "output_type": "stream",
     "text": [
      "1\n",
      "3\n"
     ]
    }
   ],
   "source": [
    "for (x,y) in le:\n",
    "    print(x)\n",
    "# here it just print only value of x \n",
    "# x --> 1,3\n",
    "# y --> 2,4"
   ]
  },
  {
   "cell_type": "code",
   "execution_count": 71,
   "id": "3b91375f",
   "metadata": {},
   "outputs": [
    {
     "name": "stdout",
     "output_type": "stream",
     "text": [
      "1\n",
      "3\n"
     ]
    }
   ],
   "source": [
    "#or\n",
    "\n",
    "for (y,x) in le:\n",
    "    print(y)\n",
    "#the first variable (here it is y) will be going to present first elements of each tuple"
   ]
  },
  {
   "cell_type": "markdown",
   "id": "01ed0375",
   "metadata": {},
   "source": [
    "-----------------------------------------------------------------------------------------------------------------------"
   ]
  },
  {
   "cell_type": "markdown",
   "id": "198bd575",
   "metadata": {},
   "source": [
    "Let's see another example with their elements in a tuple"
   ]
  },
  {
   "cell_type": "code",
   "execution_count": 72,
   "id": "f3f97533",
   "metadata": {},
   "outputs": [],
   "source": [
    "lsz = [(1,2,3),(4,5,6)]"
   ]
  },
  {
   "cell_type": "code",
   "execution_count": 74,
   "id": "0edc92ab",
   "metadata": {},
   "outputs": [
    {
     "name": "stdout",
     "output_type": "stream",
     "text": [
      "2\n",
      "5\n"
     ]
    }
   ],
   "source": [
    "for (x,y,z) in lsz:\n",
    "    print(y)\n",
    "# here it is printing the second elements of each tuples"
   ]
  },
  {
   "cell_type": "markdown",
   "id": "15ba8fbd",
   "metadata": {},
   "source": [
    "## Example 7\n"
   ]
  },
  {
   "cell_type": "code",
   "execution_count": 1,
   "id": "0e837f27",
   "metadata": {},
   "outputs": [],
   "source": [
    "# iterate over sets "
   ]
  },
  {
   "cell_type": "code",
   "execution_count": 2,
   "id": "9469b025",
   "metadata": {},
   "outputs": [],
   "source": [
    "set1 = {1,2,3}"
   ]
  },
  {
   "cell_type": "code",
   "execution_count": 3,
   "id": "a5e3f423",
   "metadata": {},
   "outputs": [
    {
     "data": {
      "text/plain": [
       "set"
      ]
     },
     "execution_count": 3,
     "metadata": {},
     "output_type": "execute_result"
    }
   ],
   "source": [
    "type(set1)"
   ]
  },
  {
   "cell_type": "code",
   "execution_count": 4,
   "id": "4d6465b5",
   "metadata": {},
   "outputs": [
    {
     "name": "stdout",
     "output_type": "stream",
     "text": [
      "1\n",
      "2\n",
      "3\n"
     ]
    }
   ],
   "source": [
    "for i in set1:\n",
    "    print(i)"
   ]
  },
  {
   "cell_type": "code",
   "execution_count": 5,
   "id": "de4b60ca",
   "metadata": {},
   "outputs": [],
   "source": [
    "# with if statment"
   ]
  },
  {
   "cell_type": "code",
   "execution_count": 8,
   "id": "3b290262",
   "metadata": {},
   "outputs": [
    {
     "name": "stdout",
     "output_type": "stream",
     "text": [
      "1\n",
      "3\n"
     ]
    }
   ],
   "source": [
    "for i in set1:\n",
    "    if i != 2:\n",
    "        print(i)\n",
    "#here we are saying i is not equal to 2 so print the other number set"
   ]
  },
  {
   "cell_type": "markdown",
   "id": "8442ed8d",
   "metadata": {},
   "source": [
    "## Example 8"
   ]
  },
  {
   "cell_type": "code",
   "execution_count": 1,
   "id": "38ab0146",
   "metadata": {},
   "outputs": [],
   "source": [
    "d = {'k1':1,'k2':2,'k3':3}"
   ]
  },
  {
   "cell_type": "code",
   "execution_count": 3,
   "id": "5f8beb66",
   "metadata": {},
   "outputs": [
    {
     "name": "stdout",
     "output_type": "stream",
     "text": [
      "k1\n",
      "k2\n",
      "k3\n"
     ]
    }
   ],
   "source": [
    "for i in d:\n",
    "    print(i)\n",
    "# by default `forloop` iterate over each key's in dictionary "
   ]
  },
  {
   "cell_type": "code",
   "execution_count": 4,
   "id": "ef2ffaa5",
   "metadata": {},
   "outputs": [],
   "source": [
    "# let's loop over values in dictionary "
   ]
  },
  {
   "cell_type": "code",
   "execution_count": 9,
   "id": "cbf10416",
   "metadata": {},
   "outputs": [
    {
     "name": "stdout",
     "output_type": "stream",
     "text": [
      "1\n",
      "2\n",
      "3\n"
     ]
    }
   ],
   "source": [
    "for v in d.values():\n",
    "    print(v)\n",
    "    \n"
   ]
  },
  {
   "cell_type": "raw",
   "id": "dd5dcf08",
   "metadata": {},
   "source": [
    "NOTE : here we are going to use dictionary inbuilt-function called values \n",
    "    syntax=x dictionary-name.values()"
   ]
  },
  {
   "cell_type": "code",
   "execution_count": 10,
   "id": "7f105cd1",
   "metadata": {},
   "outputs": [],
   "source": [
    "# let's loop over items in dictionary"
   ]
  },
  {
   "cell_type": "code",
   "execution_count": 14,
   "id": "c3858928",
   "metadata": {},
   "outputs": [
    {
     "name": "stdout",
     "output_type": "stream",
     "text": [
      "('k1', 1)\n",
      "('k2', 2)\n",
      "('k3', 3)\n"
     ]
    }
   ],
   "source": [
    "for i in d.items():\n",
    "    print(i)"
   ]
  },
  {
   "cell_type": "markdown",
   "id": "422a22cb",
   "metadata": {},
   "source": [
    "## dictionary unpacking\n",
    "Since the .items() method supports iteration, we can perform *dictionary unpacking* to separate keys and values just as we did in the previous examples."
   ]
  },
  {
   "cell_type": "code",
   "execution_count": 9,
   "id": "fa9ed584",
   "metadata": {},
   "outputs": [],
   "source": [
    "d = {'k1':1,'k2':2,'k3':3}"
   ]
  },
  {
   "cell_type": "code",
   "execution_count": 17,
   "id": "c14b2977",
   "metadata": {},
   "outputs": [
    {
     "name": "stdout",
     "output_type": "stream",
     "text": [
      "k 1\n",
      "k 2\n",
      "k 3\n"
     ]
    }
   ],
   "source": [
    "for (key,values) in d :\n",
    "    print(key,values)\n",
    "#"
   ]
  },
  {
   "cell_type": "markdown",
   "id": "b4bdf17f",
   "metadata": {},
   "source": [
    "if you want all the items in dictionary in table /list from than use this method"
   ]
  },
  {
   "cell_type": "code",
   "execution_count": 18,
   "id": "5cab88b8",
   "metadata": {},
   "outputs": [
    {
     "name": "stdout",
     "output_type": "stream",
     "text": [
      "k\n",
      "1\n",
      "k\n",
      "2\n",
      "k\n",
      "3\n"
     ]
    }
   ],
   "source": [
    "for (key,values) in d :\n",
    "    print(key)\n",
    "    print(values)"
   ]
  },
  {
   "cell_type": "code",
   "execution_count": 12,
   "id": "d46fef69",
   "metadata": {},
   "outputs": [
    {
     "name": "stdout",
     "output_type": "stream",
     "text": [
      "worng\n",
      "2\n",
      "3\n"
     ]
    }
   ],
   "source": [
    "for i in d.values():\n",
    "    if i > 1 :\n",
    "        print(i)\n",
    "    else: \n",
    "        print(\"worng\")\n",
    "        \n",
    "        "
   ]
  },
  {
   "cell_type": "raw",
   "id": "9360e41c",
   "metadata": {},
   "source": [
    "Here we are saying print only those values which are greater than so \n",
    "d.values = 1,2,3\n",
    "here 1 is not greater than 1, so the else statement is printing wrong at the place of 1"
   ]
  },
  {
   "cell_type": "markdown",
   "id": "04c8aba3",
   "metadata": {},
   "source": [
    "# we are going to learn range, nested in for loop etc. soon"
   ]
  },
  {
   "cell_type": "code",
   "execution_count": 6,
   "id": "7e41a3e9",
   "metadata": {},
   "outputs": [],
   "source": [
    "a = 10 + 10 + 20 + 3 "
   ]
  },
  {
   "cell_type": "code",
   "execution_count": 7,
   "id": "810eaf1f",
   "metadata": {},
   "outputs": [
    {
     "ename": "TypeError",
     "evalue": "'int' object is not iterable",
     "output_type": "error",
     "traceback": [
      "\u001b[1;31m---------------------------------------------------------------------------\u001b[0m",
      "\u001b[1;31mTypeError\u001b[0m                                 Traceback (most recent call last)",
      "\u001b[1;32m<ipython-input-7-6f6a64c0c069>\u001b[0m in \u001b[0;36m<module>\u001b[1;34m\u001b[0m\n\u001b[1;32m----> 1\u001b[1;33m \u001b[1;32mfor\u001b[0m \u001b[0mi\u001b[0m \u001b[1;32min\u001b[0m \u001b[0ma\u001b[0m\u001b[1;33m:\u001b[0m\u001b[1;33m\u001b[0m\u001b[1;33m\u001b[0m\u001b[0m\n\u001b[0m\u001b[0;32m      2\u001b[0m     \u001b[0mprint\u001b[0m\u001b[1;33m(\u001b[0m\u001b[0ma\u001b[0m\u001b[1;33m)\u001b[0m\u001b[1;33m\u001b[0m\u001b[1;33m\u001b[0m\u001b[0m\n",
      "\u001b[1;31mTypeError\u001b[0m: 'int' object is not iterable"
     ]
    }
   ],
   "source": [
    "for i in a:\n",
    "    print(a)"
   ]
  },
  {
   "cell_type": "code",
   "execution_count": null,
   "id": "000dc6bd",
   "metadata": {},
   "outputs": [],
   "source": []
  }
 ],
 "metadata": {
  "kernelspec": {
   "display_name": "Python 3",
   "language": "python",
   "name": "python3"
  },
  "language_info": {
   "codemirror_mode": {
    "name": "ipython",
    "version": 3
   },
   "file_extension": ".py",
   "mimetype": "text/x-python",
   "name": "python",
   "nbconvert_exporter": "python",
   "pygments_lexer": "ipython3",
   "version": "3.8.8"
  }
 },
 "nbformat": 4,
 "nbformat_minor": 5
}
