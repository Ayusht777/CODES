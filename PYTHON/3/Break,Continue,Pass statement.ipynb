{
 "cells": [
  {
   "cell_type": "markdown",
   "id": "4290b2ad",
   "metadata": {},
   "source": [
    "# break, continue, pass\n",
    "\n",
    "We can use <code>break</code>, <code>continue</code>, and <code>pass</code> statements in our loops to add additional functionality for various cases. The three statements are defined by:\n",
    "\n",
    "    break: Breaks out of the current closest enclosing loop.\n",
    "    continue: Goes to the top of the closest enclosing loop.\n",
    "    pass: Does nothing at all.\n",
    "    \n",
    "    \n",
    "Thinking about <code>break</code> and <code>continue</code> statements, the general format of the <code>while</code> loop looks like this:\n",
    "\n",
    "    while test: \n",
    "        code statement\n",
    "        if test: \n",
    "            break\n",
    "        if test: \n",
    "            continue \n",
    "    else:\n",
    "\n",
    "<code>break</code> and <code>continue</code> statements can appear anywhere inside the loop’s body, but we will usually put them further nested in conjunction with an <code>if</code> statement to perform an action based on some condition"
   ]
  },
  {
   "attachments": {
    "flowchart-break-statement.webp": {
     "image/webp": "[encoded data removed]"
    }
   },
   "cell_type": "markdown",
   "id": "52476a22",
   "metadata": {},
   "source": [
    "# BREAK STATEMENTS\n",
    "# FLOW CHART\n",
    "\n",
    "![flowchart-break-statement.webp](attachment:flowchart-break-statement.webp)"
   ]
  },
  {
   "cell_type": "code",
   "execution_count": 2,
   "id": "1e430a12",
   "metadata": {},
   "outputs": [],
   "source": [
    "# It is Just a Simple loop \n",
    "x = 0\n"
   ]
  },
  {
   "cell_type": "code",
   "execution_count": 3,
   "id": "06421149",
   "metadata": {},
   "outputs": [
    {
     "name": "stdout",
     "output_type": "stream",
     "text": [
      "1\n",
      "2\n",
      "3\n",
      "4\n",
      "5\n"
     ]
    }
   ],
   "source": [
    "while x <= 4:\n",
    "    x+=1\n",
    "    print(x)\n",
    "    \n"
   ]
  },
  {
   "cell_type": "code",
   "execution_count": 33,
   "id": "0348af55",
   "metadata": {},
   "outputs": [],
   "source": [
    "# let's use break statement"
   ]
  },
  {
   "cell_type": "code",
   "execution_count": 37,
   "id": "1cccaea7",
   "metadata": {},
   "outputs": [
    {
     "name": "stdout",
     "output_type": "stream",
     "text": [
      "1\n"
     ]
    }
   ],
   "source": [
    "while x <= 4:\n",
    "    x+=1\n",
    "    print(x)\n",
    "    break\n"
   ]
  },
  {
   "cell_type": "raw",
   "id": "cbff48b1",
   "metadata": {},
   "source": [
    "Here Python just run the code line by line \n",
    "so we said in first line that make a while loop of  x  <= 4\n",
    "now in second line we said that add 1 in x \n",
    "and print the value of x \n",
    "so the loop gets run and want to complete it until the condition gets false, but after that firsts run we just use the break statement to stop this code "
   ]
  },
  {
   "cell_type": "code",
   "execution_count": 38,
   "id": "3ec29191",
   "metadata": {},
   "outputs": [],
   "source": [
    "# let's stop the code at particular value"
   ]
  },
  {
   "cell_type": "code",
   "execution_count": 47,
   "id": "9af2fb46",
   "metadata": {},
   "outputs": [],
   "source": [
    "x = 0"
   ]
  },
  {
   "cell_type": "code",
   "execution_count": 45,
   "id": "6f82fc44",
   "metadata": {},
   "outputs": [
    {
     "name": "stdout",
     "output_type": "stream",
     "text": [
      "1\n",
      "2\n",
      "3\n",
      "4\n"
     ]
    }
   ],
   "source": [
    "while x<6:\n",
    "    x+=1\n",
    "    print(x)\n",
    "    if x == 4:\n",
    "        break\n",
    "# here it just stop the code at no.4 "
   ]
  },
  {
   "cell_type": "code",
   "execution_count": 48,
   "id": "fbd71a35",
   "metadata": {},
   "outputs": [
    {
     "name": "stdout",
     "output_type": "stream",
     "text": [
      "1\n",
      "2\n",
      "3\n",
      "4\n",
      "5\n",
      "6\n"
     ]
    }
   ],
   "source": [
    "while x<6:\n",
    "    x+=1\n",
    "    print(x)\n",
    "# the code without if & break statement.\n",
    "    "
   ]
  },
  {
   "cell_type": "code",
   "execution_count": 50,
   "id": "7c1cdaaf",
   "metadata": {},
   "outputs": [],
   "source": [
    "#let's run the above while loop again\n",
    "while x<6:\n",
    "    x+=1\n",
    "    print(x)\n",
    "    if x == 4:\n",
    "        break\n"
   ]
  },
  {
   "cell_type": "markdown",
   "id": "353e1e96",
   "metadata": {},
   "source": [
    "So you get nothing & rerun this loop run the variable assigned code again or assigned the variable in this cell only "
   ]
  },
  {
   "cell_type": "code",
   "execution_count": 51,
   "id": "1997e7c0",
   "metadata": {},
   "outputs": [],
   "source": [
    "# let's see the another example"
   ]
  },
  {
   "cell_type": "code",
   "execution_count": 60,
   "id": "57b1f4ca",
   "metadata": {},
   "outputs": [],
   "source": [
    "x = 1"
   ]
  },
  {
   "cell_type": "code",
   "execution_count": 61,
   "id": "2e5497ff",
   "metadata": {},
   "outputs": [
    {
     "name": "stdout",
     "output_type": "stream",
     "text": [
      "2\n",
      "3\n",
      "4\n",
      "5\n"
     ]
    }
   ],
   "source": [
    "while x<=10:\n",
    "    x+=1\n",
    "    print(x)\n",
    "    if x == 5 :\n",
    "        break\n",
    "    "
   ]
  },
  {
   "cell_type": "code",
   "execution_count": 62,
   "id": "08539ea1",
   "metadata": {},
   "outputs": [],
   "source": [
    "#let's use break statement in for loop"
   ]
  },
  {
   "cell_type": "code",
   "execution_count": 25,
   "id": "e97caa5d",
   "metadata": {},
   "outputs": [],
   "source": [
    "ls =[1,3,4,5]\n",
    "#       1 3 4 5\n",
    "#index  0 1 2 3"
   ]
  },
  {
   "cell_type": "code",
   "execution_count": 24,
   "id": "972065f5",
   "metadata": {},
   "outputs": [
    {
     "name": "stdout",
     "output_type": "stream",
     "text": [
      "1\n",
      "3\n"
     ]
    }
   ],
   "source": [
    "for i in ls:\n",
    "    print(i)\n",
    "    if i == ls[1]:\n",
    "        break"
   ]
  },
  {
   "cell_type": "code",
   "execution_count": 26,
   "id": "b80f12ef",
   "metadata": {},
   "outputs": [],
   "source": [
    "# another for loop example"
   ]
  },
  {
   "cell_type": "code",
   "execution_count": 4,
   "id": "4eacf896",
   "metadata": {},
   "outputs": [],
   "source": [
    "tup = (1,2,3,4,5,6,7,8)"
   ]
  },
  {
   "cell_type": "code",
   "execution_count": 6,
   "id": "b82d00d8",
   "metadata": {},
   "outputs": [
    {
     "name": "stdout",
     "output_type": "stream",
     "text": [
      "1\n",
      "2\n",
      "3\n",
      "4\n",
      "5\n"
     ]
    }
   ],
   "source": [
    "for i in tup:\n",
    "    print(i)\n",
    "    if i == tup[4]:\n",
    "        break\n"
   ]
  },
  {
   "attachments": {
    "continue-statement-flowchart.webp": {
     "image/webp": "[encoded data removed]"
    }
   },
   "cell_type": "markdown",
   "id": "888e19d4",
   "metadata": {},
   "source": [
    "# CONTINUE STATEMENT\n",
    "# FLOW CHART \n",
    "\n",
    "![continue-statement-flowchart.webp](attachment:continue-statement-flowchart.webp)"
   ]
  },
  {
   "cell_type": "markdown",
   "id": "22028f1a",
   "metadata": {},
   "source": [
    "Continue is also a loop control statement just like the break statement. continue statement is opposite to that of break statement, instead of terminating the loop, it forces to execute the next iteration of the loop.\n",
    "As the name suggests the continue statement forces the loop to continue or execute the next iteration. When the continue statement is executed in the loop, the code inside the loop following the continue statement will be skipped and the next iteration of the loop will begin."
   ]
  },
  {
   "cell_type": "code",
   "execution_count": 7,
   "id": "26ee5824",
   "metadata": {},
   "outputs": [],
   "source": [
    "# a basic example\n"
   ]
  },
  {
   "cell_type": "code",
   "execution_count": 14,
   "id": "5157d85e",
   "metadata": {},
   "outputs": [],
   "source": [
    "a =\"ayush\"\n"
   ]
  },
  {
   "cell_type": "code",
   "execution_count": 16,
   "id": "d780bc2d",
   "metadata": {},
   "outputs": [
    {
     "name": "stdout",
     "output_type": "stream",
     "text": [
      "a\n",
      "u\n",
      "s\n",
      "h\n"
     ]
    }
   ],
   "source": [
    "for i in a:\n",
    "    if i == \"y\":\n",
    "        continue\n",
    "    print(i)\n",
    "# here i just skip the letter y in str a =\"ayush\"\n",
    "    "
   ]
  },
  {
   "cell_type": "code",
   "execution_count": 17,
   "id": "e4e0f7a9",
   "metadata": {},
   "outputs": [],
   "source": [
    "# another example"
   ]
  },
  {
   "cell_type": "code",
   "execution_count": 18,
   "id": "2879969c",
   "metadata": {},
   "outputs": [],
   "source": [
    "s = \"talesara\"\n"
   ]
  },
  {
   "cell_type": "code",
   "execution_count": 19,
   "id": "cb7a3091",
   "metadata": {},
   "outputs": [
    {
     "name": "stdout",
     "output_type": "stream",
     "text": [
      "t\n",
      "l\n",
      "e\n",
      "s\n",
      "r\n"
     ]
    }
   ],
   "source": [
    "for i in s:\n",
    "    if i == \"a\":\n",
    "        continue\n",
    "    print(i)\n",
    "# here i just skip the all \"a\" letter in string "
   ]
  },
  {
   "cell_type": "code",
   "execution_count": 25,
   "id": "86e6260a",
   "metadata": {},
   "outputs": [],
   "source": [
    "# a while loop example\n"
   ]
  },
  {
   "cell_type": "code",
   "execution_count": null,
   "id": "358c784a",
   "metadata": {},
   "outputs": [
    {
     "name": "stdout",
     "output_type": "stream",
     "text": [
      "1\n",
      "2\n",
      "3\n",
      "4\n"
     ]
    }
   ],
   "source": [
    "a = 0\n",
    "while a < 8:\n",
    "    if a == 4:\n",
    "        continue\n",
    "    a+=1\n",
    "    print(a)\n",
    "    "
   ]
  },
  {
   "cell_type": "markdown",
   "id": "9719586f",
   "metadata": {},
   "source": [
    "# `PASS` STATEMENT\n"
   ]
  },
  {
   "cell_type": "markdown",
   "id": "13b4b8fb",
   "metadata": {},
   "source": [
    "The pass statement is a null statement. But the difference between pass and comment is that comment is ignored by the interpreter whereas pass is not ignored. \n",
    "\n",
    "The pass statement is generally used as a placeholder i.e. when the user does not know what code to write. So user simply places pass at that line. Sometimes, pass is used when the user doesn’t want any code to execute. So user can simply place pass where empty code is not allowed, like in loops, function definitions, class definitions, or in if statements. So using pass statement user avoids this error."
   ]
  },
  {
   "cell_type": "code",
   "execution_count": 5,
   "id": "77f7bae9",
   "metadata": {},
   "outputs": [],
   "source": [
    "a =\"ayush\""
   ]
  },
  {
   "cell_type": "code",
   "execution_count": 7,
   "id": "089cbd9e",
   "metadata": {},
   "outputs": [
    {
     "ename": "SyntaxError",
     "evalue": "unexpected EOF while parsing (<ipython-input-7-b6ee2965efb1>, line 2)",
     "output_type": "error",
     "traceback": [
      "\u001b[1;36m  File \u001b[1;32m\"<ipython-input-7-b6ee2965efb1>\"\u001b[1;36m, line \u001b[1;32m2\u001b[0m\n\u001b[1;33m    # i want to add code later\u001b[0m\n\u001b[1;37m                               ^\u001b[0m\n\u001b[1;31mSyntaxError\u001b[0m\u001b[1;31m:\u001b[0m unexpected EOF while parsing\n"
     ]
    }
   ],
   "source": [
    "for i in a:\n",
    "    # i want to add code later "
   ]
  },
  {
   "cell_type": "code",
   "execution_count": 8,
   "id": "e4f1468b",
   "metadata": {},
   "outputs": [],
   "source": [
    "# so you get an erro here "
   ]
  },
  {
   "cell_type": "code",
   "execution_count": 9,
   "id": "528e9035",
   "metadata": {},
   "outputs": [],
   "source": [
    "for i in a:\n",
    "    # i want to add code later \n",
    "    pass"
   ]
  },
  {
   "cell_type": "code",
   "execution_count": null,
   "id": "142a5909",
   "metadata": {},
   "outputs": [],
   "source": []
  }
 ],
 "metadata": {
  "interpreter": {
   "hash": "d818f4a5b132e7f66021d3e7c19c2b7a86b89f9388f799e2d6a66075690a4386"
  },
  "kernelspec": {
   "display_name": "Python 3.10.4 64-bit",
   "language": "python",
   "name": "python3"
  },
  "language_info": {
   "codemirror_mode": {
    "name": "ipython",
    "version": 3
   },
   "file_extension": ".py",
   "mimetype": "text/x-python",
   "name": "python",
   "nbconvert_exporter": "python",
   "pygments_lexer": "ipython3",
   "version": "3.10.4"
  }
 },
 "nbformat": 4,
 "nbformat_minor": 5
}
