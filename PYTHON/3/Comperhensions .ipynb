{
 "cells": [
  {
   "cell_type": "markdown",
   "id": "bc2cf1b8",
   "metadata": {},
   "source": [
    "# Comprehensions\n"
   ]
  },
  {
   "cell_type": "markdown",
   "id": "2dec8474",
   "metadata": {},
   "source": [
    "\n",
    "*Comprehensions in Python provide us with a short and concise way to construct*\n",
    "\n",
    "*new sequences (such as lists, set, dictionary etc.) using sequences which have*\n",
    "\n",
    "*been already defined. Python supports the following 4 types of comprehensions:*\n",
    "\n",
    "**• List Comprehensions**\n",
    "\n",
    "**• Dictionary Comprehensions**\n",
    "\n",
    "**• Set Comprehensions**\n",
    "\n",
    "**• Generator Comprehensions**"
   ]
  },
  {
   "cell_type": "markdown",
   "id": "d6de398e",
   "metadata": {},
   "source": [
    "# **1.  List Comprehensions**\n"
   ]
  },
  {
   "cell_type": "markdown",
   "id": "0f5d210a",
   "metadata": {},
   "source": [
    "List comprehension is an elegant way to define and create lists based on existing lists.\n",
    "\n",
    "List comprehensions allow us to build out lists using a different notation. You can think of it as essentially a one line <code>for</code> loop built inside of brackets."
   ]
  },
  {
   "cell_type": "markdown",
   "id": "27e3892d",
   "metadata": {},
   "source": [
    "## Example 1"
   ]
  },
  {
   "cell_type": "markdown",
   "id": "c1e4eefc",
   "metadata": {},
   "source": [
    "**Let's say you want to create a list of letter of a word “animal”.than you will be going to make it manually or using for loop**"
   ]
  },
  {
   "cell_type": "code",
   "execution_count": 2,
   "id": "e305169e",
   "metadata": {},
   "outputs": [],
   "source": [
    "word = \"animal\""
   ]
  },
  {
   "cell_type": "code",
   "execution_count": 5,
   "id": "d0d4e29e",
   "metadata": {},
   "outputs": [
    {
     "data": {
      "text/plain": [
       "['a', 'n', 'i', 'm', 'a', 'l']"
      ]
     },
     "execution_count": 5,
     "metadata": {},
     "output_type": "execute_result"
    }
   ],
   "source": [
    "word_list = [\"a\",\"n\",\"i\",\"m\",\"a\",\"l\"] # the manual way or harder way\n",
    "word_list"
   ]
  },
  {
   "cell_type": "code",
   "execution_count": 6,
   "id": "181407ef",
   "metadata": {},
   "outputs": [],
   "source": [
    "# creatig using for loop"
   ]
  },
  {
   "cell_type": "code",
   "execution_count": 69,
   "id": "e7c2ef3a",
   "metadata": {},
   "outputs": [
    {
     "name": "stdout",
     "output_type": "stream",
     "text": [
      "['a', 'n', 'i', 'm', 'a', 'l']\n"
     ]
    }
   ],
   "source": [
    "ls =[]\n",
    "word =\"animal\"\n",
    "for i in word:\n",
    "    ls.append(i)\n",
    "print(ls)    "
   ]
  },
  {
   "cell_type": "code",
   "execution_count": 2,
   "id": "148a908c",
   "metadata": {},
   "outputs": [
    {
     "name": "stdout",
     "output_type": "stream",
     "text": [
      "['a']\n",
      "['a', 'n']\n",
      "['a', 'n', 'i']\n",
      "['a', 'n', 'i', 'm']\n",
      "['a', 'n', 'i', 'm', 'a']\n",
      "['a', 'n', 'i', 'm', 'a', 'l']\n"
     ]
    }
   ],
   "source": [
    "#ls.append means add one letter as element in this list \n",
    "# let's use print statement to see what is happening behind the loop\n",
    "ls =[]\n",
    "word =\"animal\"\n",
    "for i in word:\n",
    "    ls.append(i)\n",
    "    print(ls) \n"
   ]
  },
  {
   "cell_type": "code",
   "execution_count": 22,
   "id": "327aab76",
   "metadata": {},
   "outputs": [],
   "source": [
    "# let's use list comprehensions "
   ]
  },
  {
   "cell_type": "markdown",
   "id": "d848e3e2",
   "metadata": {},
   "source": [
    "syntax : `ls = [item(statement) for item in word ]`"
   ]
  },
  {
   "cell_type": "code",
   "execution_count": 24,
   "id": "6c639b5c",
   "metadata": {},
   "outputs": [],
   "source": [
    "ls = [i for i in \"ayush\"]"
   ]
  },
  {
   "cell_type": "code",
   "execution_count": 25,
   "id": "36e64237",
   "metadata": {},
   "outputs": [
    {
     "data": {
      "text/plain": [
       "['a', 'y', 'u', 's', 'h']"
      ]
     },
     "execution_count": 25,
     "metadata": {},
     "output_type": "execute_result"
    }
   ],
   "source": [
    "ls"
   ]
  },
  {
   "cell_type": "markdown",
   "id": "6e7aa2c7",
   "metadata": {},
   "source": [
    "# or (with for loop)"
   ]
  },
  {
   "cell_type": "code",
   "execution_count": 27,
   "id": "456ca561",
   "metadata": {},
   "outputs": [],
   "source": [
    "ls = []\n",
    "for i in \"ayush\":\n",
    "    ls.append(i)"
   ]
  },
  {
   "cell_type": "code",
   "execution_count": 28,
   "id": "9435faa7",
   "metadata": {},
   "outputs": [
    {
     "name": "stdout",
     "output_type": "stream",
     "text": [
      "['a', 'y', 'u', 's', 'h']\n"
     ]
    }
   ],
   "source": [
    "print(ls)"
   ]
  },
  {
   "cell_type": "markdown",
   "id": "65311e5f",
   "metadata": {},
   "source": [
    "-----------------------------------------------------------------------------------------------------------------------"
   ]
  },
  {
   "cell_type": "markdown",
   "id": "3a6d95ab",
   "metadata": {},
   "source": [
    "## let's create a number list "
   ]
  },
  {
   "cell_type": "code",
   "execution_count": 37,
   "id": "64614fd6",
   "metadata": {},
   "outputs": [
    {
     "name": "stdout",
     "output_type": "stream",
     "text": [
      "[0, 1, 2, 3, 4]\n"
     ]
    }
   ],
   "source": [
    "num_ls = list(range(0,5))\n",
    "print(num_ls)\n"
   ]
  },
  {
   "cell_type": "markdown",
   "id": "b0481674",
   "metadata": {},
   "source": [
    "# or (with for loop)"
   ]
  },
  {
   "cell_type": "code",
   "execution_count": 40,
   "id": "ecc5edcd",
   "metadata": {},
   "outputs": [],
   "source": [
    "num = []\n",
    "for i in range(0,5):\n",
    "    num.append(i)"
   ]
  },
  {
   "cell_type": "code",
   "execution_count": 41,
   "id": "544446c4",
   "metadata": {},
   "outputs": [
    {
     "name": "stdout",
     "output_type": "stream",
     "text": [
      "[0, 1, 2, 3, 4]\n"
     ]
    }
   ],
   "source": [
    "print(num)"
   ]
  },
  {
   "cell_type": "markdown",
   "id": "531fa6c0",
   "metadata": {},
   "source": [
    "# or (with list comperhesions)"
   ]
  },
  {
   "cell_type": "code",
   "execution_count": 1,
   "id": "9c43e800",
   "metadata": {},
   "outputs": [],
   "source": [
    "num =[i for i in range(0,5)]"
   ]
  },
  {
   "cell_type": "code",
   "execution_count": 2,
   "id": "49e6b2ca",
   "metadata": {},
   "outputs": [
    {
     "data": {
      "text/plain": [
       "[0, 1, 2, 3, 4]"
      ]
     },
     "execution_count": 2,
     "metadata": {},
     "output_type": "execute_result"
    }
   ],
   "source": [
    "num"
   ]
  },
  {
   "cell_type": "markdown",
   "id": "339ea50c",
   "metadata": {},
   "source": [
    "This is the basic idea of a list comprehension. If you're familiar with mathematical notation this format should feel familiar for example: x^2 : x in { 0,1,2...10 } \n",
    "\n",
    "\n",
    "## Example 2"
   ]
  },
  {
   "cell_type": "code",
   "execution_count": 8,
   "id": "dc58b96a",
   "metadata": {},
   "outputs": [],
   "source": [
    "# Square numbers in range and turn into list\n",
    "squares = [i**2 for i in  range (0,11)]"
   ]
  },
  {
   "cell_type": "code",
   "execution_count": 9,
   "id": "361bd6ec",
   "metadata": {},
   "outputs": [
    {
     "data": {
      "text/plain": [
       "[0, 1, 4, 9, 16, 25, 36, 49, 64, 81, 100]"
      ]
     },
     "execution_count": 9,
     "metadata": {},
     "output_type": "execute_result"
    }
   ],
   "source": [
    "squares"
   ]
  },
  {
   "cell_type": "code",
   "execution_count": 10,
   "id": "db1b4ec7",
   "metadata": {},
   "outputs": [],
   "source": [
    "# cube numbers in range and turn into list"
   ]
  },
  {
   "cell_type": "code",
   "execution_count": 11,
   "id": "c0b14e1b",
   "metadata": {},
   "outputs": [],
   "source": [
    "cube =[i**3 for i in range(0,11)]"
   ]
  },
  {
   "cell_type": "code",
   "execution_count": 12,
   "id": "0460b387",
   "metadata": {},
   "outputs": [
    {
     "data": {
      "text/plain": [
       "[0, 1, 8, 27, 64, 125, 216, 343, 512, 729, 1000]"
      ]
     },
     "execution_count": 12,
     "metadata": {},
     "output_type": "execute_result"
    }
   ],
   "source": [
    "cube"
   ]
  },
  {
   "cell_type": "code",
   "execution_count": 13,
   "id": "9f27c633",
   "metadata": {},
   "outputs": [],
   "source": [
    "# create a table of 2 from range"
   ]
  },
  {
   "cell_type": "code",
   "execution_count": 18,
   "id": "0cabe9a7",
   "metadata": {},
   "outputs": [],
   "source": [
    "table = [i*2 for i in range(1,6)]"
   ]
  },
  {
   "cell_type": "code",
   "execution_count": 19,
   "id": "8f547edb",
   "metadata": {},
   "outputs": [
    {
     "data": {
      "text/plain": [
       "[2, 4, 6, 8, 10]"
      ]
     },
     "execution_count": 19,
     "metadata": {},
     "output_type": "execute_result"
    }
   ],
   "source": [
    "table #  at 2*5 "
   ]
  },
  {
   "cell_type": "markdown",
   "id": "72e55a88",
   "metadata": {},
   "source": [
    "## Example 3\n",
    "Let's see how to add in <code>if</code> statements:\n",
    "\n",
    "syntax :`[i for i in iterable_object if condition]`\n"
   ]
  },
  {
   "cell_type": "code",
   "execution_count": 23,
   "id": "c5f95f07",
   "metadata": {},
   "outputs": [],
   "source": [
    "# Check for even numbers in a range\n",
    "ls  = [i for i in range(0,15) if i%2==0]"
   ]
  },
  {
   "cell_type": "code",
   "execution_count": 24,
   "id": "abca8842",
   "metadata": {},
   "outputs": [
    {
     "data": {
      "text/plain": [
       "[0, 2, 4, 6, 8, 10, 12, 14]"
      ]
     },
     "execution_count": 24,
     "metadata": {},
     "output_type": "execute_result"
    }
   ],
   "source": [
    "ls"
   ]
  },
  {
   "cell_type": "code",
   "execution_count": 25,
   "id": "c2c49daf",
   "metadata": {},
   "outputs": [],
   "source": [
    "# Check for odd numbers in a range"
   ]
  },
  {
   "cell_type": "code",
   "execution_count": 26,
   "id": "98b86d36",
   "metadata": {},
   "outputs": [],
   "source": [
    "ls =[i for i in range(0,11) if i%2 == 1]"
   ]
  },
  {
   "cell_type": "code",
   "execution_count": 27,
   "id": "2d17f696",
   "metadata": {},
   "outputs": [
    {
     "data": {
      "text/plain": [
       "[1, 3, 5, 7, 9]"
      ]
     },
     "execution_count": 27,
     "metadata": {},
     "output_type": "execute_result"
    }
   ],
   "source": [
    "ls"
   ]
  },
  {
   "cell_type": "code",
   "execution_count": 35,
   "id": "67ec94d5",
   "metadata": {},
   "outputs": [],
   "source": [
    "# let's use  double if statement"
   ]
  },
  {
   "cell_type": "markdown",
   "id": "229a0b3f",
   "metadata": {},
   "source": [
    "a list of number which divide with 2 & 3 one by one  are not zero"
   ]
  },
  {
   "cell_type": "code",
   "execution_count": 41,
   "id": "eec31aca",
   "metadata": {},
   "outputs": [],
   "source": [
    "num = []\n",
    "for i in range(20):\n",
    "    if i%2==0:\n",
    "        if i%3==0:\n",
    "            num.append(i)\n",
    "        "
   ]
  },
  {
   "cell_type": "code",
   "execution_count": 42,
   "id": "77e5b6f9",
   "metadata": {},
   "outputs": [
    {
     "name": "stdout",
     "output_type": "stream",
     "text": [
      "[0, 6, 12, 18]\n"
     ]
    }
   ],
   "source": [
    "print(num)"
   ]
  },
  {
   "cell_type": "raw",
   "id": "f65b9719",
   "metadata": {},
   "source": [
    "Explanation\n",
    " a list of number 0->20\n",
    "    i = 0 \n",
    "    than i / 2 == 0\n",
    "         0 / 2 == 0 [true]\n",
    "        next if statement \n",
    "        i/3 == 0\n",
    "        0/3 == 0[true]\n",
    "        \n",
    "        num.append (i) # means add value of i in num\n",
    "    now i == 1 \n",
    "       1/2 == 0 [false]\n",
    "        so it's going to stop here and going to check value of i again\n",
    "    now i == 2\n",
    "       2/2 ==0 [true]\n",
    "       next if statement \n",
    "       2/3 ==0 [false]\n",
    "        continue loop i == 4....20\n",
    "        "
   ]
  },
  {
   "cell_type": "code",
   "execution_count": 43,
   "id": "0165f222",
   "metadata": {},
   "outputs": [],
   "source": [
    "# doing these with list comperhensions\n",
    "num = [i for i in range(20) if i%2==0 if i%3==0]"
   ]
  },
  {
   "cell_type": "code",
   "execution_count": 44,
   "id": "f13e8022",
   "metadata": {},
   "outputs": [
    {
     "data": {
      "text/plain": [
       "[0, 6, 12, 18]"
      ]
     },
     "execution_count": 44,
     "metadata": {},
     "output_type": "execute_result"
    }
   ],
   "source": [
    "num"
   ]
  },
  {
   "cell_type": "markdown",
   "id": "2c1c78d1",
   "metadata": {},
   "source": [
    "## Example 4\n",
    "Let's see how to add in <code>if</code> & <code>else</code>  statements:"
   ]
  },
  {
   "cell_type": "markdown",
   "id": "aee1ebca",
   "metadata": {},
   "source": [
    "Syntax : `[i if condition else statemnet for i in iterable_object]`\n"
   ]
  },
  {
   "cell_type": "code",
   "execution_count": 45,
   "id": "bdc7aa7a",
   "metadata": {},
   "outputs": [],
   "source": [
    "# make a list of number divisible by 2 and which are not divisible than put a string odd"
   ]
  },
  {
   "cell_type": "code",
   "execution_count": 57,
   "id": "7d02b56d",
   "metadata": {},
   "outputs": [
    {
     "name": "stdout",
     "output_type": "stream",
     "text": [
      "[0, 'odd', 2, 'odd', 4]\n"
     ]
    }
   ],
   "source": [
    "two = []\n",
    "for i in range(0,5):\n",
    "    if i%2==0:\n",
    "        two.append(i)\n",
    "    else:\n",
    "        two.append(\"odd\")\n",
    "print(two)"
   ]
  },
  {
   "cell_type": "code",
   "execution_count": null,
   "id": "052e5705",
   "metadata": {},
   "outputs": [],
   "source": [
    "# with list comperhensions"
   ]
  },
  {
   "cell_type": "code",
   "execution_count": 55,
   "id": "32ec760d",
   "metadata": {},
   "outputs": [],
   "source": [
    "two = [i if i%2==0 else \"odd\" for i in range (5) ]"
   ]
  },
  {
   "cell_type": "code",
   "execution_count": 62,
   "id": "7b196192",
   "metadata": {},
   "outputs": [
    {
     "data": {
      "text/plain": [
       "[0, 'odd', 2, 'odd', 4]"
      ]
     },
     "execution_count": 62,
     "metadata": {},
     "output_type": "execute_result"
    }
   ],
   "source": [
    "two"
   ]
  },
  {
   "cell_type": "code",
   "execution_count": 66,
   "id": "f8ce76f0",
   "metadata": {},
   "outputs": [],
   "source": [
    "# what happens when you put else and if condition at last"
   ]
  },
  {
   "cell_type": "code",
   "execution_count": 68,
   "id": "d98d18f1",
   "metadata": {},
   "outputs": [
    {
     "ename": "SyntaxError",
     "evalue": "invalid syntax (<ipython-input-68-e618b085cc04>, line 1)",
     "output_type": "error",
     "traceback": [
      "\u001b[1;36m  File \u001b[1;32m\"<ipython-input-68-e618b085cc04>\"\u001b[1;36m, line \u001b[1;32m1\u001b[0m\n\u001b[1;33m    two = [i for i in range (21) if i%2==0 else \"odd\"]\u001b[0m\n\u001b[1;37m                                           ^\u001b[0m\n\u001b[1;31mSyntaxError\u001b[0m\u001b[1;31m:\u001b[0m invalid syntax\n"
     ]
    }
   ],
   "source": [
    "two = [i for i in range (21) if i%2==0 else \"odd\"]\n"
   ]
  },
  {
   "cell_type": "raw",
   "id": "9582e663",
   "metadata": {},
   "source": [
    "Because in python list comprehension run from last why because the last code of the list comprehension is the first code of  for loop\n",
    "and \n",
    "first i == 0/1/2/... than if and else condition will run"
   ]
  },
  {
   "cell_type": "code",
   "execution_count": null,
   "id": "aafd2e7f",
   "metadata": {},
   "outputs": [],
   "source": [
    "# a random list of number convert it into divisible of 2"
   ]
  },
  {
   "cell_type": "code",
   "execution_count": 114,
   "id": "298ff41a",
   "metadata": {},
   "outputs": [],
   "source": [
    "ls = [1,2,3,4,65,7,6,78,65]"
   ]
  },
  {
   "cell_type": "code",
   "execution_count": 118,
   "id": "bc44921f",
   "metadata": {},
   "outputs": [
    {
     "name": "stdout",
     "output_type": "stream",
     "text": [
      "['x', 'x', 4, 'x', 'x', 6, 78, 'x']\n"
     ]
    }
   ],
   "source": [
    "le =[]\n",
    "for i in ls:\n",
    "    if i%2==0:\n",
    "        if i >=3:\n",
    "            le.append(i)\n",
    "    else:\n",
    "        le.append(\"x\")\n",
    "           \n",
    "print(le)\n",
    "      "
   ]
  },
  {
   "cell_type": "markdown",
   "id": "0c5a498b",
   "metadata": {},
   "source": [
    "## Example 5\n",
    "Can also do more complicated arithmetic:"
   ]
  },
  {
   "cell_type": "code",
   "execution_count": 127,
   "id": "245066ad",
   "metadata": {},
   "outputs": [],
   "source": [
    "# convert meters into cm \n",
    "meters = [1,9,2,5,3]\n",
    "cm = [ f\"{100*i} cm\" for i in meters ]"
   ]
  },
  {
   "cell_type": "code",
   "execution_count": 128,
   "id": "2ff2b88a",
   "metadata": {},
   "outputs": [
    {
     "data": {
      "text/plain": [
       "['100 cm', '900 cm', '200 cm', '500 cm', '300 cm']"
      ]
     },
     "execution_count": 128,
     "metadata": {},
     "output_type": "execute_result"
    }
   ],
   "source": [
    "cm"
   ]
  },
  {
   "cell_type": "code",
   "execution_count": 137,
   "id": "c1023130",
   "metadata": {},
   "outputs": [],
   "source": [
    "# convert grams into kilograms\n",
    "gram =[200,55,15,999]\n",
    "kg =[f\"{i/1000} kg\" for i in  gram]\n"
   ]
  },
  {
   "cell_type": "code",
   "execution_count": 138,
   "id": "3f243ffa",
   "metadata": {},
   "outputs": [
    {
     "name": "stdout",
     "output_type": "stream",
     "text": [
      "['0.2 kg', '0.055 kg', '0.015 kg', '0.999 kg']\n"
     ]
    }
   ],
   "source": [
    "print(kg)"
   ]
  },
  {
   "cell_type": "code",
   "execution_count": 143,
   "id": "a4a6ea83",
   "metadata": {},
   "outputs": [
    {
     "data": {
      "text/plain": [
       "[68.0, 66.2, 140.0, 86.0]"
      ]
     },
     "execution_count": 143,
     "metadata": {},
     "output_type": "execute_result"
    }
   ],
   "source": [
    "# Convert Celsius to Fahrenheit\n",
    "celsius = [20,19,60,30]\n",
    "\n",
    "fahrenheit = [(9/5*temp + 32) for temp in celsius ]\n",
    "\n",
    "fahrenheit"
   ]
  },
  {
   "cell_type": "markdown",
   "id": "2579e329",
   "metadata": {},
   "source": [
    "## Example 6\n",
    "We can also perform nested list comprehensions, for example:"
   ]
  },
  {
   "cell_type": "raw",
   "id": "46ef21cf",
   "metadata": {},
   "source": [
    "syntax : nested_list =[[i for i in range (y)]for j in range (x)]\n",
    "        [x,[y]]\n",
    "x --> outer loop\n",
    "y --> inner loop"
   ]
  },
  {
   "cell_type": "code",
   "execution_count": 7,
   "id": "66104091",
   "metadata": {},
   "outputs": [],
   "source": [
    "# let's say we want to create this list \n",
    "#lsx = [[1,2],[1,2],[1,2]]"
   ]
  },
  {
   "cell_type": "code",
   "execution_count": 4,
   "id": "d84db3ab",
   "metadata": {},
   "outputs": [],
   "source": [
    "lsx = [[i for i in range (1,3)]for j in range (0,3)]"
   ]
  },
  {
   "cell_type": "code",
   "execution_count": 5,
   "id": "bdb787bd",
   "metadata": {},
   "outputs": [
    {
     "data": {
      "text/plain": [
       "[[1, 2], [1, 2], [1, 2]]"
      ]
     },
     "execution_count": 5,
     "metadata": {},
     "output_type": "execute_result"
    }
   ],
   "source": [
    "lsx"
   ]
  },
  {
   "cell_type": "code",
   "execution_count": 8,
   "id": "be87fcb7",
   "metadata": {},
   "outputs": [],
   "source": [
    "# now from for loop"
   ]
  },
  {
   "cell_type": "code",
   "execution_count": 29,
   "id": "7c5a01ac",
   "metadata": {},
   "outputs": [],
   "source": [
    "lsx =[]\n",
    "for j in range(0,3):\n",
    "    lsx.append([1,2])\n",
    "    "
   ]
  },
  {
   "cell_type": "code",
   "execution_count": 30,
   "id": "75cc6c92",
   "metadata": {},
   "outputs": [
    {
     "data": {
      "text/plain": [
       "[[1, 2], [1, 2], [1, 2]]"
      ]
     },
     "execution_count": 30,
     "metadata": {},
     "output_type": "execute_result"
    }
   ],
   "source": [
    "lsx"
   ]
  },
  {
   "cell_type": "markdown",
   "id": "082f3679",
   "metadata": {},
   "source": [
    "note : do not use this method if you get confused.\n",
    "       or some times it make a nested loop so confusing "
   ]
  },
  {
   "cell_type": "markdown",
   "id": "c6adc87a",
   "metadata": {},
   "source": [
    "# **2.  Dictionary Comprehensions**\n"
   ]
  },
  {
   "cell_type": "markdown",
   "id": "2e134901",
   "metadata": {},
   "source": [
    "Dictionary Comprehension can be super helpful in creating new dictionaries from existing dictionaries and iterables."
   ]
  },
  {
   "cell_type": "code",
   "execution_count": 1,
   "id": "48aa6403",
   "metadata": {},
   "outputs": [],
   "source": [
    "# before learning dictionary comprehension, we have gone to revise iterate through dictionary"
   ]
  },
  {
   "cell_type": "code",
   "execution_count": 3,
   "id": "3e0a298c",
   "metadata": {},
   "outputs": [],
   "source": [
    "# basic example"
   ]
  },
  {
   "cell_type": "code",
   "execution_count": 34,
   "id": "cead811b",
   "metadata": {},
   "outputs": [],
   "source": [
    "d = {'k1':1,'k2':2,'k3':3}"
   ]
  },
  {
   "cell_type": "code",
   "execution_count": 40,
   "id": "3a406a95",
   "metadata": {},
   "outputs": [
    {
     "name": "stdout",
     "output_type": "stream",
     "text": [
      "('k1', 1)\n",
      "('k2', 2)\n",
      "('k3', 3)\n"
     ]
    }
   ],
   "source": [
    "for i in d.items():\n",
    "    print(i)\n",
    "#printing all dictionary items "
   ]
  },
  {
   "cell_type": "code",
   "execution_count": 39,
   "id": "81270e0c",
   "metadata": {},
   "outputs": [
    {
     "name": "stdout",
     "output_type": "stream",
     "text": [
      "k1\n",
      "k2\n",
      "k3\n"
     ]
    }
   ],
   "source": [
    "for i in d.keys():\n",
    "    print(i)\n",
    "# printing all keys in dictionary    "
   ]
  },
  {
   "cell_type": "code",
   "execution_count": 30,
   "id": "51bfcfe2",
   "metadata": {},
   "outputs": [
    {
     "name": "stdout",
     "output_type": "stream",
     "text": [
      "1\n",
      "2\n",
      "3\n"
     ]
    }
   ],
   "source": [
    "for i in d.values():\n",
    "    print(i)"
   ]
  },
  {
   "cell_type": "markdown",
   "id": "1ba80eb1",
   "metadata": {},
   "source": [
    "## dictionary unpacking\n"
   ]
  },
  {
   "cell_type": "code",
   "execution_count": 41,
   "id": "e51ee255",
   "metadata": {},
   "outputs": [
    {
     "name": "stdout",
     "output_type": "stream",
     "text": [
      "k1 1\n",
      "k2 2\n",
      "k3 3\n"
     ]
    }
   ],
   "source": [
    "for x,y in d.items():\n",
    "    print(x,y)"
   ]
  },
  {
   "cell_type": "markdown",
   "id": "5164c31e",
   "metadata": {},
   "source": [
    "**If you use this approach along with a small trick, then you can process the keys and values of any dictionary.** \n",
    "\n",
    "**The trick consists of using the indexing operator [ ] with the dictionary and its keys to get access to the values:**"
   ]
  },
  {
   "cell_type": "raw",
   "id": "779bfc28",
   "metadata": {},
   "source": [
    "syntax :\n",
    "    for i in dic:\n",
    "        print(i,\"symbol\",dic[i])"
   ]
  },
  {
   "cell_type": "code",
   "execution_count": 48,
   "id": "eb6a891d",
   "metadata": {},
   "outputs": [
    {
     "name": "stdout",
     "output_type": "stream",
     "text": [
      "k1 -- 1\n",
      "k2 -- 2\n",
      "k3 -- 3\n"
     ]
    }
   ],
   "source": [
    "for i in d:\n",
    "    print(i,\"--\",d[i])"
   ]
  },
  {
   "cell_type": "code",
   "execution_count": 54,
   "id": "ccd83c3f",
   "metadata": {},
   "outputs": [
    {
     "name": "stdout",
     "output_type": "stream",
     "text": [
      "k1 <<<-->>> 1\n",
      "k2 <<<-->>> 2\n",
      "k3 <<<-->>> 3\n"
     ]
    }
   ],
   "source": [
    "for i in d:\n",
    "    print(i,\"<<<-->>>\",d[i])"
   ]
  },
  {
   "cell_type": "markdown",
   "id": "7e38a526",
   "metadata": {},
   "source": [
    "----------------------------------------------------------------------------------------------------------------------"
   ]
  },
  {
   "cell_type": "markdown",
   "id": "bb0aa22b",
   "metadata": {},
   "source": [
    "# EXAMPLE 1"
   ]
  },
  {
   "cell_type": "code",
   "execution_count": 59,
   "id": "51516fa0",
   "metadata": {},
   "outputs": [],
   "source": [
    "# let's create a dictionary from for loop"
   ]
  },
  {
   "cell_type": "code",
   "execution_count": 62,
   "id": "9e49c446",
   "metadata": {},
   "outputs": [
    {
     "name": "stdout",
     "output_type": "stream",
     "text": [
      "{1: 6, 2: 7, 3: 8, 4: 9, 5: 10}\n"
     ]
    }
   ],
   "source": [
    "de = {}\n",
    "for i in range(1,6):\n",
    "    de[i] = i+5\n",
    "print(de)"
   ]
  },
  {
   "cell_type": "raw",
   "id": "98bdc6e2",
   "metadata": {},
   "source": [
    "de[i] \n",
    "which means assigne the value of key at this name/mapping"
   ]
  },
  {
   "cell_type": "raw",
   "id": "1ec2201f",
   "metadata": {},
   "source": [
    "frist create a empty dictionary \n",
    "than use for loop statement\n",
    "for i in range(1,6):\n",
    "    de[i] = i + 5\n",
    "    when i = 1 \n",
    "    de[1] =  1+5\n",
    "    key   =  value\n",
    "    print(de)\n",
    "    means add this key and value in dictionary \n",
    "    runing loop agian an now i = 2\n",
    "    so-on"
   ]
  },
  {
   "cell_type": "code",
   "execution_count": 63,
   "id": "3af8193b",
   "metadata": {},
   "outputs": [],
   "source": [
    "# let's create dictionary using dictionary comperhension"
   ]
  },
  {
   "cell_type": "markdown",
   "id": "1357b1be",
   "metadata": {},
   "source": [
    "syntax : `dic = {key:value for i in iterable}`"
   ]
  },
  {
   "cell_type": "code",
   "execution_count": 70,
   "id": "fd283c50",
   "metadata": {},
   "outputs": [],
   "source": [
    "dic = {i:i*5 for i in range(1,3)}"
   ]
  },
  {
   "cell_type": "code",
   "execution_count": 71,
   "id": "70746f10",
   "metadata": {},
   "outputs": [
    {
     "data": {
      "text/plain": [
       "{1: 5, 2: 10}"
      ]
     },
     "execution_count": 71,
     "metadata": {},
     "output_type": "execute_result"
    }
   ],
   "source": [
    "dic"
   ]
  },
  {
   "cell_type": "code",
   "execution_count": 72,
   "id": "2d392bbb",
   "metadata": {},
   "outputs": [],
   "source": [
    "#what happen when you change key variable to different from values"
   ]
  },
  {
   "cell_type": "code",
   "execution_count": 7,
   "id": "3cf81db9",
   "metadata": {},
   "outputs": [
    {
     "ename": "NameError",
     "evalue": "name 'z' is not defined",
     "output_type": "error",
     "traceback": [
      "\u001b[1;31m---------------------------------------------------------------------------\u001b[0m",
      "\u001b[1;31mNameError\u001b[0m                                 Traceback (most recent call last)",
      "\u001b[1;32m<ipython-input-7-6543f34c22a0>\u001b[0m in \u001b[0;36m<module>\u001b[1;34m\u001b[0m\n\u001b[1;32m----> 1\u001b[1;33m \u001b[0mdix\u001b[0m \u001b[1;33m=\u001b[0m \u001b[1;33m{\u001b[0m\u001b[0mz\u001b[0m\u001b[1;33m:\u001b[0m\u001b[0mi\u001b[0m\u001b[1;33m*\u001b[0m\u001b[1;36m2\u001b[0m \u001b[1;32mfor\u001b[0m \u001b[0mi\u001b[0m \u001b[1;32min\u001b[0m \u001b[0mrange\u001b[0m\u001b[1;33m(\u001b[0m\u001b[1;36m1\u001b[0m\u001b[1;33m,\u001b[0m\u001b[1;36m5\u001b[0m\u001b[1;33m)\u001b[0m\u001b[1;33m}\u001b[0m\u001b[1;33m\u001b[0m\u001b[1;33m\u001b[0m\u001b[0m\n\u001b[0m",
      "\u001b[1;32m<ipython-input-7-6543f34c22a0>\u001b[0m in \u001b[0;36m<dictcomp>\u001b[1;34m(.0)\u001b[0m\n\u001b[1;32m----> 1\u001b[1;33m \u001b[0mdix\u001b[0m \u001b[1;33m=\u001b[0m \u001b[1;33m{\u001b[0m\u001b[0mz\u001b[0m\u001b[1;33m:\u001b[0m\u001b[0mi\u001b[0m\u001b[1;33m*\u001b[0m\u001b[1;36m2\u001b[0m \u001b[1;32mfor\u001b[0m \u001b[0mi\u001b[0m \u001b[1;32min\u001b[0m \u001b[0mrange\u001b[0m\u001b[1;33m(\u001b[0m\u001b[1;36m1\u001b[0m\u001b[1;33m,\u001b[0m\u001b[1;36m5\u001b[0m\u001b[1;33m)\u001b[0m\u001b[1;33m}\u001b[0m\u001b[1;33m\u001b[0m\u001b[1;33m\u001b[0m\u001b[0m\n\u001b[0m",
      "\u001b[1;31mNameError\u001b[0m: name 'z' is not defined"
     ]
    }
   ],
   "source": [
    "dix = {z:i*2 for i in range(1,5)}"
   ]
  },
  {
   "cell_type": "raw",
   "id": "7461a121",
   "metadata": {},
   "source": [
    "The key was not define basically when you defined x:i range(1,5) here the loop going to put x = 1,2,3..5 in i only \n",
    "which means the x will be 1-5 but in dictionary key's cannot be repeated, so it gives error\n"
   ]
  },
  {
   "cell_type": "code",
   "execution_count": 2,
   "id": "67d2c28e",
   "metadata": {},
   "outputs": [],
   "source": [
    "# what happen when we change value variable i to another"
   ]
  },
  {
   "cell_type": "code",
   "execution_count": 5,
   "id": "6641369d",
   "metadata": {},
   "outputs": [
    {
     "ename": "NameError",
     "evalue": "name 'x' is not defined",
     "output_type": "error",
     "traceback": [
      "\u001b[1;31m---------------------------------------------------------------------------\u001b[0m",
      "\u001b[1;31mNameError\u001b[0m                                 Traceback (most recent call last)",
      "\u001b[1;32m<ipython-input-5-bf482a4a4cce>\u001b[0m in \u001b[0;36m<module>\u001b[1;34m\u001b[0m\n\u001b[1;32m----> 1\u001b[1;33m \u001b[0mdix\u001b[0m \u001b[1;33m=\u001b[0m \u001b[1;33m{\u001b[0m\u001b[0mi\u001b[0m\u001b[1;33m:\u001b[0m\u001b[0mx\u001b[0m\u001b[1;33m*\u001b[0m\u001b[1;36m2\u001b[0m \u001b[1;32mfor\u001b[0m \u001b[0mi\u001b[0m \u001b[1;32min\u001b[0m \u001b[0mrange\u001b[0m\u001b[1;33m(\u001b[0m\u001b[1;36m1\u001b[0m\u001b[1;33m,\u001b[0m\u001b[1;36m5\u001b[0m\u001b[1;33m)\u001b[0m\u001b[1;33m}\u001b[0m\u001b[1;33m\u001b[0m\u001b[1;33m\u001b[0m\u001b[0m\n\u001b[0m",
      "\u001b[1;32m<ipython-input-5-bf482a4a4cce>\u001b[0m in \u001b[0;36m<dictcomp>\u001b[1;34m(.0)\u001b[0m\n\u001b[1;32m----> 1\u001b[1;33m \u001b[0mdix\u001b[0m \u001b[1;33m=\u001b[0m \u001b[1;33m{\u001b[0m\u001b[0mi\u001b[0m\u001b[1;33m:\u001b[0m\u001b[0mx\u001b[0m\u001b[1;33m*\u001b[0m\u001b[1;36m2\u001b[0m \u001b[1;32mfor\u001b[0m \u001b[0mi\u001b[0m \u001b[1;32min\u001b[0m \u001b[0mrange\u001b[0m\u001b[1;33m(\u001b[0m\u001b[1;36m1\u001b[0m\u001b[1;33m,\u001b[0m\u001b[1;36m5\u001b[0m\u001b[1;33m)\u001b[0m\u001b[1;33m}\u001b[0m\u001b[1;33m\u001b[0m\u001b[1;33m\u001b[0m\u001b[0m\n\u001b[0m",
      "\u001b[1;31mNameError\u001b[0m: name 'x' is not defined"
     ]
    }
   ],
   "source": [
    "dix = {i:x*2 for i in range(1,5)}"
   ]
  },
  {
   "cell_type": "code",
   "execution_count": null,
   "id": "2f89669a",
   "metadata": {},
   "outputs": [],
   "source": [
    "# same error as pervious one "
   ]
  },
  {
   "cell_type": "markdown",
   "id": "d579a100",
   "metadata": {},
   "source": [
    "NOTE : YOU SHOULD ASSIGN SAME VARIABLE TO KEY AND VALUE"
   ]
  },
  {
   "cell_type": "markdown",
   "id": "537913c1",
   "metadata": {},
   "source": [
    "# EXAMPLE 2 \n",
    "\n",
    "Let's see how to add in <code>if</code> statements:\n",
    "\n",
    "syntax :`[i:i for i in iterable_object if condition]`\n"
   ]
  },
  {
   "cell_type": "code",
   "execution_count": 8,
   "id": "61f1d3c4",
   "metadata": {},
   "outputs": [],
   "source": [
    "# create a dictionary with even keys & odd values"
   ]
  },
  {
   "cell_type": "code",
   "execution_count": 9,
   "id": "094f5aaf",
   "metadata": {},
   "outputs": [],
   "source": [
    "ed = {}"
   ]
  },
  {
   "cell_type": "code",
   "execution_count": 14,
   "id": "a242b173",
   "metadata": {},
   "outputs": [
    {
     "name": "stdout",
     "output_type": "stream",
     "text": [
      "{2: 1, 4: 3}\n"
     ]
    }
   ],
   "source": [
    "for i in range(1,5):\n",
    "    if i%2==0:\n",
    "        ed[i] = i-1\n",
    "print(ed)\n",
    "        "
   ]
  },
  {
   "cell_type": "raw",
   "id": "3fcc0aef",
   "metadata": {},
   "source": [
    "Here if statement saying that i/2 = 0 then only add value to dictionary\n",
    "where ed[i] = i-1 (1 skipped by if condition  )\n",
    "      ed[2] = 2-1 -->1"
   ]
  },
  {
   "cell_type": "code",
   "execution_count": 16,
   "id": "e57a50ae",
   "metadata": {},
   "outputs": [],
   "source": [
    "# create a dictionary with even keys & values"
   ]
  },
  {
   "cell_type": "code",
   "execution_count": 17,
   "id": "0c1de2de",
   "metadata": {},
   "outputs": [],
   "source": [
    "ekv ={}"
   ]
  },
  {
   "cell_type": "code",
   "execution_count": 18,
   "id": "c65714f3",
   "metadata": {},
   "outputs": [
    {
     "name": "stdout",
     "output_type": "stream",
     "text": [
      "{2: 2, 4: 4}\n"
     ]
    }
   ],
   "source": [
    "for i in range(1,5):\n",
    "    if i%2==0:\n",
    "        ekv[i] = i \n",
    "print(ekv)"
   ]
  },
  {
   "cell_type": "raw",
   "id": "1927a450",
   "metadata": {},
   "source": [
    "here ekv[2] = 2 "
   ]
  },
  {
   "cell_type": "code",
   "execution_count": 19,
   "id": "60a8b537",
   "metadata": {},
   "outputs": [],
   "source": [
    "# now creating above dictionary from dictionary comprehension"
   ]
  },
  {
   "cell_type": "code",
   "execution_count": 20,
   "id": "02d46120",
   "metadata": {},
   "outputs": [],
   "source": [
    "de = {i:i-1 for i in range(1,5) if i%2==0}"
   ]
  },
  {
   "cell_type": "code",
   "execution_count": 21,
   "id": "4a11865f",
   "metadata": {},
   "outputs": [
    {
     "data": {
      "text/plain": [
       "{2: 1, 4: 3}"
      ]
     },
     "execution_count": 21,
     "metadata": {},
     "output_type": "execute_result"
    }
   ],
   "source": [
    "de  # the even key and odd values"
   ]
  },
  {
   "cell_type": "code",
   "execution_count": 22,
   "id": "86138616",
   "metadata": {},
   "outputs": [],
   "source": [
    "do = {i:i for i in range(1,5) if i%2==0}"
   ]
  },
  {
   "cell_type": "code",
   "execution_count": 23,
   "id": "41c24b01",
   "metadata": {},
   "outputs": [
    {
     "data": {
      "text/plain": [
       "{2: 2, 4: 4}"
      ]
     },
     "execution_count": 23,
     "metadata": {},
     "output_type": "execute_result"
    }
   ],
   "source": [
    "do"
   ]
  },
  {
   "cell_type": "markdown",
   "id": "46b13d0b",
   "metadata": {},
   "source": [
    "### Nested if statement"
   ]
  },
  {
   "cell_type": "code",
   "execution_count": null,
   "id": "989f0d80",
   "metadata": {},
   "outputs": [],
   "source": [
    "# dictionary with strictly even and odd keys"
   ]
  },
  {
   "cell_type": "code",
   "execution_count": 24,
   "id": "4b49b032",
   "metadata": {},
   "outputs": [],
   "source": [
    "dx ={}"
   ]
  },
  {
   "cell_type": "code",
   "execution_count": 30,
   "id": "9bd3bfef",
   "metadata": {},
   "outputs": [
    {
     "name": "stdout",
     "output_type": "stream",
     "text": [
      "{0: -1, 6: 5}\n"
     ]
    }
   ],
   "source": [
    "for i in range(10):\n",
    "    if i%2==0: # % means remaninder\n",
    "        if i%3==0:\n",
    "            dx[i] = i-1 # this statemnet chnages value\n",
    "print(dx)"
   ]
  },
  {
   "cell_type": "raw",
   "id": "b00bc9f3",
   "metadata": {},
   "source": [
    "When we 0/2 = 0 & 0/3 = 0 the remainder is 0 \n",
    "so 6/2 = 0 and 6/3 = 0  the remainder is 0 \n",
    "if you use 6/2 in the cell than it will give you the quotient"
   ]
  },
  {
   "attachments": {
    "Screenshot%20%2813%29.png": {
     "image/png": "[encoded data removed]"
    }
   },
   "cell_type": "markdown",
   "id": "aa207688",
   "metadata": {},
   "source": [
    "![Screenshot%20%2813%29.png](attachment:Screenshot%20%2813%29.png)"
   ]
  },
  {
   "cell_type": "code",
   "execution_count": 40,
   "id": "e9d1fea8",
   "metadata": {},
   "outputs": [],
   "source": [
    "# now creating above dictionary from dictionary comprehension"
   ]
  },
  {
   "cell_type": "code",
   "execution_count": 41,
   "id": "3cfa8535",
   "metadata": {},
   "outputs": [],
   "source": [
    "de ={i:i for i in range(11) if i%2 == 0 if i%3==0}"
   ]
  },
  {
   "cell_type": "code",
   "execution_count": 42,
   "id": "72a181f0",
   "metadata": {},
   "outputs": [
    {
     "data": {
      "text/plain": [
       "{0: 0, 6: 6}"
      ]
     },
     "execution_count": 42,
     "metadata": {},
     "output_type": "execute_result"
    }
   ],
   "source": [
    "de"
   ]
  },
  {
   "cell_type": "markdown",
   "id": "82017404",
   "metadata": {},
   "source": [
    "# EXAMPLE 3\n",
    "\n",
    "Let's see how to add in <code>if</code> & <code> else<code> statements:\n",
    "\n",
    "`syntax`\n",
    "        \n",
    "        `[i:(i if condition else condition) for i in iterable_object ]`\n",
    "            \n",
    "                              or\n",
    "        `[i:i if condition else condition for i in iterable_object ]`\n"
   ]
  },
  {
   "cell_type": "code",
   "execution_count": 43,
   "id": "c30ddd15",
   "metadata": {},
   "outputs": [],
   "source": [
    "dx = {}"
   ]
  },
  {
   "cell_type": "code",
   "execution_count": 47,
   "id": "2f726dce",
   "metadata": {},
   "outputs": [
    {
     "name": "stdout",
     "output_type": "stream",
     "text": [
      "{0: 0, 1: ' x ', 2: 2, 3: ' x ', 4: 4, 5: ' x ', 6: 6}\n"
     ]
    }
   ],
   "source": [
    "for i in range(0,7):\n",
    "    if i%2==0: # even numbers \n",
    "        dx[i] = i \n",
    "    else:\n",
    "        dx[i] =\" x \"\n",
    "print(dx)"
   ]
  },
  {
   "cell_type": "code",
   "execution_count": null,
   "id": "9f09ed07",
   "metadata": {},
   "outputs": [],
   "source": [
    "# with dictionary comprehension"
   ]
  },
  {
   "cell_type": "code",
   "execution_count": 50,
   "id": "7404cc28",
   "metadata": {},
   "outputs": [],
   "source": [
    "dzx = {i:(i if i%2==0 else \"x\" ) for i in range(0,7)  }"
   ]
  },
  {
   "cell_type": "code",
   "execution_count": 51,
   "id": "21c5b7ca",
   "metadata": {},
   "outputs": [
    {
     "data": {
      "text/plain": [
       "{0: 0, 1: 'x', 2: 2, 3: 'x', 4: 4, 5: 'x', 6: 6}"
      ]
     },
     "execution_count": 51,
     "metadata": {},
     "output_type": "execute_result"
    }
   ],
   "source": [
    "dzx"
   ]
  },
  {
   "cell_type": "code",
   "execution_count": 52,
   "id": "d12172b9",
   "metadata": {},
   "outputs": [],
   "source": [
    "dzx = {i:i if i%2==0 else \"x\"  for i in range(0,7)  }"
   ]
  },
  {
   "cell_type": "code",
   "execution_count": 53,
   "id": "5ba09dc8",
   "metadata": {},
   "outputs": [
    {
     "data": {
      "text/plain": [
       "{0: 0, 1: 'x', 2: 2, 3: 'x', 4: 4, 5: 'x', 6: 6}"
      ]
     },
     "execution_count": 53,
     "metadata": {},
     "output_type": "execute_result"
    }
   ],
   "source": [
    "dzx"
   ]
  },
  {
   "cell_type": "markdown",
   "id": "7ab06694",
   "metadata": {},
   "source": [
    "# EXAMPLE 4 \n",
    "\n",
    "converting a tuple-list into a dictionary \n",
    "\n",
    "NOTE : THE TUPLE-LIST MUST BE OF TWO TUPLES IN A PAIR\n"
   ]
  },
  {
   "cell_type": "markdown",
   "id": "3652c3e2",
   "metadata": {},
   "source": [
    "SYNTAX -> DIC = `{k:v for k,v in list_name}`\n",
    "\n",
    " **here you can also use x,y or else variable in it rather than k,v**"
   ]
  },
  {
   "cell_type": "code",
   "execution_count": 58,
   "id": "95611ac5",
   "metadata": {},
   "outputs": [],
   "source": [
    "tup_ls = [(7,\"ayush\"),(6,\"jay\")]"
   ]
  },
  {
   "cell_type": "code",
   "execution_count": 62,
   "id": "f46e01ad",
   "metadata": {},
   "outputs": [
    {
     "data": {
      "text/plain": [
       "list"
      ]
     },
     "execution_count": 62,
     "metadata": {},
     "output_type": "execute_result"
    }
   ],
   "source": [
    "type(tup_ls)"
   ]
  },
  {
   "cell_type": "code",
   "execution_count": 63,
   "id": "5a48ebca",
   "metadata": {},
   "outputs": [
    {
     "data": {
      "text/plain": [
       "tuple"
      ]
     },
     "execution_count": 63,
     "metadata": {},
     "output_type": "execute_result"
    }
   ],
   "source": [
    "type(tup_ls[0])"
   ]
  },
  {
   "cell_type": "code",
   "execution_count": 65,
   "id": "aa907216",
   "metadata": {},
   "outputs": [],
   "source": [
    "dtl = {k:v for k,v in tup_ls}"
   ]
  },
  {
   "cell_type": "code",
   "execution_count": 70,
   "id": "b4ca19cc",
   "metadata": {},
   "outputs": [],
   "source": [
    " dtl = sorted(dtl.items())"
   ]
  },
  {
   "cell_type": "code",
   "execution_count": 71,
   "id": "ee7f4dfa",
   "metadata": {},
   "outputs": [
    {
     "data": {
      "text/plain": [
       "[(6, 'jay'), (7, 'ayush')]"
      ]
     },
     "execution_count": 71,
     "metadata": {},
     "output_type": "execute_result"
    }
   ],
   "source": [
    "dtl"
   ]
  },
  {
   "cell_type": "markdown",
   "id": "103b6316",
   "metadata": {},
   "source": [
    "# EXAMPLE 5\n",
    "\n",
    "converting two list into a dictionary \n",
    "\n",
    "syntax :\n",
    "         `dic = {k:v for k,v in zip(list1,list2)}`\n",
    "\n",
    "NOTE : YOU SHOULD USE ONLY TWO LIST ONLY AND PUT THEM IN ORDER IN ZIP ().\n",
    "\n",
    " FIRST ONE WILL BE KEYS\n",
    " SECOND ONE WILL BE VALUES\n"
   ]
  },
  {
   "cell_type": "code",
   "execution_count": 1,
   "id": "b8b1cb81",
   "metadata": {},
   "outputs": [],
   "source": [
    "ls1 =[1,2,3]"
   ]
  },
  {
   "cell_type": "code",
   "execution_count": 2,
   "id": "bf30a722",
   "metadata": {},
   "outputs": [],
   "source": [
    "ls2 = [\"a\",\"b\",\"c\"]"
   ]
  },
  {
   "cell_type": "code",
   "execution_count": 3,
   "id": "abb23b5f",
   "metadata": {},
   "outputs": [],
   "source": [
    "dsde = {k:v for k,v in zip (ls1,ls2)}"
   ]
  },
  {
   "cell_type": "code",
   "execution_count": 4,
   "id": "f4f09556",
   "metadata": {},
   "outputs": [
    {
     "data": {
      "text/plain": [
       "{1: 'a', 2: 'b', 3: 'c'}"
      ]
     },
     "execution_count": 4,
     "metadata": {},
     "output_type": "execute_result"
    }
   ],
   "source": [
    "dsde"
   ]
  },
  {
   "cell_type": "code",
   "execution_count": 6,
   "id": "5cf3256c",
   "metadata": {},
   "outputs": [
    {
     "data": {
      "text/plain": [
       "dict"
      ]
     },
     "execution_count": 6,
     "metadata": {},
     "output_type": "execute_result"
    }
   ],
   "source": [
    "type(dsde)"
   ]
  },
  {
   "cell_type": "markdown",
   "id": "22a507c0",
   "metadata": {},
   "source": [
    "# **Now from for loop**"
   ]
  },
  {
   "cell_type": "markdown",
   "id": "b38988d7",
   "metadata": {},
   "source": [
    "*There are two ways to do it*"
   ]
  },
  {
   "cell_type": "markdown",
   "id": "c4f04340",
   "metadata": {},
   "source": [
    "### METHOD 1"
   ]
  },
  {
   "cell_type": "raw",
   "id": "5799cdd8",
   "metadata": {},
   "source": [
    "The most straightforward way of achieving list to dictionary conversion is by looping it. Although this method is the most inefficient and lengthy, it is a good start, especially if you are a beginner and want to comprehend more about basic programming syntax."
   ]
  },
  {
   "cell_type": "raw",
   "id": "7e885486",
   "metadata": {},
   "source": [
    "Before looping, initialize an empty dictionary. Afterward, proceed to the conversion, which will require a nested loop; the outer loop will iterate the key list, while the inner loop iterates the value list."
   ]
  },
  {
   "cell_type": "code",
   "execution_count": 126,
   "id": "cc19c7a6",
   "metadata": {},
   "outputs": [
    {
     "name": "stdout",
     "output_type": "stream",
     "text": [
      "{'name': 'Johnny', 'age': '27', 'address': 'New York'}\n"
     ]
    }
   ],
   "source": [
    "# general form\n",
    "key_list = ['name', 'age', 'address']\n",
    "value_list = ['Johnny', '27', 'New York']\n",
    "\n",
    "dict_from_list = {}\n",
    "for key in key_list:\n",
    "    for value in value_list:\n",
    "        dict_from_list[key] = value\n",
    "        value_list.remove(value)\n",
    "        break --> use this when the two list are uneven\n",
    "\n",
    "print(dict_from_list)"
   ]
  },
  {
   "cell_type": "raw",
   "id": "04ff65fc",
   "metadata": {},
   "source": [
    "Each time a key-value pair is formed, it removes the value element from the list so that the next key will be assigned the next value. After removal, break the inner loop to proceed to the next key.\n",
    "\n",
    "Basically when dict_from_list[key] = value, so this code will add one element from a value list \n",
    "        Then the value_list.remove(value). We use this line of code because if the both list (1,2) have elements more than one or more so whenever loop run again after the break statement \n",
    "there will be a new  value to the new key. \n",
    "If you have only one element in each list, then you can skip\n",
    ".remove code \n",
    "\n",
    "# let's see with examples"
   ]
  },
  {
   "cell_type": "code",
   "execution_count": 119,
   "id": "d8f05e45",
   "metadata": {},
   "outputs": [],
   "source": [
    "ls1 =[1,2,3]\n",
    "ls2 = [\"a\",\"b\",\"c\"]\n",
    "dx = {}"
   ]
  },
  {
   "cell_type": "code",
   "execution_count": 127,
   "id": "46dfdb5c",
   "metadata": {},
   "outputs": [
    {
     "name": "stdout",
     "output_type": "stream",
     "text": [
      "{1: 'a', 2: 'b', 3: 'c'}\n"
     ]
    }
   ],
   "source": [
    "for k in ls1:\n",
    "    for v in ls2:\n",
    "        dx[k] = v\n",
    "        ls2.remove(v)\n",
    "        break\n",
    "print(dx)        "
   ]
  },
  {
   "cell_type": "code",
   "execution_count": 128,
   "id": "9a45e2f0",
   "metadata": {},
   "outputs": [],
   "source": [
    "# 2 list with only one element in each"
   ]
  },
  {
   "cell_type": "code",
   "execution_count": 134,
   "id": "2b14af39",
   "metadata": {},
   "outputs": [],
   "source": [
    "o = [1]\n",
    "t = [\"x\"]\n",
    "ot ={}\n"
   ]
  },
  {
   "cell_type": "code",
   "execution_count": 135,
   "id": "e02fd087",
   "metadata": {},
   "outputs": [
    {
     "name": "stdout",
     "output_type": "stream",
     "text": [
      "{1: 'x'}\n"
     ]
    }
   ],
   "source": [
    "for k in o:\n",
    "    for v in t:\n",
    "        ot[k]=v\n",
    "print(ot)"
   ]
  },
  {
   "cell_type": "markdown",
   "id": "824efb11",
   "metadata": {},
   "source": [
    "the above code was without break and .remove() statement "
   ]
  },
  {
   "cell_type": "code",
   "execution_count": 137,
   "id": "34eea23e",
   "metadata": {},
   "outputs": [],
   "source": [
    "# two list with 2 elments in each and without break and .remove"
   ]
  },
  {
   "cell_type": "code",
   "execution_count": 138,
   "id": "e253b5db",
   "metadata": {},
   "outputs": [],
   "source": [
    "o = [1,2]\n",
    "t = [\"x\",\"z\"]\n",
    "ot ={}"
   ]
  },
  {
   "cell_type": "code",
   "execution_count": 139,
   "id": "10e8bf4f",
   "metadata": {},
   "outputs": [
    {
     "name": "stdout",
     "output_type": "stream",
     "text": [
      "{1: 'z', 2: 'z'}\n"
     ]
    }
   ],
   "source": [
    "for k in o:\n",
    "    for v in t:\n",
    "        ot[k]=v\n",
    "print(ot)"
   ]
  },
  {
   "cell_type": "markdown",
   "id": "6fe12bde",
   "metadata": {},
   "source": [
    "here the key's are changeing but not the value"
   ]
  },
  {
   "cell_type": "code",
   "execution_count": 141,
   "id": "26bbf315",
   "metadata": {},
   "outputs": [],
   "source": [
    "# let's use .remove() in this code"
   ]
  },
  {
   "cell_type": "code",
   "execution_count": 2,
   "id": "1a5dfffa",
   "metadata": {},
   "outputs": [],
   "source": [
    "o = [1,2]\n",
    "t = [\"x\",\"z\"]\n",
    "ot ={}"
   ]
  },
  {
   "cell_type": "code",
   "execution_count": 4,
   "id": "4db942db",
   "metadata": {},
   "outputs": [
    {
     "name": "stdout",
     "output_type": "stream",
     "text": [
      "{1: 'x', 2: 'z'}\n"
     ]
    }
   ],
   "source": [
    "for k in o:\n",
    "    for v in t:\n",
    "        ot[k]=v\n",
    "        t.remove(v)\n",
    "print(ot)"
   ]
  },
  {
   "cell_type": "code",
   "execution_count": 13,
   "id": "0612ad4b",
   "metadata": {},
   "outputs": [],
   "source": [
    "# let's use uneven list "
   ]
  },
  {
   "cell_type": "code",
   "execution_count": 14,
   "id": "260a3623",
   "metadata": {},
   "outputs": [],
   "source": [
    "t = [1,2,5,7,8,9]\n",
    "o = [\"x\",\"z\",\"a\",\"s\",\"d\"]\n",
    "ot ={}"
   ]
  },
  {
   "cell_type": "code",
   "execution_count": 15,
   "id": "119f6b10",
   "metadata": {},
   "outputs": [
    {
     "name": "stdout",
     "output_type": "stream",
     "text": [
      "{'x': 8, 'z': 9, 'a': 7}\n"
     ]
    }
   ],
   "source": [
    "for k in o:\n",
    "    for v in t:\n",
    "        ot[k]=v\n",
    "        t.remove(v)\n",
    "        \n",
    "print(ot)"
   ]
  },
  {
   "cell_type": "markdown",
   "id": "22eb2642",
   "metadata": {},
   "source": [
    "so here you will get random dictionary from list "
   ]
  },
  {
   "cell_type": "code",
   "execution_count": null,
   "id": "b03f0bc1",
   "metadata": {},
   "outputs": [],
   "source": [
    "# to this issue you have to use break statement in the code"
   ]
  },
  {
   "cell_type": "code",
   "execution_count": 16,
   "id": "cf7a1b53",
   "metadata": {},
   "outputs": [],
   "source": [
    "t = [1,2,5,7,8,9]\n",
    "o = [\"x\",\"z\",\"a\",\"s\",\"d\"]\n",
    "ot ={}"
   ]
  },
  {
   "cell_type": "code",
   "execution_count": 17,
   "id": "2cadfea0",
   "metadata": {},
   "outputs": [
    {
     "name": "stdout",
     "output_type": "stream",
     "text": [
      "{'x': 1, 'z': 2, 'a': 5, 's': 7, 'd': 8}\n"
     ]
    }
   ],
   "source": [
    "for k in o:\n",
    "    for v in t:\n",
    "        ot[k]=v\n",
    "        t.remove(v)\n",
    "        break\n",
    "        \n",
    "print(ot)"
   ]
  },
  {
   "cell_type": "code",
   "execution_count": null,
   "id": "b3ab795a",
   "metadata": {},
   "outputs": [],
   "source": [
    "# that what we want .here the for loop get's break when the list 1 and 2 get's uneven"
   ]
  },
  {
   "cell_type": "markdown",
   "id": "bdc9368c",
   "metadata": {},
   "source": [
    "### METHOD 2"
   ]
  },
  {
   "cell_type": "markdown",
   "id": "f2972922",
   "metadata": {},
   "source": [
    "Another solution using a loop is to use range() to utilize the index to get the key and value pairs"
   ]
  },
  {
   "cell_type": "code",
   "execution_count": 25,
   "id": "b32f4024",
   "metadata": {},
   "outputs": [
    {
     "name": "stdout",
     "output_type": "stream",
     "text": [
      "{'name': 'Johnny', 'age': '27', 'address': 'New York'}\n"
     ]
    }
   ],
   "source": [
    "key_list = ['name', 'age', 'address']\n",
    "value_list = ['Johnny', '27', 'New York',]\n",
    "\n",
    "dict_from_list = {}\n",
    "for i in range(len(key_list)):\n",
    "    dict_from_list[key_list[i]] = value_list[i]\n",
    "    \n",
    "\n",
    "print(dict_from_list)"
   ]
  },
  {
   "cell_type": "code",
   "execution_count": 35,
   "id": "a854685a",
   "metadata": {},
   "outputs": [],
   "source": [
    "ls1 = [1,2,3]\n",
    "ls2 = [\"z\",\"x\",\"c\"]"
   ]
  },
  {
   "cell_type": "code",
   "execution_count": 32,
   "id": "a94c10ce",
   "metadata": {},
   "outputs": [],
   "source": [
    "dw = {}"
   ]
  },
  {
   "cell_type": "code",
   "execution_count": 29,
   "id": "f850078e",
   "metadata": {},
   "outputs": [
    {
     "data": {
      "text/plain": [
       "3"
      ]
     },
     "execution_count": 29,
     "metadata": {},
     "output_type": "execute_result"
    }
   ],
   "source": [
    "len(ls1)"
   ]
  },
  {
   "cell_type": "code",
   "execution_count": 33,
   "id": "7720555c",
   "metadata": {},
   "outputs": [
    {
     "data": {
      "text/plain": [
       "dict"
      ]
     },
     "execution_count": 33,
     "metadata": {},
     "output_type": "execute_result"
    }
   ],
   "source": [
    "type(dw)"
   ]
  },
  {
   "cell_type": "code",
   "execution_count": 36,
   "id": "5b35eec1",
   "metadata": {},
   "outputs": [
    {
     "name": "stdout",
     "output_type": "stream",
     "text": [
      "{1: 'z', 2: 'x', 3: 'c'}\n"
     ]
    }
   ],
   "source": [
    "for i in range(len(ls1)):\n",
    "    dw[ls1[i]] = ls2[i]\n",
    "print(dw)"
   ]
  },
  {
   "cell_type": "code",
   "execution_count": null,
   "id": "80f52f75",
   "metadata": {},
   "outputs": [],
   "source": [
    "# this  is the easy one "
   ]
  },
  {
   "cell_type": "markdown",
   "id": "736971f0",
   "metadata": {},
   "source": [
    "# EXAMPLE 6"
   ]
  },
  {
   "cell_type": "markdown",
   "id": "9ec98b26",
   "metadata": {},
   "source": [
    "A logical example \n",
    "\n",
    "**let's suppose you have shop of shoes which have diffrent variety and have diffrent price.**\n",
    "\n",
    "**so the festive season are comming and you and to decrease their price by 10% or (100 rs )?**"
   ]
  },
  {
   "cell_type": "code",
   "execution_count": 37,
   "id": "370b9a5b",
   "metadata": {},
   "outputs": [],
   "source": [
    "shoes_shop = {\"campus\":999,\"apl\":799,\"combit\":699}"
   ]
  },
  {
   "cell_type": "code",
   "execution_count": 68,
   "id": "d3fff035",
   "metadata": {},
   "outputs": [],
   "source": [
    "discount ={brand:price-price/100*10  for brand,price in shoes_shop.items()}"
   ]
  },
  {
   "cell_type": "code",
   "execution_count": 66,
   "id": "8bd66341",
   "metadata": {},
   "outputs": [
    {
     "data": {
      "text/plain": [
       "{'campus': 899.1, 'apl': 719.1, 'combit': 629.1}"
      ]
     },
     "execution_count": 66,
     "metadata": {},
     "output_type": "execute_result"
    }
   ],
   "source": [
    "discount"
   ]
  },
  {
   "cell_type": "code",
   "execution_count": 69,
   "id": "b8f7fc39",
   "metadata": {},
   "outputs": [],
   "source": [
    "# useing for loop"
   ]
  },
  {
   "cell_type": "code",
   "execution_count": 3,
   "id": "07f86b8b",
   "metadata": {},
   "outputs": [],
   "source": [
    "shoes_shop = {\"campus\":999,\"apl\":799,\"combit\":699}"
   ]
  },
  {
   "cell_type": "code",
   "execution_count": 2,
   "id": "c92bd174",
   "metadata": {},
   "outputs": [],
   "source": [
    "n_price = {}\n"
   ]
  },
  {
   "cell_type": "code",
   "execution_count": 72,
   "id": "56ed82dd",
   "metadata": {},
   "outputs": [
    {
     "name": "stdout",
     "output_type": "stream",
     "text": [
      "{'campus': 899.1, 'apl': 719.1, 'combit': 629.1}\n"
     ]
    }
   ],
   "source": [
    "for b,p in shoes_shop.items():\n",
    "    n_price[b] = p-p/100*10\n",
    "print(n_price)"
   ]
  },
  {
   "cell_type": "code",
   "execution_count": 10,
   "id": "f7f7fd46",
   "metadata": {},
   "outputs": [
    {
     "name": "stdout",
     "output_type": "stream",
     "text": [
      "{'campus': 899.1, 'apl': 719.1, 'combit': 629.1}\n"
     ]
    }
   ],
   "source": [
    "for b,p in shoes_shop.items():\n",
    "    n_price[b] = p-p/100*10\n",
    "print(n_price)\n"
   ]
  },
  {
   "cell_type": "markdown",
   "id": "f94acd1c",
   "metadata": {},
   "source": [
    "# **3.  Set Comprehensions**\n"
   ]
  },
  {
   "cell_type": "markdown",
   "id": "983c6c72",
   "metadata": {},
   "source": [
    "Set comprehensions are pretty similar to list comprehensions. The only difference between them is that set comprehensions use curly brackets { }"
   ]
  },
  {
   "cell_type": "markdown",
   "id": "235d6083",
   "metadata": {},
   "source": [
    "synatx :\n",
    "    new_set = `{expression for i in iterbale_items }`"
   ]
  },
  {
   "cell_type": "code",
   "execution_count": 1,
   "id": "547856c9",
   "metadata": {},
   "outputs": [],
   "source": [
    "s = {1,2,3,4,5,6,7,8,9,10}"
   ]
  },
  {
   "cell_type": "code",
   "execution_count": 2,
   "id": "6b4e0886",
   "metadata": {},
   "outputs": [],
   "source": [
    "new_s = set()"
   ]
  },
  {
   "cell_type": "code",
   "execution_count": 3,
   "id": "d1ed8a95",
   "metadata": {},
   "outputs": [
    {
     "name": "stdout",
     "output_type": "stream",
     "text": [
      "{2, 4, 6, 8, 10, 12, 14, 16, 18, 20}\n",
      "<class 'set'>\n"
     ]
    }
   ],
   "source": [
    "for i in s:\n",
    "    new_s.add(i*2)\n",
    "print(new_s)\n",
    "print(type(new_s))"
   ]
  },
  {
   "cell_type": "raw",
   "id": "f52135b6",
   "metadata": {},
   "source": [
    "Here I have put a double value from previous set [s] into new_s \n",
    "now using for loop \n",
    "new_s.add(i*2)---> means when i*2 = 1*2 = 2 then add this value in new set \n",
    "print(new_s)--> to see all elements in it\n",
    "print(type(new_s)) ---> to check data type"
   ]
  },
  {
   "cell_type": "code",
   "execution_count": null,
   "id": "7e1a66d3",
   "metadata": {},
   "outputs": [],
   "source": [
    "# with set comperhension "
   ]
  },
  {
   "cell_type": "code",
   "execution_count": 4,
   "id": "2bbfff2c",
   "metadata": {},
   "outputs": [],
   "source": [
    "ns = {i*2 for i in s}"
   ]
  },
  {
   "cell_type": "code",
   "execution_count": 5,
   "id": "94676a4e",
   "metadata": {},
   "outputs": [
    {
     "data": {
      "text/plain": [
       "{2, 4, 6, 8, 10, 12, 14, 16, 18, 20}"
      ]
     },
     "execution_count": 5,
     "metadata": {},
     "output_type": "execute_result"
    }
   ],
   "source": [
    "ns"
   ]
  },
  {
   "cell_type": "code",
   "execution_count": 6,
   "id": "c813617c",
   "metadata": {},
   "outputs": [
    {
     "data": {
      "text/plain": [
       "set"
      ]
     },
     "execution_count": 6,
     "metadata": {},
     "output_type": "execute_result"
    }
   ],
   "source": [
    "type(ns)"
   ]
  },
  {
   "cell_type": "code",
   "execution_count": null,
   "id": "141c202d",
   "metadata": {},
   "outputs": [],
   "source": [
    "# Now create a new set from range function and have the double value of num list from 0-10"
   ]
  },
  {
   "cell_type": "code",
   "execution_count": 12,
   "id": "777bbbc0",
   "metadata": {},
   "outputs": [],
   "source": [
    "tn = set()\n"
   ]
  },
  {
   "cell_type": "code",
   "execution_count": 13,
   "id": "2befacf3",
   "metadata": {},
   "outputs": [
    {
     "name": "stdout",
     "output_type": "stream",
     "text": [
      "{0, 2, 4, 6, 8, 10, 12, 14, 16, 18, 20}\n"
     ]
    }
   ],
   "source": [
    "for i in range(0,11):\n",
    "    tn.add(i*2)\n",
    "print(tn)"
   ]
  },
  {
   "cell_type": "code",
   "execution_count": null,
   "id": "3c443930",
   "metadata": {},
   "outputs": [],
   "source": [
    "# with set comperhension "
   ]
  },
  {
   "cell_type": "code",
   "execution_count": 14,
   "id": "59fadfed",
   "metadata": {},
   "outputs": [],
   "source": [
    "tn = {i*2 for i in range (0,11)}"
   ]
  },
  {
   "cell_type": "code",
   "execution_count": 15,
   "id": "bf62e2c0",
   "metadata": {},
   "outputs": [
    {
     "data": {
      "text/plain": [
       "{0, 2, 4, 6, 8, 10, 12, 14, 16, 18, 20}"
      ]
     },
     "execution_count": 15,
     "metadata": {},
     "output_type": "execute_result"
    }
   ],
   "source": [
    "tn"
   ]
  },
  {
   "cell_type": "markdown",
   "id": "eb3c6f44",
   "metadata": {},
   "source": [
    "# WITH IF STATEMENT"
   ]
  },
  {
   "cell_type": "markdown",
   "id": "a488bc01",
   "metadata": {},
   "source": [
    "Suppose we want to create an output set which contains only the even numbers "
   ]
  },
  {
   "cell_type": "code",
   "execution_count": 17,
   "id": "162a4198",
   "metadata": {},
   "outputs": [],
   "source": [
    "en = set()"
   ]
  },
  {
   "cell_type": "code",
   "execution_count": 18,
   "id": "55e12c34",
   "metadata": {},
   "outputs": [
    {
     "name": "stdout",
     "output_type": "stream",
     "text": [
      "{0, 2, 4, 6, 8, 10}\n"
     ]
    }
   ],
   "source": [
    "for i in range(11):\n",
    "    if i%2==0:\n",
    "        en.add(i)\n",
    "print(en)"
   ]
  },
  {
   "cell_type": "code",
   "execution_count": 19,
   "id": "8ca8f9e3",
   "metadata": {},
   "outputs": [],
   "source": [
    "#  with set comperhension"
   ]
  },
  {
   "cell_type": "code",
   "execution_count": 20,
   "id": "5d7f1827",
   "metadata": {},
   "outputs": [],
   "source": [
    "en ={i for i in range(11) if i%2==0}"
   ]
  },
  {
   "cell_type": "code",
   "execution_count": 21,
   "id": "47e8d389",
   "metadata": {},
   "outputs": [
    {
     "data": {
      "text/plain": [
       "{0, 2, 4, 6, 8, 10}"
      ]
     },
     "execution_count": 21,
     "metadata": {},
     "output_type": "execute_result"
    }
   ],
   "source": [
    "en"
   ]
  },
  {
   "cell_type": "markdown",
   "id": "a5b45c08",
   "metadata": {},
   "source": [
    "### with Nested if statement"
   ]
  },
  {
   "cell_type": "code",
   "execution_count": 24,
   "id": "4ecc3a1d",
   "metadata": {},
   "outputs": [],
   "source": [
    "eii =set()"
   ]
  },
  {
   "cell_type": "code",
   "execution_count": 25,
   "id": "78dfd0f8",
   "metadata": {},
   "outputs": [
    {
     "name": "stdout",
     "output_type": "stream",
     "text": [
      "{0, 6}\n"
     ]
    }
   ],
   "source": [
    "for i in range(11):\n",
    "    if i%2==0:\n",
    "        if i%3==0:\n",
    "            eii.add(i)\n",
    "print(eii)"
   ]
  },
  {
   "cell_type": "code",
   "execution_count": 26,
   "id": "059be3d6",
   "metadata": {},
   "outputs": [],
   "source": [
    "# with set comperhension"
   ]
  },
  {
   "cell_type": "code",
   "execution_count": 27,
   "id": "7afa037e",
   "metadata": {},
   "outputs": [],
   "source": [
    "ein = {i for i in range(11)if i%2==0 if i%3==0}"
   ]
  },
  {
   "cell_type": "code",
   "execution_count": 28,
   "id": "7a32630e",
   "metadata": {},
   "outputs": [
    {
     "data": {
      "text/plain": [
       "{0, 6}"
      ]
     },
     "execution_count": 28,
     "metadata": {},
     "output_type": "execute_result"
    }
   ],
   "source": [
    "ein"
   ]
  },
  {
   "cell_type": "markdown",
   "id": "4c4437e6",
   "metadata": {},
   "source": [
    "# WITH IF & ELSE STATEMENT"
   ]
  },
  {
   "cell_type": "markdown",
   "id": "5d6e6234",
   "metadata": {},
   "source": [
    "Syntax :new_set = `{if condition else condition i for i in iterable_object}`"
   ]
  },
  {
   "cell_type": "code",
   "execution_count": 9,
   "id": "7005b6db",
   "metadata": {},
   "outputs": [],
   "source": [
    "ex =set()"
   ]
  },
  {
   "cell_type": "code",
   "execution_count": 11,
   "id": "27588705",
   "metadata": {},
   "outputs": [
    {
     "name": "stdout",
     "output_type": "stream",
     "text": [
      "{0, 2, 4, 6, 'x'}\n"
     ]
    }
   ],
   "source": [
    "for i in range(0,7):\n",
    "    if i%2==0:\n",
    "        ex.add(i)\n",
    "    else:\n",
    "        ex.add(\"x\")\n",
    "print(ex)"
   ]
  },
  {
   "cell_type": "code",
   "execution_count": 12,
   "id": "790027b3",
   "metadata": {},
   "outputs": [],
   "source": [
    "# with set  comperhension"
   ]
  },
  {
   "cell_type": "code",
   "execution_count": 14,
   "id": "9a6eb70c",
   "metadata": {},
   "outputs": [],
   "source": [
    "es = {i if i%2==0 else \"x\" for i in range (7)}"
   ]
  },
  {
   "cell_type": "code",
   "execution_count": 15,
   "id": "a2b185e7",
   "metadata": {},
   "outputs": [
    {
     "data": {
      "text/plain": [
       "{0, 2, 4, 6, 'x'}"
      ]
     },
     "execution_count": 15,
     "metadata": {},
     "output_type": "execute_result"
    }
   ],
   "source": [
    "es"
   ]
  },
  {
   "cell_type": "markdown",
   "id": "52bc9928",
   "metadata": {},
   "source": [
    "# MAKING SET WHICH HAVE TUPLES IN IT "
   ]
  },
  {
   "cell_type": "code",
   "execution_count": 18,
   "id": "c171bc60",
   "metadata": {},
   "outputs": [],
   "source": [
    "# using for loop you can make a tuple of elemnts in a set \n",
    "se = set()\n",
    "for i in range (1,4):\n",
    "    for j in range (0,2):\n",
    "        se.add((i,j))# key point use double (())\n",
    "        \n",
    "        \n",
    "        "
   ]
  },
  {
   "cell_type": "code",
   "execution_count": 19,
   "id": "f7f77b4b",
   "metadata": {},
   "outputs": [
    {
     "data": {
      "text/plain": [
       "{(1, 0), (1, 1), (2, 0), (2, 1), (3, 0), (3, 1)}"
      ]
     },
     "execution_count": 19,
     "metadata": {},
     "output_type": "execute_result"
    }
   ],
   "source": [
    "se"
   ]
  },
  {
   "cell_type": "code",
   "execution_count": 20,
   "id": "dea2c3f8",
   "metadata": {},
   "outputs": [],
   "source": [
    "# with set comperhensions "
   ]
  },
  {
   "cell_type": "markdown",
   "id": "f268e238",
   "metadata": {},
   "source": [
    "synatx :\n",
    "          `{(i,j) for j in iterable_object for i in iterable_object}`"
   ]
  },
  {
   "cell_type": "code",
   "execution_count": 23,
   "id": "9630fa33",
   "metadata": {},
   "outputs": [],
   "source": [
    "se = {(i,j) for j in range(0,2) for i in range (1,4)} "
   ]
  },
  {
   "cell_type": "code",
   "execution_count": 25,
   "id": "5d2ec930",
   "metadata": {},
   "outputs": [
    {
     "data": {
      "text/plain": [
       "{(1, 0), (1, 1), (2, 0), (2, 1), (3, 0), (3, 1)}"
      ]
     },
     "execution_count": 25,
     "metadata": {},
     "output_type": "execute_result"
    }
   ],
   "source": [
    "se # key point you must use () in assigning variable"
   ]
  },
  {
   "cell_type": "markdown",
   "id": "ad2544c1",
   "metadata": {},
   "source": [
    "# LOGICAL EXAMPLE"
   ]
  },
  {
   "cell_type": "markdown",
   "id": "fe62c017",
   "metadata": {},
   "source": [
    "What if I have random text and I want to pull out all the unique words in the form of a set?\n",
    "\n",
    "        “Keep your face always toward the sunshine and shadows will fall behind you.”"
   ]
  },
  {
   "cell_type": "code",
   "execution_count": 33,
   "id": "e340c7d6",
   "metadata": {},
   "outputs": [],
   "source": [
    " s = \"Keep your face always toward the sunshine and shadows will fall behind you.\"\n",
    "    "
   ]
  },
  {
   "cell_type": "code",
   "execution_count": 28,
   "id": "3c15b11a",
   "metadata": {},
   "outputs": [],
   "source": [
    "# first step to remove the ( . )"
   ]
  },
  {
   "cell_type": "code",
   "execution_count": 35,
   "id": "b45836ba",
   "metadata": {},
   "outputs": [
    {
     "data": {
      "text/plain": [
       "'Keep your face always toward the sunshine and shadows will fall behind you'"
      ]
     },
     "execution_count": 35,
     "metadata": {},
     "output_type": "execute_result"
    }
   ],
   "source": [
    "s.replace(\".\",\"\")"
   ]
  },
  {
   "cell_type": "code",
   "execution_count": 36,
   "id": "8e3d6983",
   "metadata": {},
   "outputs": [],
   "source": [
    "# here i just replace the dot with nothing"
   ]
  },
  {
   "cell_type": "code",
   "execution_count": 37,
   "id": "613399a2",
   "metadata": {},
   "outputs": [],
   "source": [
    "# now let split the words"
   ]
  },
  {
   "cell_type": "code",
   "execution_count": 41,
   "id": "553c8e3c",
   "metadata": {},
   "outputs": [],
   "source": [
    " word_split = s.split()"
   ]
  },
  {
   "cell_type": "code",
   "execution_count": 48,
   "id": "638c0d72",
   "metadata": {},
   "outputs": [],
   "source": [
    "se = {i for i in word_split}"
   ]
  },
  {
   "cell_type": "code",
   "execution_count": 49,
   "id": "831ab0fd",
   "metadata": {},
   "outputs": [
    {
     "data": {
      "text/plain": [
       "{'Keep',\n",
       " 'always',\n",
       " 'and',\n",
       " 'behind',\n",
       " 'face',\n",
       " 'fall',\n",
       " 'shadows',\n",
       " 'sunshine',\n",
       " 'the',\n",
       " 'toward',\n",
       " 'will',\n",
       " 'you.',\n",
       " 'your'}"
      ]
     },
     "execution_count": 49,
     "metadata": {},
     "output_type": "execute_result"
    }
   ],
   "source": [
    "se"
   ]
  },
  {
   "cell_type": "markdown",
   "id": "73af8292",
   "metadata": {},
   "source": [
    "### what if I wanted to filter out any of the words that have more than four letters?"
   ]
  },
  {
   "cell_type": "code",
   "execution_count": 62,
   "id": "9b65b487",
   "metadata": {},
   "outputs": [],
   "source": [
    "sx = {i for i in word_split if len(i)<= 4}# here I am saying add only elements which length is less than or equal to 4"
   ]
  },
  {
   "cell_type": "code",
   "execution_count": 63,
   "id": "37866143",
   "metadata": {},
   "outputs": [
    {
     "data": {
      "text/plain": [
       "{'Keep', 'and', 'face', 'fall', 'the', 'will', 'you.', 'your'}"
      ]
     },
     "execution_count": 63,
     "metadata": {},
     "output_type": "execute_result"
    }
   ],
   "source": [
    "sx"
   ]
  },
  {
   "cell_type": "code",
   "execution_count": 64,
   "id": "cd506951",
   "metadata": {},
   "outputs": [],
   "source": [
    "# with for loop"
   ]
  },
  {
   "cell_type": "code",
   "execution_count": 65,
   "id": "0d40c854",
   "metadata": {},
   "outputs": [],
   "source": [
    "sw = set()"
   ]
  },
  {
   "cell_type": "code",
   "execution_count": 66,
   "id": "3f0fd469",
   "metadata": {},
   "outputs": [
    {
     "name": "stdout",
     "output_type": "stream",
     "text": [
      "{'and', 'will', 'fall', 'face', 'your', 'you.', 'Keep', 'the'}\n"
     ]
    }
   ],
   "source": [
    "for i in word_split:\n",
    "    if len(i) <= 4:\n",
    "        sw.add(i)\n",
    "print(sw)"
   ]
  },
  {
   "cell_type": "code",
   "execution_count": 67,
   "id": "1a5a04eb",
   "metadata": {},
   "outputs": [],
   "source": [
    "# why random output \n",
    "# because it is set properties means set are unorder and can not have duplicates in it "
   ]
  },
  {
   "cell_type": "markdown",
   "id": "554b84b7",
   "metadata": {},
   "source": [
    "# we will learn generators soon"
   ]
  }
 ],
 "metadata": {
  "kernelspec": {
   "display_name": "Python 3",
   "language": "python",
   "name": "python3"
  },
  "language_info": {
   "codemirror_mode": {
    "name": "ipython",
    "version": 3
   },
   "file_extension": ".py",
   "mimetype": "text/x-python",
   "name": "python",
   "nbconvert_exporter": "python",
   "pygments_lexer": "ipython3",
   "version": "3.8.8"
  }
 },
 "nbformat": 4,
 "nbformat_minor": 5
}
