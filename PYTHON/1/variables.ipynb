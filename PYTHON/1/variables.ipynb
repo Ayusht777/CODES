{
 "cells": [
  {
   "cell_type": "code",
   "execution_count": 3,
   "id": "19e99f0f-64ff-4588-a372-fd834eaf445e",
   "metadata": {},
   "outputs": [],
   "source": [
    "a = 3"
   ]
  },
  {
   "cell_type": "code",
   "execution_count": 3,
   "id": "4f0b0cb1",
   "metadata": {},
   "outputs": [
    {
     "data": {
      "text/plain": [
       "7"
      ]
     },
     "execution_count": 3,
     "metadata": {},
     "output_type": "execute_result"
    }
   ],
   "source": [
    "a\n"
   ]
  },
  {
   "cell_type": "code",
   "execution_count": 5,
   "id": "957b71eb",
   "metadata": {},
   "outputs": [
    {
     "data": {
      "text/plain": [
       "21"
      ]
     },
     "execution_count": 5,
     "metadata": {},
     "output_type": "execute_result"
    }
   ],
   "source": [
    "a + a +a"
   ]
  },
  {
   "cell_type": "code",
   "execution_count": 6,
   "id": "25059a7c",
   "metadata": {},
   "outputs": [
    {
     "data": {
      "text/plain": [
       "49"
      ]
     },
     "execution_count": 6,
     "metadata": {},
     "output_type": "execute_result"
    }
   ],
   "source": [
    "a*a"
   ]
  },
  {
   "cell_type": "code",
   "execution_count": 4,
   "id": "37758459",
   "metadata": {},
   "outputs": [
    {
     "data": {
      "text/plain": [
       "27"
      ]
     },
     "execution_count": 4,
     "metadata": {},
     "output_type": "execute_result"
    }
   ],
   "source": [
    "a**a"
   ]
  },
  {
   "cell_type": "code",
   "execution_count": 14,
   "id": "a5554c17",
   "metadata": {},
   "outputs": [],
   "source": [
    "b = 5"
   ]
  },
  {
   "cell_type": "code",
   "execution_count": 15,
   "id": "35f69274",
   "metadata": {},
   "outputs": [
    {
     "data": {
      "text/plain": [
       "12"
      ]
     },
     "execution_count": 15,
     "metadata": {},
     "output_type": "execute_result"
    }
   ],
   "source": [
    "a + b"
   ]
  },
  {
   "cell_type": "code",
   "execution_count": 17,
   "id": "3bddab0b",
   "metadata": {},
   "outputs": [],
   "source": [
    "b = \"ayush\""
   ]
  },
  {
   "cell_type": "code",
   "execution_count": 5,
   "id": "aee49a5d",
   "metadata": {},
   "outputs": [
    {
     "ename": "NameError",
     "evalue": "name 'b' is not defined",
     "output_type": "error",
     "traceback": [
      "\u001b[1;31m---------------------------------------------------------------------------\u001b[0m",
      "\u001b[1;31mNameError\u001b[0m                                 Traceback (most recent call last)",
      "\u001b[1;32me:\\PROGAMMING\\GITHUB\\PYTHON\\1\\variables.ipynb Cell 9'\u001b[0m in \u001b[0;36m<cell line: 1>\u001b[1;34m()\u001b[0m\n\u001b[1;32m----> <a href='vscode-notebook-cell:/e%3A/PROGAMMING/GITHUB/PYTHON/1/variables.ipynb#ch0000008?line=0'>1</a>\u001b[0m a \u001b[39m+\u001b[39m b\n",
      "\u001b[1;31mNameError\u001b[0m: name 'b' is not defined"
     ]
    }
   ],
   "source": [
    "a + b"
   ]
  },
  {
   "cell_type": "code",
   "execution_count": 19,
   "id": "8ede3667",
   "metadata": {},
   "outputs": [],
   "source": [
    "b = 3"
   ]
  },
  {
   "cell_type": "code",
   "execution_count": 41,
   "id": "afcc724c",
   "metadata": {},
   "outputs": [],
   "source": [
    "a = a + b"
   ]
  },
  {
   "cell_type": "code",
   "execution_count": 42,
   "id": "d040c235",
   "metadata": {},
   "outputs": [
    {
     "data": {
      "text/plain": [
       "19"
      ]
     },
     "execution_count": 42,
     "metadata": {},
     "output_type": "execute_result"
    }
   ],
   "source": [
    "a + b"
   ]
  },
  {
   "cell_type": "markdown",
   "id": "64a05290",
   "metadata": {},
   "source": [
    "why 19 because i run this cell multiple time"
   ]
  },
  {
   "cell_type": "code",
   "execution_count": 43,
   "id": "93e91d3d",
   "metadata": {},
   "outputs": [
    {
     "data": {
      "text/plain": [
       "int"
      ]
     },
     "execution_count": 43,
     "metadata": {},
     "output_type": "execute_result"
    }
   ],
   "source": [
    "type(b)"
   ]
  },
  {
   "cell_type": "code",
   "execution_count": 45,
   "id": "617c6276",
   "metadata": {},
   "outputs": [],
   "source": [
    "a = 7.777"
   ]
  },
  {
   "cell_type": "code",
   "execution_count": 46,
   "id": "2111bda5",
   "metadata": {},
   "outputs": [
    {
     "data": {
      "text/plain": [
       "float"
      ]
     },
     "execution_count": 46,
     "metadata": {},
     "output_type": "execute_result"
    }
   ],
   "source": [
    "type(a)"
   ]
  },
  {
   "cell_type": "markdown",
   "id": "7f39384a",
   "metadata": {},
   "source": [
    "google it why we doesnot assigne fuction as value \n",
    "float = 2"
   ]
  },
  {
   "cell_type": "code",
   "execution_count": 60,
   "id": "2ceb8ce1",
   "metadata": {},
   "outputs": [],
   "source": [
    "my_daily_income = 6000\n",
    "my_profit = 20\n",
    "no_of_days_in_month = 30\n",
    "my_monthly_sale = my_daily_income * no_of_days_in_month\n",
    "my_monthly_profit = my_monthly_sale / my_profit\n",
    "my_yearly_profit = my_monthly_profit * 12\n"
   ]
  },
  {
   "cell_type": "code",
   "execution_count": 57,
   "id": "f01758dc",
   "metadata": {},
   "outputs": [
    {
     "data": {
      "text/plain": [
       "180000"
      ]
     },
     "execution_count": 57,
     "metadata": {},
     "output_type": "execute_result"
    }
   ],
   "source": [
    "my_monthly_sale"
   ]
  },
  {
   "cell_type": "code",
   "execution_count": 61,
   "id": "bff44be5",
   "metadata": {},
   "outputs": [
    {
     "data": {
      "text/plain": [
       "9000.0"
      ]
     },
     "execution_count": 61,
     "metadata": {},
     "output_type": "execute_result"
    }
   ],
   "source": [
    "my_monthly_profit"
   ]
  },
  {
   "cell_type": "code",
   "execution_count": 62,
   "id": "d43d80f0",
   "metadata": {},
   "outputs": [
    {
     "data": {
      "text/plain": [
       "108000.0"
      ]
     },
     "execution_count": 62,
     "metadata": {},
     "output_type": "execute_result"
    }
   ],
   "source": [
    "my_yearly_profit"
   ]
  },
  {
   "cell_type": "code",
   "execution_count": null,
   "id": "f2e0f59a",
   "metadata": {},
   "outputs": [],
   "source": []
  }
 ],
 "metadata": {
  "interpreter": {
   "hash": "d818f4a5b132e7f66021d3e7c19c2b7a86b89f9388f799e2d6a66075690a4386"
  },
  "kernelspec": {
   "display_name": "Python 3.10.4 64-bit",
   "language": "python",
   "name": "python3"
  },
  "language_info": {
   "codemirror_mode": {
    "name": "ipython",
    "version": 3
   },
   "file_extension": ".py",
   "mimetype": "text/x-python",
   "name": "python",
   "nbconvert_exporter": "python",
   "pygments_lexer": "ipython3",
   "version": "3.10.4"
  }
 },
 "nbformat": 4,
 "nbformat_minor": 5
}
