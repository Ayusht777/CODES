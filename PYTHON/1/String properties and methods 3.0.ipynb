{
 "cells": [
  {
   "cell_type": "markdown",
   "id": "3f73f395",
   "metadata": {},
   "source": [
    "### isalpha"
   ]
  },
  {
   "cell_type": "raw",
   "id": "8ed7f58b",
   "metadata": {},
   "source": [
    "Errors and Exceptions:\n",
    "\n",
    "    Both uppercase and lowercase alphabets return “True”\n",
    "    Space is not considered to be the alphabet, therefore it returns “False”"
   ]
  },
  {
   "cell_type": "code",
   "execution_count": 1,
   "id": "284038be",
   "metadata": {},
   "outputs": [],
   "source": [
    "a = \"at777\""
   ]
  },
  {
   "cell_type": "code",
   "execution_count": 2,
   "id": "d9e08c75",
   "metadata": {},
   "outputs": [
    {
     "data": {
      "text/plain": [
       "False"
      ]
     },
     "execution_count": 2,
     "metadata": {},
     "output_type": "execute_result"
    }
   ],
   "source": [
    "a.isalpha()"
   ]
  },
  {
   "cell_type": "raw",
   "id": "e8bd79bd",
   "metadata": {},
   "source": [
    "So basically it check where the string is purely alphabatic \n",
    "it means it does not contain any number etc"
   ]
  },
  {
   "cell_type": "code",
   "execution_count": 2,
   "id": "1f7a8ba7",
   "metadata": {},
   "outputs": [],
   "source": [
    "b = \"abc\""
   ]
  },
  {
   "cell_type": "code",
   "execution_count": 3,
   "id": "158a5f33",
   "metadata": {},
   "outputs": [
    {
     "data": {
      "text/plain": [
       "True"
      ]
     },
     "execution_count": 3,
     "metadata": {},
     "output_type": "execute_result"
    }
   ],
   "source": [
    "b.isalpha()"
   ]
  },
  {
   "cell_type": "raw",
   "id": "0ec84157",
   "metadata": {},
   "source": [
    "The isalpha() method returns True if all the characters are alphabet letters (a-z)"
   ]
  },
  {
   "cell_type": "markdown",
   "id": "039df324",
   "metadata": {},
   "source": [
    "## isalnum"
   ]
  },
  {
   "cell_type": "code",
   "execution_count": 1,
   "id": "f8160014",
   "metadata": {},
   "outputs": [],
   "source": [
    "a = \"abc12\""
   ]
  },
  {
   "cell_type": "code",
   "execution_count": 2,
   "id": "c25810b4",
   "metadata": {},
   "outputs": [
    {
     "data": {
      "text/plain": [
       "True"
      ]
     },
     "execution_count": 2,
     "metadata": {},
     "output_type": "execute_result"
    }
   ],
   "source": [
    "a.isalnum()"
   ]
  },
  {
   "cell_type": "code",
   "execution_count": 6,
   "id": "67f3a57b",
   "metadata": {},
   "outputs": [],
   "source": [
    "b = \"123\""
   ]
  },
  {
   "cell_type": "code",
   "execution_count": 7,
   "id": "c2f68815",
   "metadata": {},
   "outputs": [
    {
     "data": {
      "text/plain": [
       "True"
      ]
     },
     "execution_count": 7,
     "metadata": {},
     "output_type": "execute_result"
    }
   ],
   "source": [
    "b.isalnum"
   ]
  },
  {
   "cell_type": "raw",
   "id": "6da9a4cf",
   "metadata": {},
   "source": [
    "The isalnum() method returns True if all the characters are alphabet letters (a-z) & numbers (0-9)"
   ]
  },
  {
   "cell_type": "code",
   "execution_count": 10,
   "id": "eea45483",
   "metadata": {},
   "outputs": [],
   "source": [
    "c = \"ab@\""
   ]
  },
  {
   "cell_type": "code",
   "execution_count": 12,
   "id": "e4f3ebd3",
   "metadata": {},
   "outputs": [
    {
     "data": {
      "text/plain": [
       "False"
      ]
     },
     "execution_count": 12,
     "metadata": {},
     "output_type": "execute_result"
    }
   ],
   "source": [
    "c.isalnum()"
   ]
  },
  {
   "cell_type": "code",
   "execution_count": 13,
   "id": "ad414587",
   "metadata": {},
   "outputs": [],
   "source": [
    "#The isalnum() method will return False if the string consists of whitespaces and symbols."
   ]
  },
  {
   "cell_type": "markdown",
   "id": "9ab13508",
   "metadata": {},
   "source": []
  },
  {
   "cell_type": "markdown",
   "id": "1c8bad94",
   "metadata": {},
   "source": [
    "## isdigit"
   ]
  },
  {
   "cell_type": "code",
   "execution_count": 1,
   "id": "a7ca730d",
   "metadata": {},
   "outputs": [],
   "source": [
    "a = \"123\""
   ]
  },
  {
   "cell_type": "code",
   "execution_count": 3,
   "id": "9d65988a",
   "metadata": {},
   "outputs": [
    {
     "data": {
      "text/plain": [
       "True"
      ]
     },
     "execution_count": 3,
     "metadata": {},
     "output_type": "execute_result"
    }
   ],
   "source": [
    "a.isdigit()"
   ]
  },
  {
   "cell_type": "code",
   "execution_count": 11,
   "id": "722296fc",
   "metadata": {},
   "outputs": [],
   "source": [
    "a = \"1.234\""
   ]
  },
  {
   "cell_type": "code",
   "execution_count": 12,
   "id": "fb81850f",
   "metadata": {},
   "outputs": [
    {
     "data": {
      "text/plain": [
       "False"
      ]
     },
     "execution_count": 12,
     "metadata": {},
     "output_type": "execute_result"
    }
   ],
   "source": [
    "a.isdigit()"
   ]
  },
  {
   "cell_type": "raw",
   "id": "b7f885ba",
   "metadata": {},
   "source": [
    "True if all characters in the string are digits and also\n",
    "\n",
    "In Python, superscript and subscripts (usually written\n",
    "using unicode) are also considered digit characters.\n",
    "Hence, if the string contains these characters along with\n",
    "decimal characters,  isdigit() returns  True\n",
    "\n",
    "superscript examples (Xᵃ)\n",
    "1⁹,2²,etc\n",
    "subscript examples (xᵦ)\n",
    "1₂,3₄,etc\n",
    "\n",
    "\n"
   ]
  },
  {
   "cell_type": "code",
   "execution_count": 14,
   "id": "5242aab6",
   "metadata": {},
   "outputs": [],
   "source": [
    "a =\"2²\""
   ]
  },
  {
   "cell_type": "code",
   "execution_count": 15,
   "id": "aeebaeb2",
   "metadata": {},
   "outputs": [
    {
     "data": {
      "text/plain": [
       "True"
      ]
     },
     "execution_count": 15,
     "metadata": {},
     "output_type": "execute_result"
    }
   ],
   "source": [
    "a.isdigit()"
   ]
  },
  {
   "cell_type": "code",
   "execution_count": 19,
   "id": "09cdf760",
   "metadata": {},
   "outputs": [],
   "source": [
    "b = \"3₄\""
   ]
  },
  {
   "cell_type": "code",
   "execution_count": 21,
   "id": "6ca4c231",
   "metadata": {},
   "outputs": [
    {
     "data": {
      "text/plain": [
       "True"
      ]
     },
     "execution_count": 21,
     "metadata": {},
     "output_type": "execute_result"
    }
   ],
   "source": [
    "b.isdigit()"
   ]
  },
  {
   "cell_type": "markdown",
   "id": "fbc35e85",
   "metadata": {},
   "source": [
    "The roman numerals, currency numerators and fractions\n",
    "(usually written using unicode) are considered numeric\n",
    "characters but not digits. The  isdigit() returns  False if\n",
    "the string contains these characters\n",
    "\n",
    "Roman Numerals : Ⅰ, Ⅱ ,Ⅺ\n",
    "currency numerators : $,₹,€,£\n",
    "fractions : ½,⅔,¼"
   ]
  },
  {
   "cell_type": "code",
   "execution_count": 22,
   "id": "c49ea06a",
   "metadata": {},
   "outputs": [],
   "source": [
    "c = \"Ⅺ\""
   ]
  },
  {
   "cell_type": "code",
   "execution_count": 24,
   "id": "fc489a41",
   "metadata": {},
   "outputs": [
    {
     "data": {
      "text/plain": [
       "False"
      ]
     },
     "execution_count": 24,
     "metadata": {},
     "output_type": "execute_result"
    }
   ],
   "source": [
    "c.isdigit()"
   ]
  },
  {
   "cell_type": "code",
   "execution_count": 25,
   "id": "878e1a6f",
   "metadata": {},
   "outputs": [],
   "source": [
    "d = \"₹\""
   ]
  },
  {
   "cell_type": "code",
   "execution_count": 26,
   "id": "de9fddb1",
   "metadata": {},
   "outputs": [
    {
     "data": {
      "text/plain": [
       "False"
      ]
     },
     "execution_count": 26,
     "metadata": {},
     "output_type": "execute_result"
    }
   ],
   "source": [
    "d.isdigit()"
   ]
  },
  {
   "cell_type": "code",
   "execution_count": 27,
   "id": "26ba2903",
   "metadata": {},
   "outputs": [],
   "source": [
    "e = \"½\""
   ]
  },
  {
   "cell_type": "code",
   "execution_count": 28,
   "id": "3b9bad06",
   "metadata": {},
   "outputs": [
    {
     "data": {
      "text/plain": [
       "False"
      ]
     },
     "execution_count": 28,
     "metadata": {},
     "output_type": "execute_result"
    }
   ],
   "source": [
    "e.isdigit()"
   ]
  },
  {
   "cell_type": "markdown",
   "id": "c4ce6399",
   "metadata": {},
   "source": [
    "## isdecimal"
   ]
  },
  {
   "cell_type": "code",
   "execution_count": 4,
   "id": "802aecf7",
   "metadata": {},
   "outputs": [],
   "source": [
    "a = \"123\""
   ]
  },
  {
   "cell_type": "code",
   "execution_count": 6,
   "id": "ce3be885",
   "metadata": {},
   "outputs": [
    {
     "data": {
      "text/plain": [
       "True"
      ]
     },
     "execution_count": 6,
     "metadata": {},
     "output_type": "execute_result"
    }
   ],
   "source": [
    "a.isdecimal()"
   ]
  },
  {
   "cell_type": "code",
   "execution_count": 31,
   "id": "42b3c694",
   "metadata": {},
   "outputs": [],
   "source": [
    "b = \"3₄\""
   ]
  },
  {
   "cell_type": "code",
   "execution_count": 32,
   "id": "c9d689be",
   "metadata": {},
   "outputs": [
    {
     "data": {
      "text/plain": [
       "False"
      ]
     },
     "execution_count": 32,
     "metadata": {},
     "output_type": "execute_result"
    }
   ],
   "source": [
    "b.isdecimal()"
   ]
  },
  {
   "cell_type": "code",
   "execution_count": 33,
   "id": "dbc36cbd",
   "metadata": {},
   "outputs": [],
   "source": [
    "c = \"Ⅺ\""
   ]
  },
  {
   "cell_type": "code",
   "execution_count": 34,
   "id": "a1393629",
   "metadata": {},
   "outputs": [
    {
     "data": {
      "text/plain": [
       "False"
      ]
     },
     "execution_count": 34,
     "metadata": {},
     "output_type": "execute_result"
    }
   ],
   "source": [
    "c.isdecimal()"
   ]
  },
  {
   "cell_type": "code",
   "execution_count": 35,
   "id": "3b5374f1",
   "metadata": {},
   "outputs": [],
   "source": [
    "d = \"₹\""
   ]
  },
  {
   "cell_type": "code",
   "execution_count": 36,
   "id": "704a1340",
   "metadata": {},
   "outputs": [
    {
     "data": {
      "text/plain": [
       "False"
      ]
     },
     "execution_count": 36,
     "metadata": {},
     "output_type": "execute_result"
    }
   ],
   "source": [
    "d.isdecimal()"
   ]
  },
  {
   "cell_type": "code",
   "execution_count": 37,
   "id": "608ecde3",
   "metadata": {},
   "outputs": [],
   "source": [
    "e = \"½\""
   ]
  },
  {
   "cell_type": "code",
   "execution_count": 38,
   "id": "03949adf",
   "metadata": {},
   "outputs": [
    {
     "data": {
      "text/plain": [
       "False"
      ]
     },
     "execution_count": 38,
     "metadata": {},
     "output_type": "execute_result"
    }
   ],
   "source": [
    "e.isdecimal()"
   ]
  },
  {
   "cell_type": "raw",
   "id": "88ec07d8",
   "metadata": {},
   "source": [
    "The superscript and subscripts are considered digit\n",
    "characters but not decimals. If the string contains these\n",
    "characters (usually written using unicode),  isdecimal()\n",
    "returns  False.\n",
    "Similarly, roman numerals, currency numerators and\n",
    "fractions are considered numeric numbers (usually written\n",
    "using unicode) but not decimals. The  isdecimal() also\n",
    "returns  False in this case."
   ]
  },
  {
   "cell_type": "code",
   "execution_count": null,
   "id": "084cbfb0",
   "metadata": {},
   "outputs": [],
   "source": []
  },
  {
   "cell_type": "markdown",
   "id": "45fb3d43",
   "metadata": {},
   "source": [
    "### islower"
   ]
  },
  {
   "cell_type": "code",
   "execution_count": 6,
   "id": "a0cdaf49",
   "metadata": {},
   "outputs": [],
   "source": [
    "a = \"abc\""
   ]
  },
  {
   "cell_type": "code",
   "execution_count": 7,
   "id": "66037749",
   "metadata": {},
   "outputs": [
    {
     "data": {
      "text/plain": [
       "True"
      ]
     },
     "execution_count": 7,
     "metadata": {},
     "output_type": "execute_result"
    }
   ],
   "source": [
    "a.islower()"
   ]
  },
  {
   "cell_type": "raw",
   "id": "aed2108c",
   "metadata": {},
   "source": [
    "The islower() method returns True if all the characters are in lowercase (a,c,e...)"
   ]
  },
  {
   "cell_type": "code",
   "execution_count": 8,
   "id": "8c2900e0",
   "metadata": {},
   "outputs": [],
   "source": [
    "std = \"XYZ\""
   ]
  },
  {
   "cell_type": "code",
   "execution_count": 29,
   "id": "afcd04bd",
   "metadata": {},
   "outputs": [
    {
     "data": {
      "text/plain": [
       "False"
      ]
     },
     "execution_count": 29,
     "metadata": {},
     "output_type": "execute_result"
    }
   ],
   "source": [
    "std.islower()"
   ]
  },
  {
   "cell_type": "markdown",
   "id": "d1328524",
   "metadata": {},
   "source": [
    "### isupper"
   ]
  },
  {
   "cell_type": "code",
   "execution_count": 31,
   "id": "55e80908",
   "metadata": {},
   "outputs": [],
   "source": [
    "str = \"XYZ\""
   ]
  },
  {
   "cell_type": "code",
   "execution_count": 32,
   "id": "15e42dba",
   "metadata": {},
   "outputs": [
    {
     "data": {
      "text/plain": [
       "True"
      ]
     },
     "execution_count": 32,
     "metadata": {},
     "output_type": "execute_result"
    }
   ],
   "source": [
    "str.isupper()"
   ]
  },
  {
   "cell_type": "raw",
   "id": "5b18c1c5",
   "metadata": {},
   "source": [
    "The isupper() method returns True if all the characters are in UPPERCASE (A,B,C,D.....)"
   ]
  },
  {
   "cell_type": "code",
   "execution_count": 34,
   "id": "7f29580d",
   "metadata": {},
   "outputs": [],
   "source": [
    "str = \"zs\""
   ]
  },
  {
   "cell_type": "code",
   "execution_count": 35,
   "id": "1cbd05ac",
   "metadata": {},
   "outputs": [
    {
     "data": {
      "text/plain": [
       "False"
      ]
     },
     "execution_count": 35,
     "metadata": {},
     "output_type": "execute_result"
    }
   ],
   "source": [
    "str.isupper()"
   ]
  },
  {
   "cell_type": "markdown",
   "id": "41e15900",
   "metadata": {},
   "source": [
    "### isspace"
   ]
  },
  {
   "cell_type": "code",
   "execution_count": 44,
   "id": "e5563f44",
   "metadata": {},
   "outputs": [],
   "source": [
    "str = \"       \""
   ]
  },
  {
   "cell_type": "code",
   "execution_count": 45,
   "id": "efdee3e2",
   "metadata": {},
   "outputs": [
    {
     "data": {
      "text/plain": [
       "True"
      ]
     },
     "execution_count": 45,
     "metadata": {},
     "output_type": "execute_result"
    }
   ],
   "source": [
    "str.isspace()"
   ]
  },
  {
   "cell_type": "raw",
   "id": "6bf502f4",
   "metadata": {},
   "source": [
    "The isspace() method returns True if the string is purely made from space "
   ]
  },
  {
   "cell_type": "code",
   "execution_count": 50,
   "id": "821b1d92",
   "metadata": {},
   "outputs": [],
   "source": [
    "str = \" 122asxc  \""
   ]
  },
  {
   "cell_type": "code",
   "execution_count": 51,
   "id": "58badba3",
   "metadata": {},
   "outputs": [
    {
     "data": {
      "text/plain": [
       "False"
      ]
     },
     "execution_count": 51,
     "metadata": {},
     "output_type": "execute_result"
    }
   ],
   "source": [
    "str.isspace()"
   ]
  },
  {
   "cell_type": "markdown",
   "id": "ea525ae2",
   "metadata": {},
   "source": [
    "### startswith"
   ]
  },
  {
   "cell_type": "code",
   "execution_count": 42,
   "id": "952edc38",
   "metadata": {},
   "outputs": [],
   "source": [
    "name = \"aysuh\""
   ]
  },
  {
   "cell_type": "code",
   "execution_count": 44,
   "id": "1efcc80c",
   "metadata": {},
   "outputs": [
    {
     "data": {
      "text/plain": [
       "True"
      ]
     },
     "execution_count": 44,
     "metadata": {},
     "output_type": "execute_result"
    }
   ],
   "source": [
    "name.startswith(\"a\")"
   ]
  },
  {
   "cell_type": "raw",
   "id": "38c466e7",
   "metadata": {},
   "source": [
    "\n",
    "THIS METHOD CHECK WHETHERE A STRING START WITH A CERTAIN CHRACTER'S\n",
    "IT INCULEDES ALPHABATES,NUMBERS,SPECIAL CHARACTERS\n"
   ]
  },
  {
   "cell_type": "code",
   "execution_count": 63,
   "id": "d1ed7d4a",
   "metadata": {},
   "outputs": [
    {
     "data": {
      "text/plain": [
       "False"
      ]
     },
     "execution_count": 63,
     "metadata": {},
     "output_type": "execute_result"
    }
   ],
   "source": [
    "name.startswith(\"y\")"
   ]
  },
  {
   "cell_type": "code",
   "execution_count": 57,
   "id": "e2db39cb",
   "metadata": {},
   "outputs": [],
   "source": [
    "num = \"12a\""
   ]
  },
  {
   "cell_type": "code",
   "execution_count": 58,
   "id": "6c04fc98",
   "metadata": {},
   "outputs": [
    {
     "data": {
      "text/plain": [
       "True"
      ]
     },
     "execution_count": 58,
     "metadata": {},
     "output_type": "execute_result"
    }
   ],
   "source": [
    "num.startswith(\"1\")"
   ]
  },
  {
   "cell_type": "code",
   "execution_count": 61,
   "id": "48a69187",
   "metadata": {},
   "outputs": [],
   "source": [
    "spec = \"@yush\""
   ]
  },
  {
   "cell_type": "code",
   "execution_count": 62,
   "id": "8009c6e6",
   "metadata": {},
   "outputs": [
    {
     "data": {
      "text/plain": [
       "True"
      ]
     },
     "execution_count": 62,
     "metadata": {},
     "output_type": "execute_result"
    }
   ],
   "source": [
    "spec.startswith(\"@\")"
   ]
  },
  {
   "cell_type": "markdown",
   "id": "2c8711d8",
   "metadata": {},
   "source": [
    "### endswith"
   ]
  },
  {
   "cell_type": "code",
   "execution_count": 65,
   "id": "6778de2c",
   "metadata": {},
   "outputs": [],
   "source": [
    "name = \"ayush\""
   ]
  },
  {
   "cell_type": "code",
   "execution_count": 67,
   "id": "5fa528de",
   "metadata": {},
   "outputs": [
    {
     "data": {
      "text/plain": [
       "True"
      ]
     },
     "execution_count": 67,
     "metadata": {},
     "output_type": "execute_result"
    }
   ],
   "source": [
    "name.endswith(\"h\")"
   ]
  },
  {
   "cell_type": "raw",
   "id": "3a0ce69c",
   "metadata": {},
   "source": [
    "THIS METHOD CHECK WHETHERE A STRING END WITH A CERTAIN CHARTERS'S\n",
    "IT INCULEDES ALPHABATES,NUMBERS,SPECIAL CHARACTERS\n"
   ]
  },
  {
   "cell_type": "markdown",
   "id": "536f75db",
   "metadata": {},
   "source": [
    "### center"
   ]
  },
  {
   "cell_type": "code",
   "execution_count": 69,
   "id": "0f4531f0",
   "metadata": {},
   "outputs": [],
   "source": [
    "name = \"ayush\" "
   ]
  },
  {
   "cell_type": "code",
   "execution_count": 70,
   "id": "e9c58fd4",
   "metadata": {},
   "outputs": [
    {
     "data": {
      "text/plain": [
       "'       ayush        '"
      ]
     },
     "execution_count": 70,
     "metadata": {},
     "output_type": "execute_result"
    }
   ],
   "source": [
    "name.center(20)"
   ]
  },
  {
   "cell_type": "code",
   "execution_count": null,
   "id": "1977411b",
   "metadata": {},
   "outputs": [],
   "source": []
  },
  {
   "cell_type": "code",
   "execution_count": null,
   "id": "ee7f4058",
   "metadata": {},
   "outputs": [],
   "source": []
  },
  {
   "cell_type": "code",
   "execution_count": 80,
   "id": "86ee7ba3",
   "metadata": {},
   "outputs": [
    {
     "data": {
      "text/plain": [
       "'--------ayush---------'"
      ]
     },
     "execution_count": 80,
     "metadata": {},
     "output_type": "execute_result"
    }
   ],
   "source": [
    "name.center(22,\"-\")"
   ]
  },
  {
   "cell_type": "markdown",
   "id": "8ae193f4",
   "metadata": {},
   "source": [
    "NOTE : YOU CAN ONLY ADD ANY ONE CHARACTERS TO IT \n",
    "    "
   ]
  },
  {
   "cell_type": "code",
   "execution_count": null,
   "id": "1daa99c3",
   "metadata": {},
   "outputs": [],
   "source": []
  }
 ],
 "metadata": {
  "interpreter": {
   "hash": "d818f4a5b132e7f66021d3e7c19c2b7a86b89f9388f799e2d6a66075690a4386"
  },
  "kernelspec": {
   "display_name": "Python 3.10.4 64-bit",
   "language": "python",
   "name": "python3"
  },
  "language_info": {
   "codemirror_mode": {
    "name": "ipython",
    "version": 3
   },
   "file_extension": ".py",
   "mimetype": "text/x-python",
   "name": "python",
   "nbconvert_exporter": "python",
   "pygments_lexer": "ipython3",
   "version": "3.10.4"
  }
 },
 "nbformat": 4,
 "nbformat_minor": 5
}
