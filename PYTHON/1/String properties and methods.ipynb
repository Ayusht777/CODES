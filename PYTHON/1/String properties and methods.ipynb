{
 "cells": [
  {
   "cell_type": "markdown",
   "id": "061c7af6",
   "metadata": {},
   "source": [
    "IMMUBALITY OR CANNOT CHANGE"
   ]
  },
  {
   "cell_type": "code",
   "execution_count": 1,
   "id": "80d46de6",
   "metadata": {},
   "outputs": [],
   "source": [
    "name = \"ayush\""
   ]
  },
  {
   "cell_type": "code",
   "execution_count": 3,
   "id": "bc2c143f",
   "metadata": {},
   "outputs": [
    {
     "ename": "TypeError",
     "evalue": "'str' object does not support item assignment",
     "output_type": "error",
     "traceback": [
      "\u001b[1;31m---------------------------------------------------------------------------\u001b[0m",
      "\u001b[1;31mTypeError\u001b[0m                                 Traceback (most recent call last)",
      "\u001b[1;32m<ipython-input-3-ed4318bfa199>\u001b[0m in \u001b[0;36m<module>\u001b[1;34m\u001b[0m\n\u001b[1;32m----> 1\u001b[1;33m \u001b[0mname\u001b[0m\u001b[1;33m[\u001b[0m\u001b[1;33m:\u001b[0m\u001b[1;36m2\u001b[0m\u001b[1;33m]\u001b[0m \u001b[1;33m=\u001b[0m \u001b[1;34m\"pi\"\u001b[0m\u001b[1;33m\u001b[0m\u001b[1;33m\u001b[0m\u001b[0m\n\u001b[0m",
      "\u001b[1;31mTypeError\u001b[0m: 'str' object does not support item assignment"
     ]
    }
   ],
   "source": [
    "name[:2] = \"pi\""
   ]
  },
  {
   "cell_type": "markdown",
   "id": "7919e8bf",
   "metadata": {},
   "source": [
    "str' object does not support item assignment\n",
    "\n",
    "basically you can not grab any charac ters in str to change it using indexing \n",
    "\n",
    " so we use concatenation \n",
    " \n",
    " it means merging to str together\n",
    " "
   ]
  },
  {
   "cell_type": "code",
   "execution_count": null,
   "id": "8a94ea99",
   "metadata": {},
   "outputs": [],
   "source": [
    "#name[:2] = \"pi\"\n",
    "it means commented code which doesnot run"
   ]
  },
  {
   "cell_type": "markdown",
   "id": "0045fd13",
   "metadata": {},
   "source": [
    "so basically i wnat to change name = ayush\n",
    "to piyush \n"
   ]
  },
  {
   "cell_type": "code",
   "execution_count": 5,
   "id": "4c009e89",
   "metadata": {},
   "outputs": [
    {
     "data": {
      "text/plain": [
       "'ay'"
      ]
     },
     "execution_count": 5,
     "metadata": {},
     "output_type": "execute_result"
    }
   ],
   "source": [
    "name[:2]"
   ]
  },
  {
   "cell_type": "code",
   "execution_count": 9,
   "id": "59bbf28f",
   "metadata": {},
   "outputs": [],
   "source": [
    "newname = name[1:]"
   ]
  },
  {
   "cell_type": "code",
   "execution_count": 10,
   "id": "e1c14fe0",
   "metadata": {},
   "outputs": [
    {
     "data": {
      "text/plain": [
       "'piyush'"
      ]
     },
     "execution_count": 10,
     "metadata": {},
     "output_type": "execute_result"
    }
   ],
   "source": [
    "\"pi\" + newname"
   ]
  },
  {
   "cell_type": "markdown",
   "id": "52171fdc",
   "metadata": {},
   "source": [
    "so basically i have to index or select remeaning letters in the name ayush which is ush by indexing "
   ]
  },
  {
   "cell_type": "raw",
   "id": "a0120fda",
   "metadata": {},
   "source": [
    "for example i want to ayush into push"
   ]
  },
  {
   "cell_type": "code",
   "execution_count": 32,
   "id": "dd3df901",
   "metadata": {},
   "outputs": [],
   "source": [
    "name2 = \"ayush\""
   ]
  },
  {
   "cell_type": "code",
   "execution_count": 41,
   "id": "9d3d0290",
   "metadata": {},
   "outputs": [
    {
     "data": {
      "text/plain": [
       "'ush'"
      ]
     },
     "execution_count": 41,
     "metadata": {},
     "output_type": "execute_result"
    }
   ],
   "source": [
    "name2[2:]"
   ]
  },
  {
   "cell_type": "code",
   "execution_count": 42,
   "id": "e632aaa9",
   "metadata": {},
   "outputs": [],
   "source": [
    "newname2 = name2[2:]"
   ]
  },
  {
   "cell_type": "code",
   "execution_count": 43,
   "id": "022158d9",
   "metadata": {},
   "outputs": [
    {
     "data": {
      "text/plain": [
       "'Push'"
      ]
     },
     "execution_count": 43,
     "metadata": {},
     "output_type": "execute_result"
    }
   ],
   "source": [
    "\"P\" + newname2"
   ]
  },
  {
   "cell_type": "raw",
   "id": "ba8f5d2c",
   "metadata": {},
   "source": [
    "if you want to change front letters than you have to use start indexing \n",
    "basically you have tell strat this word from these letters (indexing) from [start:]\n"
   ]
  },
  {
   "cell_type": "markdown",
   "id": "558fc859",
   "metadata": {},
   "source": [
    "# now i want to change backward letters"
   ]
  },
  {
   "cell_type": "code",
   "execution_count": 3,
   "id": "06db34fb",
   "metadata": {},
   "outputs": [],
   "source": [
    "oven = \"samsung\""
   ]
  },
  {
   "cell_type": "code",
   "execution_count": 16,
   "id": "b5cd34f8",
   "metadata": {},
   "outputs": [
    {
     "data": {
      "text/plain": [
       "'samsun'"
      ]
     },
     "execution_count": 16,
     "metadata": {},
     "output_type": "execute_result"
    }
   ],
   "source": [
    "oven[:6]"
   ]
  },
  {
   "cell_type": "code",
   "execution_count": 15,
   "id": "c88e36d6",
   "metadata": {},
   "outputs": [],
   "source": [
    "fakeoven = oven[:6]"
   ]
  },
  {
   "cell_type": "code",
   "execution_count": 17,
   "id": "08c5f0ba",
   "metadata": {},
   "outputs": [
    {
     "data": {
      "text/plain": [
       "'samsuna'"
      ]
     },
     "execution_count": 17,
     "metadata": {},
     "output_type": "execute_result"
    }
   ],
   "source": [
    "fakeoven + \"a\" "
   ]
  },
  {
   "cell_type": "markdown",
   "id": "27690cae",
   "metadata": {},
   "source": [
    "if you want to change backward letters than you have to use end indexing \n",
    "\n",
    "basically you have tell end this letter from [:end]\n",
    "\n",
    "and you have to use plus(+) sign after the firstname you want to join to a str\n"
   ]
  },
  {
   "cell_type": "markdown",
   "id": "a6186cd9",
   "metadata": {},
   "source": [
    "# JOINING A ASSIGNED STRING WITH ANOTHER STRING"
   ]
  },
  {
   "cell_type": "code",
   "execution_count": 20,
   "id": "7a38beb1",
   "metadata": {},
   "outputs": [],
   "source": [
    "x = \"ayush\""
   ]
  },
  {
   "cell_type": "code",
   "execution_count": 22,
   "id": "5a027ea8",
   "metadata": {},
   "outputs": [
    {
     "data": {
      "text/plain": [
       "'hiayush'"
      ]
     },
     "execution_count": 22,
     "metadata": {},
     "output_type": "execute_result"
    }
   ],
   "source": [
    "\"hi\" + x"
   ]
  },
  {
   "cell_type": "raw",
   "id": "fdf13cd3",
   "metadata": {},
   "source": [
    "but i want some space between hi and ayush \n",
    "so just add space before \" & a\n"
   ]
  },
  {
   "cell_type": "code",
   "execution_count": 115,
   "id": "f5ebb09d",
   "metadata": {},
   "outputs": [],
   "source": [
    "x = \" ayush\""
   ]
  },
  {
   "cell_type": "code",
   "execution_count": 120,
   "id": "120336b6",
   "metadata": {},
   "outputs": [
    {
     "data": {
      "text/plain": [
       "'hi ayush'"
      ]
     },
     "execution_count": 120,
     "metadata": {},
     "output_type": "execute_result"
    }
   ],
   "source": [
    "\"hi\" + x"
   ]
  },
  {
   "cell_type": "code",
   "execution_count": 122,
   "id": "0cce4d87",
   "metadata": {},
   "outputs": [],
   "source": [
    "x = \"hi\" + x"
   ]
  },
  {
   "cell_type": "code",
   "execution_count": 123,
   "id": "bfd79bcd",
   "metadata": {},
   "outputs": [
    {
     "data": {
      "text/plain": [
       "'hi ayush'"
      ]
     },
     "execution_count": 123,
     "metadata": {},
     "output_type": "execute_result"
    }
   ],
   "source": [
    "x"
   ]
  },
  {
   "cell_type": "code",
   "execution_count": 128,
   "id": "3af3dec8",
   "metadata": {},
   "outputs": [
    {
     "data": {
      "text/plain": [
       "'hihihihihi ayush'"
      ]
     },
     "execution_count": 128,
     "metadata": {},
     "output_type": "execute_result"
    }
   ],
   "source": [
    "\"hi\" + x"
   ]
  },
  {
   "cell_type": "markdown",
   "id": "d31277e0",
   "metadata": {},
   "source": [
    "basically if i run  this code multiple times than it will add \"hi\" = cell run times\n"
   ]
  },
  {
   "cell_type": "code",
   "execution_count": 131,
   "id": "a4fd4a78",
   "metadata": {},
   "outputs": [],
   "source": [
    "n = \"¤\""
   ]
  },
  {
   "cell_type": "code",
   "execution_count": 134,
   "id": "f24a6386",
   "metadata": {},
   "outputs": [
    {
     "data": {
      "text/plain": [
       "'¤¤¤¤¤'"
      ]
     },
     "execution_count": 134,
     "metadata": {},
     "output_type": "execute_result"
    }
   ],
   "source": [
    "n*5"
   ]
  },
  {
   "cell_type": "code",
   "execution_count": 138,
   "id": "2b3b160b",
   "metadata": {},
   "outputs": [],
   "source": [
    "alpha = \"z\""
   ]
  },
  {
   "cell_type": "code",
   "execution_count": 139,
   "id": "1a93ed71",
   "metadata": {},
   "outputs": [
    {
     "data": {
      "text/plain": [
       "'zzzzzzzzzzz'"
      ]
     },
     "execution_count": 139,
     "metadata": {},
     "output_type": "execute_result"
    }
   ],
   "source": [
    "alpha*11"
   ]
  },
  {
   "cell_type": "code",
   "execution_count": 140,
   "id": "f6194421",
   "metadata": {},
   "outputs": [
    {
     "data": {
      "text/plain": [
       "3"
      ]
     },
     "execution_count": 140,
     "metadata": {},
     "output_type": "execute_result"
    }
   ],
   "source": [
    "1+ 2"
   ]
  },
  {
   "cell_type": "code",
   "execution_count": 141,
   "id": "6570d570",
   "metadata": {},
   "outputs": [
    {
     "data": {
      "text/plain": [
       "'12'"
      ]
     },
     "execution_count": 141,
     "metadata": {},
     "output_type": "execute_result"
    }
   ],
   "source": [
    "\"1\" +\"2\""
   ]
  },
  {
   "cell_type": "markdown",
   "id": "24fa0c42",
   "metadata": {},
   "source": [
    "so basically it doesnot adding integer because python understand above line as str so it will cobine this two str in \n",
    "\n",
    "one \n",
    "\n",
    "con: so it is a disadavantage of dynamic typing \n"
   ]
  },
  {
   "cell_type": "code",
   "execution_count": null,
   "id": "cff99cf2",
   "metadata": {},
   "outputs": [],
   "source": []
  },
  {
   "cell_type": "markdown",
   "id": "3623d17a",
   "metadata": {},
   "source": [
    "# lets i want to change both starting and ending letters \n",
    "google it "
   ]
  },
  {
   "cell_type": "code",
   "execution_count": 75,
   "id": "639046eb",
   "metadata": {},
   "outputs": [],
   "source": [
    "specs = \"glass\""
   ]
  },
  {
   "cell_type": "code",
   "execution_count": 76,
   "id": "c9e3527a",
   "metadata": {},
   "outputs": [
    {
     "data": {
      "text/plain": [
       "'lass'"
      ]
     },
     "execution_count": 76,
     "metadata": {},
     "output_type": "execute_result"
    }
   ],
   "source": [
    "specs[1:]"
   ]
  },
  {
   "cell_type": "code",
   "execution_count": 77,
   "id": "17387bd1",
   "metadata": {},
   "outputs": [],
   "source": [
    "specs2 = \"glass\""
   ]
  },
  {
   "cell_type": "code",
   "execution_count": 106,
   "id": "2eed6c1d",
   "metadata": {},
   "outputs": [
    {
     "data": {
      "text/plain": [
       "'s'"
      ]
     },
     "execution_count": 106,
     "metadata": {},
     "output_type": "execute_result"
    }
   ],
   "source": [
    "specs2[4:]"
   ]
  },
  {
   "cell_type": "code",
   "execution_count": 79,
   "id": "c9fd3493",
   "metadata": {},
   "outputs": [],
   "source": [
    "lens = specs[1:]"
   ]
  },
  {
   "cell_type": "code",
   "execution_count": 107,
   "id": "d1cd1c24",
   "metadata": {},
   "outputs": [],
   "source": [
    "lens2 = specs2[4:]"
   ]
  },
  {
   "cell_type": "code",
   "execution_count": 108,
   "id": "c38b8e4b",
   "metadata": {},
   "outputs": [
    {
     "ename": "TypeError",
     "evalue": "unsupported operand type(s) for -: 'str' and 'str'",
     "output_type": "error",
     "traceback": [
      "\u001b[1;31m---------------------------------------------------------------------------\u001b[0m",
      "\u001b[1;31mTypeError\u001b[0m                                 Traceback (most recent call last)",
      "\u001b[1;32m<ipython-input-108-f0c766a256f1>\u001b[0m in \u001b[0;36m<module>\u001b[1;34m\u001b[0m\n\u001b[1;32m----> 1\u001b[1;33m \u001b[1;33m(\u001b[0m\u001b[1;34m\"P\"\u001b[0m \u001b[1;33m+\u001b[0m \u001b[0mlens\u001b[0m\u001b[1;33m)\u001b[0m \u001b[1;33m-\u001b[0m \u001b[0mlens2\u001b[0m\u001b[1;33m\u001b[0m\u001b[1;33m\u001b[0m\u001b[0m\n\u001b[0m",
      "\u001b[1;31mTypeError\u001b[0m: unsupported operand type(s) for -: 'str' and 'str'"
     ]
    }
   ],
   "source": []
  },
  {
   "cell_type": "code",
   "execution_count": null,
   "id": "38298e52",
   "metadata": {},
   "outputs": [],
   "source": []
  },
  {
   "cell_type": "code",
   "execution_count": null,
   "id": "9f90101b",
   "metadata": {},
   "outputs": [],
   "source": []
  }
 ],
 "metadata": {
  "kernelspec": {
   "display_name": "Python 3",
   "language": "python",
   "name": "python3"
  },
  "language_info": {
   "codemirror_mode": {
    "name": "ipython",
    "version": 3
   },
   "file_extension": ".py",
   "mimetype": "text/x-python",
   "name": "python",
   "nbconvert_exporter": "python",
   "pygments_lexer": "ipython3",
   "version": "3.8.8"
  }
 },
 "nbformat": 4,
 "nbformat_minor": 5
}
