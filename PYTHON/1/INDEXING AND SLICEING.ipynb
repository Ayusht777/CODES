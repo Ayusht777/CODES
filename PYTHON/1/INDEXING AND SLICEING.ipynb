{
 "cells": [
  {
   "cell_type": "code",
   "execution_count": 9,
   "id": "98da3b0c",
   "metadata": {},
   "outputs": [],
   "source": [
    "mystring = \"ayush\""
   ]
  },
  {
   "cell_type": "code",
   "execution_count": 10,
   "id": "d87387e5",
   "metadata": {},
   "outputs": [
    {
     "data": {
      "text/plain": [
       "'ayush'"
      ]
     },
     "execution_count": 10,
     "metadata": {},
     "output_type": "execute_result"
    }
   ],
   "source": [
    "mystring"
   ]
  },
  {
   "cell_type": "code",
   "execution_count": 11,
   "id": "52f90f5d",
   "metadata": {},
   "outputs": [
    {
     "data": {
      "text/plain": [
       "'y'"
      ]
     },
     "execution_count": 11,
     "metadata": {},
     "output_type": "execute_result"
    }
   ],
   "source": [
    "mystring[1]"
   ]
  },
  {
   "cell_type": "markdown",
   "id": "7c05479a",
   "metadata": {},
   "source": [
    "a y u s h   characters\n",
    "\n",
    "0 1 2 3 4   indexing\n",
    "\n",
    "-5-4-3-2-1   reverse indexing \n",
    "\n",
    "and we use [ ] and the index no in it  to get the particluar  charater at index of the word \n",
    "\n"
   ]
  },
  {
   "cell_type": "code",
   "execution_count": 18,
   "id": "595cae82",
   "metadata": {},
   "outputs": [],
   "source": [
    "myname =\"ayush talesara\""
   ]
  },
  {
   "cell_type": "code",
   "execution_count": 22,
   "id": "5e70f8e3",
   "metadata": {},
   "outputs": [
    {
     "data": {
      "text/plain": [
       "' '"
      ]
     },
     "execution_count": 22,
     "metadata": {},
     "output_type": "execute_result"
    }
   ],
   "source": [
    "myname[5]"
   ]
  },
  {
   "cell_type": "markdown",
   "id": "d8cc9ee2",
   "metadata": {},
   "source": [
    "so it aslo index space "
   ]
  },
  {
   "cell_type": "code",
   "execution_count": 6,
   "id": "1cf73931",
   "metadata": {},
   "outputs": [],
   "source": [
    "a = \"ayu\""
   ]
  },
  {
   "cell_type": "code",
   "execution_count": 7,
   "id": "215f0582",
   "metadata": {},
   "outputs": [
    {
     "data": {
      "text/plain": [
       "'y'"
      ]
     },
     "execution_count": 7,
     "metadata": {},
     "output_type": "execute_result"
    }
   ],
   "source": [
    "a[1]"
   ]
  },
  {
   "cell_type": "markdown",
   "id": "008d633d",
   "metadata": {},
   "source": [
    "so you can asign any charater or word = \"any word or letter \"\n"
   ]
  },
  {
   "cell_type": "code",
   "execution_count": 9,
   "id": "3adaa124",
   "metadata": {},
   "outputs": [],
   "source": [
    "at = \"@\""
   ]
  },
  {
   "cell_type": "code",
   "execution_count": 10,
   "id": "da37cc0e",
   "metadata": {},
   "outputs": [
    {
     "data": {
      "text/plain": [
       "'@'"
      ]
     },
     "execution_count": 10,
     "metadata": {},
     "output_type": "execute_result"
    }
   ],
   "source": [
    "at[0]"
   ]
  },
  {
   "cell_type": "markdown",
   "id": "306cca05",
   "metadata": {},
   "source": [
    "## NEGATIVE INDEXING OR REVERSE INDEXING"
   ]
  },
  {
   "cell_type": "code",
   "execution_count": 23,
   "id": "c81c3e72",
   "metadata": {},
   "outputs": [
    {
     "data": {
      "text/plain": [
       "'r'"
      ]
     },
     "execution_count": 23,
     "metadata": {},
     "output_type": "execute_result"
    }
   ],
   "source": [
    "myname[-2]"
   ]
  },
  {
   "cell_type": "code",
   "execution_count": 25,
   "id": "1c899a5f",
   "metadata": {},
   "outputs": [
    {
     "data": {
      "text/plain": [
       "' '"
      ]
     },
     "execution_count": 25,
     "metadata": {},
     "output_type": "execute_result"
    }
   ],
   "source": [
    "myname[-9]"
   ]
  },
  {
   "cell_type": "markdown",
   "id": "ba2b58c2",
   "metadata": {},
   "source": [
    "# SLICEING"
   ]
  },
  {
   "cell_type": "raw",
   "id": "add00faa",
   "metadata": {},
   "source": [
    "0\t1\t2\t3\t4\t5\t6\t7\t8\t9\n",
    "A\tY\tU\tS\tH\t\tJ\tA\tI\tN\n",
    "-10\t-9\t-8\t-7\t-6\t-5\t-4\t-3\t-2\t-1\n",
    "\n",
    "\n",
    "\n"
   ]
  },
  {
   "cell_type": "code",
   "execution_count": 40,
   "id": "14b2fae1",
   "metadata": {},
   "outputs": [],
   "source": [
    "str= \"ayush jain\""
   ]
  },
  {
   "cell_type": "code",
   "execution_count": 3,
   "id": "e923a8b2",
   "metadata": {},
   "outputs": [
    {
     "data": {
      "text/plain": [
       "10"
      ]
     },
     "execution_count": 3,
     "metadata": {},
     "output_type": "execute_result"
    }
   ],
   "source": [
    "len (\"ayush jain\")"
   ]
  },
  {
   "cell_type": "raw",
   "id": "77bc9451",
   "metadata": {},
   "source": [
    "i can use len (str) but it will give error due to python already ha function called str \n",
    "but if i can change the above code \n",
    "name =\"ayush jain\"\n",
    "than i can use\n",
    "len (name)\n",
    "10"
   ]
  },
  {
   "cell_type": "code",
   "execution_count": 29,
   "id": "f4893e0e",
   "metadata": {},
   "outputs": [
    {
     "data": {
      "text/plain": [
       "'sh ja'"
      ]
     },
     "execution_count": 29,
     "metadata": {},
     "output_type": "execute_result"
    }
   ],
   "source": [
    "str[3:8]"
   ]
  },
  {
   "cell_type": "code",
   "execution_count": 30,
   "id": "e99bd081",
   "metadata": {},
   "outputs": [
    {
     "data": {
      "text/plain": [
       "'ain'"
      ]
     },
     "execution_count": 30,
     "metadata": {},
     "output_type": "execute_result"
    }
   ],
   "source": [
    "str[7:]"
   ]
  },
  {
   "cell_type": "code",
   "execution_count": 31,
   "id": "c87a6712",
   "metadata": {},
   "outputs": [
    {
     "data": {
      "text/plain": [
       "'ayus'"
      ]
     },
     "execution_count": 31,
     "metadata": {},
     "output_type": "execute_result"
    }
   ],
   "source": [
    "str[:4]"
   ]
  },
  {
   "cell_type": "code",
   "execution_count": 43,
   "id": "abb56abc",
   "metadata": {},
   "outputs": [
    {
     "data": {
      "text/plain": [
       "'h ja'"
      ]
     },
     "execution_count": 43,
     "metadata": {},
     "output_type": "execute_result"
    }
   ],
   "source": [
    "str[4:-2]"
   ]
  },
  {
   "cell_type": "code",
   "execution_count": 44,
   "id": "c582159c",
   "metadata": {},
   "outputs": [
    {
     "data": {
      "text/plain": [
       "'ayush jai'"
      ]
     },
     "execution_count": 44,
     "metadata": {},
     "output_type": "execute_result"
    }
   ],
   "source": [
    "str[:-1]"
   ]
  },
  {
   "cell_type": "code",
   "execution_count": 46,
   "id": "87eb4a7c",
   "metadata": {},
   "outputs": [
    {
     "data": {
      "text/plain": [
       "'ayush jain'"
      ]
     },
     "execution_count": 46,
     "metadata": {},
     "output_type": "execute_result"
    }
   ],
   "source": [
    "str[:]"
   ]
  },
  {
   "cell_type": "markdown",
   "id": "1da31206",
   "metadata": {},
   "source": [
    "\n",
    "         or"
   ]
  },
  {
   "cell_type": "code",
   "execution_count": 47,
   "id": "f5fc11da",
   "metadata": {},
   "outputs": [
    {
     "data": {
      "text/plain": [
       "'ayush jain'"
      ]
     },
     "execution_count": 47,
     "metadata": {},
     "output_type": "execute_result"
    }
   ],
   "source": [
    "str[::]"
   ]
  },
  {
   "cell_type": "code",
   "execution_count": 50,
   "id": "5e1843f9",
   "metadata": {},
   "outputs": [
    {
     "data": {
      "text/plain": [
       "'auhji'"
      ]
     },
     "execution_count": 50,
     "metadata": {},
     "output_type": "execute_result"
    }
   ],
   "source": [
    "str[::2]"
   ]
  },
  {
   "cell_type": "code",
   "execution_count": 51,
   "id": "3fe2a369",
   "metadata": {},
   "outputs": [
    {
     "data": {
      "text/plain": [
       "'ys an'"
      ]
     },
     "execution_count": 51,
     "metadata": {},
     "output_type": "execute_result"
    }
   ],
   "source": [
    "str[1::2]"
   ]
  },
  {
   "cell_type": "code",
   "execution_count": 58,
   "id": "c127d491",
   "metadata": {},
   "outputs": [
    {
     "data": {
      "text/plain": [
       "'ys an'"
      ]
     },
     "execution_count": 58,
     "metadata": {},
     "output_type": "execute_result"
    }
   ],
   "source": [
    "str[1:10:2]"
   ]
  },
  {
   "cell_type": "code",
   "execution_count": 60,
   "id": "7996c614",
   "metadata": {},
   "outputs": [
    {
     "data": {
      "text/plain": [
       "'niaj hsuya'"
      ]
     },
     "execution_count": 60,
     "metadata": {},
     "output_type": "execute_result"
    }
   ],
   "source": [
    "str[::-1]"
   ]
  },
  {
   "cell_type": "markdown",
   "id": "aef95cce",
   "metadata": {},
   "source": [
    "it is a python trick to reverse your name / str"
   ]
  },
  {
   "cell_type": "code",
   "execution_count": null,
   "id": "1f727618",
   "metadata": {},
   "outputs": [],
   "source": []
  }
 ],
 "metadata": {
  "kernelspec": {
   "display_name": "Python 3",
   "language": "python",
   "name": "python3"
  },
  "language_info": {
   "codemirror_mode": {
    "name": "ipython",
    "version": 3
   },
   "file_extension": ".py",
   "mimetype": "text/x-python",
   "name": "python",
   "nbconvert_exporter": "python",
   "pygments_lexer": "ipython3",
   "version": "3.8.8"
  }
 },
 "nbformat": 4,
 "nbformat_minor": 5
}
