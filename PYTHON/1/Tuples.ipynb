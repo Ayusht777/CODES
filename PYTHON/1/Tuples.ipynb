{
 "cells": [
  {
   "cell_type": "markdown",
   "id": "e6a2cbba",
   "metadata": {},
   "source": [
    "# Tuples "
   ]
  },
  {
   "cell_type": "markdown",
   "id": "41d5007a",
   "metadata": {},
   "source": [
    "A tuple is a collection of objects which ordered and immutable. Tuples are sequences, just like lists. The differences between tuples and lists are, the tuples cannot be changed unlike lists and tuples use parentheses, whereas lists use square brackets.\n",
    "Ordered\n",
    "\n",
    "When we say that tuples are ordered, it means that the items have a defined order, and that order will not change.\n",
    "Unchangeable\n",
    "\n",
    "Tuples are unchangeable, meaning that we cannot change, add or remove items after the tuple has been created."
   ]
  },
  {
   "cell_type": "markdown",
   "id": "a3f4bec3",
   "metadata": {},
   "source": [
    "## Constructing Tuples\n",
    "\n",
    "The construction of a tuples use () with elements separated by commas. For example:"
   ]
  },
  {
   "cell_type": "code",
   "execution_count": 1,
   "id": "1472152a",
   "metadata": {},
   "outputs": [],
   "source": [
    "tus = (1,3,4)"
   ]
  },
  {
   "cell_type": "code",
   "execution_count": 2,
   "id": "e3815f21",
   "metadata": {},
   "outputs": [],
   "source": [
    "# Can also mix object types"
   ]
  },
  {
   "cell_type": "code",
   "execution_count": 1,
   "id": "b0f06f5a",
   "metadata": {},
   "outputs": [],
   "source": [
    "t = (\"str\",12,2.3,[1,2,3])"
   ]
  },
  {
   "cell_type": "code",
   "execution_count": 5,
   "id": "1393f6d5",
   "metadata": {},
   "outputs": [],
   "source": [
    "# Check len"
   ]
  },
  {
   "cell_type": "code",
   "execution_count": 7,
   "id": "1b0d9643",
   "metadata": {},
   "outputs": [
    {
     "data": {
      "text/plain": [
       "4"
      ]
     },
     "execution_count": 7,
     "metadata": {},
     "output_type": "execute_result"
    }
   ],
   "source": [
    "len(t)"
   ]
  },
  {
   "cell_type": "code",
   "execution_count": 8,
   "id": "ebe0fb6f",
   "metadata": {},
   "outputs": [
    {
     "data": {
      "text/plain": [
       "3"
      ]
     },
     "execution_count": 8,
     "metadata": {},
     "output_type": "execute_result"
    }
   ],
   "source": [
    "len(tus)"
   ]
  },
  {
   "cell_type": "code",
   "execution_count": 9,
   "id": "81491b59",
   "metadata": {},
   "outputs": [],
   "source": [
    "# Use indexing"
   ]
  },
  {
   "cell_type": "code",
   "execution_count": 10,
   "id": "b0a71335",
   "metadata": {},
   "outputs": [
    {
     "data": {
      "text/plain": [
       "3"
      ]
     },
     "execution_count": 10,
     "metadata": {},
     "output_type": "execute_result"
    }
   ],
   "source": [
    "tus[1]"
   ]
  },
  {
   "cell_type": "code",
   "execution_count": 13,
   "id": "ccfd594b",
   "metadata": {},
   "outputs": [
    {
     "data": {
      "text/plain": [
       "1"
      ]
     },
     "execution_count": 13,
     "metadata": {},
     "output_type": "execute_result"
    }
   ],
   "source": [
    "t[3][0]  #complex tuple with sub indexing"
   ]
  },
  {
   "cell_type": "code",
   "execution_count": 14,
   "id": "6fedb7f6",
   "metadata": {},
   "outputs": [],
   "source": [
    "#Slicing"
   ]
  },
  {
   "cell_type": "code",
   "execution_count": 15,
   "id": "3eee844d",
   "metadata": {},
   "outputs": [
    {
     "data": {
      "text/plain": [
       "('str', 12, 2.3, [1, 2, 3])"
      ]
     },
     "execution_count": 15,
     "metadata": {},
     "output_type": "execute_result"
    }
   ],
   "source": [
    "t"
   ]
  },
  {
   "cell_type": "code",
   "execution_count": 17,
   "id": "70ff495d",
   "metadata": {},
   "outputs": [
    {
     "data": {
      "text/plain": [
       "(12, 2.3, [1, 2, 3])"
      ]
     },
     "execution_count": 17,
     "metadata": {},
     "output_type": "execute_result"
    }
   ],
   "source": [
    "t[1:]"
   ]
  },
  {
   "cell_type": "code",
   "execution_count": 18,
   "id": "c5c26f59",
   "metadata": {},
   "outputs": [],
   "source": [
    "#using reverse indexing"
   ]
  },
  {
   "cell_type": "code",
   "execution_count": 2,
   "id": "4fd02f5d",
   "metadata": {},
   "outputs": [
    {
     "data": {
      "text/plain": [
       "[1, 2, 3]"
      ]
     },
     "execution_count": 2,
     "metadata": {},
     "output_type": "execute_result"
    }
   ],
   "source": [
    "t[-1]"
   ]
  },
  {
   "cell_type": "code",
   "execution_count": 22,
   "id": "6cca93f0",
   "metadata": {},
   "outputs": [
    {
     "data": {
      "text/plain": [
       "([1, 2, 3], 2.3, 12, 'str')"
      ]
     },
     "execution_count": 22,
     "metadata": {},
     "output_type": "execute_result"
    }
   ],
   "source": [
    "t[::-1]"
   ]
  },
  {
   "cell_type": "markdown",
   "id": "b1c3f167",
   "metadata": {},
   "source": [
    "## Immutable Tuples "
   ]
  },
  {
   "cell_type": "markdown",
   "id": "63f70884",
   "metadata": {},
   "source": [
    "Tuples are immutables means cannot changed like lists,dictionary"
   ]
  },
  {
   "cell_type": "code",
   "execution_count": 23,
   "id": "b78fe0d6",
   "metadata": {},
   "outputs": [],
   "source": [
    "a = (\"stx\",\"a\",12)"
   ]
  },
  {
   "cell_type": "code",
   "execution_count": 24,
   "id": "9c0c68e4",
   "metadata": {},
   "outputs": [
    {
     "ename": "TypeError",
     "evalue": "'tuple' object does not support item assignment",
     "output_type": "error",
     "traceback": [
      "\u001b[1;31m---------------------------------------------------------------------------\u001b[0m",
      "\u001b[1;31mTypeError\u001b[0m                                 Traceback (most recent call last)",
      "\u001b[1;32m<ipython-input-24-95dac973728e>\u001b[0m in \u001b[0;36m<module>\u001b[1;34m\u001b[0m\n\u001b[1;32m----> 1\u001b[1;33m \u001b[0ma\u001b[0m\u001b[1;33m[\u001b[0m\u001b[1;36m1\u001b[0m\u001b[1;33m]\u001b[0m \u001b[1;33m=\u001b[0m \u001b[1;34m\"b\"\u001b[0m\u001b[1;33m\u001b[0m\u001b[1;33m\u001b[0m\u001b[0m\n\u001b[0m",
      "\u001b[1;31mTypeError\u001b[0m: 'tuple' object does not support item assignment"
     ]
    }
   ],
   "source": [
    "a[1] = \"b\""
   ]
  },
  {
   "cell_type": "code",
   "execution_count": 74,
   "id": "ee43176f",
   "metadata": {},
   "outputs": [
    {
     "ename": "AttributeError",
     "evalue": "'tuple' object has no attribute 'append'",
     "output_type": "error",
     "traceback": [
      "\u001b[1;31m---------------------------------------------------------------------------\u001b[0m",
      "\u001b[1;31mAttributeError\u001b[0m                            Traceback (most recent call last)",
      "\u001b[1;32m<ipython-input-74-9c56fa0616a4>\u001b[0m in \u001b[0;36m<module>\u001b[1;34m\u001b[0m\n\u001b[1;32m----> 1\u001b[1;33m \u001b[0ma\u001b[0m\u001b[1;33m.\u001b[0m\u001b[0mappend\u001b[0m\u001b[1;33m(\u001b[0m\u001b[1;34m'nope'\u001b[0m\u001b[1;33m)\u001b[0m\u001b[1;33m\u001b[0m\u001b[1;33m\u001b[0m\u001b[0m\n\u001b[0m",
      "\u001b[1;31mAttributeError\u001b[0m: 'tuple' object has no attribute 'append'"
     ]
    }
   ],
   "source": [
    "a.append('nope')"
   ]
  },
  {
   "cell_type": "markdown",
   "id": "df922e55",
   "metadata": {},
   "source": [
    "## Concatenation of Tuples "
   ]
  },
  {
   "cell_type": "markdown",
   "id": "8ac1d736",
   "metadata": {},
   "source": [
    "Concatenation of tuples means joining two or more tuples together"
   ]
  },
  {
   "cell_type": "code",
   "execution_count": 30,
   "id": "ddd6b43e",
   "metadata": {},
   "outputs": [],
   "source": [
    "tup1 = (1,2,3)\n",
    "tup2 = (\"A\",\"B\",\"C\")"
   ]
  },
  {
   "cell_type": "code",
   "execution_count": 31,
   "id": "23d8d8e2",
   "metadata": {},
   "outputs": [],
   "source": [
    "tup3 = tup1 + tup2"
   ]
  },
  {
   "cell_type": "code",
   "execution_count": 32,
   "id": "263d1446",
   "metadata": {},
   "outputs": [
    {
     "data": {
      "text/plain": [
       "(1, 2, 3, 'A', 'B', 'C')"
      ]
     },
     "execution_count": 32,
     "metadata": {},
     "output_type": "execute_result"
    }
   ],
   "source": [
    "tup3"
   ]
  },
  {
   "cell_type": "markdown",
   "id": "ef6bfffa",
   "metadata": {},
   "source": [
    "## Nesting of Tuples"
   ]
  },
  {
   "cell_type": "markdown",
   "id": "ac54c0b5",
   "metadata": {},
   "source": [
    "It means tuples having a sub tuple\n",
    "\n",
    "tuple1(tuple2)"
   ]
  },
  {
   "cell_type": "code",
   "execution_count": 36,
   "id": "1a66217d",
   "metadata": {},
   "outputs": [],
   "source": [
    "tup1 = (2,3,4)\n",
    "tup2 = (\"A\",\"x\")\n",
    "tup3 = (\"@\",.1)"
   ]
  },
  {
   "cell_type": "code",
   "execution_count": 37,
   "id": "38cd0ac7",
   "metadata": {},
   "outputs": [],
   "source": [
    "tup4 = (tup1,tup2,tup3)"
   ]
  },
  {
   "cell_type": "code",
   "execution_count": 39,
   "id": "6989a9af",
   "metadata": {},
   "outputs": [
    {
     "data": {
      "text/plain": [
       "((2, 3, 4), ('A', 'x'), ('@', 0.1))"
      ]
     },
     "execution_count": 39,
     "metadata": {},
     "output_type": "execute_result"
    }
   ],
   "source": [
    "tup4"
   ]
  },
  {
   "cell_type": "markdown",
   "id": "735d3fce",
   "metadata": {},
   "source": [
    "## Repetition / Duplication of Tuples "
   ]
  },
  {
   "cell_type": "code",
   "execution_count": 46,
   "id": "aae6698f",
   "metadata": {},
   "outputs": [
    {
     "name": "stdout",
     "output_type": "stream",
     "text": [
      "('a', 2, 'z', 'a', 2, 'z')\n"
     ]
    }
   ],
   "source": [
    "tips = (\"a\",2,\"z\")*2\n",
    "print(tips)\n",
    "#Note we use ** sign in lists"
   ]
  },
  {
   "cell_type": "markdown",
   "id": "087d4d30",
   "metadata": {},
   "source": [
    "## Deleting a Tuple"
   ]
  },
  {
   "cell_type": "code",
   "execution_count": 49,
   "id": "8c556e03",
   "metadata": {},
   "outputs": [
    {
     "ename": "NameError",
     "evalue": "name 'tips' is not defined",
     "output_type": "error",
     "traceback": [
      "\u001b[1;31m---------------------------------------------------------------------------\u001b[0m",
      "\u001b[1;31mNameError\u001b[0m                                 Traceback (most recent call last)",
      "\u001b[1;32m<ipython-input-49-b0ab81244ad1>\u001b[0m in \u001b[0;36m<module>\u001b[1;34m\u001b[0m\n\u001b[1;32m----> 1\u001b[1;33m \u001b[0mtips\u001b[0m\u001b[1;33m\u001b[0m\u001b[1;33m\u001b[0m\u001b[0m\n\u001b[0m\u001b[0;32m      2\u001b[0m \u001b[1;32mdel\u001b[0m \u001b[0mtips\u001b[0m\u001b[1;33m\u001b[0m\u001b[1;33m\u001b[0m\u001b[0m\n\u001b[0;32m      3\u001b[0m \u001b[0mprint\u001b[0m\u001b[1;33m(\u001b[0m\u001b[0mtips\u001b[0m\u001b[1;33m)\u001b[0m\u001b[1;33m\u001b[0m\u001b[1;33m\u001b[0m\u001b[0m\n",
      "\u001b[1;31mNameError\u001b[0m: name 'tips' is not defined"
     ]
    }
   ],
   "source": [
    "tips\n",
    "del tips\n",
    "print(tips) #error because we deleted the tuple"
   ]
  },
  {
   "cell_type": "code",
   "execution_count": 52,
   "id": "cbcdbe33",
   "metadata": {},
   "outputs": [
    {
     "data": {
      "text/plain": [
       "tuple"
      ]
     },
     "execution_count": 52,
     "metadata": {},
     "output_type": "execute_result"
    }
   ],
   "source": [
    "type(tup1)"
   ]
  },
  {
   "cell_type": "markdown",
   "id": "f6bfd74a",
   "metadata": {},
   "source": [
    "## Tuple Built-in  Functions"
   ]
  },
  {
   "cell_type": "code",
   "execution_count": 57,
   "id": "e35ed333",
   "metadata": {},
   "outputs": [],
   "source": [
    "# NOTE : TUPLES DOESNOT HAVE  BUILT-IN METHODS LIKE LISTS,STR,ETC"
   ]
  },
  {
   "attachments": {
    "Screenshot%202021-09-30%20at%2022-15-20%20Python%20-%20Tuples.png": {
     "image/png": "[encoded data removed]"
    }
   },
   "cell_type": "markdown",
   "id": "b859e800",
   "metadata": {},
   "source": [
    "![Screenshot%202021-09-30%20at%2022-15-20%20Python%20-%20Tuples.png](attachment:Screenshot%202021-09-30%20at%2022-15-20%20Python%20-%20Tuples.png)# \n",
    "### note cpm does not work now"
   ]
  },
  {
   "cell_type": "code",
   "execution_count": 55,
   "id": "bd3a0229",
   "metadata": {},
   "outputs": [],
   "source": [
    "#max(tuple)"
   ]
  },
  {
   "cell_type": "code",
   "execution_count": 65,
   "id": "8ec9e025",
   "metadata": {},
   "outputs": [],
   "source": [
    "tup1 = (-1,0,1,2,4)"
   ]
  },
  {
   "cell_type": "code",
   "execution_count": 66,
   "id": "ef21ef59",
   "metadata": {},
   "outputs": [
    {
     "data": {
      "text/plain": [
       "4"
      ]
     },
     "execution_count": 66,
     "metadata": {},
     "output_type": "execute_result"
    }
   ],
   "source": [
    "max(tup1)"
   ]
  },
  {
   "cell_type": "code",
   "execution_count": 64,
   "id": "2281cce9",
   "metadata": {},
   "outputs": [],
   "source": [
    "#min(tuple)"
   ]
  },
  {
   "cell_type": "code",
   "execution_count": 67,
   "id": "8092603f",
   "metadata": {},
   "outputs": [
    {
     "data": {
      "text/plain": [
       "-1"
      ]
     },
     "execution_count": 67,
     "metadata": {},
     "output_type": "execute_result"
    }
   ],
   "source": [
    "min(tup1)"
   ]
  },
  {
   "cell_type": "code",
   "execution_count": 68,
   "id": "d79790f2",
   "metadata": {},
   "outputs": [],
   "source": [
    "#tuple(listname)"
   ]
  },
  {
   "cell_type": "code",
   "execution_count": 69,
   "id": "198e42ef",
   "metadata": {},
   "outputs": [],
   "source": [
    "le = [1,2,3]"
   ]
  },
  {
   "cell_type": "code",
   "execution_count": 70,
   "id": "7cdda768",
   "metadata": {},
   "outputs": [
    {
     "data": {
      "text/plain": [
       "(1, 2, 3)"
      ]
     },
     "execution_count": 70,
     "metadata": {},
     "output_type": "execute_result"
    }
   ],
   "source": [
    "tuple(le) # it is not a permanet change"
   ]
  },
  {
   "cell_type": "code",
   "execution_count": 73,
   "id": "696ce033",
   "metadata": {},
   "outputs": [
    {
     "name": "stdout",
     "output_type": "stream",
     "text": [
      "(1, 2, 3)\n"
     ]
    }
   ],
   "source": [
    "le = tuple(le) \n",
    "print(le)"
   ]
  },
  {
   "cell_type": "code",
   "execution_count": null,
   "id": "699fb862",
   "metadata": {},
   "outputs": [],
   "source": []
  },
  {
   "cell_type": "markdown",
   "id": "55ed8114",
   "metadata": {},
   "source": [
    "# When to use Tuples\n",
    "\n",
    "You may be wondering, \"Why bother using tuples when they have fewer available methods?\" To be honest, tuples are not used as often as lists in programming, but are used when immutability is necessary. If in your program you are passing around an object and need to make sure it does not get changed, then a tuple becomes your solution. It provides a convenient source of data integrity.\n",
    "\n",
    "You should now be able to create and use tuples in your programming as well as have an understanding of their immutability.\n",
    "\n",
    "Up next Files!"
   ]
  },
  {
   "attachments": {
    "Screenshot%202021-10-01%20at%2010-09-16%20Python%20Tuples%20-%20javatpoint.png": {
     "image/png": "[encoded data removed]"
    }
   },
   "cell_type": "markdown",
   "id": "71875ceb",
   "metadata": {},
   "source": [
    "![Screenshot%202021-10-01%20at%2010-09-16%20Python%20Tuples%20-%20javatpoint.png](attachment:Screenshot%202021-10-01%20at%2010-09-16%20Python%20Tuples%20-%20javatpoint.png)"
   ]
  },
  {
   "cell_type": "code",
   "execution_count": null,
   "id": "b1afc2de",
   "metadata": {},
   "outputs": [],
   "source": []
  }
 ],
 "metadata": {
  "kernelspec": {
   "display_name": "Python 3",
   "language": "python",
   "name": "python3"
  },
  "language_info": {
   "codemirror_mode": {
    "name": "ipython",
    "version": 3
   },
   "file_extension": ".py",
   "mimetype": "text/x-python",
   "name": "python",
   "nbconvert_exporter": "python",
   "pygments_lexer": "ipython3",
   "version": "3.8.8"
  }
 },
 "nbformat": 4,
 "nbformat_minor": 5
}
