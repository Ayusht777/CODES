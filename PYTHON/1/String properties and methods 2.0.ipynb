{
 "cells": [
  {
   "cell_type": "markdown",
   "id": "e7a03e39",
   "metadata": {},
   "source": [
    "# strings built in methods (modes)"
   ]
  },
  {
   "cell_type": "code",
   "execution_count": 10,
   "id": "6c815d07",
   "metadata": {},
   "outputs": [],
   "source": [
    "y =\"ayush talesara\""
   ]
  },
  {
   "cell_type": "markdown",
   "id": "d7b48041",
   "metadata": {},
   "source": [
    "### For Upper case"
   ]
  },
  {
   "cell_type": "code",
   "execution_count": 5,
   "id": "82edf455",
   "metadata": {},
   "outputs": [
    {
     "data": {
      "text/plain": [
       "'AYUSH TALESRA'"
      ]
     },
     "execution_count": 5,
     "metadata": {},
     "output_type": "execute_result"
    }
   ],
   "source": [
    "y.upper()"
   ]
  },
  {
   "cell_type": "markdown",
   "id": "f207b217",
   "metadata": {},
   "source": [
    "how to use this str built-in list defined a string \n",
    "\n",
    "anystr.tabkey()"
   ]
  },
  {
   "cell_type": "raw",
   "id": "535b2869",
   "metadata": {},
   "source": []
  },
  {
   "cell_type": "markdown",
   "id": "1a14ef72",
   "metadata": {},
   "source": [
    "basically it doesnot change then orignal string you have to change it by reassigning the pervious value of str \n",
    "\n",
    "what i mean see below\n"
   ]
  },
  {
   "cell_type": "code",
   "execution_count": 11,
   "id": "c2264f87",
   "metadata": {},
   "outputs": [],
   "source": [
    "y = y.upper()"
   ]
  },
  {
   "cell_type": "code",
   "execution_count": 12,
   "id": "6b0e802f",
   "metadata": {},
   "outputs": [
    {
     "data": {
      "text/plain": [
       "'AYUSH TALESARA'"
      ]
     },
     "execution_count": 12,
     "metadata": {},
     "output_type": "execute_result"
    }
   ],
   "source": [
    "y"
   ]
  },
  {
   "cell_type": "code",
   "execution_count": 7,
   "id": "f4d4e252",
   "metadata": {},
   "outputs": [
    {
     "data": {
      "text/plain": [
       "<function str.upper()>"
      ]
     },
     "execution_count": 7,
     "metadata": {},
     "output_type": "execute_result"
    }
   ],
   "source": [
    "y.upper"
   ]
  },
  {
   "cell_type": "markdown",
   "id": "a086892f",
   "metadata": {},
   "source": [
    "if you forgot () than python will tell that this method is not proper"
   ]
  },
  {
   "cell_type": "markdown",
   "id": "16bf891e",
   "metadata": {},
   "source": [
    "### For Lowercase"
   ]
  },
  {
   "cell_type": "code",
   "execution_count": 13,
   "id": "b98ed0e9",
   "metadata": {},
   "outputs": [
    {
     "data": {
      "text/plain": [
       "'ayush talesara'"
      ]
     },
     "execution_count": 13,
     "metadata": {},
     "output_type": "execute_result"
    }
   ],
   "source": [
    "y.lower()"
   ]
  },
  {
   "cell_type": "markdown",
   "id": "24074501",
   "metadata": {},
   "source": [
    "### For Captilazing "
   ]
  },
  {
   "cell_type": "code",
   "execution_count": 14,
   "id": "d7d1ce2e",
   "metadata": {},
   "outputs": [
    {
     "data": {
      "text/plain": [
       "'Ayush talesara'"
      ]
     },
     "execution_count": 14,
     "metadata": {},
     "output_type": "execute_result"
    }
   ],
   "source": [
    "y.capitalize()"
   ]
  },
  {
   "cell_type": "markdown",
   "id": "5938078e",
   "metadata": {},
   "source": [
    "### To Count No. of Any Sepcific Word/Letter in a sentence / phrase "
   ]
  },
  {
   "cell_type": "code",
   "execution_count": 15,
   "id": "c05abaa3",
   "metadata": {},
   "outputs": [
    {
     "data": {
      "text/plain": [
       "'AYUSH TALESARA'"
      ]
     },
     "execution_count": 15,
     "metadata": {},
     "output_type": "execute_result"
    }
   ],
   "source": [
    "y"
   ]
  },
  {
   "cell_type": "code",
   "execution_count": 16,
   "id": "d43ba8a3",
   "metadata": {},
   "outputs": [
    {
     "data": {
      "text/plain": [
       "4"
      ]
     },
     "execution_count": 16,
     "metadata": {},
     "output_type": "execute_result"
    }
   ],
   "source": [
    "y.count(\"A\")"
   ]
  },
  {
   "cell_type": "raw",
   "id": "ab117724",
   "metadata": {},
   "source": [
    "NOTE : COUNT IS CASE SENSETIVE \n",
    "SO YOU HAVE TO USE SAME CASE METHOD IN YOUR PRE.DEFINE STRING \n",
    "UPPERCAS,lowercas,Captilaztion"
   ]
  },
  {
   "cell_type": "code",
   "execution_count": 26,
   "id": "2b075271",
   "metadata": {},
   "outputs": [
    {
     "data": {
      "text/plain": [
       "0"
      ]
     },
     "execution_count": 26,
     "metadata": {},
     "output_type": "execute_result"
    }
   ],
   "source": [
    "y.count(\"a\")"
   ]
  },
  {
   "cell_type": "markdown",
   "id": "9f3ab307",
   "metadata": {},
   "source": [
    "it show zero because their is no lowercase a present in AYUSH TALESARA"
   ]
  },
  {
   "cell_type": "code",
   "execution_count": 21,
   "id": "c8206ee1",
   "metadata": {},
   "outputs": [
    {
     "data": {
      "text/plain": [
       "1"
      ]
     },
     "execution_count": 21,
     "metadata": {},
     "output_type": "execute_result"
    }
   ],
   "source": [
    "y.count(\"AYUSH\")"
   ]
  },
  {
   "cell_type": "markdown",
   "id": "379afd4d",
   "metadata": {},
   "source": [
    "### To Find the postion of any letter"
   ]
  },
  {
   "cell_type": "code",
   "execution_count": 23,
   "id": "b3ba7e2a",
   "metadata": {},
   "outputs": [],
   "source": [
    "y = \"ayush talesra\""
   ]
  },
  {
   "cell_type": "code",
   "execution_count": 26,
   "id": "c3478666",
   "metadata": {},
   "outputs": [
    {
     "data": {
      "text/plain": [
       "4"
      ]
     },
     "execution_count": 26,
     "metadata": {},
     "output_type": "execute_result"
    }
   ],
   "source": [
    "y.find(\"h\")"
   ]
  },
  {
   "cell_type": "markdown",
   "id": "7c5bddbc",
   "metadata": {},
   "source": [
    "so basically it show its index no "
   ]
  },
  {
   "cell_type": "code",
   "execution_count": 34,
   "id": "70496d65",
   "metadata": {},
   "outputs": [
    {
     "data": {
      "text/plain": [
       "'u'"
      ]
     },
     "execution_count": 34,
     "metadata": {},
     "output_type": "execute_result"
    }
   ],
   "source": [
    "y[2]"
   ]
  },
  {
   "cell_type": "markdown",
   "id": "6052240a",
   "metadata": {},
   "source": [
    "and this show index letter "
   ]
  },
  {
   "cell_type": "code",
   "execution_count": 27,
   "id": "74ea0d85",
   "metadata": {},
   "outputs": [
    {
     "data": {
      "text/plain": [
       "0"
      ]
     },
     "execution_count": 27,
     "metadata": {},
     "output_type": "execute_result"
    }
   ],
   "source": [
    "y.find(\"a\")"
   ]
  },
  {
   "cell_type": "markdown",
   "id": "7848bc1e",
   "metadata": {},
   "source": [
    "because my first letter is a and which is zero and indexing start from zero "
   ]
  },
  {
   "cell_type": "code",
   "execution_count": 36,
   "id": "d92fbd89",
   "metadata": {},
   "outputs": [
    {
     "data": {
      "text/plain": [
       "-1"
      ]
     },
     "execution_count": 36,
     "metadata": {},
     "output_type": "execute_result"
    }
   ],
   "source": [
    "y.find(\"j\")"
   ]
  },
  {
   "cell_type": "markdown",
   "id": "70d1886d",
   "metadata": {},
   "source": [
    "it shows -1 when the letter doesnot present in the string"
   ]
  },
  {
   "cell_type": "raw",
   "id": "0083300d",
   "metadata": {},
   "source": [
    "NOTE : FIND IS CASE SENSETIVE \n",
    "SO YOU HAVE TO USE SAME CASE METHOD IN YOUR DEFINE STRING \n",
    "UPPERCAS,lowercas,Captilaztion"
   ]
  },
  {
   "cell_type": "markdown",
   "id": "934eb38e",
   "metadata": {},
   "source": [
    "# strip  to remove white spaces "
   ]
  },
  {
   "cell_type": "code",
   "execution_count": 43,
   "id": "2fd2f9ce",
   "metadata": {},
   "outputs": [],
   "source": [
    "z =\"      hi ayush how are you      \""
   ]
  },
  {
   "cell_type": "code",
   "execution_count": 41,
   "id": "f7c9ff0d",
   "metadata": {},
   "outputs": [
    {
     "data": {
      "text/plain": [
       "'hi ayush how are you'"
      ]
     },
     "execution_count": 41,
     "metadata": {},
     "output_type": "execute_result"
    }
   ],
   "source": [
    "z.lstrip()"
   ]
  },
  {
   "cell_type": "markdown",
   "id": "a5b0fa43",
   "metadata": {},
   "source": [
    "lstrip() removes spaces from left of the sentence where it start"
   ]
  },
  {
   "cell_type": "code",
   "execution_count": 44,
   "id": "747f84c7",
   "metadata": {},
   "outputs": [
    {
     "data": {
      "text/plain": [
       "'      hi ayush how are you'"
      ]
     },
     "execution_count": 44,
     "metadata": {},
     "output_type": "execute_result"
    }
   ],
   "source": [
    "z.rstrip()"
   ]
  },
  {
   "cell_type": "markdown",
   "id": "f5167d05",
   "metadata": {},
   "source": [
    "rstrip() removes spaces from right of the sentence where it start"
   ]
  },
  {
   "cell_type": "code",
   "execution_count": 28,
   "id": "e79fe166",
   "metadata": {},
   "outputs": [],
   "source": [
    "# it doesnot change the orignal string & create a new temp. value "
   ]
  },
  {
   "cell_type": "markdown",
   "id": "78214c85",
   "metadata": {},
   "source": [
    "to change then string by reassign the str "
   ]
  },
  {
   "cell_type": "code",
   "execution_count": 46,
   "id": "1dc9f568",
   "metadata": {},
   "outputs": [],
   "source": [
    "z = z.lstrip()"
   ]
  },
  {
   "cell_type": "code",
   "execution_count": 47,
   "id": "8e1b20a9",
   "metadata": {},
   "outputs": [
    {
     "data": {
      "text/plain": [
       "'hi ayush how are you      '"
      ]
     },
     "execution_count": 47,
     "metadata": {},
     "output_type": "execute_result"
    }
   ],
   "source": [
    "z"
   ]
  },
  {
   "cell_type": "code",
   "execution_count": 48,
   "id": "2ce40a33",
   "metadata": {},
   "outputs": [],
   "source": [
    "z = z.rstrip()"
   ]
  },
  {
   "cell_type": "code",
   "execution_count": 49,
   "id": "5cbc537a",
   "metadata": {},
   "outputs": [
    {
     "data": {
      "text/plain": [
       "'hi ayush how are you'"
      ]
     },
     "execution_count": 49,
     "metadata": {},
     "output_type": "execute_result"
    }
   ],
   "source": [
    "z\n"
   ]
  },
  {
   "cell_type": "code",
   "execution_count": 50,
   "id": "f18f8ae6",
   "metadata": {},
   "outputs": [],
   "source": [
    "#   or "
   ]
  },
  {
   "cell_type": "code",
   "execution_count": 51,
   "id": "fed2751f",
   "metadata": {},
   "outputs": [
    {
     "data": {
      "text/plain": [
       "'hi ayush how are you'"
      ]
     },
     "execution_count": 51,
     "metadata": {},
     "output_type": "execute_result"
    }
   ],
   "source": [
    "z.strip()"
   ]
  },
  {
   "cell_type": "code",
   "execution_count": 57,
   "id": "aa185a7d",
   "metadata": {},
   "outputs": [],
   "source": [
    "z =  z.strip()"
   ]
  },
  {
   "cell_type": "code",
   "execution_count": 58,
   "id": "03cf641f",
   "metadata": {},
   "outputs": [
    {
     "data": {
      "text/plain": [
       "'hi ayush how are you'"
      ]
     },
     "execution_count": 58,
     "metadata": {},
     "output_type": "execute_result"
    }
   ],
   "source": [
    "z"
   ]
  },
  {
   "cell_type": "markdown",
   "id": "4e693836",
   "metadata": {},
   "source": [
    "### To Replace any Word with another "
   ]
  },
  {
   "cell_type": "code",
   "execution_count": 59,
   "id": "a81e003e",
   "metadata": {},
   "outputs": [
    {
     "data": {
      "text/plain": [
       "'hi piyush how are you'"
      ]
     },
     "execution_count": 59,
     "metadata": {},
     "output_type": "execute_result"
    }
   ],
   "source": [
    "z.replace(\"ayush\",\"piyush\")"
   ]
  },
  {
   "cell_type": "code",
   "execution_count": 5,
   "id": "47a7674f",
   "metadata": {},
   "outputs": [],
   "source": [
    "z = \"hello goat are you a goat\""
   ]
  },
  {
   "cell_type": "code",
   "execution_count": 6,
   "id": "a190fb20",
   "metadata": {},
   "outputs": [
    {
     "data": {
      "text/plain": [
       "'hello boat are you a boat'"
      ]
     },
     "execution_count": 6,
     "metadata": {},
     "output_type": "execute_result"
    }
   ],
   "source": [
    "z.replace(\"goat\",\"boat\")"
   ]
  },
  {
   "cell_type": "code",
   "execution_count": null,
   "id": "c82f5e07",
   "metadata": {},
   "outputs": [],
   "source": [
    "#but if you want to replace goat to boat only one times than \\\n",
    "string.replace(\"old\",\"new\",noof times.)"
   ]
  },
  {
   "cell_type": "code",
   "execution_count": 7,
   "id": "37c2cc32",
   "metadata": {},
   "outputs": [
    {
     "data": {
      "text/plain": [
       "'hello boat are you a goat'"
      ]
     },
     "execution_count": 7,
     "metadata": {},
     "output_type": "execute_result"
    }
   ],
   "source": [
    "z.replace(\"goat\",\"boat\",1)"
   ]
  },
  {
   "cell_type": "markdown",
   "id": "631afc29",
   "metadata": {},
   "source": [
    "### split which create a list "
   ]
  },
  {
   "cell_type": "code",
   "execution_count": 17,
   "id": "0703ae51",
   "metadata": {},
   "outputs": [],
   "source": [
    "z = \"hi ayush how are you\""
   ]
  },
  {
   "cell_type": "code",
   "execution_count": 20,
   "id": "796cc186",
   "metadata": {},
   "outputs": [
    {
     "data": {
      "text/plain": [
       "['hi', 'ayush', 'how', 'are', 'you']"
      ]
     },
     "execution_count": 20,
     "metadata": {},
     "output_type": "execute_result"
    }
   ],
   "source": [
    "z.split()"
   ]
  },
  {
   "cell_type": "markdown",
   "id": "a1334612",
   "metadata": {},
   "source": [
    "### spliting from double : \n",
    "it means spliting where a double collen persent in str"
   ]
  },
  {
   "cell_type": "code",
   "execution_count": 25,
   "id": "32253291",
   "metadata": {},
   "outputs": [],
   "source": [
    "a = \"lion:tiger:cat\""
   ]
  },
  {
   "cell_type": "code",
   "execution_count": 27,
   "id": "b1893e69",
   "metadata": {},
   "outputs": [
    {
     "data": {
      "text/plain": [
       "['lion:tiger:cat']"
      ]
     },
     "execution_count": 27,
     "metadata": {},
     "output_type": "execute_result"
    }
   ],
   "source": [
    "a.split()                                 #bydeafult"
   ]
  },
  {
   "cell_type": "code",
   "execution_count": 29,
   "id": "153749df",
   "metadata": {},
   "outputs": [
    {
     "data": {
      "text/plain": [
       "['lion', 'tiger', 'cat']"
      ]
     },
     "execution_count": 29,
     "metadata": {},
     "output_type": "execute_result"
    }
   ],
   "source": [
    "a.split(\":\")                              # that's what we want"
   ]
  },
  {
   "cell_type": "code",
   "execution_count": 31,
   "id": "3c52a244",
   "metadata": {},
   "outputs": [
    {
     "data": {
      "text/plain": [
       "['geeks', ' for', ' geeks']"
      ]
     },
     "execution_count": 31,
     "metadata": {},
     "output_type": "execute_result"
    }
   ],
   "source": [
    "\n",
    "\n",
    "word = 'geeks, for, geeks'\n",
    "\n",
    "# Splits at ','\n",
    "word.split(',')\n"
   ]
  },
  {
   "cell_type": "code",
   "execution_count": 32,
   "id": "923e3605",
   "metadata": {},
   "outputs": [
    {
     "data": {
      "text/plain": [
       "['Ca', 'Ba', 'Sa', 'Fa', 'Or']"
      ]
     },
     "execution_count": 32,
     "metadata": {},
     "output_type": "execute_result"
    }
   ],
   "source": [
    "word = 'CatBatSatFatOr'\n",
    "\n",
    "# Splitting at t\n",
    "word.split('t')"
   ]
  },
  {
   "cell_type": "markdown",
   "id": "1f394758",
   "metadata": {},
   "source": [
    "MAXSPLIT\n",
    "it means how many times you want to split a string "
   ]
  },
  {
   "cell_type": "code",
   "execution_count": 34,
   "id": "eaf396eb",
   "metadata": {},
   "outputs": [],
   "source": [
    "letter = \"a b c d e\""
   ]
  },
  {
   "cell_type": "code",
   "execution_count": 38,
   "id": "acf1ac17",
   "metadata": {},
   "outputs": [
    {
     "data": {
      "text/plain": [
       "['a', 'b', 'c', 'd', 'e']"
      ]
     },
     "execution_count": 38,
     "metadata": {},
     "output_type": "execute_result"
    }
   ],
   "source": [
    "letter.split(\" \",-1)            #by deafult it is -1"
   ]
  },
  {
   "cell_type": "code",
   "execution_count": 39,
   "id": "e79b3eb4",
   "metadata": {},
   "outputs": [
    {
     "data": {
      "text/plain": [
       "['a b c d e']"
      ]
     },
     "execution_count": 39,
     "metadata": {},
     "output_type": "execute_result"
    }
   ],
   "source": [
    "letter.split(\" \",0)          #no spliting only one list "
   ]
  },
  {
   "cell_type": "code",
   "execution_count": 40,
   "id": "70430de5",
   "metadata": {},
   "outputs": [
    {
     "data": {
      "text/plain": [
       "['a', 'b c d e']"
      ]
     },
     "execution_count": 40,
     "metadata": {},
     "output_type": "execute_result"
    }
   ],
   "source": [
    "letter.split(\" \",1)        #get's splited into two"
   ]
  },
  {
   "cell_type": "code",
   "execution_count": 42,
   "id": "8734da55",
   "metadata": {},
   "outputs": [
    {
     "data": {
      "text/plain": [
       "['a', 'b', 'c d e']"
      ]
     },
     "execution_count": 42,
     "metadata": {},
     "output_type": "execute_result"
    }
   ],
   "source": [
    "letter.split(\" \",2)        # get splited in three"
   ]
  },
  {
   "cell_type": "code",
   "execution_count": null,
   "id": "e19280fd",
   "metadata": {},
   "outputs": [],
   "source": []
  }
 ],
 "metadata": {
  "kernelspec": {
   "display_name": "Python 3",
   "language": "python",
   "name": "python3"
  },
  "language_info": {
   "codemirror_mode": {
    "name": "ipython",
    "version": 3
   },
   "file_extension": ".py",
   "mimetype": "text/x-python",
   "name": "python",
   "nbconvert_exporter": "python",
   "pygments_lexer": "ipython3",
   "version": "3.8.8"
  }
 },
 "nbformat": 4,
 "nbformat_minor": 5
}
