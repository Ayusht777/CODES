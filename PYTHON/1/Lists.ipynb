{
 "cells": [
  {
   "cell_type": "markdown",
   "metadata": {},
   "source": [
    "# Lists\n",
    "\n",
    "Earlier when discussing strings we introduced the concept of a *sequence* in Python. Lists can be thought of the most general version of a *sequence* in Python. Unlike strings, they are mutable, meaning the elements inside a list can be changed!\n",
    "\n",
    "basically list which keep data in a order / sequence. of other data types like: string,floating,integer\n",
    "\n",
    "Lists are constructed with brackets [] and commas separating every element in the list.\n",
    "\n"
   ]
  },
  {
   "cell_type": "code",
   "execution_count": 1,
   "id": "c4ed0deb",
   "metadata": {},
   "outputs": [],
   "source": [
    "# Assign a list to an variable named new_list\n",
    "new_list = [1,2,3,4]"
   ]
  },
  {
   "cell_type": "code",
   "execution_count": 2,
   "id": "bf9bf583",
   "metadata": {},
   "outputs": [
    {
     "data": {
      "text/plain": [
       "[1, 2, 3, 4]"
      ]
     },
     "execution_count": 2,
     "metadata": {},
     "output_type": "execute_result"
    }
   ],
   "source": [
    "new_list"
   ]
  },
  {
   "cell_type": "raw",
   "id": "d13a84c6",
   "metadata": {},
   "source": [
    "here we have  created a list of integers, \n",
    "but lists can actually hold different object types like :string,integer,floatng point. For example:\n"
   ]
  },
  {
   "cell_type": "code",
   "execution_count": 73,
   "id": "df82196f",
   "metadata": {},
   "outputs": [],
   "source": [
    "new_list = [\"strings\",99,2.01]"
   ]
  },
  {
   "cell_type": "code",
   "execution_count": 74,
   "id": "fea35aee",
   "metadata": {},
   "outputs": [
    {
     "data": {
      "text/plain": [
       "['strings', 99, 2.01]"
      ]
     },
     "execution_count": 74,
     "metadata": {},
     "output_type": "execute_result"
    }
   ],
   "source": [
    "new_list\n"
   ]
  },
  {
   "cell_type": "code",
   "execution_count": 5,
   "id": "878cc4c3",
   "metadata": {},
   "outputs": [],
   "source": [
    "# just like string you can also use len() function in list"
   ]
  },
  {
   "cell_type": "code",
   "execution_count": 75,
   "id": "5ad5165c",
   "metadata": {},
   "outputs": [
    {
     "data": {
      "text/plain": [
       "3"
      ]
     },
     "execution_count": 75,
     "metadata": {},
     "output_type": "execute_result"
    }
   ],
   "source": [
    "len(new_list)"
   ]
  },
  {
   "cell_type": "raw",
   "id": "af650c56",
   "metadata": {},
   "source": [
    "because here \n",
    "new_list = [\"strings\",99,2.01]\n",
    "                 |     |   |\n",
    "                 1     2   3"
   ]
  },
  {
   "cell_type": "code",
   "execution_count": null,
   "id": "52403c11",
   "metadata": {},
   "outputs": [],
   "source": []
  },
  {
   "cell_type": "markdown",
   "id": "46b388c6",
   "metadata": {},
   "source": [
    "### Indexing and Slicing\n",
    "Indexing and slicing work just like in strings."
   ]
  },
  {
   "cell_type": "code",
   "execution_count": 8,
   "id": "d4b376ea",
   "metadata": {},
   "outputs": [],
   "source": [
    "n_list = [\"a\",\"b\",\"c\"]"
   ]
  },
  {
   "cell_type": "code",
   "execution_count": 9,
   "id": "6945e520",
   "metadata": {},
   "outputs": [
    {
     "data": {
      "text/plain": [
       "'a'"
      ]
     },
     "execution_count": 9,
     "metadata": {},
     "output_type": "execute_result"
    }
   ],
   "source": [
    "n_list[0]"
   ]
  },
  {
   "cell_type": "raw",
   "id": "a9dfc076",
   "metadata": {},
   "source": [
    "# so here indexing for n_list\n",
    "a b c\n",
    "| | |\n",
    "0 1 2"
   ]
  },
  {
   "cell_type": "code",
   "execution_count": 11,
   "id": "760479af",
   "metadata": {},
   "outputs": [],
   "source": [
    "m_list = [\"hi\",1,2,\"ayush\"]"
   ]
  },
  {
   "cell_type": "code",
   "execution_count": 13,
   "id": "05d9143d",
   "metadata": {},
   "outputs": [
    {
     "data": {
      "text/plain": [
       "'ayush'"
      ]
     },
     "execution_count": 13,
     "metadata": {},
     "output_type": "execute_result"
    }
   ],
   "source": [
    "m_list[3]"
   ]
  },
  {
   "cell_type": "code",
   "execution_count": 17,
   "id": "2f5be37f",
   "metadata": {},
   "outputs": [
    {
     "data": {
      "text/plain": [
       "['hi', 1, 2, 'ayush']"
      ]
     },
     "execution_count": 17,
     "metadata": {},
     "output_type": "execute_result"
    }
   ],
   "source": [
    "m_list[:4]"
   ]
  },
  {
   "cell_type": "code",
   "execution_count": null,
   "id": "ebddabc3",
   "metadata": {},
   "outputs": [],
   "source": []
  },
  {
   "cell_type": "raw",
   "id": "6894662a",
   "metadata": {},
   "source": [
    "#Add/Change List Elements\n",
    "\n",
    "Lists are mutable, meaning their elements can be changed unlike string \n",
    "\n",
    "We can use the assignment operator = to change an item or a range of items."
   ]
  },
  {
   "cell_type": "code",
   "execution_count": 18,
   "id": "1d17e53e",
   "metadata": {},
   "outputs": [],
   "source": [
    "les = [1,\"a\",\"b\",\"d\"]"
   ]
  },
  {
   "cell_type": "code",
   "execution_count": 19,
   "id": "55abe276",
   "metadata": {},
   "outputs": [],
   "source": [
    "les[3] =  \"c\""
   ]
  },
  {
   "cell_type": "code",
   "execution_count": 20,
   "id": "f29f0971",
   "metadata": {},
   "outputs": [
    {
     "data": {
      "text/plain": [
       "[1, 'a', 'b', 'c']"
      ]
     },
     "execution_count": 20,
     "metadata": {},
     "output_type": "execute_result"
    }
   ],
   "source": [
    "les                   # this is permanent!"
   ]
  },
  {
   "cell_type": "markdown",
   "id": "915b83df",
   "metadata": {},
   "source": [
    "### We can also use + to concatenate lists, just like we did for strings."
   ]
  },
  {
   "cell_type": "code",
   "execution_count": 79,
   "id": "31f2f376",
   "metadata": {},
   "outputs": [],
   "source": [
    "one_list = [\"hi\",\"ayush\"]\n",
    "two_list = [\"how\",\"is\",\"going\"]"
   ]
  },
  {
   "cell_type": "code",
   "execution_count": 80,
   "id": "f0bf3dc1",
   "metadata": {},
   "outputs": [
    {
     "data": {
      "text/plain": [
       "['hi', 'ayush', 'how', 'is', 'going']"
      ]
     },
     "execution_count": 80,
     "metadata": {},
     "output_type": "execute_result"
    }
   ],
   "source": [
    "one_list + two_list"
   ]
  },
  {
   "cell_type": "code",
   "execution_count": 77,
   "id": "c447bcae",
   "metadata": {},
   "outputs": [],
   "source": [
    "# to get a final joint list "
   ]
  },
  {
   "cell_type": "code",
   "execution_count": 81,
   "id": "9399b1a8",
   "metadata": {},
   "outputs": [
    {
     "data": {
      "text/plain": [
       "['hi', 'ayush', 'how', 'is', 'going']"
      ]
     },
     "execution_count": 81,
     "metadata": {},
     "output_type": "execute_result"
    }
   ],
   "source": [
    "new_list = one_list + two_list\n",
    "new_list\n"
   ]
  },
  {
   "cell_type": "code",
   "execution_count": 31,
   "id": "6d6c7090",
   "metadata": {},
   "outputs": [],
   "source": [
    "# merging two different type of list \n",
    "# j ---> integer\n",
    "# h ----> string"
   ]
  },
  {
   "cell_type": "code",
   "execution_count": 29,
   "id": "6f896853",
   "metadata": {},
   "outputs": [
    {
     "data": {
      "text/plain": [
       "[12, 22, 'ah']"
      ]
     },
     "execution_count": 29,
     "metadata": {},
     "output_type": "execute_result"
    }
   ],
   "source": [
    "j = [12,22]\n",
    "h = [\"ah\"]\n",
    "a = j + h\n",
    "a"
   ]
  },
  {
   "cell_type": "markdown",
   "id": "86d96e88",
   "metadata": {},
   "source": [
    "adding new items in the list"
   ]
  },
  {
   "cell_type": "code",
   "execution_count": 44,
   "id": "747507fc",
   "metadata": {},
   "outputs": [],
   "source": [
    "x_list = [1,2]"
   ]
  },
  {
   "cell_type": "code",
   "execution_count": 51,
   "id": "28f11054",
   "metadata": {},
   "outputs": [],
   "source": [
    "x = x_list + ['y']"
   ]
  },
  {
   "cell_type": "code",
   "execution_count": 55,
   "id": "1269e729",
   "metadata": {},
   "outputs": [
    {
     "data": {
      "text/plain": [
       "[1, 2, 'y']"
      ]
     },
     "execution_count": 55,
     "metadata": {},
     "output_type": "execute_result"
    }
   ],
   "source": [
    "x"
   ]
  },
  {
   "cell_type": "raw",
   "id": "6e9a65da",
   "metadata": {},
   "source": [
    "duplicating the list       #you can also use this method for string\n",
    "method:\n",
    "name_of_list*n     { here n = no of duplication as you want }"
   ]
  },
  {
   "cell_type": "code",
   "execution_count": 59,
   "id": "8082090e",
   "metadata": {},
   "outputs": [
    {
     "data": {
      "text/plain": [
       "[1, 2, 'y', 1, 2, 'y']"
      ]
     },
     "execution_count": 59,
     "metadata": {},
     "output_type": "execute_result"
    }
   ],
   "source": [
    "x*2"
   ]
  },
  {
   "cell_type": "code",
   "execution_count": 60,
   "id": "c54ab3b0",
   "metadata": {},
   "outputs": [
    {
     "data": {
      "text/plain": [
       "[1, 2, 'y', 1, 2, 'y', 1, 2, 'y']"
      ]
     },
     "execution_count": 60,
     "metadata": {},
     "output_type": "execute_result"
    }
   ],
   "source": [
    "x*3                         #tripling"
   ]
  },
  {
   "cell_type": "code",
   "execution_count": 61,
   "id": "9d92a143",
   "metadata": {},
   "outputs": [],
   "source": [
    "# this method is not permanent"
   ]
  },
  {
   "cell_type": "markdown",
   "id": "09abdbcb",
   "metadata": {},
   "source": [
    "## Basic List Methods\n",
    "\n",
    "If you are familiar with another programming language, you might start to draw parallels between arrays in another language and lists in Python. Lists in Python however, tend to be more flexible than arrays in other languages for a \n",
    "\n",
    "two good reasons: \n",
    "they have no fixed size (meaning we don't have to specify how big a list will be), \n",
    "\n",
    "and they have no fixed type constraint (like we've seen above).\n",
    "\n"
   ]
  },
  {
   "cell_type": "markdown",
   "id": "c06bffa5",
   "metadata": {},
   "source": [
    "### .append() method"
   ]
  },
  {
   "cell_type": "code",
   "execution_count": 63,
   "id": "27aca749",
   "metadata": {},
   "outputs": [],
   "source": [
    "# so i want to add something in this list permanently at the end of the list"
   ]
  },
  {
   "cell_type": "code",
   "execution_count": 62,
   "id": "b304f7c3",
   "metadata": {},
   "outputs": [],
   "source": [
    "llist = [1,2,3,4]"
   ]
  },
  {
   "cell_type": "code",
   "execution_count": 67,
   "id": "e55d293b",
   "metadata": {},
   "outputs": [],
   "source": [
    "llist.append(5)"
   ]
  },
  {
   "cell_type": "code",
   "execution_count": 65,
   "id": "bf491011",
   "metadata": {},
   "outputs": [
    {
     "data": {
      "text/plain": [
       "[1, 2, 3, 4, 5]"
      ]
     },
     "execution_count": 65,
     "metadata": {},
     "output_type": "execute_result"
    }
   ],
   "source": [
    "llist"
   ]
  },
  {
   "cell_type": "code",
   "execution_count": 68,
   "id": "da4d43dc",
   "metadata": {},
   "outputs": [],
   "source": [
    "#adding string in the list using .append() method"
   ]
  },
  {
   "cell_type": "code",
   "execution_count": 69,
   "id": "848e5751",
   "metadata": {},
   "outputs": [],
   "source": [
    "llist.append(\"ayush\") "
   ]
  },
  {
   "cell_type": "code",
   "execution_count": 70,
   "id": "e9293d5e",
   "metadata": {},
   "outputs": [
    {
     "data": {
      "text/plain": [
       "[1, 2, 3, 4, 5, 5, 'ayush']"
      ]
     },
     "execution_count": 70,
     "metadata": {},
     "output_type": "execute_result"
    }
   ],
   "source": [
    "llist"
   ]
  },
  {
   "cell_type": "markdown",
   "id": "bdcf9f46",
   "metadata": {},
   "source": [
    "### .pop() method"
   ]
  },
  {
   "cell_type": "markdown",
   "id": "de66db83",
   "metadata": {},
   "source": [
    "Use **pop** to \"remove\" an item from the list. By default pop takes off the last index, but you can also specify which \n",
    "\n",
    "index to pop off. Let's see an example:"
   ]
  },
  {
   "cell_type": "code",
   "execution_count": 73,
   "id": "02b6e321",
   "metadata": {},
   "outputs": [
    {
     "data": {
      "text/plain": [
       "5"
      ]
     },
     "execution_count": 73,
     "metadata": {},
     "output_type": "execute_result"
    }
   ],
   "source": [
    "# Pop off the 4th indexed item\n",
    "llist.pop(4)"
   ]
  },
  {
   "cell_type": "code",
   "execution_count": 74,
   "id": "7706a0a0",
   "metadata": {},
   "outputs": [
    {
     "data": {
      "text/plain": [
       "[1, 2, 3, 4, 5, 'ayush']"
      ]
     },
     "execution_count": 74,
     "metadata": {},
     "output_type": "execute_result"
    }
   ],
   "source": [
    "llist"
   ]
  },
  {
   "cell_type": "code",
   "execution_count": 75,
   "id": "ec1eb881",
   "metadata": {},
   "outputs": [
    {
     "data": {
      "text/plain": [
       "'ayush'"
      ]
     },
     "execution_count": 75,
     "metadata": {},
     "output_type": "execute_result"
    }
   ],
   "source": [
    "llist.pop()   #by default pop start indexing at -1 meaans reverse indexing"
   ]
  },
  {
   "cell_type": "code",
   "execution_count": 77,
   "id": "9c0e3888",
   "metadata": {},
   "outputs": [
    {
     "data": {
      "text/plain": [
       "[1, 2, 3, 4, 5]"
      ]
     },
     "execution_count": 77,
     "metadata": {},
     "output_type": "execute_result"
    }
   ],
   "source": [
    "llist          # it is a permanent"
   ]
  },
  {
   "cell_type": "code",
   "execution_count": 78,
   "id": "9b22d0e2",
   "metadata": {},
   "outputs": [
    {
     "ename": "IndexError",
     "evalue": "pop index out of range",
     "output_type": "error",
     "traceback": [
      "\u001b[1;31m---------------------------------------------------------------------------\u001b[0m",
      "\u001b[1;31mIndexError\u001b[0m                                Traceback (most recent call last)",
      "\u001b[1;32m<ipython-input-78-d3491e053877>\u001b[0m in \u001b[0;36m<module>\u001b[1;34m\u001b[0m\n\u001b[1;32m----> 1\u001b[1;33m \u001b[0mllist\u001b[0m\u001b[1;33m.\u001b[0m\u001b[0mpop\u001b[0m\u001b[1;33m(\u001b[0m\u001b[1;36m11\u001b[0m\u001b[1;33m)\u001b[0m\u001b[1;33m\u001b[0m\u001b[1;33m\u001b[0m\u001b[0m\n\u001b[0m",
      "\u001b[1;31mIndexError\u001b[0m: pop index out of range"
     ]
    }
   ],
   "source": [
    "llist.pop(11)   # the pop method will show error if their is no elemebt present at defined indexing"
   ]
  },
  {
   "cell_type": "markdown",
   "id": "f58e00ce",
   "metadata": {},
   "source": [
    "##                                            or "
   ]
  },
  {
   "cell_type": "markdown",
   "id": "9c50c928",
   "metadata": {},
   "source": [
    "### .remove () method "
   ]
  },
  {
   "cell_type": "code",
   "execution_count": 41,
   "id": "ed1e9fdc",
   "metadata": {},
   "outputs": [],
   "source": [
    "#removes an item from any position in the list"
   ]
  },
  {
   "cell_type": "code",
   "execution_count": 84,
   "id": "bc915183",
   "metadata": {},
   "outputs": [],
   "source": [
    "geek_alpha = [\"α\",\"β\",\"γ\"]"
   ]
  },
  {
   "cell_type": "code",
   "execution_count": 86,
   "id": "f045c4ba",
   "metadata": {},
   "outputs": [],
   "source": [
    "geek_alpha.remove(\"β\")"
   ]
  },
  {
   "cell_type": "code",
   "execution_count": 40,
   "id": "c0c1c2ed",
   "metadata": {},
   "outputs": [
    {
     "data": {
      "text/plain": [
       "['α', 'γ']"
      ]
     },
     "execution_count": 40,
     "metadata": {},
     "output_type": "execute_result"
    }
   ],
   "source": [
    "geek_alpha"
   ]
  },
  {
   "cell_type": "code",
   "execution_count": null,
   "id": "9f5fdae8",
   "metadata": {},
   "outputs": [],
   "source": []
  },
  {
   "cell_type": "code",
   "execution_count": 14,
   "id": "5155dcbe",
   "metadata": {},
   "outputs": [],
   "source": [
    "                          #or"
   ]
  },
  {
   "cell_type": "markdown",
   "id": "e84d1ba1",
   "metadata": {},
   "source": [
    "Deleting list items \n",
    "del list-name [index no.]"
   ]
  },
  {
   "cell_type": "code",
   "execution_count": 88,
   "id": "c7a8c202",
   "metadata": {},
   "outputs": [],
   "source": [
    "ls = [1,3,5,8]"
   ]
  },
  {
   "cell_type": "code",
   "execution_count": 89,
   "id": "47f3651f",
   "metadata": {},
   "outputs": [],
   "source": [
    "del ls[2]     # it will going to delete element no. at index 2 which is 5 here"
   ]
  },
  {
   "cell_type": "code",
   "execution_count": 90,
   "id": "9548f0e7",
   "metadata": {},
   "outputs": [
    {
     "data": {
      "text/plain": [
       "[1, 3, 8]"
      ]
     },
     "execution_count": 90,
     "metadata": {},
     "output_type": "execute_result"
    }
   ],
   "source": [
    "ls"
   ]
  },
  {
   "cell_type": "markdown",
   "id": "d6f9b963",
   "metadata": {},
   "source": [
    "### .sort() method"
   ]
  },
  {
   "cell_type": "code",
   "execution_count": 79,
   "id": "f47f3aec",
   "metadata": {},
   "outputs": [],
   "source": [
    "# this method will going to arranged a list in order {universal order of alphabat (a-z),number (-infinity-0-infinity)}"
   ]
  },
  {
   "cell_type": "code",
   "execution_count": 80,
   "id": "f99d150b",
   "metadata": {},
   "outputs": [],
   "source": [
    "s_list = [2,5,3,1,4]"
   ]
  },
  {
   "cell_type": "code",
   "execution_count": 81,
   "id": "9f8cc616",
   "metadata": {},
   "outputs": [],
   "source": [
    "s_list.sort()              # it is also permanent"
   ]
  },
  {
   "cell_type": "code",
   "execution_count": 82,
   "id": "f819a3f3",
   "metadata": {},
   "outputs": [
    {
     "data": {
      "text/plain": [
       "[1, 2, 3, 4, 5]"
      ]
     },
     "execution_count": 82,
     "metadata": {},
     "output_type": "execute_result"
    }
   ],
   "source": [
    "s_list "
   ]
  },
  {
   "cell_type": "code",
   "execution_count": 3,
   "id": "c0636324",
   "metadata": {},
   "outputs": [],
   "source": [
    "a_list = [\"b\",\"a\",\"d\",\"c\"]"
   ]
  },
  {
   "cell_type": "code",
   "execution_count": 4,
   "id": "7b8dbd4c",
   "metadata": {},
   "outputs": [
    {
     "data": {
      "text/plain": [
       "['a', 'b', 'c', 'd']"
      ]
     },
     "execution_count": 4,
     "metadata": {},
     "output_type": "execute_result"
    }
   ],
   "source": [
    "a_list.sort()\n",
    "a_list"
   ]
  },
  {
   "cell_type": "code",
   "execution_count": 88,
   "id": "1498a33a",
   "metadata": {},
   "outputs": [
    {
     "data": {
      "text/plain": [
       "['aanchal', 'ashok', 'ayush', 'gunamal', 'kajal']"
      ]
     },
     "execution_count": 88,
     "metadata": {},
     "output_type": "execute_result"
    }
   ],
   "source": [
    "name_list =[\"ayush\",\"kajal\",\"aanchal\",\"ashok\",\"gunamal\"]\n",
    "name_list.sort()\n",
    "name_list"
   ]
  },
  {
   "cell_type": "markdown",
   "id": "916aed9f",
   "metadata": {},
   "source": [
    "### .reverse() method\n"
   ]
  },
  {
   "cell_type": "code",
   "execution_count": 89,
   "id": "5813d6a5",
   "metadata": {},
   "outputs": [],
   "source": [
    "# this method will going to reverse all element in list  "
   ]
  },
  {
   "cell_type": "code",
   "execution_count": 91,
   "id": "4d9f4a80",
   "metadata": {},
   "outputs": [],
   "source": [
    "r_list = [1,2,3,4,5]"
   ]
  },
  {
   "cell_type": "code",
   "execution_count": 94,
   "id": "9cfa8660",
   "metadata": {},
   "outputs": [],
   "source": [
    "r_list.reverse()"
   ]
  },
  {
   "cell_type": "code",
   "execution_count": 95,
   "id": "500aba5f",
   "metadata": {},
   "outputs": [
    {
     "data": {
      "text/plain": [
       "[5, 4, 3, 2, 1]"
      ]
     },
     "execution_count": 95,
     "metadata": {},
     "output_type": "execute_result"
    }
   ],
   "source": [
    "r_list    # it is also permanent"
   ]
  },
  {
   "cell_type": "code",
   "execution_count": 5,
   "id": "3ece43df",
   "metadata": {},
   "outputs": [],
   "source": [
    "a_list.reverse()"
   ]
  },
  {
   "cell_type": "code",
   "execution_count": 6,
   "id": "504350e9",
   "metadata": {},
   "outputs": [
    {
     "data": {
      "text/plain": [
       "['d', 'c', 'b', 'a']"
      ]
     },
     "execution_count": 6,
     "metadata": {},
     "output_type": "execute_result"
    }
   ],
   "source": [
    "a_list"
   ]
  },
  {
   "cell_type": "code",
   "execution_count": 13,
   "id": "22c1f959",
   "metadata": {},
   "outputs": [
    {
     "data": {
      "text/plain": [
       "['d', 'c', 'b', 'a']"
      ]
     },
     "execution_count": 13,
     "metadata": {},
     "output_type": "execute_result"
    }
   ],
   "source": [
    "a_list.sort()\n",
    "a_list[::-1]  # you can also use this method to reverse a list"
   ]
  },
  {
   "cell_type": "markdown",
   "id": "0a79f70f",
   "metadata": {},
   "source": [
    "### .extend() method"
   ]
  },
  {
   "cell_type": "code",
   "execution_count": null,
   "id": "44e33419",
   "metadata": {},
   "outputs": [],
   "source": [
    "# this method will going to merge list's and going to add the list elements at the end of the new list\n",
    "                                     or\n",
    "#adds all elements of a list to another list"
   ]
  },
  {
   "cell_type": "code",
   "execution_count": 20,
   "id": "433f0f5d",
   "metadata": {},
   "outputs": [],
   "source": [
    "num = [1,2,3,4]"
   ]
  },
  {
   "cell_type": "code",
   "execution_count": 21,
   "id": "42de0fab",
   "metadata": {},
   "outputs": [],
   "source": [
    "alpha = [\"a\",\"b\",\"c\"]"
   ]
  },
  {
   "cell_type": "code",
   "execution_count": 22,
   "id": "07a10b2b",
   "metadata": {},
   "outputs": [],
   "source": [
    "num.extend(alpha)"
   ]
  },
  {
   "cell_type": "code",
   "execution_count": 23,
   "id": "bf16e136",
   "metadata": {},
   "outputs": [
    {
     "data": {
      "text/plain": [
       "[1, 2, 3, 4, 'a', 'b', 'c']"
      ]
     },
     "execution_count": 23,
     "metadata": {},
     "output_type": "execute_result"
    }
   ],
   "source": [
    "num # it is peremanet change"
   ]
  },
  {
   "cell_type": "code",
   "execution_count": null,
   "id": "48f39221",
   "metadata": {},
   "outputs": [],
   "source": [
    "#you can also use mutable process but it will going to long.so skip using it "
   ]
  },
  {
   "cell_type": "markdown",
   "id": "8be38a2f",
   "metadata": {},
   "source": [
    "### .insert() method"
   ]
  },
  {
   "cell_type": "raw",
   "id": "eeca02c5",
   "metadata": {},
   "source": [
    "method : \n",
    "list_name.insert(index position , \"element(strings)\"/integer)\n",
    "index position means place in list  where you want to add element  "
   ]
  },
  {
   "cell_type": "code",
   "execution_count": 24,
   "id": "d14887c9",
   "metadata": {},
   "outputs": [],
   "source": [
    "vowel = [\"a\",\"i\",\"o\",\"u\"]"
   ]
  },
  {
   "cell_type": "code",
   "execution_count": 25,
   "id": "f364875c",
   "metadata": {},
   "outputs": [],
   "source": [
    "vowel.insert(1 , \"e\")"
   ]
  },
  {
   "cell_type": "code",
   "execution_count": 26,
   "id": "1e631684",
   "metadata": {},
   "outputs": [
    {
     "data": {
      "text/plain": [
       "['a', 'e', 'i', 'o', 'u']"
      ]
     },
     "execution_count": 26,
     "metadata": {},
     "output_type": "execute_result"
    }
   ],
   "source": [
    "vowel"
   ]
  },
  {
   "cell_type": "markdown",
   "id": "99e020df",
   "metadata": {},
   "source": [
    "### .clear()  method"
   ]
  },
  {
   "cell_type": "code",
   "execution_count": null,
   "id": "26c741ab",
   "metadata": {},
   "outputs": [],
   "source": [
    "#removes all items from the list"
   ]
  },
  {
   "cell_type": "code",
   "execution_count": 91,
   "id": "a922ac83",
   "metadata": {},
   "outputs": [],
   "source": [
    "your_list = [1,2,3,4,5]"
   ]
  },
  {
   "cell_type": "code",
   "execution_count": 43,
   "id": "d4da16e8",
   "metadata": {},
   "outputs": [],
   "source": [
    "your_list.clear()"
   ]
  },
  {
   "cell_type": "code",
   "execution_count": 44,
   "id": "6f406826",
   "metadata": {},
   "outputs": [
    {
     "name": "stdout",
     "output_type": "stream",
     "text": [
      "[]\n"
     ]
    }
   ],
   "source": [
    "print(your_list)"
   ]
  },
  {
   "cell_type": "code",
   "execution_count": 94,
   "id": "9628c071",
   "metadata": {},
   "outputs": [],
   "source": [
    "     #    or"
   ]
  },
  {
   "cell_type": "code",
   "execution_count": 92,
   "id": "5770cf45",
   "metadata": {},
   "outputs": [],
   "source": [
    "your_list[:] = [] /"
   ]
  },
  {
   "cell_type": "code",
   "execution_count": 93,
   "id": "fafe16a5",
   "metadata": {},
   "outputs": [
    {
     "data": {
      "text/plain": [
       "[]"
      ]
     },
     "execution_count": 93,
     "metadata": {},
     "output_type": "execute_result"
    }
   ],
   "source": [
    "your_list"
   ]
  },
  {
   "cell_type": "markdown",
   "id": "c29df2be",
   "metadata": {},
   "source": [
    "### .index () method "
   ]
  },
  {
   "cell_type": "code",
   "execution_count": 45,
   "id": "e94fb283",
   "metadata": {},
   "outputs": [],
   "source": [
    "#returns the index of the first matched item"
   ]
  },
  {
   "cell_type": "code",
   "execution_count": 46,
   "id": "933075e5",
   "metadata": {},
   "outputs": [],
   "source": [
    "animals = ['cat', 'rat', 'bat']\n"
   ]
  },
  {
   "cell_type": "code",
   "execution_count": 48,
   "id": "f34b4336",
   "metadata": {},
   "outputs": [
    {
     "data": {
      "text/plain": [
       "1"
      ]
     },
     "execution_count": 48,
     "metadata": {},
     "output_type": "execute_result"
    }
   ],
   "source": [
    "animals.index(\"rat\")"
   ]
  },
  {
   "cell_type": "code",
   "execution_count": 49,
   "id": "f3b1cbb8",
   "metadata": {},
   "outputs": [
    {
     "ename": "ValueError",
     "evalue": "'lion' is not in list",
     "output_type": "error",
     "traceback": [
      "\u001b[1;31m---------------------------------------------------------------------------\u001b[0m",
      "\u001b[1;31mValueError\u001b[0m                                Traceback (most recent call last)",
      "\u001b[1;32m<ipython-input-49-1121065c8296>\u001b[0m in \u001b[0;36m<module>\u001b[1;34m\u001b[0m\n\u001b[1;32m----> 1\u001b[1;33m \u001b[0manimals\u001b[0m\u001b[1;33m.\u001b[0m\u001b[0mindex\u001b[0m\u001b[1;33m(\u001b[0m\u001b[1;34m\"lion\"\u001b[0m\u001b[1;33m)\u001b[0m\u001b[1;33m\u001b[0m\u001b[1;33m\u001b[0m\u001b[0m\n\u001b[0m",
      "\u001b[1;31mValueError\u001b[0m: 'lion' is not in list"
     ]
    }
   ],
   "source": [
    "animals.index(\"lion\")     #becuase this list do not have element \"lion\""
   ]
  },
  {
   "cell_type": "markdown",
   "id": "3e17667b",
   "metadata": {},
   "source": [
    "### .count() method "
   ]
  },
  {
   "cell_type": "code",
   "execution_count": null,
   "id": "dc10c350",
   "metadata": {},
   "outputs": [],
   "source": [
    "#returns the count of the number of items passed as an argument"
   ]
  },
  {
   "cell_type": "code",
   "execution_count": 95,
   "id": "7173b2dd",
   "metadata": {},
   "outputs": [],
   "source": [
    "random = [\"dad\",\"mad\",\"dad\"]"
   ]
  },
  {
   "cell_type": "code",
   "execution_count": 54,
   "id": "878c6529",
   "metadata": {},
   "outputs": [
    {
     "data": {
      "text/plain": [
       "2"
      ]
     },
     "execution_count": 54,
     "metadata": {},
     "output_type": "execute_result"
    }
   ],
   "source": [
    "random.count(\"dad\")"
   ]
  },
  {
   "cell_type": "code",
   "execution_count": null,
   "id": "fbed834d",
   "metadata": {},
   "outputs": [],
   "source": [
    "#becuase above list have dad element 2 times"
   ]
  },
  {
   "cell_type": "markdown",
   "id": "bc66956e",
   "metadata": {},
   "source": [
    "### .copy () method"
   ]
  },
  {
   "cell_type": "code",
   "execution_count": null,
   "id": "88c9c5ec",
   "metadata": {},
   "outputs": [],
   "source": [
    "# this method will going to copy any preassigned list items"
   ]
  },
  {
   "cell_type": "code",
   "execution_count": 55,
   "id": "86eadeb7",
   "metadata": {},
   "outputs": [],
   "source": [
    "list1 = [1,2,3,4]"
   ]
  },
  {
   "cell_type": "code",
   "execution_count": 58,
   "id": "2dbef35e",
   "metadata": {},
   "outputs": [
    {
     "name": "stdout",
     "output_type": "stream",
     "text": [
      "[1, 2, 3, 4]\n"
     ]
    }
   ],
   "source": [
    "list2 = list1.copy()\n",
    "print(list2)"
   ]
  },
  {
   "cell_type": "markdown",
   "id": "a5562ee2",
   "metadata": {},
   "source": [
    "List copy using `=` symbol/operator\n",
    "We can also use the = operator to copy a list"
   ]
  },
  {
   "cell_type": "code",
   "execution_count": 62,
   "id": "42e9bf68",
   "metadata": {},
   "outputs": [
    {
     "name": "stdout",
     "output_type": "stream",
     "text": [
      "[1, 2, 3]\n"
     ]
    }
   ],
   "source": [
    "L1=[1,2,3]\n",
    "L2 = L1\n",
    "print(L2)"
   ]
  },
  {
   "cell_type": "code",
   "execution_count": null,
   "id": "2339ba36",
   "metadata": {},
   "outputs": [],
   "source": []
  },
  {
   "cell_type": "markdown",
   "id": "e9da7dee",
   "metadata": {},
   "source": [
    "## Nesting Lists\n",
    "A great feature of Python data structures is that they support *nesting*. This means we can have data structures within data structures. For example: A list inside a list.\n",
    "\n",
    "it means this feature will going to add a list in another list as a sub list \n",
    "L1 = [\"x\",\"y\"]\n",
    "L2 = [1,2,3]\n",
    "\n",
    "L = [L1,L2]\n"
   ]
  },
  {
   "cell_type": "code",
   "execution_count": 63,
   "id": "c85c9031",
   "metadata": {},
   "outputs": [],
   "source": [
    "planet = [\"earth\",\"mars\",\"venus\"]"
   ]
  },
  {
   "cell_type": "code",
   "execution_count": 64,
   "id": "93487dc4",
   "metadata": {},
   "outputs": [],
   "source": [
    "earth = [\"air\",\"water\"]"
   ]
  },
  {
   "cell_type": "code",
   "execution_count": 65,
   "id": "3071df17",
   "metadata": {},
   "outputs": [],
   "source": [
    "galaxy = [planet,earth]"
   ]
  },
  {
   "cell_type": "code",
   "execution_count": 66,
   "id": "69916d8e",
   "metadata": {},
   "outputs": [
    {
     "data": {
      "text/plain": [
       "[['earth', 'mars', 'venus'], ['air', 'water']]"
      ]
     },
     "execution_count": 66,
     "metadata": {},
     "output_type": "execute_result"
    }
   ],
   "source": [
    "galaxy"
   ]
  },
  {
   "cell_type": "markdown",
   "id": "21dcdbf5",
   "metadata": {},
   "source": [
    "We can again use indexing to grab elements, but now there are two levels for the index. The items in the galaxy object, and then the items inside that list!"
   ]
  },
  {
   "cell_type": "code",
   "execution_count": 68,
   "id": "6d99ba6b",
   "metadata": {},
   "outputs": [
    {
     "data": {
      "text/plain": [
       "['earth', 'mars', 'venus']"
      ]
     },
     "execution_count": 68,
     "metadata": {},
     "output_type": "execute_result"
    }
   ],
   "source": [
    "# Grab first item in galaxy list object\n",
    "galaxy[0]"
   ]
  },
  {
   "cell_type": "code",
   "execution_count": 69,
   "id": "eac2d1bd",
   "metadata": {},
   "outputs": [
    {
     "data": {
      "text/plain": [
       "'earth'"
      ]
     },
     "execution_count": 69,
     "metadata": {},
     "output_type": "execute_result"
    }
   ],
   "source": [
    "# Grab first item of the first item in the galaxy list object\n",
    "galaxy[0][0]"
   ]
  },
  {
   "cell_type": "raw",
   "id": "6ae43087",
   "metadata": {},
   "source": [
    "so their will be two level of indexing here\n",
    "[['earth', 'mars', 'venus'], ['air', 'water']]\n",
    "     |        |       |         |       |\n",
    "     0        1       2         0       1\n",
    "     |________________|         |_______|  \n",
    "              0                     1\n",
    "          "
   ]
  },
  {
   "cell_type": "markdown",
   "id": "d3475259",
   "metadata": {},
   "source": [
    " more detailes\n",
    "https://www.learnbyexample.org/python-nested-list/"
   ]
  },
  {
   "cell_type": "markdown",
   "id": "413f0a71",
   "metadata": {},
   "source": [
    "# List Comprehensions \n",
    "going to learn after  loop"
   ]
  },
  {
   "cell_type": "code",
   "execution_count": null,
   "id": "0821bdec",
   "metadata": {},
   "outputs": [],
   "source": []
  }
 ],
 "metadata": {
  "kernelspec": {
   "display_name": "Python 3",
   "language": "python",
   "name": "python3"
  },
  "language_info": {
   "codemirror_mode": {
    "name": "ipython",
    "version": 3
   },
   "file_extension": ".py",
   "mimetype": "text/x-python",
   "name": "python",
   "nbconvert_exporter": "python",
   "pygments_lexer": "ipython3",
   "version": "3.8.8"
  }
 },
 "nbformat": 4,
 "nbformat_minor": 5
}
