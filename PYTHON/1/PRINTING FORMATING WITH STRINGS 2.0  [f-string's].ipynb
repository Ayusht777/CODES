{
 "cells": [
  {
   "cell_type": "markdown",
   "id": "9e0dd0b1",
   "metadata": {},
   "source": [
    "# f-string\n"
   ]
  },
  {
   "cell_type": "markdown",
   "id": "662ba931",
   "metadata": {},
   "source": [
    "Introduced in Python 3.6, f-strings offer several benefits over the older `.format()` string method described above. For one, you can bring outside variables immediately into to the string rather than pass them as arguments through `.format(var)`."
   ]
  },
  {
   "cell_type": "raw",
   "id": "b57d305c",
   "metadata": {},
   "source": [
    "f\"your string {value/syntax}\" \n",
    "syntax\n",
    "name = ayush\n",
    "you can use f/F\n"
   ]
  },
  {
   "cell_type": "code",
   "execution_count": 1,
   "id": "44d0aae7",
   "metadata": {},
   "outputs": [
    {
     "data": {
      "text/plain": [
       "'hi my name is ayush'"
      ]
     },
     "execution_count": 1,
     "metadata": {},
     "output_type": "execute_result"
    }
   ],
   "source": [
    "name = \"ayush\"\n",
    "f\"hi my name is {name}\""
   ]
  },
  {
   "cell_type": "code",
   "execution_count": 16,
   "id": "eb39b79f",
   "metadata": {},
   "outputs": [
    {
     "name": "stdout",
     "output_type": "stream",
     "text": [
      "hi my name is ayush and i am 19 years old\n"
     ]
    }
   ],
   "source": [
    "name = \"ayush\"\n",
    "age = \"19\"\n",
    "print(f\"hi my name is {name} and i am {age} years old\")"
   ]
  },
  {
   "cell_type": "code",
   "execution_count": null,
   "id": "5d663f55",
   "metadata": {},
   "outputs": [],
   "source": []
  },
  {
   "cell_type": "code",
   "execution_count": null,
   "id": "12e81372",
   "metadata": {},
   "outputs": [],
   "source": []
  },
  {
   "cell_type": "code",
   "execution_count": null,
   "id": "75ae7911",
   "metadata": {},
   "outputs": [],
   "source": []
  },
  {
   "cell_type": "markdown",
   "id": "12862220",
   "metadata": {},
   "source": [
    "#### Float formatting follows `\"result: {value:{width}.{precision}}\"`\n",
    "                               or\n",
    "                         `\"result: {value:width.precision}\"`"
   ]
  },
  {
   "cell_type": "markdown",
   "id": "b8e2c8e1",
   "metadata": {},
   "source": [
    "Where with the `.format()` method you might see `{value:10.4f}`, with f-strings this can become `{value:{10}.{6}}`"
   ]
  },
  {
   "cell_type": "code",
   "execution_count": 3,
   "id": "1330ce13",
   "metadata": {},
   "outputs": [
    {
     "data": {
      "text/plain": [
       "222.45565"
      ]
     },
     "execution_count": 3,
     "metadata": {},
     "output_type": "execute_result"
    }
   ],
   "source": [
    "price = 222.45565\n",
    "p = price\n",
    "p"
   ]
  },
  {
   "cell_type": "code",
   "execution_count": 80,
   "id": "3ce92b10",
   "metadata": {},
   "outputs": [
    {
     "data": {
      "text/plain": [
       "'hi what is your price    222.46'"
      ]
     },
     "execution_count": 80,
     "metadata": {},
     "output_type": "execute_result"
    }
   ],
   "source": [
    "\"hi what is your price{p:9.4f}\".format(p = price)       #using .str format"
   ]
  },
  {
   "cell_type": "code",
   "execution_count": 4,
   "id": "992e267a",
   "metadata": {},
   "outputs": [
    {
     "name": "stdout",
     "output_type": "stream",
     "text": [
      "hi what is your price    222.5\n",
      "hi waht is your price    222.5\n"
     ]
    }
   ],
   "source": [
    "print(f\"hi what is your price{p:{9}.{4}}\" ) #using f-string method\n",
    "print(f\"hi waht is your price{p:9.4}\")      #using f-string method without {}"
   ]
  },
  {
   "cell_type": "raw",
   "id": "a3a4ab18",
   "metadata": {},
   "source": [
    "Note that with f-strings, *precision* refers to the total number of digits, not just those following the decimal. This fits more closely with scientific notation and statistical analysis. Unfortunately, f-strings do not pad to the right of the decimal, even if precision allows it:\n",
    "\n",
    "total no of digit means \n",
    "in f-strings \n",
    "222.45565    (no of digit  = 8)\n",
    "but in .format() method\n",
    ".45565    (no of digit  = 5)\n",
    "ex of .format\n",
    "\"hi {p:8.2f}\".format(p=price)\n",
    "hi 222.45"
   ]
  },
  {
   "cell_type": "code",
   "execution_count": 37,
   "id": "f80c8814",
   "metadata": {},
   "outputs": [
    {
     "name": "stdout",
     "output_type": "stream",
     "text": [
      "YOUR NUMBER IS:   23.4598\n",
      "your number is:   23.4598\n"
     ]
    }
   ],
   "source": [
    "num = 23.45984\n",
    "print(\"your number is:{0:10.4f}\".format(num).upper())\n",
    "print(f\"your number is:{num:10.4f}\".lower())"
   ]
  },
  {
   "cell_type": "markdown",
   "id": "0305e23c",
   "metadata": {},
   "source": [
    "### calculation with f srtig's"
   ]
  },
  {
   "cell_type": "code",
   "execution_count": 2,
   "id": "6b95db74",
   "metadata": {},
   "outputs": [
    {
     "name": "stdout",
     "output_type": "stream",
     "text": [
      "2 times 25 is equal to 50\n",
      "20 - 12.5 is equal to 7.5\n",
      "18 + 21 is equal to 39\n",
      "2 power 2 is eqaul to 4\n",
      "45 divide 9 is eqaul to 5.0\n"
     ]
    }
   ],
   "source": [
    "print(f\"2 times 25 is equal to {2*25}\")\n",
    "print(f\"20 - 12.5 is equal to {20-12.5}\")\n",
    "print(f\"18 + 21 is equal to {18+21}\")\n",
    "print(f\"2 power 2 is eqaul to {2**2}\")\n",
    "print(f\"45 divide 9 is eqaul to {45/9}\")"
   ]
  },
  {
   "cell_type": "code",
   "execution_count": 8,
   "id": "ea8a0bfc",
   "metadata": {},
   "outputs": [
    {
     "name": "stdout",
     "output_type": "stream",
     "text": [
      "48 divide 9 is eqaul to 5\n"
     ]
    }
   ],
   "source": [
    "print(f\"48 divide 9 is eqaul to {48/9:0.0f}\") # using percision"
   ]
  },
  {
   "cell_type": "code",
   "execution_count": 75,
   "id": "b0e97f0c",
   "metadata": {},
   "outputs": [],
   "source": [
    "# you can also use .format method"
   ]
  },
  {
   "cell_type": "code",
   "execution_count": 76,
   "id": "7be9a40b",
   "metadata": {},
   "outputs": [
    {
     "data": {
      "text/plain": [
       "'2 times 20 is equal to 40'"
      ]
     },
     "execution_count": 76,
     "metadata": {},
     "output_type": "execute_result"
    }
   ],
   "source": [
    "\"2 times 20 is equal to {}\".format(2*20)"
   ]
  },
  {
   "cell_type": "code",
   "execution_count": null,
   "id": "c1f7e3df",
   "metadata": {},
   "outputs": [],
   "source": []
  }
 ],
 "metadata": {
  "interpreter": {
   "hash": "d818f4a5b132e7f66021d3e7c19c2b7a86b89f9388f799e2d6a66075690a4386"
  },
  "kernelspec": {
   "display_name": "Python 3.10.4 64-bit",
   "language": "python",
   "name": "python3"
  },
  "language_info": {
   "codemirror_mode": {
    "name": "ipython",
    "version": 3
   },
   "file_extension": ".py",
   "mimetype": "text/x-python",
   "name": "python",
   "nbconvert_exporter": "python",
   "pygments_lexer": "ipython3",
   "version": "3.10.4"
  }
 },
 "nbformat": 4,
 "nbformat_minor": 5
}
