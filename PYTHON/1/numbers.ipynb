{
 "cells": [
  {
   "cell_type": "code",
   "execution_count": 1,
   "id": "272d08f2",
   "metadata": {},
   "outputs": [
    {
     "data": {
      "text/plain": [
       "1000010"
      ]
     },
     "execution_count": 1,
     "metadata": {},
     "output_type": "execute_result"
    }
   ],
   "source": [
    "1000000+10\n"
   ]
  },
  {
   "cell_type": "code",
   "execution_count": 2,
   "id": "aaf4a5b5",
   "metadata": {},
   "outputs": [
    {
     "data": {
      "text/plain": [
       "89999"
      ]
     },
     "execution_count": 2,
     "metadata": {},
     "output_type": "execute_result"
    }
   ],
   "source": [
    "99999-10000"
   ]
  },
  {
   "cell_type": "code",
   "execution_count": 3,
   "id": "c47bc832",
   "metadata": {},
   "outputs": [
    {
     "data": {
      "text/plain": [
       "8712"
      ]
     },
     "execution_count": 3,
     "metadata": {},
     "output_type": "execute_result"
    }
   ],
   "source": [
    "99*88"
   ]
  },
  {
   "cell_type": "code",
   "execution_count": 2,
   "id": "72dcd6b6",
   "metadata": {},
   "outputs": [
    {
     "data": {
      "text/plain": [
       "0.0"
      ]
     },
     "execution_count": 2,
     "metadata": {},
     "output_type": "execute_result"
    }
   ],
   "source": [
    "0/1"
   ]
  },
  {
   "cell_type": "code",
   "execution_count": 5,
   "id": "2dc828ad",
   "metadata": {},
   "outputs": [
    {
     "ename": "ZeroDivisionError",
     "evalue": "division by zero",
     "output_type": "error",
     "traceback": [
      "\u001b[1;31m---------------------------------------------------------------------------\u001b[0m",
      "\u001b[1;31mZeroDivisionError\u001b[0m                         Traceback (most recent call last)",
      "\u001b[1;32m<ipython-input-5-9e1622b385b6>\u001b[0m in \u001b[0;36m<module>\u001b[1;34m\u001b[0m\n\u001b[1;32m----> 1\u001b[1;33m \u001b[1;36m1\u001b[0m\u001b[1;33m/\u001b[0m\u001b[1;36m0\u001b[0m\u001b[1;33m\u001b[0m\u001b[1;33m\u001b[0m\u001b[0m\n\u001b[0m",
      "\u001b[1;31mZeroDivisionError\u001b[0m: division by zero"
     ]
    }
   ],
   "source": [
    "1/0"
   ]
  },
  {
   "cell_type": "code",
   "execution_count": 6,
   "id": "33383702",
   "metadata": {},
   "outputs": [
    {
     "data": {
      "text/plain": [
       "100.0"
      ]
     },
     "execution_count": 6,
     "metadata": {},
     "output_type": "execute_result"
    }
   ],
   "source": [
    "700/7 # this is the quotient"
   ]
  },
  {
   "cell_type": "code",
   "execution_count": null,
   "id": "65430591",
   "metadata": {},
   "outputs": [],
   "source": [
    "9 % 4\n"
   ]
  },
  {
   "cell_type": "markdown",
   "id": "ad9efdbd",
   "metadata": {},
   "source": [
    "% sign is use to get remainder  in division and \n",
    "% = Mod { modulo } "
   ]
  },
  {
   "cell_type": "code",
   "execution_count": 22,
   "id": "ff0e9279",
   "metadata": {},
   "outputs": [
    {
     "data": {
      "text/plain": [
       "2"
      ]
     },
     "execution_count": 22,
     "metadata": {},
     "output_type": "execute_result"
    }
   ],
   "source": [
    "7%5\n"
   ]
  },
  {
   "cell_type": "code",
   "execution_count": 25,
   "id": "da959dca",
   "metadata": {},
   "outputs": [
    {
     "data": {
      "text/plain": [
       "4"
      ]
     },
     "execution_count": 25,
     "metadata": {},
     "output_type": "execute_result"
    }
   ],
   "source": [
    "2**2"
   ]
  },
  {
   "cell_type": "markdown",
   "id": "f02698e6",
   "metadata": {},
   "source": [
    "for ap to get power of any number mean x ki power y \n",
    "** sign is use for power\n"
   ]
  },
  {
   "cell_type": "code",
   "execution_count": 30,
   "id": "3c27e4c6",
   "metadata": {},
   "outputs": [
    {
     "data": {
      "text/plain": [
       "4"
      ]
     },
     "execution_count": 30,
     "metadata": {},
     "output_type": "execute_result"
    }
   ],
   "source": [
    "1+1-2*3+8\n"
   ]
  },
  {
   "cell_type": "markdown",
   "id": "2c177976",
   "metadata": {},
   "source": [
    "combination equation \n",
    "combination of + - * /"
   ]
  },
  {
   "cell_type": "code",
   "execution_count": 32,
   "id": "d1571a89",
   "metadata": {},
   "outputs": [
    {
     "data": {
      "text/plain": [
       "3"
      ]
     },
     "execution_count": 32,
     "metadata": {},
     "output_type": "execute_result"
    }
   ],
   "source": [
    "(2+2) - (1)"
   ]
  },
  {
   "cell_type": "markdown",
   "id": "30a6da1c",
   "metadata": {},
   "source": [
    "combination equation without BODMAS\n",
    "() sign is use to perfrom +,- any math calculation without BODMAS rule \n",
    "means first comes fisrt serve"
   ]
  },
  {
   "cell_type": "markdown",
   "id": "a27de6b2",
   "metadata": {},
   "source": [
    "# TEST CALCULATION \n"
   ]
  },
  {
   "cell_type": "code",
   "execution_count": 34,
   "id": "a3164a25",
   "metadata": {},
   "outputs": [
    {
     "data": {
      "text/plain": [
       "394277.5"
      ]
     },
     "execution_count": 34,
     "metadata": {},
     "output_type": "execute_result"
    }
   ],
   "source": [
    "788555/2\n"
   ]
  },
  {
   "cell_type": "code",
   "execution_count": 35,
   "id": "4eaed52d",
   "metadata": {},
   "outputs": [
    {
     "data": {
      "text/plain": [
       "-244436"
      ]
     },
     "execution_count": 35,
     "metadata": {},
     "output_type": "execute_result"
    }
   ],
   "source": [
    "8-244444"
   ]
  },
  {
   "cell_type": "code",
   "execution_count": 36,
   "id": "d71c2d4a",
   "metadata": {},
   "outputs": [
    {
     "data": {
      "text/plain": [
       "8281"
      ]
     },
     "execution_count": 36,
     "metadata": {},
     "output_type": "execute_result"
    }
   ],
   "source": [
    "(99-8)**2\n"
   ]
  },
  {
   "cell_type": "code",
   "execution_count": 37,
   "id": "9a157ec1",
   "metadata": {},
   "outputs": [
    {
     "data": {
      "text/plain": [
       "81"
      ]
     },
     "execution_count": 37,
     "metadata": {},
     "output_type": "execute_result"
    }
   ],
   "source": [
    "9**2\n"
   ]
  },
  {
   "cell_type": "code",
   "execution_count": 38,
   "id": "1b854640",
   "metadata": {},
   "outputs": [
    {
     "data": {
      "text/plain": [
       "15625"
      ]
     },
     "execution_count": 38,
     "metadata": {},
     "output_type": "execute_result"
    }
   ],
   "source": [
    "5**6"
   ]
  },
  {
   "cell_type": "code",
   "execution_count": 39,
   "id": "95f5a5bd",
   "metadata": {},
   "outputs": [
    {
     "data": {
      "text/plain": [
       "547.25"
      ]
     },
     "execution_count": 39,
     "metadata": {},
     "output_type": "execute_result"
    }
   ],
   "source": [
    "555-8+2/8"
   ]
  },
  {
   "cell_type": "code",
   "execution_count": 40,
   "id": "4d89c7d8",
   "metadata": {},
   "outputs": [
    {
     "data": {
      "text/plain": [
       "0"
      ]
     },
     "execution_count": 40,
     "metadata": {},
     "output_type": "execute_result"
    }
   ],
   "source": [
    "70%2"
   ]
  },
  {
   "cell_type": "code",
   "execution_count": null,
   "id": "a818999a",
   "metadata": {},
   "outputs": [],
   "source": []
  }
 ],
 "metadata": {
  "interpreter": {
   "hash": "d818f4a5b132e7f66021d3e7c19c2b7a86b89f9388f799e2d6a66075690a4386"
  },
  "kernelspec": {
   "display_name": "Python 3.10.4 64-bit",
   "language": "python",
   "name": "python3"
  },
  "language_info": {
   "codemirror_mode": {
    "name": "ipython",
    "version": 3
   },
   "file_extension": ".py",
   "mimetype": "text/x-python",
   "name": "python",
   "nbconvert_exporter": "python",
   "pygments_lexer": "ipython3",
   "version": "3.10.4"
  }
 },
 "nbformat": 4,
 "nbformat_minor": 5
}
