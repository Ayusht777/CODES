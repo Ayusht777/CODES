{
 "cells": [
  {
   "cell_type": "code",
   "execution_count": 1,
   "id": "277980d4",
   "metadata": {},
   "outputs": [
    {
     "name": "stdout",
     "output_type": "stream",
     "text": [
      "hello wolrd ayush \n"
     ]
    }
   ],
   "source": [
    "print (\"hello wolrd ayush \")"
   ]
  },
  {
   "cell_type": "markdown",
   "id": "768f5845",
   "metadata": {},
   "source": [
    "we can use \"\" or '' it is exactly same and donot worry about sapce after collens or before"
   ]
  }
 ],
 "metadata": {
  "kernelspec": {
   "display_name": "Python 3",
   "language": "python",
   "name": "python3"
  },
  "language_info": {
   "codemirror_mode": {
    "name": "ipython",
    "version": 3
   },
   "file_extension": ".py",
   "mimetype": "text/x-python",
   "name": "python",
   "nbconvert_exporter": "python",
   "pygments_lexer": "ipython3",
   "version": "3.8.8"
  }
 },
 "nbformat": 4,
 "nbformat_minor": 5
}
