{
 "cells": [
  {
   "cell_type": "code",
   "execution_count": 2,
   "id": "7cfb5ef9",
   "metadata": {},
   "outputs": [
    {
     "data": {
      "text/plain": [
       "'hi'"
      ]
     },
     "execution_count": 2,
     "metadata": {},
     "output_type": "execute_result"
    }
   ],
   "source": [
    "'hi'"
   ]
  },
  {
   "cell_type": "code",
   "execution_count": 3,
   "id": "7c4d895e",
   "metadata": {},
   "outputs": [
    {
     "data": {
      "text/plain": [
       "'ayush'"
      ]
     },
     "execution_count": 3,
     "metadata": {},
     "output_type": "execute_result"
    }
   ],
   "source": [
    "\"ayush\""
   ]
  },
  {
   "cell_type": "code",
   "execution_count": 4,
   "id": "3ad79ebc",
   "metadata": {},
   "outputs": [
    {
     "ename": "SyntaxError",
     "evalue": "invalid syntax (<ipython-input-4-d84861fb3bba>, line 1)",
     "output_type": "error",
     "traceback": [
      "\u001b[1;36m  File \u001b[1;32m\"<ipython-input-4-d84861fb3bba>\"\u001b[1;36m, line \u001b[1;32m1\u001b[0m\n\u001b[1;33m    'this is a worng way to write string's\u001b[0m\n\u001b[1;37m                                         ^\u001b[0m\n\u001b[1;31mSyntaxError\u001b[0m\u001b[1;31m:\u001b[0m invalid syntax\n"
     ]
    }
   ],
   "source": [
    "'this is a worng way to write string's "
   ]
  },
  {
   "cell_type": "markdown",
   "id": "f85abc69",
   "metadata": {},
   "source": [
    "so if you want to use single quote in  sentence and want to show full sentence as output then use in it \"\" so python will read whole line "
   ]
  },
  {
   "cell_type": "code",
   "execution_count": 6,
   "id": "f7d9f442",
   "metadata": {},
   "outputs": [
    {
     "data": {
      "text/plain": [
       "\"this is a right way to write string's\""
      ]
     },
     "execution_count": 6,
     "metadata": {},
     "output_type": "execute_result"
    }
   ],
   "source": [
    "\"this is a right way to write string's\""
   ]
  },
  {
   "cell_type": "code",
   "execution_count": 7,
   "id": "016e40c2",
   "metadata": {},
   "outputs": [
    {
     "name": "stdout",
     "output_type": "stream",
     "text": [
      "hi\n"
     ]
    }
   ],
   "source": [
    "print (\"hi\")"
   ]
  },
  {
   "cell_type": "code",
   "execution_count": 9,
   "id": "26a41126",
   "metadata": {},
   "outputs": [
    {
     "data": {
      "text/plain": [
       "'hi two'"
      ]
     },
     "execution_count": 9,
     "metadata": {},
     "output_type": "execute_result"
    }
   ],
   "source": [
    "\"hi one\"\n",
    "\"hi two\""
   ]
  },
  {
   "cell_type": "markdown",
   "id": "b658a438",
   "metadata": {},
   "source": [
    "so if we want both line to be output then we have to use print() command\n"
   ]
  },
  {
   "cell_type": "code",
   "execution_count": 10,
   "id": "33acf770",
   "metadata": {},
   "outputs": [
    {
     "name": "stdout",
     "output_type": "stream",
     "text": [
      "hi one\n",
      "hi two\n"
     ]
    }
   ],
   "source": [
    "print(\"hi one\")\n",
    "print (\"hi two\")"
   ]
  },
  {
   "cell_type": "markdown",
   "id": "2cf6ccf8",
   "metadata": {},
   "source": [
    "that we want to see all lines "
   ]
  },
  {
   "cell_type": "code",
   "execution_count": 11,
   "id": "be951a4b",
   "metadata": {},
   "outputs": [
    {
     "name": "stdout",
     "output_type": "stream",
     "text": [
      "hi ayush\n"
     ]
    }
   ],
   "source": [
    "print(\"hi ayush\")"
   ]
  },
  {
   "cell_type": "markdown",
   "id": "f1f62369",
   "metadata": {},
   "source": [
    "but i want output in this way \n",
    "\n",
    "\n",
    "\n",
    "\n",
    "hi\n",
    "\n",
    "\n",
    "ayush\n",
    "\n",
    "\n",
    "so here we can use escape sequence\n",
    "for this \n",
    "\n",
    "we use \\n\n",
    "and \\t for double space"
   ]
  },
  {
   "cell_type": "code",
   "execution_count": 13,
   "id": "02ca735d",
   "metadata": {},
   "outputs": [
    {
     "name": "stdout",
     "output_type": "stream",
     "text": [
      "hi \n",
      " ayush\n"
     ]
    }
   ],
   "source": [
    "print(\"hi \\n ayush\")"
   ]
  },
  {
   "cell_type": "markdown",
   "id": "29fb482c",
   "metadata": {},
   "source": [
    "if i want \n",
    "\n",
    "hi\n",
    "\n",
    "ayush\n",
    "\n",
    "with less space and below the hi word \n",
    "\n",
    "i have to use no space after \\n\n",
    " \n",
    "example \n",
    "    "
   ]
  },
  {
   "cell_type": "code",
   "execution_count": 14,
   "id": "e36e4bda",
   "metadata": {},
   "outputs": [
    {
     "name": "stdout",
     "output_type": "stream",
     "text": [
      "hi \n",
      "ayush\n"
     ]
    }
   ],
   "source": [
    "print(\"hi \\nayush\")"
   ]
  },
  {
   "cell_type": "markdown",
   "id": "b5340634",
   "metadata": {},
   "source": [
    "if i want some space  \n",
    "\n",
    "\\t = tab\n",
    "\n",
    "hi   ayush "
   ]
  },
  {
   "cell_type": "code",
   "execution_count": 15,
   "id": "61a6660b",
   "metadata": {},
   "outputs": [
    {
     "name": "stdout",
     "output_type": "stream",
     "text": [
      "hi \tayush\n"
     ]
    }
   ],
   "source": [
    "print(\"hi \\tayush\")"
   ]
  },
  {
   "cell_type": "code",
   "execution_count": 24,
   "id": "78377aa5",
   "metadata": {},
   "outputs": [
    {
     "name": "stdout",
     "output_type": "stream",
     "text": [
      "ayush \n",
      "kajal \n",
      "aanchal\n"
     ]
    }
   ],
   "source": [
    "print(\"ayush \\nkajal \\naanchal\")"
   ]
  },
  {
   "cell_type": "code",
   "execution_count": 16,
   "id": "609abc8a",
   "metadata": {},
   "outputs": [
    {
     "data": {
      "text/plain": [
       "2"
      ]
     },
     "execution_count": 16,
     "metadata": {},
     "output_type": "execute_result"
    }
   ],
   "source": [
    "len (\"hi\")"
   ]
  },
  {
   "cell_type": "markdown",
   "id": "c66f60a2",
   "metadata": {},
   "source": [
    "len = lenght this function do how many charcters are in your code or line\n"
   ]
  },
  {
   "cell_type": "code",
   "execution_count": 17,
   "id": "016de025",
   "metadata": {},
   "outputs": [
    {
     "data": {
      "text/plain": [
       "8"
      ]
     },
     "execution_count": 17,
     "metadata": {},
     "output_type": "execute_result"
    }
   ],
   "source": [
    "len(\"hi ayush\")"
   ]
  },
  {
   "cell_type": "markdown",
   "id": "a4d364f5",
   "metadata": {},
   "source": [
    "so here it also counts spaces "
   ]
  },
  {
   "cell_type": "code",
   "execution_count": null,
   "id": "4231316a",
   "metadata": {},
   "outputs": [],
   "source": []
  }
 ],
 "metadata": {
  "kernelspec": {
   "display_name": "Python 3",
   "language": "python",
   "name": "python3"
  },
  "language_info": {
   "codemirror_mode": {
    "name": "ipython",
    "version": 3
   },
   "file_extension": ".py",
   "mimetype": "text/x-python",
   "name": "python",
   "nbconvert_exporter": "python",
   "pygments_lexer": "ipython3",
   "version": "3.8.8"
  }
 },
 "nbformat": 4,
 "nbformat_minor": 5
}
