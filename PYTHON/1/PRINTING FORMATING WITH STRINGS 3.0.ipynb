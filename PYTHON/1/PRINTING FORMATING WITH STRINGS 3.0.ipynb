{
 "cells": [
  {
   "cell_type": "markdown",
   "id": "341380cf",
   "metadata": {},
   "source": [
    "# % Formatting or Formatting with placeholders"
   ]
  },
  {
   "cell_type": "raw",
   "id": "ed03790f",
   "metadata": {},
   "source": [
    "\n",
    "'''it is a old method nowday's people use \n",
    "fstring because thsi method is confusing and hard to read the code'''\n",
    "#You can use %s to inject strings into your print statements. The modulo % is referred to as a \"string formatting operator\" \n",
    "\"%s\" %\"something\""
   ]
  },
  {
   "cell_type": "code",
   "execution_count": 4,
   "id": "368e3fde",
   "metadata": {},
   "outputs": [
    {
     "data": {
      "text/plain": [
       "'i am 19 years old'"
      ]
     },
     "execution_count": 4,
     "metadata": {},
     "output_type": "execute_result"
    }
   ],
   "source": [
    "\"i am %s years old\" %\"19\""
   ]
  },
  {
   "cell_type": "code",
   "execution_count": 13,
   "id": "318011cc",
   "metadata": {},
   "outputs": [
    {
     "data": {
      "text/plain": [
       "'hello friend my name is ayush taleasra. i am a python learner'"
      ]
     },
     "execution_count": 13,
     "metadata": {},
     "output_type": "execute_result"
    }
   ],
   "source": [
    "\"hello friend my name is %s. i am a %s learner\" %(\"ayush taleasra\",\"python\")"
   ]
  },
  {
   "cell_type": "code",
   "execution_count": 14,
   "id": "b37211ff",
   "metadata": {},
   "outputs": [],
   "source": [
    "#when using multiple strings use %(\"something1\",\"something2\")"
   ]
  },
  {
   "cell_type": "markdown",
   "id": "aefb2900",
   "metadata": {},
   "source": [
    "## Format conversion methods.\n",
    "It should be noted that two methods <code>%s</code> and <code>%r</code> convert any python object to a string using two separate methods: `str()` and `repr()`. \n",
    "note that `%r` and `repr()` deliver the *string representation* of the object, including quotation marks and any escape characters.\n",
    "\n",
    "basically `%r` print the line in raw format it means it will print anything in the line inculding escape characters\n",
    "/n,/t,//,\"\" etc"
   ]
  },
  {
   "cell_type": "code",
   "execution_count": 1,
   "id": "bc7e90f3",
   "metadata": {},
   "outputs": [
    {
     "name": "stdout",
     "output_type": "stream",
     "text": [
      "He said his name was sam.\n",
      "He said his name was 'sam'.\n"
     ]
    }
   ],
   "source": [
    "print('He said his name was %s.' %'sam')  # %s methode\n",
    "print('He said his name was %r.' %'sam')  # %r methode"
   ]
  },
  {
   "cell_type": "code",
   "execution_count": 24,
   "id": "3797a07f",
   "metadata": {},
   "outputs": [],
   "source": [
    "#As another example, \\t inserts a tab into a string."
   ]
  },
  {
   "cell_type": "code",
   "execution_count": 42,
   "id": "de7825dc",
   "metadata": {},
   "outputs": [
    {
     "name": "stdout",
     "output_type": "stream",
     "text": [
      "a pc should have i5. \ti7 processor\n",
      "a pc should have 'i5'. '\\ti7' processor\n"
     ]
    }
   ],
   "source": [
    "print('a pc should have %s. %s processor' %('i5','\\ti7'))\n",
    "\n",
    "print('a pc should have %r. %r processor' %('i5','\\ti7'))\n"
   ]
  },
  {
   "cell_type": "code",
   "execution_count": 43,
   "id": "016b5f10",
   "metadata": {},
   "outputs": [],
   "source": [
    "# note escape characters must be put in %(\"any escape charater\")"
   ]
  },
  {
   "cell_type": "code",
   "execution_count": 44,
   "id": "3a5c1a16",
   "metadata": {},
   "outputs": [],
   "source": [
    "#As another example, \\n inserts a new line into a string."
   ]
  },
  {
   "cell_type": "code",
   "execution_count": 45,
   "id": "57acd26d",
   "metadata": {},
   "outputs": [
    {
     "name": "stdout",
     "output_type": "stream",
     "text": [
      "a pc should have i5. \n",
      "i7 processor\n",
      "a pc should have 'i5'. '\\ni7' processor\n"
     ]
    }
   ],
   "source": [
    "print('a pc should have %s. %s processor' %('i5','\\ni7'))\n",
    "\n",
    "print('a pc should have %r. %r processor' %('i5','\\ni7'))\n"
   ]
  },
  {
   "cell_type": "raw",
   "id": "dd80769e",
   "metadata": {},
   "source": [
    "The `%s` operator converts whatever it sees into a string, including integers and floats.\n",
    "strings ----->>>> int and float\n",
    "The `%d` operator converts numbers to integers first, without rounding. Note the difference below:\n",
    "numbers ----->>>> integers first "
   ]
  },
  {
   "cell_type": "code",
   "execution_count": 46,
   "id": "3ae42589",
   "metadata": {},
   "outputs": [
    {
     "name": "stdout",
     "output_type": "stream",
     "text": [
      "I wrote 9.9999 programs today.\n",
      "I wrote 9 programs today.\n"
     ]
    }
   ],
   "source": [
    "print('I wrote %s programs today.' %9.9999)\n",
    "print('I wrote %d programs today.' %9.9999)   "
   ]
  },
  {
   "cell_type": "markdown",
   "id": "8a0be845",
   "metadata": {},
   "source": [
    "%d this operator will remove all decimal number in output\n",
    "note do not use \"\" after %s becuase it will going to understand as string\n"
   ]
  },
  {
   "cell_type": "code",
   "execution_count": 47,
   "id": "5a7be2a2",
   "metadata": {},
   "outputs": [
    {
     "name": "stdout",
     "output_type": "stream",
     "text": [
      "hi my perctenage 86.54\n",
      "hi my perctenage 86\n"
     ]
    },
    {
     "ename": "TypeError",
     "evalue": "%d format: a number is required, not str",
     "output_type": "error",
     "traceback": [
      "\u001b[1;31m---------------------------------------------------------------------------\u001b[0m",
      "\u001b[1;31mTypeError\u001b[0m                                 Traceback (most recent call last)",
      "\u001b[1;32m<ipython-input-47-35734a50106a>\u001b[0m in \u001b[0;36m<module>\u001b[1;34m\u001b[0m\n\u001b[0;32m      1\u001b[0m \u001b[0mprint\u001b[0m\u001b[1;33m(\u001b[0m\u001b[1;34m\"hi my perctenage %s\"\u001b[0m \u001b[1;33m%\u001b[0m\u001b[1;36m86.54\u001b[0m\u001b[1;33m)\u001b[0m\u001b[1;33m\u001b[0m\u001b[1;33m\u001b[0m\u001b[0m\n\u001b[0;32m      2\u001b[0m \u001b[0mprint\u001b[0m\u001b[1;33m(\u001b[0m\u001b[1;34m\"hi my perctenage %d\"\u001b[0m \u001b[1;33m%\u001b[0m\u001b[1;36m86.54\u001b[0m\u001b[1;33m)\u001b[0m\u001b[1;33m\u001b[0m\u001b[1;33m\u001b[0m\u001b[0m\n\u001b[1;32m----> 3\u001b[1;33m \u001b[0mprint\u001b[0m\u001b[1;33m(\u001b[0m\u001b[1;34m\"hi my perctenage %d\"\u001b[0m \u001b[1;33m%\u001b[0m\u001b[1;34m\"86.54\"\u001b[0m\u001b[1;33m)\u001b[0m\u001b[1;33m\u001b[0m\u001b[1;33m\u001b[0m\u001b[0m\n\u001b[0m\u001b[0;32m      4\u001b[0m \u001b[1;33m\u001b[0m\u001b[0m\n",
      "\u001b[1;31mTypeError\u001b[0m: %d format: a number is required, not str"
     ]
    }
   ],
   "source": [
    "print(\"hi my perctenage %s\" %86.54)\n",
    "print(\"hi my perctenage %d\" %86.54)\n",
    "print(\"hi my perctenage %d\" %\"86.54\")\n",
    "# error becuase of \"\" in third line"
   ]
  },
  {
   "cell_type": "code",
   "execution_count": 2,
   "id": "82ed849a",
   "metadata": {},
   "outputs": [
    {
     "name": "stdout",
     "output_type": "stream",
     "text": [
      "hi my perctenage 86\n"
     ]
    }
   ],
   "source": [
    "# above solution\n",
    "\n",
    "print(\"hi my perctenage %d\" %86.54)"
   ]
  },
  {
   "cell_type": "markdown",
   "id": "e605dd96",
   "metadata": {},
   "source": [
    "### Padding and Precision of Floating Point Numbers\n",
    "Floating point numbers use the format <code>%10.2f</code>. Here, <code>10</code> would be the minimum number of characters the string should contain; these may be padded with whitespace if the entire number does not have this many digits. \n",
    "\n",
    "Next to this, <code>.2f</code> stands for how many numbers to show past the decimal point. Let's see some examples:"
   ]
  },
  {
   "cell_type": "code",
   "execution_count": 56,
   "id": "2174beba",
   "metadata": {},
   "outputs": [
    {
     "name": "stdout",
     "output_type": "stream",
     "text": [
      "a point numbers:     123.17\n"
     ]
    }
   ],
   "source": [
    "print('a point numbers: %10.2f' %(123.16874))"
   ]
  },
  {
   "cell_type": "code",
   "execution_count": 58,
   "id": "c4d3f551",
   "metadata": {},
   "outputs": [
    {
     "name": "stdout",
     "output_type": "stream",
     "text": [
      "a point numbers: 123.1687\n"
     ]
    }
   ],
   "source": [
    "print('a point numbers: %0.4f' %(123.16874))"
   ]
  },
  {
   "cell_type": "code",
   "execution_count": 59,
   "id": "94d38e55",
   "metadata": {},
   "outputs": [
    {
     "name": "stdout",
     "output_type": "stream",
     "text": [
      "a point numbers:        123\n"
     ]
    }
   ],
   "source": [
    "print('a point numbers: %10.0f' %(123.16874))"
   ]
  },
  {
   "cell_type": "code",
   "execution_count": 60,
   "id": "f343c09c",
   "metadata": {},
   "outputs": [
    {
     "name": "stdout",
     "output_type": "stream",
     "text": [
      "a point numbers:  123.16874\n"
     ]
    }
   ],
   "source": [
    "print('a point numbers: %10.5f' %(123.16874))"
   ]
  },
  {
   "cell_type": "code",
   "execution_count": 61,
   "id": "3ceab476",
   "metadata": {},
   "outputs": [
    {
     "name": "stdout",
     "output_type": "stream",
     "text": [
      "a point numbers: 123\n"
     ]
    }
   ],
   "source": [
    "print('a point numbers: %0.0f' %(123.16874))"
   ]
  },
  {
   "cell_type": "markdown",
   "id": "e8bd031e",
   "metadata": {},
   "source": [
    "### Multiple Formatting\n",
    "using all %format method\n"
   ]
  },
  {
   "cell_type": "code",
   "execution_count": 62,
   "id": "ddca6ebf",
   "metadata": {},
   "outputs": [
    {
     "data": {
      "text/plain": [
       "\"hi method one,hi method 'two',hi method 3\""
      ]
     },
     "execution_count": 62,
     "metadata": {},
     "output_type": "execute_result"
    }
   ],
   "source": [
    "\"hi method %s,hi method %r,hi method %d\" %(\"one\",\"two\",3.33333)"
   ]
  },
  {
   "cell_type": "raw",
   "id": "504f1719",
   "metadata": {},
   "source": [
    "TIP:\n",
    "%s ------> for insterting itmes\n",
    "%r ------> for raw/unchange output \n",
    "%d ------> for removing decimal's\n",
    "\n"
   ]
  },
  {
   "cell_type": "code",
   "execution_count": null,
   "id": "358c618a",
   "metadata": {},
   "outputs": [],
   "source": []
  }
 ],
 "metadata": {
  "kernelspec": {
   "display_name": "Python 3",
   "language": "python",
   "name": "python3"
  },
  "language_info": {
   "codemirror_mode": {
    "name": "ipython",
    "version": 3
   },
   "file_extension": ".py",
   "mimetype": "text/x-python",
   "name": "python",
   "nbconvert_exporter": "python",
   "pygments_lexer": "ipython3",
   "version": "3.8.8"
  }
 },
 "nbformat": 4,
 "nbformat_minor": 5
}
