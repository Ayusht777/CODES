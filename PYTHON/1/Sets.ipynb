{
 "cells": [
  {
   "cell_type": "markdown",
   "id": "2ee5f8e7",
   "metadata": {},
   "source": [
    "# Sets\n",
    "\n",
    "Sets are an unordered collection of *unique* elements. We can construct them by using the set() function. \n",
    "\n",
    "*unique* elements means that cannot be repeated\n",
    "\n",
    "\n",
    "\n",
    "However, a set itself is mutable. We can add or remove items from it.\n",
    "\n",
    "Sets can also be used to perform mathematical set operations like union, intersection, symmetric difference, etc."
   ]
  },
  {
   "cell_type": "markdown",
   "id": "2eb70494",
   "metadata": {},
   "source": [
    "Note – A set cannot have mutable elements like a list, set or dictionary, as its elements.  "
   ]
  },
  {
   "cell_type": "markdown",
   "id": "5238b4d7",
   "metadata": {},
   "source": [
    "### Creating a set using {}  "
   ]
  },
  {
   "cell_type": "raw",
   "id": "0332cea1",
   "metadata": {},
   "source": [
    "Q1.) why we use {} to create the set and {} are use in dictionary ?\n",
    "ans.> we can create a set by creating a empty set and adding value in it after but these process allow you to add only one element at a time.so we use {} to create any set.\n",
    "and the differnce b/w {} use in set and dictionary is that dictionary have key and value in the curely bracket {},but set doesnot have any key and value assigned to it \n",
    "dic = {\"key\":\"value\"}\n",
    "set = {\"x\",\"y\"}\n"
   ]
  },
  {
   "cell_type": "markdown",
   "id": "8f49ccd4",
   "metadata": {},
   "source": [
    "A set is created by placing all the items (elements) inside curly braces {}, separated by comma, or by using the built-in set() function."
   ]
  },
  {
   "cell_type": "code",
   "execution_count": 49,
   "id": "0478f0b1",
   "metadata": {},
   "outputs": [
    {
     "name": "stdout",
     "output_type": "stream",
     "text": [
      "{1, 2, 3, 4}\n"
     ]
    },
    {
     "data": {
      "text/plain": [
       "set"
      ]
     },
     "execution_count": 49,
     "metadata": {},
     "output_type": "execute_result"
    }
   ],
   "source": [
    "newset = {1,2,3,4}\n",
    "print(newset)\n",
    "type(newset)"
   ]
  },
  {
   "cell_type": "code",
   "execution_count": null,
   "id": "cb71426e",
   "metadata": {},
   "outputs": [],
   "source": [
    "#Creating a mix set "
   ]
  },
  {
   "cell_type": "code",
   "execution_count": 55,
   "id": "01de0ef8",
   "metadata": {},
   "outputs": [
    {
     "name": "stdout",
     "output_type": "stream",
     "text": [
      "{1, 2.2, (1, 2), 'hi'}\n"
     ]
    }
   ],
   "source": [
    "mixset = {1,2.2,\"hi\",(1,2)}\n",
    "print(mixset)# here we used int,folating point ,string ,tuples"
   ]
  },
  {
   "cell_type": "code",
   "execution_count": 56,
   "id": "a32bf2d4",
   "metadata": {},
   "outputs": [
    {
     "ename": "TypeError",
     "evalue": "unhashable type: 'list'",
     "output_type": "error",
     "traceback": [
      "\u001b[1;31m---------------------------------------------------------------------------\u001b[0m",
      "\u001b[1;31mTypeError\u001b[0m                                 Traceback (most recent call last)",
      "\u001b[1;32m<ipython-input-56-b34f376279dc>\u001b[0m in \u001b[0;36m<module>\u001b[1;34m\u001b[0m\n\u001b[1;32m----> 1\u001b[1;33m \u001b[0mmy_set\u001b[0m \u001b[1;33m=\u001b[0m \u001b[1;33m{\u001b[0m\u001b[1;36m1\u001b[0m\u001b[1;33m,\u001b[0m \u001b[1;36m2\u001b[0m\u001b[1;33m,\u001b[0m \u001b[1;33m[\u001b[0m\u001b[1;36m3\u001b[0m\u001b[1;33m,\u001b[0m \u001b[1;36m4\u001b[0m\u001b[1;33m]\u001b[0m\u001b[1;33m}\u001b[0m\u001b[1;33m\u001b[0m\u001b[1;33m\u001b[0m\u001b[0m\n\u001b[0m\u001b[0;32m      2\u001b[0m \u001b[0mprint\u001b[0m\u001b[1;33m(\u001b[0m\u001b[0mmy_set\u001b[0m\u001b[1;33m)\u001b[0m\u001b[1;33m\u001b[0m\u001b[1;33m\u001b[0m\u001b[0m\n\u001b[0;32m      3\u001b[0m \u001b[1;31m# error because [3,4] are list so we cannot have mutable elements in a set\u001b[0m\u001b[1;33m\u001b[0m\u001b[1;33m\u001b[0m\u001b[1;33m\u001b[0m\u001b[0m\n",
      "\u001b[1;31mTypeError\u001b[0m: unhashable type: 'list'"
     ]
    }
   ],
   "source": [
    "my_set = {1, 2, [3, 4]}\n",
    "print(my_set)\n",
    "# error because [3,4] are list so we cannot have mutable elements in a set"
   ]
  },
  {
   "cell_type": "code",
   "execution_count": 16,
   "id": "4a8139ab",
   "metadata": {},
   "outputs": [
    {
     "ename": "NameError",
     "evalue": "name 'a' is not defined",
     "output_type": "error",
     "traceback": [
      "\u001b[1;31m---------------------------------------------------------------------------\u001b[0m",
      "\u001b[1;31mNameError\u001b[0m                                 Traceback (most recent call last)",
      "\u001b[1;32m<ipython-input-16-4bb3eaf9f783>\u001b[0m in \u001b[0;36m<module>\u001b[1;34m\u001b[0m\n\u001b[1;32m----> 1\u001b[1;33m \u001b[0ms1\u001b[0m \u001b[1;33m=\u001b[0m \u001b[1;33m{\u001b[0m\u001b[0ma\u001b[0m\u001b[1;33m,\u001b[0m\u001b[0mb\u001b[0m\u001b[1;33m,\u001b[0m\u001b[0mc\u001b[0m\u001b[1;33m}\u001b[0m \u001b[1;31m#error because you have to use \"\" in it\u001b[0m\u001b[1;33m\u001b[0m\u001b[1;33m\u001b[0m\u001b[0m\n\u001b[0m",
      "\u001b[1;31mNameError\u001b[0m: name 'a' is not defined"
     ]
    }
   ],
   "source": [
    "s1 = {a,b,c} #error because you have to use \"\" in it "
   ]
  },
  {
   "cell_type": "markdown",
   "id": "263c53c5",
   "metadata": {},
   "source": [
    "## Creating an empty set () "
   ]
  },
  {
   "cell_type": "code",
   "execution_count": 81,
   "id": "b8d15a7d",
   "metadata": {},
   "outputs": [],
   "source": [
    "new_set = set()"
   ]
  },
  {
   "cell_type": "code",
   "execution_count": 7,
   "id": "af715009",
   "metadata": {},
   "outputs": [
    {
     "data": {
      "text/plain": [
       "set"
      ]
     },
     "execution_count": 7,
     "metadata": {},
     "output_type": "execute_result"
    }
   ],
   "source": [
    "type(new_set)"
   ]
  },
  {
   "cell_type": "code",
   "execution_count": 8,
   "id": "6ab7e8ed",
   "metadata": {},
   "outputs": [],
   "source": [
    "#Now adding elements in this set"
   ]
  },
  {
   "cell_type": "code",
   "execution_count": 82,
   "id": "a84af859",
   "metadata": {},
   "outputs": [],
   "source": [
    "new_set.add(1)   #you can only add one element at a time"
   ]
  },
  {
   "cell_type": "code",
   "execution_count": 83,
   "id": "1b3f5ebf",
   "metadata": {},
   "outputs": [
    {
     "data": {
      "text/plain": [
       "{1}"
      ]
     },
     "execution_count": 83,
     "metadata": {},
     "output_type": "execute_result"
    }
   ],
   "source": [
    "new_set"
   ]
  },
  {
   "cell_type": "code",
   "execution_count": 84,
   "id": "f387ad38",
   "metadata": {},
   "outputs": [],
   "source": [
    "new_set.add(4)"
   ]
  },
  {
   "cell_type": "code",
   "execution_count": 67,
   "id": "92e75542",
   "metadata": {},
   "outputs": [
    {
     "data": {
      "text/plain": [
       "{1, 4}"
      ]
     },
     "execution_count": 67,
     "metadata": {},
     "output_type": "execute_result"
    }
   ],
   "source": [
    "new_set"
   ]
  },
  {
   "cell_type": "code",
   "execution_count": 14,
   "id": "c57b55fc",
   "metadata": {},
   "outputs": [],
   "source": [
    "#now let's try to add 4 number again "
   ]
  },
  {
   "cell_type": "code",
   "execution_count": 79,
   "id": "35cd4fcc",
   "metadata": {},
   "outputs": [],
   "source": [
    "new_set.add(4)"
   ]
  },
  {
   "cell_type": "code",
   "execution_count": 80,
   "id": "47918c42",
   "metadata": {},
   "outputs": [
    {
     "data": {
      "text/plain": [
       "{0, 0.1, 1, 11, 2, 3, 4, 7, 8, 9, 'e', 'h', 'i', 'l', 'o'}"
      ]
     },
     "execution_count": 80,
     "metadata": {},
     "output_type": "execute_result"
    }
   ],
   "source": [
    "new_set"
   ]
  },
  {
   "cell_type": "code",
   "execution_count": 17,
   "id": "0bc97f8e",
   "metadata": {},
   "outputs": [],
   "source": [
    "#the set does not repeat the value so it ignore the adding of same element"
   ]
  },
  {
   "cell_type": "markdown",
   "id": "8c9cd154",
   "metadata": {},
   "source": [
    "#### .update() method is use to add mutiple elements at a time\n",
    "syntax = setname.update([1,2,3]) \n",
    "here we added elements in list than in set\n"
   ]
  },
  {
   "cell_type": "code",
   "execution_count": 71,
   "id": "265b68cb",
   "metadata": {},
   "outputs": [
    {
     "name": "stdout",
     "output_type": "stream",
     "text": [
      "{1, 2, 3, 4}\n"
     ]
    }
   ],
   "source": [
    "new_set.update([2,3]) \n",
    "print(new_set)"
   ]
  },
  {
   "cell_type": "code",
   "execution_count": 72,
   "id": "c5569da6",
   "metadata": {},
   "outputs": [],
   "source": [
    "# adding list,tuples,sets in a set at once"
   ]
  },
  {
   "cell_type": "code",
   "execution_count": 85,
   "id": "296fea43",
   "metadata": {},
   "outputs": [],
   "source": [
    "new_set.update([8,7],\"hi\",(9,11),{0,0.1})"
   ]
  },
  {
   "cell_type": "code",
   "execution_count": 86,
   "id": "35026cf7",
   "metadata": {},
   "outputs": [
    {
     "name": "stdout",
     "output_type": "stream",
     "text": [
      "{0, 1, 0.1, 4, 7, 8, 9, 11, 'h', 'i'}\n"
     ]
    }
   ],
   "source": [
    "print(new_set)"
   ]
  },
  {
   "cell_type": "code",
   "execution_count": 92,
   "id": "2d89f14f",
   "metadata": {},
   "outputs": [],
   "source": [
    "s = set()"
   ]
  },
  {
   "cell_type": "code",
   "execution_count": 93,
   "id": "1095f5da",
   "metadata": {},
   "outputs": [
    {
     "name": "stdout",
     "output_type": "stream",
     "text": [
      "{'hi'}\n"
     ]
    },
    {
     "data": {
      "text/plain": [
       "set"
      ]
     },
     "execution_count": 93,
     "metadata": {},
     "output_type": "execute_result"
    }
   ],
   "source": [
    "s.update([\"hi\"])\n",
    "print(s)\n",
    "type(s)"
   ]
  },
  {
   "cell_type": "code",
   "execution_count": null,
   "id": "fbaeb648",
   "metadata": {},
   "outputs": [],
   "source": []
  },
  {
   "cell_type": "code",
   "execution_count": null,
   "id": "2dabaec3",
   "metadata": {},
   "outputs": [],
   "source": []
  },
  {
   "cell_type": "markdown",
   "id": "4c91319b",
   "metadata": {},
   "source": [
    "### Creating a Set with the use of a String"
   ]
  },
  {
   "cell_type": "code",
   "execution_count": 9,
   "id": "be9ae5aa",
   "metadata": {},
   "outputs": [
    {
     "name": "stdout",
     "output_type": "stream",
     "text": [
      "{'d', 'b', 'a', 'c'}\n"
     ]
    },
    {
     "data": {
      "text/plain": [
       "set"
      ]
     },
     "execution_count": 9,
     "metadata": {},
     "output_type": "execute_result"
    }
   ],
   "source": [
    "set1 = set(\"abcad\")\n",
    "print(set1)\n",
    "type(set1)"
   ]
  },
  {
   "cell_type": "markdown",
   "id": "f60af8c1",
   "metadata": {},
   "source": [
    "here set does not have any  order means the set we created is without order just randomly and does not have any duplicate item"
   ]
  },
  {
   "cell_type": "markdown",
   "id": "23727aa2",
   "metadata": {},
   "source": [
    "### Creating a Set with the Using object to Store String"
   ]
  },
  {
   "cell_type": "code",
   "execution_count": 11,
   "id": "28df0886",
   "metadata": {},
   "outputs": [],
   "source": [
    "string = \"hi ayush\""
   ]
  },
  {
   "cell_type": "code",
   "execution_count": 12,
   "id": "92089185",
   "metadata": {},
   "outputs": [],
   "source": [
    "mysetstring = set(string)"
   ]
  },
  {
   "cell_type": "code",
   "execution_count": 14,
   "id": "92607091",
   "metadata": {},
   "outputs": [
    {
     "name": "stdout",
     "output_type": "stream",
     "text": [
      "{'y', ' ', 's', 'a', 'h', 'i', 'u'}\n"
     ]
    }
   ],
   "source": [
    "print(mysetstring)"
   ]
  },
  {
   "cell_type": "markdown",
   "id": "776925fe",
   "metadata": {},
   "source": [
    "so basically i have define a string which is hi ayush so the set data type splits these phrase into alphabates without any duplicated letter \n",
    "and also spilt the whitespaces/space into a element"
   ]
  },
  {
   "cell_type": "markdown",
   "id": "07deda76",
   "metadata": {},
   "source": [
    "### Creating a Set with the use of a List "
   ]
  },
  {
   "cell_type": "code",
   "execution_count": 16,
   "id": "98974e0e",
   "metadata": {},
   "outputs": [
    {
     "name": "stdout",
     "output_type": "stream",
     "text": [
      "{'ayush', 'hi'}\n"
     ]
    }
   ],
   "source": [
    "setlist = set([\"hi\",\"ayush\"])\n",
    "print(setlist)"
   ]
  },
  {
   "cell_type": "code",
   "execution_count": 29,
   "id": "0c0eaa8a",
   "metadata": {},
   "outputs": [
    {
     "name": "stdout",
     "output_type": "stream",
     "text": [
      "{'ayush', 'are', 'you', 'how', 'hi'}\n"
     ]
    }
   ],
   "source": [
    "setlist1 = set([\"hi\",\"ayush\",\"how\",\"are\",\"you\",])\n",
    "print(setlist1)"
   ]
  },
  {
   "cell_type": "code",
   "execution_count": null,
   "id": "615b17c7",
   "metadata": {},
   "outputs": [],
   "source": [
    "# a use of a set"
   ]
  },
  {
   "cell_type": "code",
   "execution_count": 30,
   "id": "2e852cc6",
   "metadata": {},
   "outputs": [
    {
     "name": "stdout",
     "output_type": "stream",
     "text": [
      "{1, 2, 3, 4}\n"
     ]
    }
   ],
   "source": [
    "setlist2 = set([1,2,2,2,3,4,4])\n",
    "print(setlist2) "
   ]
  },
  {
   "cell_type": "markdown",
   "id": "5df8c7de",
   "metadata": {},
   "source": [
    "so set removes duplicate item so if you have a list with repeated element into unique list so you can use it "
   ]
  },
  {
   "cell_type": "markdown",
   "id": "f8eb290d",
   "metadata": {},
   "source": [
    "-----------------------------------------------------------------------------------------------------------------------"
   ]
  },
  {
   "cell_type": "code",
   "execution_count": 59,
   "id": "b362df20",
   "metadata": {},
   "outputs": [],
   "source": [
    "# sets does not support indexing and slicing"
   ]
  },
  {
   "cell_type": "code",
   "execution_count": 57,
   "id": "347b55d7",
   "metadata": {},
   "outputs": [],
   "source": [
    "sets = {1,2,3,4,5}"
   ]
  },
  {
   "cell_type": "code",
   "execution_count": 58,
   "id": "e8bd2593",
   "metadata": {
    "scrolled": true
   },
   "outputs": [
    {
     "ename": "TypeError",
     "evalue": "'set' object is not subscriptable",
     "output_type": "error",
     "traceback": [
      "\u001b[1;31m---------------------------------------------------------------------------\u001b[0m",
      "\u001b[1;31mTypeError\u001b[0m                                 Traceback (most recent call last)",
      "\u001b[1;32m<ipython-input-58-d3627dfb5037>\u001b[0m in \u001b[0;36m<module>\u001b[1;34m\u001b[0m\n\u001b[1;32m----> 1\u001b[1;33m \u001b[0msets\u001b[0m\u001b[1;33m[\u001b[0m\u001b[1;36m0\u001b[0m\u001b[1;33m]\u001b[0m\u001b[1;33m\u001b[0m\u001b[1;33m\u001b[0m\u001b[0m\n\u001b[0m",
      "\u001b[1;31mTypeError\u001b[0m: 'set' object is not subscriptable"
     ]
    }
   ],
   "source": [
    "sets[0]"
   ]
  },
  {
   "cell_type": "code",
   "execution_count": 60,
   "id": "28bd9861",
   "metadata": {
    "scrolled": true
   },
   "outputs": [
    {
     "ename": "TypeError",
     "evalue": "'set' object is not subscriptable",
     "output_type": "error",
     "traceback": [
      "\u001b[1;31m---------------------------------------------------------------------------\u001b[0m",
      "\u001b[1;31mTypeError\u001b[0m                                 Traceback (most recent call last)",
      "\u001b[1;32m<ipython-input-60-79313ee12418>\u001b[0m in \u001b[0;36m<module>\u001b[1;34m\u001b[0m\n\u001b[1;32m----> 1\u001b[1;33m \u001b[0msets\u001b[0m\u001b[1;33m[\u001b[0m\u001b[1;36m1\u001b[0m\u001b[1;33m:\u001b[0m\u001b[1;33m]\u001b[0m\u001b[1;33m\u001b[0m\u001b[1;33m\u001b[0m\u001b[0m\n\u001b[0m",
      "\u001b[1;31mTypeError\u001b[0m: 'set' object is not subscriptable"
     ]
    }
   ],
   "source": [
    "sets[1:]"
   ]
  },
  {
   "cell_type": "markdown",
   "id": "e4e85030",
   "metadata": {},
   "source": [
    "### Removing elements from a set "
   ]
  },
  {
   "cell_type": "code",
   "execution_count": 124,
   "id": "df2d5a22",
   "metadata": {},
   "outputs": [],
   "source": [
    "nset = {1,2,3,4,5,6}"
   ]
  },
  {
   "cell_type": "code",
   "execution_count": 95,
   "id": "7e7691c9",
   "metadata": {},
   "outputs": [],
   "source": [
    "# .remove() method"
   ]
  },
  {
   "cell_type": "code",
   "execution_count": 125,
   "id": "af08f50f",
   "metadata": {},
   "outputs": [],
   "source": [
    "nset.remove(2) #it is permanet method"
   ]
  },
  {
   "cell_type": "code",
   "execution_count": 100,
   "id": "64737462",
   "metadata": {},
   "outputs": [
    {
     "name": "stdout",
     "output_type": "stream",
     "text": [
      "{1, 3, 4, 5, 6}\n"
     ]
    }
   ],
   "source": [
    "print(nset)"
   ]
  },
  {
   "cell_type": "code",
   "execution_count": 102,
   "id": "bb4a3837",
   "metadata": {},
   "outputs": [],
   "source": [
    "# .discard () method"
   ]
  },
  {
   "cell_type": "code",
   "execution_count": 126,
   "id": "567ff994",
   "metadata": {},
   "outputs": [],
   "source": [
    "nset.discard(6) #it is also permanet"
   ]
  },
  {
   "cell_type": "code",
   "execution_count": 103,
   "id": "2f898fbb",
   "metadata": {},
   "outputs": [
    {
     "name": "stdout",
     "output_type": "stream",
     "text": [
      "{1, 3, 4, 5}\n"
     ]
    }
   ],
   "source": [
    "print(nset)"
   ]
  },
  {
   "cell_type": "code",
   "execution_count": 104,
   "id": "6645389a",
   "metadata": {},
   "outputs": [],
   "source": [
    "#difference b/w .remove & .discard"
   ]
  },
  {
   "cell_type": "raw",
   "id": "b87ec73c",
   "metadata": {},
   "source": [
    "the .remove method will give error if element doesnot present in the set\n",
    "but .discard method will not going to give error"
   ]
  },
  {
   "cell_type": "code",
   "execution_count": 127,
   "id": "aa40f83b",
   "metadata": {},
   "outputs": [
    {
     "name": "stdout",
     "output_type": "stream",
     "text": [
      "{1, 3, 4, 5}\n"
     ]
    }
   ],
   "source": [
    "print(nset)\n"
   ]
  },
  {
   "cell_type": "code",
   "execution_count": 106,
   "id": "923e79d1",
   "metadata": {},
   "outputs": [
    {
     "ename": "KeyError",
     "evalue": "2",
     "output_type": "error",
     "traceback": [
      "\u001b[1;31m---------------------------------------------------------------------------\u001b[0m",
      "\u001b[1;31mKeyError\u001b[0m                                  Traceback (most recent call last)",
      "\u001b[1;32m<ipython-input-106-711b7b94c982>\u001b[0m in \u001b[0;36m<module>\u001b[1;34m\u001b[0m\n\u001b[1;32m----> 1\u001b[1;33m \u001b[0mnset\u001b[0m\u001b[1;33m.\u001b[0m\u001b[0mremove\u001b[0m\u001b[1;33m(\u001b[0m\u001b[1;36m2\u001b[0m\u001b[1;33m)\u001b[0m\u001b[1;33m\u001b[0m\u001b[1;33m\u001b[0m\u001b[0m\n\u001b[0m",
      "\u001b[1;31mKeyError\u001b[0m: 2"
     ]
    }
   ],
   "source": [
    "nset.remove(2)"
   ]
  },
  {
   "cell_type": "code",
   "execution_count": 107,
   "id": "6d9ceb90",
   "metadata": {},
   "outputs": [],
   "source": [
    "nset.discard(2)"
   ]
  },
  {
   "cell_type": "code",
   "execution_count": 108,
   "id": "32d0e88b",
   "metadata": {},
   "outputs": [],
   "source": [
    "#.pop() method"
   ]
  },
  {
   "cell_type": "code",
   "execution_count": 149,
   "id": "0e045b86",
   "metadata": {},
   "outputs": [],
   "source": [
    "lise = {\"a\",\"c\",\"b\",\"d\"}"
   ]
  },
  {
   "cell_type": "code",
   "execution_count": 150,
   "id": "d1e59715",
   "metadata": {},
   "outputs": [
    {
     "data": {
      "text/plain": [
       "'d'"
      ]
     },
     "execution_count": 150,
     "metadata": {},
     "output_type": "execute_result"
    }
   ],
   "source": [
    "lise.pop()\n",
    "# this method will remove randomly a elements from set \n",
    "#because set is an unordered data type, there is no way of determining which item will be popped"
   ]
  },
  {
   "cell_type": "code",
   "execution_count": 151,
   "id": "d4c496fd",
   "metadata": {},
   "outputs": [
    {
     "name": "stdout",
     "output_type": "stream",
     "text": [
      "{'b', 'a', 'c'}\n"
     ]
    }
   ],
   "source": [
    "print(lise)"
   ]
  },
  {
   "cell_type": "code",
   "execution_count": 137,
   "id": "3bb66cb5",
   "metadata": {},
   "outputs": [],
   "source": [
    "# .clear() method "
   ]
  },
  {
   "cell_type": "markdown",
   "id": "3f10eaba",
   "metadata": {},
   "source": [
    " this method will going to remove all elements from set"
   ]
  },
  {
   "cell_type": "code",
   "execution_count": 147,
   "id": "eba779b8",
   "metadata": {},
   "outputs": [],
   "source": [
    "lise.clear()\n"
   ]
  },
  {
   "cell_type": "code",
   "execution_count": 148,
   "id": "516c2224",
   "metadata": {},
   "outputs": [
    {
     "name": "stdout",
     "output_type": "stream",
     "text": [
      "set()\n"
     ]
    }
   ],
   "source": [
    "print(lise)"
   ]
  },
  {
   "cell_type": "markdown",
   "id": "f4ecb4df",
   "metadata": {},
   "source": [
    "# or"
   ]
  },
  {
   "cell_type": "code",
   "execution_count": 152,
   "id": "5615384a",
   "metadata": {},
   "outputs": [],
   "source": [
    "del lise"
   ]
  },
  {
   "cell_type": "code",
   "execution_count": 153,
   "id": "53a3894c",
   "metadata": {},
   "outputs": [
    {
     "ename": "NameError",
     "evalue": "name 'lise' is not defined",
     "output_type": "error",
     "traceback": [
      "\u001b[1;31m---------------------------------------------------------------------------\u001b[0m",
      "\u001b[1;31mNameError\u001b[0m                                 Traceback (most recent call last)",
      "\u001b[1;32m<ipython-input-153-7b744bbff991>\u001b[0m in \u001b[0;36m<module>\u001b[1;34m\u001b[0m\n\u001b[1;32m----> 1\u001b[1;33m \u001b[0mprint\u001b[0m\u001b[1;33m(\u001b[0m\u001b[0mlise\u001b[0m\u001b[1;33m)\u001b[0m\u001b[1;33m\u001b[0m\u001b[1;33m\u001b[0m\u001b[0m\n\u001b[0m",
      "\u001b[1;31mNameError\u001b[0m: name 'lise' is not defined"
     ]
    }
   ],
   "source": [
    "print(lise) # because the nootebook does not know a set name lise so it will going to error"
   ]
  },
  {
   "cell_type": "markdown",
   "id": "a0d54376",
   "metadata": {},
   "source": [
    "# Python Set Operations"
   ]
  },
  {
   "cell_type": "markdown",
   "id": "b22d5097",
   "metadata": {},
   "source": [
    "Sets can be used to carry out mathematical set operations like union, intersection, difference and symmetric difference. We can do this with operators or methods."
   ]
  },
  {
   "cell_type": "markdown",
   "id": "baf77371",
   "metadata": {},
   "source": [
    "## Set Union"
   ]
  },
  {
   "attachments": {
    "set-union.webp": {
     "image/webp": "[encoded data removed]"
    }
   },
   "cell_type": "markdown",
   "id": "ffb456fe",
   "metadata": {},
   "source": [
    "![set-union.webp](attachment:set-union.webp)"
   ]
  },
  {
   "cell_type": "markdown",
   "id": "5f69dfdc",
   "metadata": {},
   "source": [
    "Union of A and B is a set of all elements from both sets.\n",
    "\n",
    "Union is performed using | operator. Same can be accomplished using the \n",
    "union() method.\n",
    "\n",
    "syntax -->> a|b"
   ]
  },
  {
   "cell_type": "code",
   "execution_count": 162,
   "id": "ab82df51",
   "metadata": {},
   "outputs": [],
   "source": [
    "a = {1,2,3,4}\n",
    "b = {4,5,6,7}"
   ]
  },
  {
   "cell_type": "code",
   "execution_count": 164,
   "id": "8da2f34b",
   "metadata": {},
   "outputs": [
    {
     "data": {
      "text/plain": [
       "{1, 2, 3, 4, 5, 6, 7}"
      ]
     },
     "execution_count": 164,
     "metadata": {},
     "output_type": "execute_result"
    }
   ],
   "source": [
    "a|b # all elements of set a & b in one set"
   ]
  },
  {
   "cell_type": "code",
   "execution_count": 165,
   "id": "170af915",
   "metadata": {},
   "outputs": [],
   "source": [
    "#also see .union() method down below"
   ]
  },
  {
   "cell_type": "markdown",
   "id": "7cc9e0f5",
   "metadata": {},
   "source": [
    "## Set Intersection "
   ]
  },
  {
   "attachments": {
    "set-intersection.webp": {
     "image/webp": "[encoded data removed]"
    }
   },
   "cell_type": "markdown",
   "id": "9de710d8",
   "metadata": {},
   "source": [
    "![set-intersection.webp](attachment:set-intersection.webp)\n",
    "Intersection of A and B is a set of elements that are common in both the sets.\n",
    "\n",
    "Intersection is performed using & operator. Same can be accomplished using the intersection() method.\n",
    "\n",
    "syntax-->> a&b"
   ]
  },
  {
   "cell_type": "code",
   "execution_count": 166,
   "id": "2b7c0992",
   "metadata": {},
   "outputs": [],
   "source": [
    "a = {1,2}\n",
    "b = {2,3}"
   ]
  },
  {
   "cell_type": "code",
   "execution_count": 167,
   "id": "02a76435",
   "metadata": {},
   "outputs": [
    {
     "data": {
      "text/plain": [
       "{2}"
      ]
     },
     "execution_count": 167,
     "metadata": {},
     "output_type": "execute_result"
    }
   ],
   "source": [
    "a&b # all common elements of set a and b in one set"
   ]
  },
  {
   "cell_type": "code",
   "execution_count": null,
   "id": "d78cd933",
   "metadata": {},
   "outputs": [],
   "source": [
    "#also see .intersection() method down below"
   ]
  },
  {
   "cell_type": "markdown",
   "id": "f79196fb",
   "metadata": {},
   "source": [
    "## Set Difference"
   ]
  },
  {
   "attachments": {
    "set-difference.webp": {
     "image/webp": "[encoded data removed]"
    }
   },
   "cell_type": "markdown",
   "id": "def2321c",
   "metadata": {},
   "source": [
    "![set-difference.webp](attachment:set-difference.webp)\n",
    "Difference of the set B from set A(A - B) is a set of elements that are only in A but not in B. Similarly, B - A is a set of elements in B but not in A.\n",
    "\n",
    "Difference is performed using - operator. Same can be accomplished using the difference() method."
   ]
  },
  {
   "cell_type": "code",
   "execution_count": 170,
   "id": "5eef96c7",
   "metadata": {},
   "outputs": [
    {
     "name": "stdout",
     "output_type": "stream",
     "text": [
      "{1, 2}\n",
      "{5, 6}\n"
     ]
    }
   ],
   "source": [
    "a = {1,2,3,4}\n",
    "b = {3,4,5,6}\n",
    "print(a-b)\n",
    "print(b-a)"
   ]
  },
  {
   "cell_type": "markdown",
   "id": "c0b263a0",
   "metadata": {},
   "source": [
    "{1,2} it means only unique elements of (a) so it will remove all elements of (b) & common elements of a & b\n",
    "\n",
    "{5,6} it means only unique elements of (b) so it will remove all elements of (a) & common elements of a & b\n"
   ]
  },
  {
   "cell_type": "code",
   "execution_count": null,
   "id": "f41ad8ff",
   "metadata": {},
   "outputs": [],
   "source": [
    "#also see .difference() method down below."
   ]
  },
  {
   "cell_type": "markdown",
   "id": "4a972408",
   "metadata": {},
   "source": [
    "###  Set Symmetric Difference"
   ]
  },
  {
   "attachments": {
    "set-symmetric-difference.webp": {
     "image/webp": "[encoded data removed]"
    }
   },
   "cell_type": "markdown",
   "id": "eeb1c0a3",
   "metadata": {},
   "source": [
    "![set-symmetric-difference.webp](attachment:set-symmetric-difference.webp)\n",
    "Symmetric Difference of A and B is a set of elements in A and B but not in both (excluding the intersection).\n",
    "\n",
    "Symmetric difference is performed using ^ operator. Same can be accomplished using the method symmetric_difference().\n",
    "\n",
    "syntax-->> a^b"
   ]
  },
  {
   "cell_type": "code",
   "execution_count": 172,
   "id": "b01ea994",
   "metadata": {},
   "outputs": [
    {
     "data": {
      "text/plain": [
       "{1, 4, 5}"
      ]
     },
     "execution_count": 172,
     "metadata": {},
     "output_type": "execute_result"
    }
   ],
   "source": [
    "a = {1,2,3}\n",
    "b = {2,3,4,5}\n",
    "a^b"
   ]
  },
  {
   "cell_type": "markdown",
   "id": "46901a04",
   "metadata": {},
   "source": [
    "{1,4,5} it means elements of a and b but not the common elements of a & b"
   ]
  },
  {
   "cell_type": "code",
   "execution_count": null,
   "id": "2aed4a82",
   "metadata": {},
   "outputs": [],
   "source": [
    "#also see .symmetric_difference() method down below."
   ]
  },
  {
   "cell_type": "code",
   "execution_count": null,
   "id": "5c7f53c2",
   "metadata": {},
   "outputs": [],
   "source": []
  },
  {
   "cell_type": "markdown",
   "id": "dae59eec",
   "metadata": {},
   "source": [
    "---------------------------------------------------------------------------"
   ]
  },
  {
   "cell_type": "markdown",
   "id": "d1b5304f",
   "metadata": {},
   "source": [
    "---------------------------------------------------------------------------"
   ]
  },
  {
   "cell_type": "markdown",
   "id": "3f5014af",
   "metadata": {},
   "source": [
    "## Set method "
   ]
  },
  {
   "attachments": {
    "Screenshot%202021-10-03%20at%2018-22-57%20Python%20Set%20%28With%20Examples%29.png": {
     "image/png": "[encoded data removed]"
    }
   },
   "cell_type": "markdown",
   "id": "ce5db227",
   "metadata": {},
   "source": [
    "![Screenshot%202021-10-03%20at%2018-22-57%20Python%20Set%20%28With%20Examples%29.png](attachment:Screenshot%202021-10-03%20at%2018-22-57%20Python%20Set%20%28With%20Examples%29.png)"
   ]
  },
  {
   "cell_type": "markdown",
   "id": "d7fc8b37",
   "metadata": {},
   "source": [
    "#### .copy() method\n",
    "Returns a copy of the set\n"
   ]
  },
  {
   "cell_type": "code",
   "execution_count": 161,
   "id": "53552510",
   "metadata": {
    "scrolled": true
   },
   "outputs": [
    {
     "name": "stdout",
     "output_type": "stream",
     "text": [
      "{1, 2, 3}\n",
      "{1, 2, 3}\n"
     ]
    }
   ],
   "source": [
    "set1 = {1,2,3}\n",
    "set2 = set1.copy()\n",
    "print(set1)\n",
    "print(set2)\n"
   ]
  },
  {
   "cell_type": "markdown",
   "id": "05f873b7",
   "metadata": {},
   "source": [
    "#### .union() method"
   ]
  },
  {
   "cell_type": "code",
   "execution_count": 1,
   "id": "fa6d83a2",
   "metadata": {},
   "outputs": [],
   "source": [
    "#The set .union() method returns a new set with distinct (does not repeat common element) elements from all the sets."
   ]
  },
  {
   "cell_type": "code",
   "execution_count": 4,
   "id": "8582e5fc",
   "metadata": {},
   "outputs": [],
   "source": [
    "a = {1, 3, 5}\n",
    "b = {2, 3, 5}"
   ]
  },
  {
   "cell_type": "code",
   "execution_count": 9,
   "id": "825a3887",
   "metadata": {},
   "outputs": [
    {
     "name": "stdout",
     "output_type": "stream",
     "text": [
      "{1, 2, 3, 5}\n"
     ]
    }
   ],
   "source": [
    "A_U_B = a.union(b)\n",
    "print(A_U_B) #A_U_B it means in maths A union B  "
   ]
  },
  {
   "cell_type": "code",
   "execution_count": 13,
   "id": "eda1a6ab",
   "metadata": {},
   "outputs": [],
   "source": [
    "A = {'c', 'd', 2 }\n",
    "B = {1, 2, 3}"
   ]
  },
  {
   "cell_type": "code",
   "execution_count": 15,
   "id": "e914a5e3",
   "metadata": {},
   "outputs": [
    {
     "name": "stdout",
     "output_type": "stream",
     "text": [
      "{1, 2, 3, 'c', 'd'}\n"
     ]
    }
   ],
   "source": [
    "AUB = A.union(B)\n",
    "print(AUB)"
   ]
  },
  {
   "cell_type": "markdown",
   "id": "5f84c92e",
   "metadata": {},
   "source": [
    "#### .intersection() "
   ]
  },
  {
   "cell_type": "code",
   "execution_count": 8,
   "id": "eef2e3a2",
   "metadata": {},
   "outputs": [],
   "source": [
    "#The intersection() method returns a new set with elements that are common to all sets."
   ]
  },
  {
   "cell_type": "code",
   "execution_count": 17,
   "id": "c909774b",
   "metadata": {},
   "outputs": [],
   "source": [
    "s1 = {\"a\",\"b\",\"c\"}\n",
    "s2 = {\"b\",\"c\",\"d\"}"
   ]
  },
  {
   "cell_type": "code",
   "execution_count": 25,
   "id": "f767f309",
   "metadata": {
    "scrolled": true
   },
   "outputs": [
    {
     "name": "stdout",
     "output_type": "stream",
     "text": [
      "{'c', 'b'}\n"
     ]
    }
   ],
   "source": [
    "s3 = s1.intersection(s2)\n",
    "print(s3) \n",
    "# it is not permanet to make it permanet we have to assigne this as a new set"
   ]
  },
  {
   "cell_type": "markdown",
   "id": "17bd1d43",
   "metadata": {},
   "source": [
    "#### .intersection_update()"
   ]
  },
  {
   "cell_type": "code",
   "execution_count": 26,
   "id": "b12f2136",
   "metadata": {},
   "outputs": [],
   "source": [
    "#this method does not create a new set but it update the pervious set with only common value in it "
   ]
  },
  {
   "cell_type": "code",
   "execution_count": 27,
   "id": "5cd5d3fa",
   "metadata": {},
   "outputs": [],
   "source": [
    "s1 = {1,2,3}\n",
    "s2 = {3,4,5}"
   ]
  },
  {
   "cell_type": "code",
   "execution_count": 28,
   "id": "15df7ad5",
   "metadata": {},
   "outputs": [],
   "source": [
    "s1.intersection_update(s2)"
   ]
  },
  {
   "cell_type": "code",
   "execution_count": 31,
   "id": "fa4b6b26",
   "metadata": {},
   "outputs": [
    {
     "name": "stdout",
     "output_type": "stream",
     "text": [
      "{3}\n"
     ]
    }
   ],
   "source": [
    "print(s1) # it is permanet method"
   ]
  },
  {
   "cell_type": "code",
   "execution_count": null,
   "id": "2da24d1f",
   "metadata": {},
   "outputs": [],
   "source": []
  },
  {
   "cell_type": "markdown",
   "id": "d659b4f9",
   "metadata": {},
   "source": [
    "#### .difference() method "
   ]
  },
  {
   "cell_type": "code",
   "execution_count": 16,
   "id": "4b8bb46f",
   "metadata": {},
   "outputs": [],
   "source": [
    "#The difference() method returns the set difference of two sets"
   ]
  },
  {
   "cell_type": "code",
   "execution_count": 18,
   "id": "6cbc6a12",
   "metadata": {},
   "outputs": [
    {
     "name": "stdout",
     "output_type": "stream",
     "text": [
      "{1, 4}\n"
     ]
    }
   ],
   "source": [
    "A = {1, 2, 3, 4}\n",
    "B = {2, 3, 9}\n",
    "difference = A.difference(B)\n",
    "print(difference)\n"
   ]
  },
  {
   "attachments": {
    "Screenshot%202021-10-04%20at%2021-23-06%20Python%20Set%20difference%28%29.png": {
     "image/png": "[encoded data removed]"
    }
   },
   "cell_type": "markdown",
   "id": "706e8eb2",
   "metadata": {},
   "source": [
    "![Screenshot%202021-10-04%20at%2021-23-06%20Python%20Set%20difference%28%29.png](attachment:Screenshot%202021-10-04%20at%2021-23-06%20Python%20Set%20difference%28%29.png)"
   ]
  },
  {
   "cell_type": "markdown",
   "id": "53401d1a",
   "metadata": {},
   "source": [
    "#### .difference_update()"
   ]
  },
  {
   "cell_type": "markdown",
   "id": "98e7fa4f",
   "metadata": {},
   "source": [
    "Python’s set.difference_update(*args) method removes all elements from this set that are members of any of the given set arguments. For example, s.difference_update({1, 2}) removes elements 1 and 2 from the set s. Its return value is None because it modifies the set it is called upon rather than creating a new set.\n",
    "\n",
    "\n",
    "Remove all elements of another set from this set.\n",
    "\n",
    "\n",
    "easy language : this method does not create a new set but it update the pervious set with removing common & remaning  value of set2 in set 1  or vis versa for set1 in set2  "
   ]
  },
  {
   "cell_type": "code",
   "execution_count": 2,
   "id": "8a7f3ded",
   "metadata": {},
   "outputs": [
    {
     "name": "stdout",
     "output_type": "stream",
     "text": [
      "{1, 2}\n"
     ]
    }
   ],
   "source": [
    "s1 = {1,2,3}\n",
    "s2 = {3,4,5}\n",
    "s1.difference_update(s2)\n",
    "print(s1)"
   ]
  },
  {
   "cell_type": "code",
   "execution_count": 3,
   "id": "570eab6b",
   "metadata": {},
   "outputs": [
    {
     "data": {
      "text/plain": [
       "{1, 2}"
      ]
     },
     "execution_count": 3,
     "metadata": {},
     "output_type": "execute_result"
    }
   ],
   "source": [
    "s1  # it is permeant"
   ]
  },
  {
   "cell_type": "code",
   "execution_count": 7,
   "id": "36905219",
   "metadata": {},
   "outputs": [
    {
     "name": "stdout",
     "output_type": "stream",
     "text": [
      "{4, 5}\n"
     ]
    }
   ],
   "source": [
    "s2.difference_update(s1)\n",
    "print(s2)  "
   ]
  },
  {
   "cell_type": "markdown",
   "id": "ce2f7028",
   "metadata": {},
   "source": [
    "#### symmetric_difference()"
   ]
  },
  {
   "attachments": {
    "Screenshot%202021-10-05%20at%2010-31-20%20Python%20Set%20symmetric_difference%28%29.png": {
     "image/png": "[encoded data removed]"
    }
   },
   "cell_type": "markdown",
   "id": "83abd9e1",
   "metadata": {},
   "source": [
    "![Screenshot%202021-10-05%20at%2010-31-20%20Python%20Set%20symmetric_difference%28%29.png](attachment:Screenshot%202021-10-05%20at%2010-31-20%20Python%20Set%20symmetric_difference%28%29.png)"
   ]
  },
  {
   "cell_type": "code",
   "execution_count": 32,
   "id": "4431699f",
   "metadata": {},
   "outputs": [],
   "source": [
    "#The Python symmetric_difference() method returns the symmetric difference of two sets.\n",
    "#means only non common elements of a & b"
   ]
  },
  {
   "cell_type": "code",
   "execution_count": 36,
   "id": "60c2c245",
   "metadata": {},
   "outputs": [],
   "source": [
    "s1 = {2,4,6}\n",
    "s2 = {3,6,9}\n",
    "# it is not permanet to make it permanet we have to assigne this as a new set"
   ]
  },
  {
   "cell_type": "code",
   "execution_count": 35,
   "id": "56b0d29e",
   "metadata": {},
   "outputs": [
    {
     "name": "stdout",
     "output_type": "stream",
     "text": [
      "{2, 3, 4, 9}\n"
     ]
    }
   ],
   "source": [
    "s3 = s1.symmetric_difference(s2)\n",
    "print(s3)"
   ]
  },
  {
   "cell_type": "markdown",
   "id": "f7cabee9",
   "metadata": {},
   "source": [
    "#### .symmetric_difference_update() "
   ]
  },
  {
   "cell_type": "code",
   "execution_count": null,
   "id": "cfadbf62",
   "metadata": {},
   "outputs": [],
   "source": [
    "#this method does not create a new set but it update the pervious set with removing common value in it and only the value of a & b "
   ]
  },
  {
   "cell_type": "code",
   "execution_count": 40,
   "id": "88b7cdee",
   "metadata": {},
   "outputs": [],
   "source": [
    "s1 = {2,4,6}\n",
    "s2 = {3,6,9}"
   ]
  },
  {
   "cell_type": "code",
   "execution_count": 41,
   "id": "9d4a437e",
   "metadata": {},
   "outputs": [
    {
     "name": "stdout",
     "output_type": "stream",
     "text": [
      "{2, 3, 4, 9}\n"
     ]
    }
   ],
   "source": [
    "s1.symmetric_difference_update(s2)\n",
    "print(s1)   # it is permanet method "
   ]
  },
  {
   "cell_type": "markdown",
   "id": "db97fe9b",
   "metadata": {},
   "source": [
    "#### .isdisjoint()"
   ]
  },
  {
   "cell_type": "markdown",
   "id": "98de5848",
   "metadata": {},
   "source": [
    "The isdisjoint() method returns True if two sets are disjoint sets. If not, it returns False.\n",
    "\n",
    "Two sets are said to be disjoint sets if they have no common elements. For example:"
   ]
  },
  {
   "attachments": {
    "Screenshot%202021-10-05%20at%2011-00-11%20Python%20Set%20isdisjoint%28%29.png": {
     "image/png": "[encoded data removed]"
    }
   },
   "cell_type": "markdown",
   "id": "65522625",
   "metadata": {},
   "source": [
    "![Screenshot%202021-10-05%20at%2011-00-11%20Python%20Set%20isdisjoint%28%29.png](attachment:Screenshot%202021-10-05%20at%2011-00-11%20Python%20Set%20isdisjoint%28%29.png)"
   ]
  },
  {
   "cell_type": "code",
   "execution_count": 44,
   "id": "f97445a9",
   "metadata": {},
   "outputs": [],
   "source": [
    "A = {1, 5, 9, 0}\n",
    "B = {2, 4, -5}"
   ]
  },
  {
   "cell_type": "code",
   "execution_count": 51,
   "id": "85c313d0",
   "metadata": {},
   "outputs": [
    {
     "data": {
      "text/plain": [
       "True"
      ]
     },
     "execution_count": 51,
     "metadata": {},
     "output_type": "execute_result"
    }
   ],
   "source": [
    "A.isdisjoint(B)  # true because their is no common elements in A & B"
   ]
  },
  {
   "cell_type": "code",
   "execution_count": 52,
   "id": "ce626f07",
   "metadata": {},
   "outputs": [],
   "source": [
    "A = {1, 5, 9, 0}\n",
    "B = {2, 4, 5}"
   ]
  },
  {
   "cell_type": "code",
   "execution_count": 54,
   "id": "837a3169",
   "metadata": {},
   "outputs": [
    {
     "data": {
      "text/plain": [
       "False"
      ]
     },
     "execution_count": 54,
     "metadata": {},
     "output_type": "execute_result"
    }
   ],
   "source": [
    "A.isdisjoint(B) # false because their is a common element in A & B. which is 5"
   ]
  },
  {
   "cell_type": "markdown",
   "id": "e88ab883",
   "metadata": {},
   "source": [
    "-----------------------------------------------------------------------------------------------------------------------"
   ]
  },
  {
   "cell_type": "markdown",
   "id": "35e24c30",
   "metadata": {},
   "source": [
    "-----------------------------------------------------------------------------------------------------------------------"
   ]
  },
  {
   "cell_type": "markdown",
   "id": "f9d5560a",
   "metadata": {},
   "source": [
    "SUPERSET = {1,2,3,4,5,6} #ALL ELEMENTS OF AN SET \n",
    "\n",
    "SUBSET = {1,2,3} # ONLY SOME ELEMENT OF A SUPERSET"
   ]
  },
  {
   "attachments": {
    "Screenshot%202021-10-05%20at%2011-08-35%20Python%20Set%20issubset%28%29.png": {
     "image/png": "[encoded data removed]"
    }
   },
   "cell_type": "markdown",
   "id": "54018564",
   "metadata": {},
   "source": [
    "![Screenshot%202021-10-05%20at%2011-08-35%20Python%20Set%20issubset%28%29.png](attachment:Screenshot%202021-10-05%20at%2011-08-35%20Python%20Set%20issubset%28%29.png)"
   ]
  },
  {
   "cell_type": "code",
   "execution_count": 56,
   "id": "f5102503",
   "metadata": {},
   "outputs": [],
   "source": [
    "# .issubset()"
   ]
  },
  {
   "cell_type": "markdown",
   "id": "eaafd543",
   "metadata": {},
   "source": [
    "True if A is a subset of B\n",
    "\n",
    "False if A is not a subset of B\n"
   ]
  },
  {
   "cell_type": "code",
   "execution_count": 58,
   "id": "3469a354",
   "metadata": {},
   "outputs": [],
   "source": [
    "A ={2,3,6}\n",
    "B = {1,2,3,4,5,6}"
   ]
  },
  {
   "cell_type": "code",
   "execution_count": 59,
   "id": "76b26e15",
   "metadata": {},
   "outputs": [
    {
     "data": {
      "text/plain": [
       "True"
      ]
     },
     "execution_count": 59,
     "metadata": {},
     "output_type": "execute_result"
    }
   ],
   "source": [
    "A.issubset(B)  "
   ]
  },
  {
   "cell_type": "code",
   "execution_count": 69,
   "id": "bf6b34a2",
   "metadata": {},
   "outputs": [],
   "source": [
    "c = {1,2,3,4}\n",
    "d = {2}"
   ]
  },
  {
   "cell_type": "code",
   "execution_count": 70,
   "id": "35745bda",
   "metadata": {},
   "outputs": [
    {
     "data": {
      "text/plain": [
       "False"
      ]
     },
     "execution_count": 70,
     "metadata": {},
     "output_type": "execute_result"
    }
   ],
   "source": [
    "c.issubset(d) # because c is not a subset of d "
   ]
  },
  {
   "cell_type": "code",
   "execution_count": null,
   "id": "db8c60e0",
   "metadata": {},
   "outputs": [],
   "source": [
    "# .issuperset() "
   ]
  },
  {
   "cell_type": "markdown",
   "id": "ea5987bb",
   "metadata": {},
   "source": [
    "True if A is a superset of B\n",
    "\n",
    "False if A is not a superset of B\n"
   ]
  },
  {
   "cell_type": "code",
   "execution_count": 71,
   "id": "09e289e3",
   "metadata": {},
   "outputs": [],
   "source": [
    "a = {1,2,3}\n",
    "b = {2}"
   ]
  },
  {
   "cell_type": "code",
   "execution_count": 72,
   "id": "a56d7932",
   "metadata": {},
   "outputs": [
    {
     "data": {
      "text/plain": [
       "True"
      ]
     },
     "execution_count": 72,
     "metadata": {},
     "output_type": "execute_result"
    }
   ],
   "source": [
    "a.issuperset(b)"
   ]
  },
  {
   "cell_type": "code",
   "execution_count": 73,
   "id": "65a495b6",
   "metadata": {},
   "outputs": [
    {
     "data": {
      "text/plain": [
       "False"
      ]
     },
     "execution_count": 73,
     "metadata": {},
     "output_type": "execute_result"
    }
   ],
   "source": [
    "b.issuperset(a)"
   ]
  },
  {
   "cell_type": "markdown",
   "id": "6302055b",
   "metadata": {},
   "source": [
    "## Set  Built-in Functions "
   ]
  },
  {
   "attachments": {
    "Screenshot%202021-10-05%20at%2011-32-10%20Python%20Set%20%28With%20Examples%29.png": {
     "image/png": "[encoded data removed]"
    }
   },
   "cell_type": "markdown",
   "id": "c933f179",
   "metadata": {},
   "source": [
    "![Screenshot%202021-10-05%20at%2011-32-10%20Python%20Set%20%28With%20Examples%29.png](attachment:Screenshot%202021-10-05%20at%2011-32-10%20Python%20Set%20%28With%20Examples%29.png)"
   ]
  },
  {
   "cell_type": "code",
   "execution_count": null,
   "id": "b4601298",
   "metadata": {},
   "outputs": [],
   "source": [
    "#avoid all() and any() method"
   ]
  },
  {
   "cell_type": "code",
   "execution_count": 80,
   "id": "26818d56",
   "metadata": {},
   "outputs": [],
   "source": [
    "s1 = {1,3,2,4}"
   ]
  },
  {
   "cell_type": "code",
   "execution_count": 74,
   "id": "f77dc36f",
   "metadata": {},
   "outputs": [],
   "source": [
    "# min() method"
   ]
  },
  {
   "cell_type": "code",
   "execution_count": 77,
   "id": "b39d731e",
   "metadata": {},
   "outputs": [
    {
     "data": {
      "text/plain": [
       "1"
      ]
     },
     "execution_count": 77,
     "metadata": {},
     "output_type": "execute_result"
    }
   ],
   "source": [
    "min(s1)"
   ]
  },
  {
   "cell_type": "code",
   "execution_count": 78,
   "id": "1c15b0cb",
   "metadata": {},
   "outputs": [],
   "source": [
    "# max() method"
   ]
  },
  {
   "cell_type": "code",
   "execution_count": 79,
   "id": "cf55735c",
   "metadata": {},
   "outputs": [
    {
     "data": {
      "text/plain": [
       "4"
      ]
     },
     "execution_count": 79,
     "metadata": {},
     "output_type": "execute_result"
    }
   ],
   "source": [
    "max(s1)"
   ]
  },
  {
   "cell_type": "code",
   "execution_count": 81,
   "id": "9226e804",
   "metadata": {},
   "outputs": [],
   "source": [
    "#sorted () method"
   ]
  },
  {
   "cell_type": "code",
   "execution_count": 84,
   "id": "8f6cbe51",
   "metadata": {},
   "outputs": [
    {
     "data": {
      "text/plain": [
       "[1, 2, 3, 4]"
      ]
     },
     "execution_count": 84,
     "metadata": {},
     "output_type": "execute_result"
    }
   ],
   "source": [
    "sorted(s1) # it is a permanet method"
   ]
  },
  {
   "cell_type": "code",
   "execution_count": 85,
   "id": "364ada75",
   "metadata": {},
   "outputs": [],
   "source": [
    "#sum () method"
   ]
  },
  {
   "cell_type": "code",
   "execution_count": 87,
   "id": "10ffdd5f",
   "metadata": {},
   "outputs": [
    {
     "data": {
      "text/plain": [
       "10"
      ]
     },
     "execution_count": 87,
     "metadata": {},
     "output_type": "execute_result"
    }
   ],
   "source": [
    "sum(s1) # 1+2+3+4  = 10"
   ]
  },
  {
   "cell_type": "code",
   "execution_count": 88,
   "id": "dcfa2a48",
   "metadata": {},
   "outputs": [],
   "source": [
    "#len () method"
   ]
  },
  {
   "cell_type": "code",
   "execution_count": 89,
   "id": "dfb60f96",
   "metadata": {},
   "outputs": [
    {
     "data": {
      "text/plain": [
       "4"
      ]
     },
     "execution_count": 89,
     "metadata": {},
     "output_type": "execute_result"
    }
   ],
   "source": [
    "len(s1) # because it have four unique elements"
   ]
  },
  {
   "cell_type": "code",
   "execution_count": 90,
   "id": "2fe9fb42",
   "metadata": {},
   "outputs": [],
   "source": [
    "#enumerate() method"
   ]
  },
  {
   "cell_type": "markdown",
   "id": "03626ec9",
   "metadata": {},
   "source": [
    "syntax : list(enumerate(*iterable, ^start=0))\n",
    "\n",
    "NOTE: *iterables are Lists, tuples, dictionaries, and sets are all iterable objects\n",
    "\n",
    "^start = 0 you can ignore this because by default numbering of elements going to start from 0 so you can change it to 1,2 etc\n",
    "\n",
    "we use list function because we have to convert string / dic / set /tuples in list so the enumerate will work\n",
    "because we want a list of this syntax\n",
    "\n",
    "you can also use tuple,dict,set at place of list to get a desirable output in dictionary etc\n",
    "\n",
    "Return an enumerate object. iterable must be a sequence, an iterator, or some other object which supports iteration"
   ]
  },
  {
   "cell_type": "code",
   "execution_count": 113,
   "id": "cfe33056",
   "metadata": {},
   "outputs": [
    {
     "data": {
      "text/plain": [
       "set"
      ]
     },
     "execution_count": 113,
     "metadata": {},
     "output_type": "execute_result"
    }
   ],
   "source": [
    "s = {\"ayush\",\"piyush\",\"jay\"}\n",
    "type(s)"
   ]
  },
  {
   "cell_type": "code",
   "execution_count": 115,
   "id": "aa30c8a5",
   "metadata": {},
   "outputs": [
    {
     "data": {
      "text/plain": [
       "[(0, 'piyush'), (1, 'ayush'), (2, 'jay')]"
      ]
     },
     "execution_count": 115,
     "metadata": {},
     "output_type": "execute_result"
    }
   ],
   "source": [
    "list(enumerate(s)) # this  method is not permanet and due to set numbering is unorder"
   ]
  },
  {
   "cell_type": "code",
   "execution_count": 118,
   "id": "4bdccaf2",
   "metadata": {},
   "outputs": [
    {
     "data": {
      "text/plain": [
       "list"
      ]
     },
     "execution_count": 118,
     "metadata": {},
     "output_type": "execute_result"
    }
   ],
   "source": [
    "l = [\"a\",\"b\",\"c\"]\n",
    "type(l)"
   ]
  },
  {
   "cell_type": "code",
   "execution_count": 119,
   "id": "f02405ec",
   "metadata": {},
   "outputs": [
    {
     "data": {
      "text/plain": [
       "[(0, 'a'), (1, 'b'), (2, 'c')]"
      ]
     },
     "execution_count": 119,
     "metadata": {},
     "output_type": "execute_result"
    }
   ],
   "source": [
    "list(enumerate(l))"
   ]
  },
  {
   "cell_type": "code",
   "execution_count": 120,
   "id": "f5c4f497",
   "metadata": {},
   "outputs": [],
   "source": [
    "st = \"ayush\",\"jay\""
   ]
  },
  {
   "cell_type": "code",
   "execution_count": 129,
   "id": "e8c321f9",
   "metadata": {},
   "outputs": [
    {
     "data": {
      "text/plain": [
       "{0: 'ayush', 1: 'jay'}"
      ]
     },
     "execution_count": 129,
     "metadata": {},
     "output_type": "execute_result"
    }
   ],
   "source": [
    "dict(enumerate(st))"
   ]
  },
  {
   "cell_type": "code",
   "execution_count": 130,
   "id": "dcb26d1b",
   "metadata": {},
   "outputs": [
    {
     "data": {
      "text/plain": [
       "((0, 'ayush'), (1, 'jay'))"
      ]
     },
     "execution_count": 130,
     "metadata": {},
     "output_type": "execute_result"
    }
   ],
   "source": [
    "tuple(enumerate(st))"
   ]
  },
  {
   "cell_type": "code",
   "execution_count": 135,
   "id": "c5ab3749",
   "metadata": {},
   "outputs": [],
   "source": [
    "tup = (\"x\",\"y\",\"z\")"
   ]
  },
  {
   "cell_type": "code",
   "execution_count": 136,
   "id": "7721eeb2",
   "metadata": {},
   "outputs": [
    {
     "data": {
      "text/plain": [
       "((0, 'x'), (1, 'y'), (2, 'z'))"
      ]
     },
     "execution_count": 136,
     "metadata": {},
     "output_type": "execute_result"
    }
   ],
   "source": [
    "tuple(enumerate(tup))"
   ]
  },
  {
   "cell_type": "code",
   "execution_count": 138,
   "id": "723dafc2",
   "metadata": {},
   "outputs": [
    {
     "ename": "TypeError",
     "evalue": "unhashable type: 'set'",
     "output_type": "error",
     "traceback": [
      "\u001b[1;31m---------------------------------------------------------------------------\u001b[0m",
      "\u001b[1;31mTypeError\u001b[0m                                 Traceback (most recent call last)",
      "\u001b[1;32m<ipython-input-138-6a800dd191ff>\u001b[0m in \u001b[0;36m<module>\u001b[1;34m\u001b[0m\n\u001b[1;32m----> 1\u001b[1;33m \u001b[0ms\u001b[0m \u001b[1;33m=\u001b[0m \u001b[1;33m{\u001b[0m\u001b[1;36m1\u001b[0m\u001b[1;33m,\u001b[0m\u001b[1;36m2\u001b[0m\u001b[1;33m,\u001b[0m\u001b[1;36m3\u001b[0m\u001b[1;33m,\u001b[0m\u001b[1;33m{\u001b[0m\u001b[1;36m1\u001b[0m\u001b[1;33m,\u001b[0m\u001b[1;36m2\u001b[0m\u001b[1;33m,\u001b[0m\u001b[1;36m3\u001b[0m\u001b[1;33m}\u001b[0m\u001b[1;33m}\u001b[0m\u001b[1;33m\u001b[0m\u001b[1;33m\u001b[0m\u001b[0m\n\u001b[0m",
      "\u001b[1;31mTypeError\u001b[0m: unhashable type: 'set'"
     ]
    }
   ],
   "source": [
    "s = {1,2,3,{1,2,3}}# nesting does not work in sets"
   ]
  },
  {
   "cell_type": "markdown",
   "id": "bebb9b89",
   "metadata": {},
   "source": [
    "## Frozen set \n",
    "\n",
    "Frozen set is just an immutable version of a Python set object. While elements of a set can be modified at any time, elements of the frozen set remain the same after creation.\n",
    "\n",
    "Due to this, frozen sets can be used as keys in Dictionary or as elements of another set.\n",
    "\n",
    "syntax --->> frozenset()"
   ]
  },
  {
   "cell_type": "code",
   "execution_count": 15,
   "id": "865bba3f",
   "metadata": {},
   "outputs": [],
   "source": [
    "s1 = {1,2,3,4}"
   ]
  },
  {
   "cell_type": "code",
   "execution_count": 16,
   "id": "f4b51ca2",
   "metadata": {},
   "outputs": [],
   "source": [
    "fset = frozenset(s1)"
   ]
  },
  {
   "cell_type": "code",
   "execution_count": 17,
   "id": "b82f5f1c",
   "metadata": {},
   "outputs": [
    {
     "data": {
      "text/plain": [
       "{1, 2, 3, 4}"
      ]
     },
     "execution_count": 17,
     "metadata": {},
     "output_type": "execute_result"
    }
   ],
   "source": [
    "s1"
   ]
  },
  {
   "cell_type": "code",
   "execution_count": 19,
   "id": "a82fb6ef",
   "metadata": {},
   "outputs": [
    {
     "data": {
      "text/plain": [
       "frozenset"
      ]
     },
     "execution_count": 19,
     "metadata": {},
     "output_type": "execute_result"
    }
   ],
   "source": [
    "type(fset)"
   ]
  },
  {
   "cell_type": "code",
   "execution_count": 21,
   "id": "2635bad4",
   "metadata": {},
   "outputs": [
    {
     "ename": "AttributeError",
     "evalue": "'frozenset' object has no attribute 'add'",
     "output_type": "error",
     "traceback": [
      "\u001b[1;31m---------------------------------------------------------------------------\u001b[0m",
      "\u001b[1;31mAttributeError\u001b[0m                            Traceback (most recent call last)",
      "\u001b[1;32m<ipython-input-21-c6ab5893548a>\u001b[0m in \u001b[0;36m<module>\u001b[1;34m\u001b[0m\n\u001b[1;32m----> 1\u001b[1;33m \u001b[0mfset\u001b[0m\u001b[1;33m.\u001b[0m\u001b[0madd\u001b[0m\u001b[1;33m(\u001b[0m\u001b[1;36m5\u001b[0m\u001b[1;33m)\u001b[0m \u001b[1;31m# because frozenset does not support adding new element\u001b[0m\u001b[1;33m\u001b[0m\u001b[1;33m\u001b[0m\u001b[0m\n\u001b[0m",
      "\u001b[1;31mAttributeError\u001b[0m: 'frozenset' object has no attribute 'add'"
     ]
    }
   ],
   "source": [
    "fset.add(5) # because frozenset does not support adding new element"
   ]
  },
  {
   "cell_type": "code",
   "execution_count": 22,
   "id": "11c65f87",
   "metadata": {},
   "outputs": [
    {
     "ename": "AttributeError",
     "evalue": "'frozenset' object has no attribute 'remove'",
     "output_type": "error",
     "traceback": [
      "\u001b[1;31m---------------------------------------------------------------------------\u001b[0m",
      "\u001b[1;31mAttributeError\u001b[0m                            Traceback (most recent call last)",
      "\u001b[1;32m<ipython-input-22-7d7073663bfa>\u001b[0m in \u001b[0;36m<module>\u001b[1;34m\u001b[0m\n\u001b[1;32m----> 1\u001b[1;33m \u001b[0mfset\u001b[0m\u001b[1;33m.\u001b[0m\u001b[0mremove\u001b[0m\u001b[1;33m(\u001b[0m\u001b[1;36m4\u001b[0m\u001b[1;33m)\u001b[0m\u001b[1;33m\u001b[0m\u001b[1;33m\u001b[0m\u001b[0m\n\u001b[0m",
      "\u001b[1;31mAttributeError\u001b[0m: 'frozenset' object has no attribute 'remove'"
     ]
    }
   ],
   "source": [
    "fset.remove(4)"
   ]
  },
  {
   "cell_type": "markdown",
   "id": "0d56c686",
   "metadata": {},
   "source": [
    "### frozenset() for Dictionary\n",
    "it only takes keys of the dictionary to create the set."
   ]
  },
  {
   "cell_type": "code",
   "execution_count": 24,
   "id": "dd943250",
   "metadata": {},
   "outputs": [],
   "source": [
    "dic = {\"d1\":\"a\",\"d2\":\"c\"}"
   ]
  },
  {
   "cell_type": "code",
   "execution_count": 27,
   "id": "afd488a7",
   "metadata": {},
   "outputs": [
    {
     "data": {
      "text/plain": [
       "frozenset({'d1', 'd2'})"
      ]
     },
     "execution_count": 27,
     "metadata": {},
     "output_type": "execute_result"
    }
   ],
   "source": [
    "frozenset(dic) # it deos not convert it permanetly but you can do it by assigning it to another variable"
   ]
  },
  {
   "cell_type": "markdown",
   "id": "0875194e",
   "metadata": {},
   "source": [
    "### Frozenset operations\n",
    "\n",
    "Like normal sets, frozenset can also perform different operations like copy,union,difference, intersection, symmetric_difference,isdisjoint, issubset, and issuperset."
   ]
  },
  {
   "cell_type": "code",
   "execution_count": null,
   "id": "7d821453",
   "metadata": {},
   "outputs": [],
   "source": []
  },
  {
   "cell_type": "code",
   "execution_count": null,
   "id": "4f29a7d4",
   "metadata": {},
   "outputs": [],
   "source": []
  },
  {
   "cell_type": "code",
   "execution_count": null,
   "id": "8d879a04",
   "metadata": {},
   "outputs": [],
   "source": []
  },
  {
   "cell_type": "code",
   "execution_count": null,
   "id": "c95562d0",
   "metadata": {},
   "outputs": [],
   "source": []
  }
 ],
 "metadata": {
  "kernelspec": {
   "display_name": "Python 3",
   "language": "python",
   "name": "python3"
  },
  "language_info": {
   "codemirror_mode": {
    "name": "ipython",
    "version": 3
   },
   "file_extension": ".py",
   "mimetype": "text/x-python",
   "name": "python",
   "nbconvert_exporter": "python",
   "pygments_lexer": "ipython3",
   "version": "3.8.8"
  }
 },
 "nbformat": 4,
 "nbformat_minor": 5
}
